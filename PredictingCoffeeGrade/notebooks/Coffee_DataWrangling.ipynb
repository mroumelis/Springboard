{
 "cells": [
  {
   "cell_type": "markdown",
   "metadata": {},
   "source": [
    "# Predicting Coffee Grade"
   ]
  },
  {
   "cell_type": "markdown",
   "metadata": {},
   "source": [
    "## Data Wrangling"
   ]
  },
  {
   "cell_type": "markdown",
   "metadata": {},
   "source": [
    "## Table of Contents\n",
    "* [1. Introduction](#introduction)\n",
    "* [2. Importing libraries](#import)\n",
    "* [3. Data Loading](#data_loading)\n",
    "* [4. Data Exploration](#data_exploration)\n",
    "    * [4.1 Initial Exploration](#initial_exploration)\n",
    "    * [4.2 Features Description](#features_description)\n",
    "* [5. Numerical Features Analysis and Cleaning](#numerical_features)\n",
    "    * [5.1 Deleting 'Unnamed: 0' Column](#deleting_unnamed)\n",
    "    * [5.2 Cleaning Altitude Column](#cleaning_altitude)\n",
    "    * [5.3 Cleaning Moisture Column](#cleaning_moisture)\n",
    "    * [5.4 Checking Quality Measure Columns](#checking_quality)\n",
    "    * [5.5 Cleaning and Analyzing Category One Defects and Category Two Defects Columns](#cleaning_defects)\n",
    "    * [5.6 Cleaning and Analyzing Quakers Column](#cleaning_quakers)\n",
    "    * [5.7 Create Total_Defects and Coffee_Grade Columns](#total_defects)\n",
    "* [6. Categorical Features Analysis and Cleaning](#cat_features)\n",
    "    * [6.1 Cleaning Harvest Year Column](#cleaning_harvest)\n",
    "    * [6.2 Cleaning Processing Method Column](#cleaning_processing)\n",
    "    * [6.3 Cleaning Color Column](#cleaning_color)\n",
    "    * [6.4 Cleaning Variety Column](#cleaning_variety)\n",
    "    * [6.5 Cleaning Country of Origin Column](#cleaning_country)\n",
    "* [7. Data Organization- creating new, cleaned data frame](#data_organization)\n",
    "* [8. Saving data](#saving)\n"
   ]
  },
  {
   "cell_type": "markdown",
   "metadata": {},
   "source": [
    "<a class=\"anchor\" id=\"introduction\"></a>\n",
    "## 1. Introduction\n",
    "\n",
    "Coffee has become such an integral part of contemporary culture that it's hard to imagine a life (or a US workforce) without it. According to the National Coffee Association, coffee related economic activity accounted for 1.6% of the total U.S. GDP in 2015. In the same year, consumers in America spent a whopping $74 billion on coffee. Needless to say, Americans love coffee and are willing to pay for good quality. The good news is that distinguishing 'good quality' coffee is relatively straightforward because of a very standardized way to grade it: The SCA Coffee Beans Classification method. This method judges the relationship between the amount of defective coffee beans and the overall cup quality as evaluated and scored by a panel of judges. The coffee is then assigned a grade based on the results:\n",
    "\n",
    "#### GRADE 1: SPECIALITY GRADE COFFEE BEANS.\n",
    "This is the highest grade of beans, and to be classified as Grade 1 Coffee, the beans need to have no primary defects and 0-3 full defects, and zero “Quakers” which are unripe or poorly roasted beans.\n",
    "\n",
    "#### GRADE 2: PREMIUM GRADE COFFEE BEANS\n",
    "The second highest grade, and the one you most often would be drinking, these beans are the same as Grade 1 coffee beans, but are allowed a maximum of 3 Quakers and 0-8 defects.\n",
    "\n",
    "#### GRADE 3: EXCHANGE GRADE COFFEE BEANS\n",
    "These beans will have 50% above screen 15 and 5% below it, with a maximum of 5 quakers, free from faults, but between 9-23 full defects are permissible. Supermarket brands are using these beans.\n",
    "\n",
    "#### GRADE 4: STANDARD GRADE COFFEE BEANS\n",
    "These will have 24 to 86 full defects per 300g. These are getting into dodgy territory.\n",
    "\n",
    "#### GRADE 5: OFF GRADE COFFEE BEANS\n",
    "You really don’t want these beans, they have more than 86 full defects per 300g.\n",
    "\n",
    "Many coffee shops pride themselves on their coffee quality and are willing to share information about their coffee such as the region the coffee is from, the altitude at which it was grown, how it was pre processed, etc. but rarely include the official grade of the coffee. Whether this is because the coffee hasn't been officially graded by the Specialty Coffee Association or it's simply not advertised for some other reason, businesses and consumers could benefit by knowing the quality of coffee they are buying or selling. Better coffee, happier customers, better profits. And for a multibillion dollar a year industry, there are profits to be had. \n",
    "\n",
    "Are there factors that make coffee better such as the altitude or region it was grown? Are certain varities or pre processing methods that tend to yeild better results? This project will attempt to answer the question: Can coffee grade be predicted? \n",
    "\n",
    "So I went to the Coffee Quality Institute website and downloaded their recent coffee data going back to 2019. This data includes relevant information such as altitude and region the coffee was grown, the cupping scores and number of defects used to assign the coffee a grade, as well as some other information that we may find useful. I decided to limit the data to just the arabica coffee (I excluded robusta) because of limited amount of robusta data. This data was scraped and converted to a csv file called arabica.csv.\n",
    "\n",
    "The project comprises all steps of Data Science work flow divided as follows:\n",
    "\n",
    "1. Data wangling\n",
    "2. Exploratory Data Analysis\n",
    "3. Feature Engineering & Pre-processing\n",
    "4. Modeling\n",
    "5. Documentation\n"
   ]
  },
  {
   "cell_type": "markdown",
   "metadata": {},
   "source": [
    "Data Source: https://www.coffeeinstitute.org/\n",
    "\n",
    "Other Sources: \n",
    "1. https://coffeebeansdelivered.com.au/blog/coffee-beans-graded/ \n",
    "2. https://www.ncausa.org/Industry-Resources/Economic-Impact"
   ]
  },
  {
   "cell_type": "markdown",
   "metadata": {},
   "source": [
    "<a class=\"anchor\" id=\"import\"></a>\n",
    "\n",
    "## 2. Importing Libraries"
   ]
  },
  {
   "cell_type": "code",
   "execution_count": 1,
   "metadata": {},
   "outputs": [],
   "source": [
    "#import libraries\n",
    "\n",
    "import pandas as pd\n",
    "import matplotlib.pyplot as plt\n",
    "import seaborn as sns\n",
    "import numpy as np"
   ]
  },
  {
   "cell_type": "markdown",
   "metadata": {},
   "source": [
    "<a class=\"anchor\" id=\"data_loading\"></a>\n",
    "\n",
    "## 3. Data Loading"
   ]
  },
  {
   "cell_type": "code",
   "execution_count": 9,
   "metadata": {},
   "outputs": [],
   "source": [
    "#create pandas df called 'coffee'\n",
    "coffee = pd.read_csv('./data/arabica.csv')"
   ]
  },
  {
   "cell_type": "markdown",
   "metadata": {},
   "source": [
    "<a class=\"anchor\" id=\"data_exploration\"></a>\n",
    "\n",
    "## 4. Data Exploration"
   ]
  },
  {
   "cell_type": "markdown",
   "metadata": {},
   "source": [
    "<a class=\"anchor\" id=\"initial_exploration\"></a>\n",
    "\n",
    "### 4.1 Initial Exploration"
   ]
  },
  {
   "cell_type": "markdown",
   "metadata": {},
   "source": [
    "Let's get a feel for our data by checking out the info, the first few rows of the data frame, and the column names"
   ]
  },
  {
   "cell_type": "code",
   "execution_count": 10,
   "metadata": {},
   "outputs": [
    {
     "name": "stdout",
     "output_type": "stream",
     "text": [
      "<class 'pandas.core.frame.DataFrame'>\n",
      "RangeIndex: 150 entries, 0 to 149\n",
      "Data columns (total 41 columns):\n",
      " #   Column                 Non-Null Count  Dtype  \n",
      "---  ------                 --------------  -----  \n",
      " 0   Unnamed: 0             150 non-null    int64  \n",
      " 1   Country of Origin      150 non-null    object \n",
      " 2   Farm Name              142 non-null    object \n",
      " 3   Lot Number             150 non-null    object \n",
      " 4   Mill                   134 non-null    object \n",
      " 5   ICO Number             111 non-null    object \n",
      " 6   Company                150 non-null    object \n",
      " 7   Altitude               150 non-null    object \n",
      " 8   Region                 149 non-null    object \n",
      " 9   Producer               149 non-null    object \n",
      " 10  Number of Bags         150 non-null    int64  \n",
      " 11  Bag Weight             150 non-null    object \n",
      " 12  In-Country Partner     150 non-null    object \n",
      " 13  Harvest Year           150 non-null    object \n",
      " 14  Grading Date           150 non-null    object \n",
      " 15  Owner                  150 non-null    object \n",
      " 16  Variety                150 non-null    object \n",
      " 17  Status                 150 non-null    object \n",
      " 18  Processing Method      150 non-null    object \n",
      " 19  Aroma                  150 non-null    float64\n",
      " 20  Flavor                 150 non-null    float64\n",
      " 21  Aftertaste             150 non-null    float64\n",
      " 22  Acidity                150 non-null    float64\n",
      " 23  Body                   150 non-null    float64\n",
      " 24  Balance                150 non-null    float64\n",
      " 25  Uniformity             150 non-null    float64\n",
      " 26  Clean Cup              150 non-null    float64\n",
      " 27  Sweetness              150 non-null    float64\n",
      " 28  Overall                150 non-null    float64\n",
      " 29  Defects                150 non-null    float64\n",
      " 30  Total Cup Points       150 non-null    float64\n",
      " 31  Moisture               150 non-null    object \n",
      " 32  Category One Defects   150 non-null    object \n",
      " 33  Quakers                150 non-null    int64  \n",
      " 34  Color                  150 non-null    object \n",
      " 35  Category Two Defects   150 non-null    object \n",
      " 36  NA                     0 non-null      float64\n",
      " 37  Expiration             150 non-null    object \n",
      " 38  Certification Body     150 non-null    object \n",
      " 39  Certification Address  150 non-null    object \n",
      " 40  Certification Contact  150 non-null    object \n",
      "dtypes: float64(13), int64(3), object(25)\n",
      "memory usage: 48.2+ KB\n"
     ]
    }
   ],
   "source": [
    "coffee.info()"
   ]
  },
  {
   "cell_type": "markdown",
   "metadata": {},
   "source": [
    "I can see that this is a pretty small dataset (only about 150 rows of data) but there aren't a ton of missing data which is good. I can also see that there are some features that should be floats or integers that are currently object dtypes such as Harvest Year and Altitude."
   ]
  },
  {
   "cell_type": "code",
   "execution_count": 11,
   "metadata": {},
   "outputs": [
    {
     "data": {
      "text/html": [
       "<div>\n",
       "<style scoped>\n",
       "    .dataframe tbody tr th:only-of-type {\n",
       "        vertical-align: middle;\n",
       "    }\n",
       "\n",
       "    .dataframe tbody tr th {\n",
       "        vertical-align: top;\n",
       "    }\n",
       "\n",
       "    .dataframe thead th {\n",
       "        text-align: right;\n",
       "    }\n",
       "</style>\n",
       "<table border=\"1\" class=\"dataframe\">\n",
       "  <thead>\n",
       "    <tr style=\"text-align: right;\">\n",
       "      <th></th>\n",
       "      <th>Unnamed: 0</th>\n",
       "      <th>Country of Origin</th>\n",
       "      <th>Farm Name</th>\n",
       "      <th>Lot Number</th>\n",
       "      <th>Mill</th>\n",
       "      <th>ICO Number</th>\n",
       "      <th>Company</th>\n",
       "      <th>Altitude</th>\n",
       "      <th>Region</th>\n",
       "      <th>Producer</th>\n",
       "      <th>...</th>\n",
       "      <th>Moisture</th>\n",
       "      <th>Category One Defects</th>\n",
       "      <th>Quakers</th>\n",
       "      <th>Color</th>\n",
       "      <th>Category Two Defects</th>\n",
       "      <th>NA</th>\n",
       "      <th>Expiration</th>\n",
       "      <th>Certification Body</th>\n",
       "      <th>Certification Address</th>\n",
       "      <th>Certification Contact</th>\n",
       "    </tr>\n",
       "  </thead>\n",
       "  <tbody>\n",
       "    <tr>\n",
       "      <th>0</th>\n",
       "      <td>0</td>\n",
       "      <td>Taiwan</td>\n",
       "      <td>嵩岳咖啡莊園</td>\n",
       "      <td>202004</td>\n",
       "      <td>嵩岳咖啡莊園</td>\n",
       "      <td>NaN</td>\n",
       "      <td>TCL 台灣咖啡研究室</td>\n",
       "      <td>1200</td>\n",
       "      <td>雲林-石壁</td>\n",
       "      <td>郭亮志</td>\n",
       "      <td>...</td>\n",
       "      <td>11 %</td>\n",
       "      <td>0 full defects</td>\n",
       "      <td>0</td>\n",
       "      <td>None</td>\n",
       "      <td>0 full defects</td>\n",
       "      <td>NaN</td>\n",
       "      <td>September 1st, 2021</td>\n",
       "      <td>NKG Quality Service (a division of Bernhard Ro...</td>\n",
       "      <td>Bahnhofstrasse 22 6300 Zug, Switzerland</td>\n",
       "      <td>Gloria Pedroza - +41417287296</td>\n",
       "    </tr>\n",
       "    <tr>\n",
       "      <th>1</th>\n",
       "      <td>0</td>\n",
       "      <td>Kenya</td>\n",
       "      <td>NaN</td>\n",
       "      <td>1542247</td>\n",
       "      <td>Tylor Winch</td>\n",
       "      <td>037-1673-5107</td>\n",
       "      <td>Nestle Nespresso SA</td>\n",
       "      <td>1650</td>\n",
       "      <td>NaN</td>\n",
       "      <td>Tylor Winch Volcafe</td>\n",
       "      <td>...</td>\n",
       "      <td>11 %</td>\n",
       "      <td>0 full defects</td>\n",
       "      <td>0</td>\n",
       "      <td>Green</td>\n",
       "      <td>1 full defects</td>\n",
       "      <td>NaN</td>\n",
       "      <td>October 30th, 2021</td>\n",
       "      <td>NKG Quality Service (a division of Bernhard Ro...</td>\n",
       "      <td>Bahnhofstrasse 22 6300 Zug, Switzerland</td>\n",
       "      <td>Gloria Pedroza - +41417287296</td>\n",
       "    </tr>\n",
       "    <tr>\n",
       "      <th>2</th>\n",
       "      <td>0</td>\n",
       "      <td>Colombia</td>\n",
       "      <td>Droptop partner</td>\n",
       "      <td>Droptop Specialty Coffee Blend</td>\n",
       "      <td>NaN</td>\n",
       "      <td>NaN</td>\n",
       "      <td>Cafe Droptop</td>\n",
       "      <td>1800</td>\n",
       "      <td>colombia</td>\n",
       "      <td>Droptop partner</td>\n",
       "      <td>...</td>\n",
       "      <td>11 %</td>\n",
       "      <td>0 full defects</td>\n",
       "      <td>0</td>\n",
       "      <td>Green</td>\n",
       "      <td>0 full defects</td>\n",
       "      <td>NaN</td>\n",
       "      <td>May 26th, 2022</td>\n",
       "      <td>Specialty Coffee Institute of Asia</td>\n",
       "      <td>148 ULGIRO, #1309,</td>\n",
       "      <td>Sung-Yong Steven Kil - 82-10-7912-1456-English...</td>\n",
       "    </tr>\n",
       "    <tr>\n",
       "      <th>3</th>\n",
       "      <td>0</td>\n",
       "      <td>Ethiopia</td>\n",
       "      <td>Honey Drip</td>\n",
       "      <td>1</td>\n",
       "      <td>non</td>\n",
       "      <td>NaN</td>\n",
       "      <td>宸嶧國際有限公司</td>\n",
       "      <td>2219</td>\n",
       "      <td>Ethiopia</td>\n",
       "      <td>Honey Dip</td>\n",
       "      <td>...</td>\n",
       "      <td>11 %</td>\n",
       "      <td>0 full defects</td>\n",
       "      <td>3</td>\n",
       "      <td>Green</td>\n",
       "      <td>4 full defects</td>\n",
       "      <td>NaN</td>\n",
       "      <td>July 14th, 2021</td>\n",
       "      <td>Japan Coffee Exchange</td>\n",
       "      <td>〒413-0002 静岡県熱海市伊豆山１１７３−５８ 1173-58 Izusan, Ata...</td>\n",
       "      <td>松澤　宏樹　Koju Matsuzawa - +81(0)9085642901</td>\n",
       "    </tr>\n",
       "    <tr>\n",
       "      <th>4</th>\n",
       "      <td>0</td>\n",
       "      <td>Colombia</td>\n",
       "      <td>Granja el Sauce</td>\n",
       "      <td>001 Tostado SW</td>\n",
       "      <td>Dry Mill/ Honey Process</td>\n",
       "      <td>NaN</td>\n",
       "      <td>Tostado SW Limited</td>\n",
       "      <td>1650</td>\n",
       "      <td>Santander Colombia</td>\n",
       "      <td>Alvaro Edgar Ramirez Jauregui</td>\n",
       "      <td>...</td>\n",
       "      <td>11 %</td>\n",
       "      <td>0 full defects</td>\n",
       "      <td>0</td>\n",
       "      <td>None</td>\n",
       "      <td>0 full defects</td>\n",
       "      <td>NaN</td>\n",
       "      <td>September 4th, 2021</td>\n",
       "      <td>NKG Quality Service (a division of Bernhard Ro...</td>\n",
       "      <td>Bahnhofstrasse 22 6300 Zug, Switzerland</td>\n",
       "      <td>Gloria Pedroza - +41417287296</td>\n",
       "    </tr>\n",
       "  </tbody>\n",
       "</table>\n",
       "<p>5 rows × 41 columns</p>\n",
       "</div>"
      ],
      "text/plain": [
       "   Unnamed: 0 Country of Origin        Farm Name  \\\n",
       "0           0            Taiwan           嵩岳咖啡莊園   \n",
       "1           0             Kenya              NaN   \n",
       "2           0          Colombia  Droptop partner   \n",
       "3           0          Ethiopia       Honey Drip   \n",
       "4           0          Colombia  Granja el Sauce   \n",
       "\n",
       "                       Lot Number                     Mill     ICO Number  \\\n",
       "0                          202004                   嵩岳咖啡莊園            NaN   \n",
       "1                         1542247              Tylor Winch  037-1673-5107   \n",
       "2  Droptop Specialty Coffee Blend                      NaN            NaN   \n",
       "3                               1                      non            NaN   \n",
       "4                  001 Tostado SW  Dry Mill/ Honey Process            NaN   \n",
       "\n",
       "               Company Altitude              Region  \\\n",
       "0          TCL 台灣咖啡研究室     1200               雲林-石壁   \n",
       "1  Nestle Nespresso SA     1650                 NaN   \n",
       "2         Cafe Droptop     1800            colombia   \n",
       "3             宸嶧國際有限公司     2219            Ethiopia   \n",
       "4   Tostado SW Limited     1650  Santander Colombia   \n",
       "\n",
       "                        Producer  ...  Moisture Category One Defects Quakers  \\\n",
       "0                            郭亮志  ...      11 %       0 full defects       0   \n",
       "1            Tylor Winch Volcafe  ...      11 %       0 full defects       0   \n",
       "2                Droptop partner  ...      11 %       0 full defects       0   \n",
       "3                      Honey Dip  ...      11 %       0 full defects       3   \n",
       "4  Alvaro Edgar Ramirez Jauregui  ...      11 %       0 full defects       0   \n",
       "\n",
       "   Color Category Two Defects  NA           Expiration  \\\n",
       "0   None       0 full defects NaN  September 1st, 2021   \n",
       "1  Green       1 full defects NaN   October 30th, 2021   \n",
       "2  Green       0 full defects NaN       May 26th, 2022   \n",
       "3  Green       4 full defects NaN      July 14th, 2021   \n",
       "4   None       0 full defects NaN  September 4th, 2021   \n",
       "\n",
       "                                  Certification Body  \\\n",
       "0  NKG Quality Service (a division of Bernhard Ro...   \n",
       "1  NKG Quality Service (a division of Bernhard Ro...   \n",
       "2                 Specialty Coffee Institute of Asia   \n",
       "3                              Japan Coffee Exchange   \n",
       "4  NKG Quality Service (a division of Bernhard Ro...   \n",
       "\n",
       "                               Certification Address  \\\n",
       "0            Bahnhofstrasse 22 6300 Zug, Switzerland   \n",
       "1            Bahnhofstrasse 22 6300 Zug, Switzerland   \n",
       "2                                 148 ULGIRO, #1309,   \n",
       "3  〒413-0002 静岡県熱海市伊豆山１１７３−５８ 1173-58 Izusan, Ata...   \n",
       "4            Bahnhofstrasse 22 6300 Zug, Switzerland   \n",
       "\n",
       "                               Certification Contact  \n",
       "0                      Gloria Pedroza - +41417287296  \n",
       "1                      Gloria Pedroza - +41417287296  \n",
       "2  Sung-Yong Steven Kil - 82-10-7912-1456-English...  \n",
       "3            松澤　宏樹　Koju Matsuzawa - +81(0)9085642901  \n",
       "4                      Gloria Pedroza - +41417287296  \n",
       "\n",
       "[5 rows x 41 columns]"
      ]
     },
     "execution_count": 11,
     "metadata": {},
     "output_type": "execute_result"
    }
   ],
   "source": [
    "#check out the first 5 rows of the data frame\n",
    "coffee.head()"
   ]
  },
  {
   "cell_type": "code",
   "execution_count": 12,
   "metadata": {},
   "outputs": [
    {
     "data": {
      "text/plain": [
       "Index(['Unnamed: 0', 'Country of Origin', 'Farm Name', 'Lot Number', 'Mill',\n",
       "       'ICO Number', 'Company', 'Altitude', 'Region', 'Producer',\n",
       "       'Number of Bags', 'Bag Weight', 'In-Country Partner', 'Harvest Year',\n",
       "       'Grading Date', 'Owner', 'Variety', 'Status', 'Processing Method',\n",
       "       'Aroma', 'Flavor', 'Aftertaste', 'Acidity', 'Body', 'Balance',\n",
       "       'Uniformity', 'Clean Cup', 'Sweetness', 'Overall', 'Defects',\n",
       "       'Total Cup Points', 'Moisture', 'Category One Defects', 'Quakers',\n",
       "       'Color', 'Category Two Defects', 'NA', 'Expiration',\n",
       "       'Certification Body', 'Certification Address', 'Certification Contact'],\n",
       "      dtype='object')"
      ]
     },
     "execution_count": 12,
     "metadata": {},
     "output_type": "execute_result"
    }
   ],
   "source": [
    "#Let's take a look at the column names\n",
    "coffee.columns"
   ]
  },
  {
   "cell_type": "markdown",
   "metadata": {},
   "source": [
    "<a class=\"anchor\" id=\"features_description\"></a>\n",
    "\n",
    "### 4.2 Features description "
   ]
  },
  {
   "cell_type": "markdown",
   "metadata": {},
   "source": [
    "#### Quality Measures\n",
    "1. Aroma- The aromatic aspects include Fragrance (defined as the smell of the ground coffee when still dry) and Aroma (the smell of the coffee when infused with hot water). One can evaluate this at three distinct steps in the cupping process: (1) sniffing the grounds placed into the cup before pouring water onto the coffee; (2) sniffing the aromas released while breaking the crust; and (3) sniffing the aromas released as the coffee steeps. Specific aromas can be noted under \"qualities\" and the intensity of the dry, break, and wet aroma aspects noted on the 5-point vertical scales. The score finally given should reflect the preference of all three aspects of a sample's Fragrance/Aroma.\n",
    "2. Flavor- Flavor represents the coffee's principal character, the \"mid-range\" notes, in between the first impressions given by the coffee's first aroma and acidity to its final aftertaste. It is a combined impression of all the gustatory (taste bud) sensations and retro-nasal aromas that go from the mouth to nose. The score given for Flavor should account for the intensity, quality and complexity of its combined taste and aroma, experienced when the coffee is slurped into the mouth vigorously so as to involve the entire palate in the evaluation.\n",
    "3. Aftertaste- Aftertaste is defined as the length of positive flavor (taste and aroma) qualities emanating from the back of the palate and remaining after the coffee is expectorated or swallowed. If the aftertaste were short or unpleasant, a lower score would be given.\n",
    "4. Acidity- Acidity is often described as \"brightness\" when favorable or \"sour\" when unfavorable. At its best, acidity contributes to a coffee's liveliness, sweetness, and fresh- fruit character and is almost immediately experienced and evaluated when the coffee is first slurped into the mouth. Acidity that is overly intense or dominating may be unpleasant, however, and excessive acidity may not be appropriate to the flavor profile of the sample. The final score marked on the horizontal tick-mark scale should reflect the panelist's perceived quality for the Acidity relative to the expected flavor profile based on origin characteristics and/or other factors (degree of roast, intended use, etc.). Coffees expected to be high in Acidity, such as a Kenya coffee, or coffees expected to be low in Acidity, such as a Sumatra coffee, can receive equally high preference scores although their intensity rankings will be quite different.\n",
    "5. Body- The quality of Body is based upon the tactile feeling of the liquid in the mouth, especially as perceived between the tongue and roof of the mouth. Most samples with heavy Body may also receive a high score in terms of quality due to the presence of brew colloids and sucrose. Some samples with lighter Body may also have a pleasant feeling in the mouth, however. Coffees expected to be high in Body, such as a Sumatra coffee, or coffees expected to be low in Body, such as a Mexican coffee, can receive equally high preference scores although their intensity rankings will be quite different.\n",
    "6. Balance- How all the various aspects of Flavor, Aftertaste, Acidity and Body of the sample work together and complement or contrast to each other is Balance. If the sample is lacking in certain aroma or taste attributes or if some attributes are overpowering, the Balance score would be reduced.\n",
    "7. Uniformity- Uniformity refers to consistency of flavor of the different cups of the sample tasted. If the cups taste different, the rating of this aspect would not be as high. 2 points are awarded for each cup displaying this attribute, with a maximum of 10 points if all 5 cups are the same.\n",
    "8. Cup Cleanliness- Clean Cup refers to a lack of interfering negative impressions from first ingestion to final aftertaste, a \"transparency\" of cup. In evaluating this attribute, notice the total flavor experience from the time of the initial ingestion to final swallowing or expectoration. Any non-coffee like tastes or aromas will disqualify an individual cup. 2 points are awarded for each cup displaying the attribute of Clean Cup.\n",
    "9. Sweetness- Sweetness refers to a pleasing fullness of flavor as well as any obvious sweetness and its perception is the result of the presence of certain carbohydrates. The opposite of sweetness in this context is sour, astringency or \"green\" flavors. This quality may not be directly perceived as in sucrose-laden products such as soft drinks, but will affect other flavor attributes. 2 points are awarded for each cup displaying this attribute for a maximum score of 10 points.\n",
    "10. Overall- The \"overall\" scoring aspect is meant to reflect the holistically integrated rating of the sample as perceived by the individual panelist. A sample with many highly pleasant aspects, but not quite \"measuring up\" would receive a lower rating. A coffee that met expectations as to its character and reflected particular origin flavor qualities would receive a high score. An exemplary example of preferred characteristics not fully reflected in the individual score of the individual attributes might receive an even higher score. This is the step where the panelists make their personal appraisal.\n",
    "11. Moisture\n",
    "12. Defects\n",
    "#### Bean Metadata\n",
    "13. Processing Method\n",
    "14. Color\n",
    "15. Species (arabica or robusta)\n",
    "#### Farm Metadata\n",
    "16. Owner\n",
    "17. Country of Origin\n",
    "18. Farm Name\n",
    "19. Lot Number\n",
    "20. Mill\n",
    "21. Company\n",
    "22. Altitude- meters\n",
    "23. Region\n",
    "#### Other\n",
    "24. Quakers- number of unripe or poorly roasted beans"
   ]
  },
  {
   "cell_type": "markdown",
   "metadata": {},
   "source": [
    "<a class=\"anchor\" id=\"numerical_features\"></a>\n",
    "\n",
    "## 5. Numerical Features Analysis and Cleaning"
   ]
  },
  {
   "cell_type": "markdown",
   "metadata": {},
   "source": [
    "<a class=\"anchor\" id=\"deleting_unnamed\"></a>\n",
    "\n",
    "### 5.1 Deleting 'Unnamed: 0' Column"
   ]
  },
  {
   "cell_type": "markdown",
   "metadata": {},
   "source": [
    "My first column that I want to check out is titled 'Unnamed: 0'"
   ]
  },
  {
   "cell_type": "code",
   "execution_count": 13,
   "metadata": {},
   "outputs": [
    {
     "data": {
      "text/plain": [
       "array([0])"
      ]
     },
     "execution_count": 13,
     "metadata": {},
     "output_type": "execute_result"
    }
   ],
   "source": [
    "coffee['Unnamed: 0'].unique()"
   ]
  },
  {
   "cell_type": "markdown",
   "metadata": {},
   "source": [
    "Because this is a column that just has a zero in every row, I'm going to go ahead and delete it altogether."
   ]
  },
  {
   "cell_type": "code",
   "execution_count": 14,
   "metadata": {},
   "outputs": [],
   "source": [
    "#drop the 'Unnamed: 0' column\n",
    "coffee = coffee.drop(columns=['Unnamed: 0'])"
   ]
  },
  {
   "cell_type": "markdown",
   "metadata": {},
   "source": [
    "<a class=\"anchor\" id=\"cleaning_altitude\"></a>\n",
    "\n",
    "### 5.2 Cleaning Altitude Column"
   ]
  },
  {
   "cell_type": "markdown",
   "metadata": {},
   "source": [
    "This column is currently of the dtype: object and I want it to be numerical. Let's start by checking out what kind of values we have in this column."
   ]
  },
  {
   "cell_type": "code",
   "execution_count": 15,
   "metadata": {},
   "outputs": [
    {
     "data": {
      "text/plain": [
       "array(['1200', '1650', '1800', '2219', '15002100', '2100', '2200', '2000',\n",
       "       '1950', '1276', '1300', '2229', '1040', '1994', '1420', '1700',\n",
       "       '5650', '1100', '1400+', '1450', '1600', '1750', '442', '1150',\n",
       "       '1666', '1300-1800', '1200-1500', '1500', '1943', '1400', '1000',\n",
       "       '1020', '1250', '1901.64', '1850', '1200-1900', '-900', '1574',\n",
       "       '1350', '1200-1300'], dtype=object)"
      ]
     },
     "execution_count": 15,
     "metadata": {},
     "output_type": "execute_result"
    }
   ],
   "source": [
    "coffee.Altitude.unique()"
   ]
  },
  {
   "cell_type": "markdown",
   "metadata": {},
   "source": [
    "It looks like we have some columns with ranges denoted with dashes (-) as well as a plus sign. To deal with the ranges and rogue + or - signs, we can turn each row into an individual series containing the number elements of the Altitude columns. We can then find the mean of the series and create a new column called \"Mean Altitude (m)\""
   ]
  },
  {
   "cell_type": "code",
   "execution_count": 16,
   "metadata": {},
   "outputs": [
    {
     "name": "stdout",
     "output_type": "stream",
     "text": [
      "0            [1200]\n",
      "1            [1650]\n",
      "2            [1800]\n",
      "3            [2219]\n",
      "4            [1650]\n",
      "           ...     \n",
      "145    [1200, 1300]\n",
      "146    [1300, 1800]\n",
      "147          [1200]\n",
      "148          [1150]\n",
      "149          [1150]\n",
      "Name: Altitude, Length: 150, dtype: object\n"
     ]
    }
   ],
   "source": [
    "#Turn all the number elements in the Altitude column into individual series\n",
    "\n",
    "b = coffee['Altitude'].str.findall('(\\d+)')\n",
    "print(b)"
   ]
  },
  {
   "cell_type": "code",
   "execution_count": 17,
   "metadata": {},
   "outputs": [],
   "source": [
    "#find the means of each series\n",
    "mean_altitude = pd.Series([],dtype = 'float64')\n",
    "for i in range(0,len(b)):\n",
    "    b[i] = np.array(b[i]).astype(np.float)\n",
    "    mean_altitude[i] = sum(b[i]) / len(b[i])"
   ]
  },
  {
   "cell_type": "code",
   "execution_count": 18,
   "metadata": {},
   "outputs": [],
   "source": [
    "#create new dataframe containing the mean altitude\n",
    "altitude_df = mean_altitude.to_frame()"
   ]
  },
  {
   "cell_type": "code",
   "execution_count": 19,
   "metadata": {},
   "outputs": [],
   "source": [
    "#title the column\n",
    "altitude_df.columns = ['Mean Altitude (m)']"
   ]
  },
  {
   "cell_type": "markdown",
   "metadata": {},
   "source": [
    "Let's check out our new Mean Altitude column. Right now it is its own data frame but we will join it to our coffee df as its own column later."
   ]
  },
  {
   "cell_type": "code",
   "execution_count": 20,
   "metadata": {},
   "outputs": [
    {
     "data": {
      "text/html": [
       "<div>\n",
       "<style scoped>\n",
       "    .dataframe tbody tr th:only-of-type {\n",
       "        vertical-align: middle;\n",
       "    }\n",
       "\n",
       "    .dataframe tbody tr th {\n",
       "        vertical-align: top;\n",
       "    }\n",
       "\n",
       "    .dataframe thead th {\n",
       "        text-align: right;\n",
       "    }\n",
       "</style>\n",
       "<table border=\"1\" class=\"dataframe\">\n",
       "  <thead>\n",
       "    <tr style=\"text-align: right;\">\n",
       "      <th></th>\n",
       "      <th>Mean Altitude (m)</th>\n",
       "    </tr>\n",
       "  </thead>\n",
       "  <tbody>\n",
       "    <tr>\n",
       "      <th>0</th>\n",
       "      <td>1200.0</td>\n",
       "    </tr>\n",
       "    <tr>\n",
       "      <th>1</th>\n",
       "      <td>1650.0</td>\n",
       "    </tr>\n",
       "    <tr>\n",
       "      <th>2</th>\n",
       "      <td>1800.0</td>\n",
       "    </tr>\n",
       "    <tr>\n",
       "      <th>3</th>\n",
       "      <td>2219.0</td>\n",
       "    </tr>\n",
       "    <tr>\n",
       "      <th>4</th>\n",
       "      <td>1650.0</td>\n",
       "    </tr>\n",
       "    <tr>\n",
       "      <th>...</th>\n",
       "      <td>...</td>\n",
       "    </tr>\n",
       "    <tr>\n",
       "      <th>145</th>\n",
       "      <td>1250.0</td>\n",
       "    </tr>\n",
       "    <tr>\n",
       "      <th>146</th>\n",
       "      <td>1550.0</td>\n",
       "    </tr>\n",
       "    <tr>\n",
       "      <th>147</th>\n",
       "      <td>1200.0</td>\n",
       "    </tr>\n",
       "    <tr>\n",
       "      <th>148</th>\n",
       "      <td>1150.0</td>\n",
       "    </tr>\n",
       "    <tr>\n",
       "      <th>149</th>\n",
       "      <td>1150.0</td>\n",
       "    </tr>\n",
       "  </tbody>\n",
       "</table>\n",
       "<p>150 rows × 1 columns</p>\n",
       "</div>"
      ],
      "text/plain": [
       "     Mean Altitude (m)\n",
       "0               1200.0\n",
       "1               1650.0\n",
       "2               1800.0\n",
       "3               2219.0\n",
       "4               1650.0\n",
       "..                 ...\n",
       "145             1250.0\n",
       "146             1550.0\n",
       "147             1200.0\n",
       "148             1150.0\n",
       "149             1150.0\n",
       "\n",
       "[150 rows x 1 columns]"
      ]
     },
     "execution_count": 20,
     "metadata": {},
     "output_type": "execute_result"
    }
   ],
   "source": [
    "altitude_df"
   ]
  },
  {
   "cell_type": "markdown",
   "metadata": {},
   "source": [
    "Let's check out the histogram"
   ]
  },
  {
   "cell_type": "code",
   "execution_count": 21,
   "metadata": {},
   "outputs": [
    {
     "data": {
      "text/plain": [
       "(array([149.,   0.,   0.,   0.,   0.,   0.,   0.,   0.,   0.,   0.,   0.,\n",
       "          0.,   0.,   0.,   0.,   0.,   0.,   0.,   0.,   1.]),\n",
       " array([4.42000000e+02, 7.50524900e+05, 1.50060780e+06, 2.25069070e+06,\n",
       "        3.00077360e+06, 3.75085650e+06, 4.50093940e+06, 5.25102230e+06,\n",
       "        6.00110520e+06, 6.75118810e+06, 7.50127100e+06, 8.25135390e+06,\n",
       "        9.00143680e+06, 9.75151970e+06, 1.05016026e+07, 1.12516855e+07,\n",
       "        1.20017684e+07, 1.27518513e+07, 1.35019342e+07, 1.42520171e+07,\n",
       "        1.50021000e+07]),\n",
       " <BarContainer object of 20 artists>)"
      ]
     },
     "execution_count": 21,
     "metadata": {},
     "output_type": "execute_result"
    },
    {
     "data": {
      "image/png": "[encoded data removed]",
      "text/plain": [
       "<Figure size 432x288 with 1 Axes>"
      ]
     },
     "metadata": {
      "needs_background": "light"
     },
     "output_type": "display_data"
    }
   ],
   "source": [
    "plt.hist(altitude_df['Mean Altitude (m)'], bins=20)"
   ]
  },
  {
   "cell_type": "markdown",
   "metadata": {},
   "source": [
    "Based on this graph, it seems that we have an outlier. Let's see if we can diagnose the issue."
   ]
  },
  {
   "cell_type": "code",
   "execution_count": 22,
   "metadata": {},
   "outputs": [
    {
     "data": {
      "text/html": [
       "<div>\n",
       "<style scoped>\n",
       "    .dataframe tbody tr th:only-of-type {\n",
       "        vertical-align: middle;\n",
       "    }\n",
       "\n",
       "    .dataframe tbody tr th {\n",
       "        vertical-align: top;\n",
       "    }\n",
       "\n",
       "    .dataframe thead th {\n",
       "        text-align: right;\n",
       "    }\n",
       "</style>\n",
       "<table border=\"1\" class=\"dataframe\">\n",
       "  <thead>\n",
       "    <tr style=\"text-align: right;\">\n",
       "      <th></th>\n",
       "      <th>Mean Altitude (m)</th>\n",
       "    </tr>\n",
       "  </thead>\n",
       "  <tbody>\n",
       "    <tr>\n",
       "      <th>3</th>\n",
       "      <td>2219.0</td>\n",
       "    </tr>\n",
       "    <tr>\n",
       "      <th>5</th>\n",
       "      <td>15002100.0</td>\n",
       "    </tr>\n",
       "    <tr>\n",
       "      <th>7</th>\n",
       "      <td>2100.0</td>\n",
       "    </tr>\n",
       "    <tr>\n",
       "      <th>8</th>\n",
       "      <td>2100.0</td>\n",
       "    </tr>\n",
       "    <tr>\n",
       "      <th>9</th>\n",
       "      <td>2200.0</td>\n",
       "    </tr>\n",
       "    <tr>\n",
       "      <th>14</th>\n",
       "      <td>2229.0</td>\n",
       "    </tr>\n",
       "    <tr>\n",
       "      <th>22</th>\n",
       "      <td>5650.0</td>\n",
       "    </tr>\n",
       "  </tbody>\n",
       "</table>\n",
       "</div>"
      ],
      "text/plain": [
       "    Mean Altitude (m)\n",
       "3              2219.0\n",
       "5          15002100.0\n",
       "7              2100.0\n",
       "8              2100.0\n",
       "9              2200.0\n",
       "14             2229.0\n",
       "22             5650.0"
      ]
     },
     "execution_count": 22,
     "metadata": {},
     "output_type": "execute_result"
    }
   ],
   "source": [
    "altitude_df[altitude_df['Mean Altitude (m)']>2000]"
   ]
  },
  {
   "cell_type": "markdown",
   "metadata": {},
   "source": [
    "It seems that our row 5 has an altitude of 15,002,100 m. Unless we've started growing coffee beans in space, this is an incorrect value. My hypothesis is that this is an input error and is supposed to be the range from 1500-2100m. Let's see where these beans were grown."
   ]
  },
  {
   "cell_type": "code",
   "execution_count": 23,
   "metadata": {},
   "outputs": [
    {
     "data": {
      "text/plain": [
       "Country of Origin                                                 Ethiopia\n",
       "Farm Name                                                      Kata Muduga\n",
       "Lot Number                                                               1\n",
       "Mill                                                   Kata Muduga Farmers\n",
       "ICO Number                                                             NaN\n",
       "Company                                                          Haia GmbH\n",
       "Altitude                                                          15002100\n",
       "Region                                                                Limu\n",
       "Producer                                         Kata Muduga Farmers Union\n",
       "Number of Bags                                                         100\n",
       "Bag Weight                                                           60 kg\n",
       "In-Country Partner       NKG Quality Service (a division of Bernhard Ro...\n",
       "Harvest Year                                                          2020\n",
       "Grading Date                                           September 1st, 2020\n",
       "Owner                                                    Dr. Marcel Lorenz\n",
       "Variety                                                              Other\n",
       "Status                                                           Completed\n",
       "Processing Method                                             Washed / Wet\n",
       "Aroma                                                                    8\n",
       "Flavor                                                                8.33\n",
       "Aftertaste                                                            8.17\n",
       "Acidity                                                                  8\n",
       "Body                                                                     8\n",
       "Balance                                                               8.17\n",
       "Uniformity                                                              10\n",
       "Clean Cup                                                               10\n",
       "Sweetness                                                               10\n",
       "Overall                                                               8.25\n",
       "Defects                                                                  0\n",
       "Total Cup Points                                                     86.92\n",
       "Moisture                                                              11 %\n",
       "Category One Defects                                        0 full defects\n",
       "Quakers                                                                  0\n",
       "Color                                                                Green\n",
       "Category Two Defects                                        0 full defects\n",
       "NA                                                                     NaN\n",
       "Expiration                                             September 1st, 2021\n",
       "Certification Body       NKG Quality Service (a division of Bernhard Ro...\n",
       "Certification Address              Bahnhofstrasse 22 6300 Zug, Switzerland\n",
       "Certification Contact                        Gloria Pedroza - +41417287296\n",
       "Name: 5, dtype: object"
      ]
     },
     "execution_count": 23,
     "metadata": {},
     "output_type": "execute_result"
    }
   ],
   "source": [
    "coffee.loc[5]"
   ]
  },
  {
   "cell_type": "markdown",
   "metadata": {},
   "source": [
    "After doing some research, I found that this farm is located in Oromia, Ethiopia which has an altitude of 1500-2300 meters. This checks out with our hypothesis. I will go head and assign the mean altitude to this data value"
   ]
  },
  {
   "cell_type": "code",
   "execution_count": 24,
   "metadata": {},
   "outputs": [
    {
     "data": {
      "text/plain": [
       "Mean Altitude (m)    1800.0\n",
       "Name: 5, dtype: float64"
      ]
     },
     "execution_count": 24,
     "metadata": {},
     "output_type": "execute_result"
    }
   ],
   "source": [
    "#assign the altitude to be the mean of 1500 and 2100m\n",
    "altitude_df.loc[5] = (1500+2100)/2\n",
    "altitude_df.loc[5]"
   ]
  },
  {
   "cell_type": "markdown",
   "metadata": {},
   "source": [
    "Let's look at the histogram again"
   ]
  },
  {
   "cell_type": "code",
   "execution_count": 25,
   "metadata": {},
   "outputs": [
    {
     "data": {
      "text/plain": [
       "(array([ 3.,  2., 37., 27., 46., 29.,  5.,  0.,  0.,  0.,  0.,  0.,  0.,\n",
       "         0.,  0.,  0.,  0.,  0.,  0.,  1.]),\n",
       " array([ 442. ,  702.4,  962.8, 1223.2, 1483.6, 1744. , 2004.4, 2264.8,\n",
       "        2525.2, 2785.6, 3046. , 3306.4, 3566.8, 3827.2, 4087.6, 4348. ,\n",
       "        4608.4, 4868.8, 5129.2, 5389.6, 5650. ]),\n",
       " <BarContainer object of 20 artists>)"
      ]
     },
     "execution_count": 25,
     "metadata": {},
     "output_type": "execute_result"
    },
    {
     "data": {
      "image/png": "[encoded data removed]",
      "text/plain": [
       "<Figure size 432x288 with 1 Axes>"
      ]
     },
     "metadata": {
      "needs_background": "light"
     },
     "output_type": "display_data"
    }
   ],
   "source": [
    "plt.hist(altitude_df['Mean Altitude (m)'], bins=20)"
   ]
  },
  {
   "cell_type": "code",
   "execution_count": 26,
   "metadata": {},
   "outputs": [
    {
     "data": {
      "text/html": [
       "<div>\n",
       "<style scoped>\n",
       "    .dataframe tbody tr th:only-of-type {\n",
       "        vertical-align: middle;\n",
       "    }\n",
       "\n",
       "    .dataframe tbody tr th {\n",
       "        vertical-align: top;\n",
       "    }\n",
       "\n",
       "    .dataframe thead th {\n",
       "        text-align: right;\n",
       "    }\n",
       "</style>\n",
       "<table border=\"1\" class=\"dataframe\">\n",
       "  <thead>\n",
       "    <tr style=\"text-align: right;\">\n",
       "      <th></th>\n",
       "      <th>Mean Altitude (m)</th>\n",
       "    </tr>\n",
       "  </thead>\n",
       "  <tbody>\n",
       "    <tr>\n",
       "      <th>22</th>\n",
       "      <td>5650.0</td>\n",
       "    </tr>\n",
       "  </tbody>\n",
       "</table>\n",
       "</div>"
      ],
      "text/plain": [
       "    Mean Altitude (m)\n",
       "22             5650.0"
      ]
     },
     "execution_count": 26,
     "metadata": {},
     "output_type": "execute_result"
    }
   ],
   "source": [
    "altitude_df[altitude_df['Mean Altitude (m)']>4000]"
   ]
  },
  {
   "cell_type": "markdown",
   "metadata": {},
   "source": [
    "It seems like row 22 with an altitude of 5650m is our outlier. Let's look into this data point."
   ]
  },
  {
   "cell_type": "code",
   "execution_count": 27,
   "metadata": {},
   "outputs": [
    {
     "data": {
      "text/plain": [
       "Country of Origin                                                Guatemala\n",
       "Farm Name                                                 SAN RAFAEL URIAS\n",
       "Lot Number                                                     11/54876/01\n",
       "Mill                                                   SU BENEFICIO, S. A.\n",
       "ICO Number                                                     11/54876/01\n",
       "Company                                                     VALBROS, S. A.\n",
       "Altitude                                                              5650\n",
       "Region                                                   ANTIGUA GUATEMALA\n",
       "Producer                                                    VALDROS, S. A.\n",
       "Number of Bags                                                          50\n",
       "Bag Weight                                                           69 kg\n",
       "In-Country Partner                            Asociacion Nacional Del Café\n",
       "Harvest Year                                                          2021\n",
       "Grading Date                                                May 28th, 2021\n",
       "Owner                                           Angelica Paola Citan Lopez\n",
       "Variety                                                            Bourbon\n",
       "Status                                                           Completed\n",
       "Processing Method                                             Washed / Wet\n",
       "Aroma                                                                 7.67\n",
       "Flavor                                                                8.08\n",
       "Aftertaste                                                            7.75\n",
       "Acidity                                                               7.75\n",
       "Body                                                                  7.83\n",
       "Balance                                                               7.83\n",
       "Uniformity                                                              10\n",
       "Clean Cup                                                               10\n",
       "Sweetness                                                               10\n",
       "Overall                                                               7.83\n",
       "Defects                                                                  0\n",
       "Total Cup Points                                                     84.75\n",
       "Moisture                                                            10.9 %\n",
       "Category One Defects                                        0 full defects\n",
       "Quakers                                                                  3\n",
       "Color                                                                Green\n",
       "Category Two Defects                                        3 full defects\n",
       "NA                                                                     NaN\n",
       "Expiration                                                  May 28th, 2022\n",
       "Certification Body                            Asociacion Nacional Del Café\n",
       "Certification Address    5a Calle 0-50, Zona 14 Guatemala City, Guatema...\n",
       "Certification Contact                                   Brayan Cifuentes -\n",
       "Name: 22, dtype: object"
      ]
     },
     "execution_count": 27,
     "metadata": {},
     "output_type": "execute_result"
    }
   ],
   "source": [
    "coffee.loc[22]"
   ]
  },
  {
   "cell_type": "markdown",
   "metadata": {},
   "source": [
    "Because the max elevation in Guatemala is 4,203 meters, this altitude must be incorrect. After doing some research, I discovered that the altitude of Antigua, Guatemala is 5,029 feet (1,533 metres), so this is likely an altitude in feet rather than meters. I will convert this altitude to feet and use the conversion. "
   ]
  },
  {
   "cell_type": "code",
   "execution_count": 28,
   "metadata": {},
   "outputs": [],
   "source": [
    "#convert altitude of the outlier from feet to meters\n",
    "altitude_df.loc[22] = altitude_df.loc[22]*0.3048"
   ]
  },
  {
   "cell_type": "code",
   "execution_count": 29,
   "metadata": {},
   "outputs": [
    {
     "data": {
      "text/plain": [
       "Mean Altitude (m)    1722.12\n",
       "Name: 22, dtype: float64"
      ]
     },
     "execution_count": 29,
     "metadata": {},
     "output_type": "execute_result"
    }
   ],
   "source": [
    "altitude_df.loc[22]"
   ]
  },
  {
   "cell_type": "markdown",
   "metadata": {},
   "source": [
    "The Altitude values look pretty good now. Let's plot our histogram one last time."
   ]
  },
  {
   "cell_type": "code",
   "execution_count": 30,
   "metadata": {},
   "outputs": [
    {
     "data": {
      "text/plain": [
       "38      442.0\n",
       "41      442.0\n",
       "31      442.0\n",
       "85      900.0\n",
       "135     900.0\n",
       "        ...  \n",
       "7      2100.0\n",
       "8      2100.0\n",
       "9      2200.0\n",
       "3      2219.0\n",
       "14     2229.0\n",
       "Name: Mean Altitude (m), Length: 150, dtype: float64"
      ]
     },
     "execution_count": 30,
     "metadata": {},
     "output_type": "execute_result"
    }
   ],
   "source": [
    "altitude_df['Mean Altitude (m)'].sort_values()"
   ]
  },
  {
   "cell_type": "code",
   "execution_count": 31,
   "metadata": {},
   "outputs": [
    {
     "data": {
      "text/plain": [
       "(array([ 3.,  0.,  0.,  2.,  8., 18., 15.,  9., 22., 21., 22., 20.,  3.,\n",
       "         4.,  3.]),\n",
       " array([ 442.        ,  561.13333333,  680.26666667,  799.4       ,\n",
       "         918.53333333, 1037.66666667, 1156.8       , 1275.93333333,\n",
       "        1395.06666667, 1514.2       , 1633.33333333, 1752.46666667,\n",
       "        1871.6       , 1990.73333333, 2109.86666667, 2229.        ]),\n",
       " <BarContainer object of 15 artists>)"
      ]
     },
     "execution_count": 31,
     "metadata": {},
     "output_type": "execute_result"
    },
    {
     "data": {
      "image/png": "[encoded data removed]",
      "text/plain": [
       "<Figure size 432x288 with 1 Axes>"
      ]
     },
     "metadata": {
      "needs_background": "light"
     },
     "output_type": "display_data"
    }
   ],
   "source": [
    "plt.hist(altitude_df['Mean Altitude (m)'], bins=15)"
   ]
  },
  {
   "cell_type": "markdown",
   "metadata": {},
   "source": [
    "This looks like a reasonable range of altitude values and even looks slightly normal. We can go ahead and create a new column in our coffee dataframe."
   ]
  },
  {
   "cell_type": "code",
   "execution_count": 32,
   "metadata": {},
   "outputs": [],
   "source": [
    "#create Mean Altitude column\n",
    "coffee['Mean Altitude (m)'] = altitude_df['Mean Altitude (m)']"
   ]
  },
  {
   "cell_type": "markdown",
   "metadata": {},
   "source": [
    "<a class=\"anchor\" id=\"cleaning_moisture\"></a>\n",
    "\n",
    "### 5.3 Cleaning Moisture Column"
   ]
  },
  {
   "cell_type": "code",
   "execution_count": 33,
   "metadata": {},
   "outputs": [
    {
     "data": {
      "text/plain": [
       "array(['11 %', '11.5 %', '12 %', '10 %', '10.5 %', '8.6 %', '13.3 %',\n",
       "       '13.5 %', '9.7 %', '10.9 %', '0 %', '11.8 %', '10.6 %', '10.4 %',\n",
       "       '11.6 %', '10.3 %', '9.9 %', '11.9 %', '10.8 %', '12.3 %',\n",
       "       '11.3 %'], dtype=object)"
      ]
     },
     "execution_count": 33,
     "metadata": {},
     "output_type": "execute_result"
    }
   ],
   "source": [
    "coffee['Moisture'].unique()"
   ]
  },
  {
   "cell_type": "code",
   "execution_count": 34,
   "metadata": {},
   "outputs": [],
   "source": [
    "#delete all percent signs\n",
    "coffee['Moisture'] = coffee['Moisture'].str.replace(' %', '')"
   ]
  },
  {
   "cell_type": "code",
   "execution_count": 35,
   "metadata": {},
   "outputs": [],
   "source": [
    "#convert 'Moisture' values from strings to floats\n",
    "coffee[\"Moisture\"] = pd.to_numeric(coffee[\"Moisture\"])"
   ]
  },
  {
   "cell_type": "code",
   "execution_count": 36,
   "metadata": {},
   "outputs": [
    {
     "name": "stdout",
     "output_type": "stream",
     "text": [
      "[11.  11.5 12.  10.  10.5  8.6 13.3 13.5  9.7 10.9  0.  11.8 10.6 10.4\n",
      " 11.6 10.3  9.9 11.9 10.8 12.3 11.3]\n",
      "float64\n"
     ]
    }
   ],
   "source": [
    "#check values and data type of updated Moisture column\n",
    "print(coffee['Moisture'].unique())\n",
    "print(coffee['Moisture'].dtypes)"
   ]
  },
  {
   "cell_type": "code",
   "execution_count": 37,
   "metadata": {},
   "outputs": [
    {
     "data": {
      "text/plain": [
       "(array([ 1.,  0.,  0.,  0.,  0.,  0.,  1., 51., 93.,  4.]),\n",
       " array([ 0.  ,  1.35,  2.7 ,  4.05,  5.4 ,  6.75,  8.1 ,  9.45, 10.8 ,\n",
       "        12.15, 13.5 ]),\n",
       " <BarContainer object of 10 artists>)"
      ]
     },
     "execution_count": 37,
     "metadata": {},
     "output_type": "execute_result"
    },
    {
     "data": {
      "image/png": "[encoded data removed]",
      "text/plain": [
       "<Figure size 432x288 with 1 Axes>"
      ]
     },
     "metadata": {
      "needs_background": "light"
     },
     "output_type": "display_data"
    }
   ],
   "source": [
    "plt.hist(coffee['Moisture'], bins=10)"
   ]
  },
  {
   "cell_type": "markdown",
   "metadata": {},
   "source": []
  },
  {
   "cell_type": "markdown",
   "metadata": {},
   "source": [
    "<a class=\"anchor\" id=\"checking_quality\"></a>\n",
    "\n",
    "### 5.4 Checking Quality Measure Columns"
   ]
  },
  {
   "cell_type": "markdown",
   "metadata": {},
   "source": [
    "Judging criteria scores should range from 0-10, other than Total Cup Points which should range from 0-100. Though we will end up not using the columns for our model, I'm interested to see if there are any input errors."
   ]
  },
  {
   "cell_type": "code",
   "execution_count": 38,
   "metadata": {},
   "outputs": [],
   "source": [
    "quality_measures = ['Aroma', 'Flavor', 'Aftertaste', 'Acidity', 'Body', 'Balance', 'Uniformity', 'Clean Cup', 'Sweetness', 'Overall', 'Defects', 'Total Cup Points']"
   ]
  },
  {
   "cell_type": "code",
   "execution_count": 39,
   "metadata": {},
   "outputs": [
    {
     "name": "stdout",
     "output_type": "stream",
     "text": [
      "Aroma max = 8.58\n",
      "Aroma min = 7.5\n",
      "Aroma NaN count = 0\n",
      "Flavor max = 8.67\n",
      "Flavor min = 7.42\n",
      "Flavor NaN count = 0\n",
      "Aftertaste max = 8.25\n",
      "Aftertaste min = 7.0\n",
      "Aftertaste NaN count = 0\n",
      "Acidity max = 8.67\n",
      "Acidity min = 7.25\n",
      "Acidity NaN count = 0\n",
      "Body max = 8.5\n",
      "Body min = 7.25\n",
      "Body NaN count = 0\n",
      "Balance max = 8.58\n",
      "Balance min = 7.33\n",
      "Balance NaN count = 0\n",
      "Uniformity max = 10.0\n",
      "Uniformity min = 9.33\n",
      "Uniformity NaN count = 0\n",
      "Clean Cup max = 10.0\n",
      "Clean Cup min = 10.0\n",
      "Clean Cup NaN count = 0\n",
      "Sweetness max = 10.0\n",
      "Sweetness min = 10.0\n",
      "Sweetness NaN count = 0\n",
      "Overall max = 8.83\n",
      "Overall min = 7.42\n",
      "Overall NaN count = 0\n",
      "Defects max = 0.0\n",
      "Defects min = 0.0\n",
      "Defects NaN count = 0\n",
      "Total Cup Points max = 89.25\n",
      "Total Cup Points min = 82.25\n",
      "Total Cup Points NaN count = 0\n"
     ]
    }
   ],
   "source": [
    "#check to see if values in these columns fall in the correct ranges and if there's any missing data:\n",
    "for i in quality_measures:\n",
    "    print(i, 'max =' , coffee[i].max())\n",
    "    print(i, 'min =' , coffee[i].min())\n",
    "    print(i, 'NaN count =' , coffee[i].isna().sum())"
   ]
  },
  {
   "cell_type": "markdown",
   "metadata": {},
   "source": [
    "All of the values are present and reasonable (numbers between 0-10 for the judging critera). I also notice that all values have a clean cup score of 10 and a defects score of 0."
   ]
  },
  {
   "cell_type": "markdown",
   "metadata": {},
   "source": [
    "<a class=\"anchor\" id=\"cleaning_defects\"></a>\n",
    "\n",
    "### 5.5 Cleaning and Analyzing Category One Defects and Category Two Defects Columns"
   ]
  },
  {
   "cell_type": "markdown",
   "metadata": {},
   "source": [
    "Let's check out our unique values for Cat One and Cat Two defects. These defects, along with the Quakers feature, will contribute to the Coffee Grade which we will create and which will be our classes for our classification model. We will need to turn these columns into integers so we can perform operations on them."
   ]
  },
  {
   "cell_type": "code",
   "execution_count": 40,
   "metadata": {},
   "outputs": [
    {
     "data": {
      "text/plain": [
       "array(['0 full defects', '1 full defects'], dtype=object)"
      ]
     },
     "execution_count": 40,
     "metadata": {},
     "output_type": "execute_result"
    }
   ],
   "source": [
    "coffee['Category One Defects'].unique()"
   ]
  },
  {
   "cell_type": "code",
   "execution_count": 41,
   "metadata": {},
   "outputs": [
    {
     "data": {
      "text/plain": [
       "array(['0 full defects', '1 full defects', '4 full defects',\n",
       "       '3 full defects', '5 full defects', '7 full defects',\n",
       "       '2 full defects', '6 full defects', '9 full defects',\n",
       "       '8 full defects', '16 full defects'], dtype=object)"
      ]
     },
     "execution_count": 41,
     "metadata": {},
     "output_type": "execute_result"
    }
   ],
   "source": [
    "coffee['Category Two Defects'].unique()"
   ]
  },
  {
   "cell_type": "markdown",
   "metadata": {},
   "source": [
    "Every single row contains the term 'full defects' in the Cat One and Cat Two defects columns so I can just delete that phrase from all entries and covert the dtype into an int64"
   ]
  },
  {
   "cell_type": "code",
   "execution_count": 42,
   "metadata": {},
   "outputs": [],
   "source": [
    "coffee['Category One Defects'] = coffee['Category One Defects'].str.replace('full defects', '')\n",
    "coffee['Category Two Defects'] = coffee['Category Two Defects'].str.replace('full defects', '')"
   ]
  },
  {
   "cell_type": "code",
   "execution_count": 43,
   "metadata": {},
   "outputs": [
    {
     "name": "stdout",
     "output_type": "stream",
     "text": [
      "Cat One Defects Values: ['0 ' '1 ']\n",
      "Cat Two Defects Values: ['0 ' '1 ' '4 ' '3 ' '5 ' '7 ' '2 ' '6 ' '9 ' '8 ' '16 ']\n"
     ]
    }
   ],
   "source": [
    "#check updated Cat One and Cat Two Defects values:\n",
    "\n",
    "print('Cat One Defects Values:', coffee['Category One Defects'].unique())\n",
    "print('Cat Two Defects Values:', coffee['Category Two Defects'].unique())"
   ]
  },
  {
   "cell_type": "code",
   "execution_count": 44,
   "metadata": {},
   "outputs": [],
   "source": [
    "#convert both columns (object) into numeric (int64) types\n",
    "\n",
    "coffee[\"Category One Defects\"] = pd.to_numeric(coffee[\"Category One Defects\"])\n",
    "coffee[\"Category Two Defects\"] = pd.to_numeric(coffee[\"Category Two Defects\"])"
   ]
  },
  {
   "cell_type": "code",
   "execution_count": 45,
   "metadata": {},
   "outputs": [
    {
     "name": "stdout",
     "output_type": "stream",
     "text": [
      "Cat One Data Type: int64\n",
      "Cat Two Data Type: int64\n"
     ]
    }
   ],
   "source": [
    "#check updated Cat One and Cat Two Data Types\n",
    "\n",
    "print('Cat One Data Type:' , coffee['Category One Defects'].dtypes)\n",
    "print('Cat Two Data Type:' , coffee['Category Two Defects'].dtypes)"
   ]
  },
  {
   "cell_type": "markdown",
   "metadata": {},
   "source": [
    "Now that we have these columns cleaned, lets explore them a little further. I'm interested to see how many of the coffees have these defects."
   ]
  },
  {
   "cell_type": "code",
   "execution_count": 46,
   "metadata": {},
   "outputs": [
    {
     "data": {
      "text/plain": [
       "0    148\n",
       "1      2\n",
       "Name: Category One Defects, dtype: int64"
      ]
     },
     "execution_count": 46,
     "metadata": {},
     "output_type": "execute_result"
    }
   ],
   "source": [
    "coffee[\"Category One Defects\"].value_counts()"
   ]
  },
  {
   "cell_type": "markdown",
   "metadata": {},
   "source": [
    "Pretty much all of our data has no Cat One defects."
   ]
  },
  {
   "cell_type": "code",
   "execution_count": 47,
   "metadata": {},
   "outputs": [
    {
     "data": {
      "text/plain": [
       "0     33\n",
       "4     22\n",
       "2     21\n",
       "5     19\n",
       "1     18\n",
       "3     12\n",
       "7      9\n",
       "9      6\n",
       "6      6\n",
       "16     2\n",
       "8      2\n",
       "Name: Category Two Defects, dtype: int64"
      ]
     },
     "execution_count": 47,
     "metadata": {},
     "output_type": "execute_result"
    }
   ],
   "source": [
    "coffee[\"Category Two Defects\"].value_counts()"
   ]
  },
  {
   "cell_type": "markdown",
   "metadata": {},
   "source": [
    "Cat Two defects seem to be a lot more common, though it looks like a large majority of the coffee has 5 or less Cat Two defects."
   ]
  },
  {
   "cell_type": "code",
   "execution_count": 48,
   "metadata": {},
   "outputs": [
    {
     "data": {
      "text/plain": [
       "(array([51., 33., 22., 25.,  9.,  8.,  0.,  0.,  0.,  2.]),\n",
       " array([ 0. ,  1.6,  3.2,  4.8,  6.4,  8. ,  9.6, 11.2, 12.8, 14.4, 16. ]),\n",
       " <BarContainer object of 10 artists>)"
      ]
     },
     "execution_count": 48,
     "metadata": {},
     "output_type": "execute_result"
    },
    {
     "data": {
      "image/png": "[encoded data removed]",
      "text/plain": [
       "<Figure size 432x288 with 1 Axes>"
      ]
     },
     "metadata": {
      "needs_background": "light"
     },
     "output_type": "display_data"
    }
   ],
   "source": [
    "plt.hist(coffee['Category Two Defects'], bins=10)"
   ]
  },
  {
   "cell_type": "markdown",
   "metadata": {},
   "source": [
    "<a class=\"anchor\" id=\"cleaning_quakers\"></a>\n",
    "\n",
    "### 5.6 Cleaning and Analyzing Quakers Column"
   ]
  },
  {
   "cell_type": "code",
   "execution_count": 49,
   "metadata": {},
   "outputs": [
    {
     "data": {
      "text/plain": [
       "array([ 0,  3,  1,  6,  4,  2, 11])"
      ]
     },
     "execution_count": 49,
     "metadata": {},
     "output_type": "execute_result"
    }
   ],
   "source": [
    "coffee['Quakers'].unique()"
   ]
  },
  {
   "cell_type": "code",
   "execution_count": 50,
   "metadata": {},
   "outputs": [
    {
     "data": {
      "text/plain": [
       "dtype('int64')"
      ]
     },
     "execution_count": 50,
     "metadata": {},
     "output_type": "execute_result"
    }
   ],
   "source": [
    "coffee['Quakers'].dtypes"
   ]
  },
  {
   "cell_type": "code",
   "execution_count": 51,
   "metadata": {},
   "outputs": [
    {
     "data": {
      "text/plain": [
       "(array([118.,  21.,   4.,   3.,   0.,   2.,   0.,   0.,   0.,   2.]),\n",
       " array([ 0. ,  1.1,  2.2,  3.3,  4.4,  5.5,  6.6,  7.7,  8.8,  9.9, 11. ]),\n",
       " <BarContainer object of 10 artists>)"
      ]
     },
     "execution_count": 51,
     "metadata": {},
     "output_type": "execute_result"
    },
    {
     "data": {
      "image/png": "[encoded data removed]",
      "text/plain": [
       "<Figure size 432x288 with 1 Axes>"
      ]
     },
     "metadata": {
      "needs_background": "light"
     },
     "output_type": "display_data"
    }
   ],
   "source": [
    "plt.hist(coffee['Quakers'])"
   ]
  },
  {
   "cell_type": "markdown",
   "metadata": {},
   "source": [
    "The Quakers column looks clean. It seems like most coffees have under 3 with some reaching as high as 11."
   ]
  },
  {
   "cell_type": "markdown",
   "metadata": {},
   "source": [
    "<a class=\"anchor\" id=\"total_defects\"></a>\n",
    "\n",
    "### 5.7 Create Total_Defects and Coffee_Grade Columns"
   ]
  },
  {
   "cell_type": "markdown",
   "metadata": {},
   "source": [
    "Because we will be trying to predict the coffee grade which is based on number of defects and quakers, we will create a total defects column:\n"
   ]
  },
  {
   "cell_type": "code",
   "execution_count": 52,
   "metadata": {},
   "outputs": [],
   "source": [
    "#create Total Defects column by adding Cat One and Cat Two defefects\n",
    "coffee['Total_Defects'] = coffee[\"Category One Defects\"].astype(int).values + coffee[\"Category Two Defects\"].astype(int).values"
   ]
  },
  {
   "cell_type": "code",
   "execution_count": 53,
   "metadata": {},
   "outputs": [
    {
     "data": {
      "text/plain": [
       "array([ 0,  1,  4,  3,  5,  7,  2,  6,  9,  8, 16])"
      ]
     },
     "execution_count": 53,
     "metadata": {},
     "output_type": "execute_result"
    }
   ],
   "source": [
    "coffee['Total_Defects'].unique()"
   ]
  },
  {
   "cell_type": "code",
   "execution_count": 54,
   "metadata": {},
   "outputs": [
    {
     "data": {
      "text/plain": [
       "0     33\n",
       "5     21\n",
       "2     21\n",
       "4     20\n",
       "1     18\n",
       "3     12\n",
       "7      9\n",
       "9      6\n",
       "6      6\n",
       "16     2\n",
       "8      2\n",
       "Name: Total_Defects, dtype: int64"
      ]
     },
     "execution_count": 54,
     "metadata": {},
     "output_type": "execute_result"
    }
   ],
   "source": [
    "#check value counts\n",
    "coffee['Total_Defects'].value_counts()"
   ]
  },
  {
   "cell_type": "markdown",
   "metadata": {},
   "source": [
    "We can see here that most coffees had less than 6 total defects, though there are some with higher amounts. The highest amount of defects is 16 so we can limit our coffee grades of this dataset to be either Grade 1: Specialty, Grade 2: Premium, Grade 3: Exchange, and Grade 4: Standard. We can now create our Coffee Grade column based on the criteria of how coffees are graded."
   ]
  },
  {
   "cell_type": "markdown",
   "metadata": {},
   "source": [
    "#### GRADE 1: SPECIALITY GRADE COFFEE BEANS.\n",
    "This is the highest grade of beans, and to be classified as Grade 1 Coffee, the beans need to have no primary defects and 0-3 full defects, and zero “Quakers” which are unripe or poorly roasted beans.\n",
    "\n",
    "#### GRADE 2: PREMIUM GRADE COFFEE BEANS\n",
    "The second highest grade, and the one you most often would be drinking, these beans are the same as Grade 1 coffee beans, but are allowed a maximum of 3 Quakers and 0-8 defects.\n",
    "\n",
    "#### GRADE 3: EXCHANGE GRADE COFFEE BEANS\n",
    "These beans will have 50% above screen 15 and 5% below it, with a maximum of 5 quakers, free from faults, but between 9-23 full defects are permissible. Supermarket brands are using these beans.\n",
    "\n",
    "#### GRADE 4: STANDARD GRADE COFFEE BEANS\n",
    "These will have 24 to 86 full defects per 300g. These are getting into dodgy territory.\n",
    "\n",
    "#### GRADE 5: OFF GRADE COFFEE BEANS\n",
    "You really don’t want these beans, they have more than 86 full defects per 300g."
   ]
  },
  {
   "cell_type": "code",
   "execution_count": 55,
   "metadata": {},
   "outputs": [
    {
     "data": {
      "text/html": [
       "<div>\n",
       "<style scoped>\n",
       "    .dataframe tbody tr th:only-of-type {\n",
       "        vertical-align: middle;\n",
       "    }\n",
       "\n",
       "    .dataframe tbody tr th {\n",
       "        vertical-align: top;\n",
       "    }\n",
       "\n",
       "    .dataframe thead th {\n",
       "        text-align: right;\n",
       "    }\n",
       "</style>\n",
       "<table border=\"1\" class=\"dataframe\">\n",
       "  <thead>\n",
       "    <tr style=\"text-align: right;\">\n",
       "      <th></th>\n",
       "      <th>Country of Origin</th>\n",
       "      <th>Farm Name</th>\n",
       "      <th>Lot Number</th>\n",
       "      <th>Mill</th>\n",
       "      <th>ICO Number</th>\n",
       "      <th>Company</th>\n",
       "      <th>Altitude</th>\n",
       "      <th>Region</th>\n",
       "      <th>Producer</th>\n",
       "      <th>Number of Bags</th>\n",
       "      <th>...</th>\n",
       "      <th>Color</th>\n",
       "      <th>Category Two Defects</th>\n",
       "      <th>NA</th>\n",
       "      <th>Expiration</th>\n",
       "      <th>Certification Body</th>\n",
       "      <th>Certification Address</th>\n",
       "      <th>Certification Contact</th>\n",
       "      <th>Mean Altitude (m)</th>\n",
       "      <th>Total_Defects</th>\n",
       "      <th>Coffee_Grade</th>\n",
       "    </tr>\n",
       "  </thead>\n",
       "  <tbody>\n",
       "    <tr>\n",
       "      <th>0</th>\n",
       "      <td>Taiwan</td>\n",
       "      <td>嵩岳咖啡莊園</td>\n",
       "      <td>202004</td>\n",
       "      <td>嵩岳咖啡莊園</td>\n",
       "      <td>NaN</td>\n",
       "      <td>TCL 台灣咖啡研究室</td>\n",
       "      <td>1200</td>\n",
       "      <td>雲林-石壁</td>\n",
       "      <td>郭亮志</td>\n",
       "      <td>3</td>\n",
       "      <td>...</td>\n",
       "      <td>None</td>\n",
       "      <td>0</td>\n",
       "      <td>NaN</td>\n",
       "      <td>September 1st, 2021</td>\n",
       "      <td>NKG Quality Service (a division of Bernhard Ro...</td>\n",
       "      <td>Bahnhofstrasse 22 6300 Zug, Switzerland</td>\n",
       "      <td>Gloria Pedroza - +41417287296</td>\n",
       "      <td>1200.0</td>\n",
       "      <td>0</td>\n",
       "      <td>Specialty</td>\n",
       "    </tr>\n",
       "    <tr>\n",
       "      <th>1</th>\n",
       "      <td>Kenya</td>\n",
       "      <td>NaN</td>\n",
       "      <td>1542247</td>\n",
       "      <td>Tylor Winch</td>\n",
       "      <td>037-1673-5107</td>\n",
       "      <td>Nestle Nespresso SA</td>\n",
       "      <td>1650</td>\n",
       "      <td>NaN</td>\n",
       "      <td>Tylor Winch Volcafe</td>\n",
       "      <td>320</td>\n",
       "      <td>...</td>\n",
       "      <td>Green</td>\n",
       "      <td>1</td>\n",
       "      <td>NaN</td>\n",
       "      <td>October 30th, 2021</td>\n",
       "      <td>NKG Quality Service (a division of Bernhard Ro...</td>\n",
       "      <td>Bahnhofstrasse 22 6300 Zug, Switzerland</td>\n",
       "      <td>Gloria Pedroza - +41417287296</td>\n",
       "      <td>1650.0</td>\n",
       "      <td>1</td>\n",
       "      <td>Specialty</td>\n",
       "    </tr>\n",
       "    <tr>\n",
       "      <th>2</th>\n",
       "      <td>Colombia</td>\n",
       "      <td>Droptop partner</td>\n",
       "      <td>Droptop Specialty Coffee Blend</td>\n",
       "      <td>NaN</td>\n",
       "      <td>NaN</td>\n",
       "      <td>Cafe Droptop</td>\n",
       "      <td>1800</td>\n",
       "      <td>colombia</td>\n",
       "      <td>Droptop partner</td>\n",
       "      <td>159</td>\n",
       "      <td>...</td>\n",
       "      <td>Green</td>\n",
       "      <td>0</td>\n",
       "      <td>NaN</td>\n",
       "      <td>May 26th, 2022</td>\n",
       "      <td>Specialty Coffee Institute of Asia</td>\n",
       "      <td>148 ULGIRO, #1309,</td>\n",
       "      <td>Sung-Yong Steven Kil - 82-10-7912-1456-English...</td>\n",
       "      <td>1800.0</td>\n",
       "      <td>0</td>\n",
       "      <td>Specialty</td>\n",
       "    </tr>\n",
       "    <tr>\n",
       "      <th>3</th>\n",
       "      <td>Ethiopia</td>\n",
       "      <td>Honey Drip</td>\n",
       "      <td>1</td>\n",
       "      <td>non</td>\n",
       "      <td>NaN</td>\n",
       "      <td>宸嶧國際有限公司</td>\n",
       "      <td>2219</td>\n",
       "      <td>Ethiopia</td>\n",
       "      <td>Honey Dip</td>\n",
       "      <td>37</td>\n",
       "      <td>...</td>\n",
       "      <td>Green</td>\n",
       "      <td>4</td>\n",
       "      <td>NaN</td>\n",
       "      <td>July 14th, 2021</td>\n",
       "      <td>Japan Coffee Exchange</td>\n",
       "      <td>〒413-0002 静岡県熱海市伊豆山１１７３−５８ 1173-58 Izusan, Ata...</td>\n",
       "      <td>松澤　宏樹　Koju Matsuzawa - +81(0)9085642901</td>\n",
       "      <td>2219.0</td>\n",
       "      <td>4</td>\n",
       "      <td>Premium</td>\n",
       "    </tr>\n",
       "    <tr>\n",
       "      <th>4</th>\n",
       "      <td>Colombia</td>\n",
       "      <td>Granja el Sauce</td>\n",
       "      <td>001 Tostado SW</td>\n",
       "      <td>Dry Mill/ Honey Process</td>\n",
       "      <td>NaN</td>\n",
       "      <td>Tostado SW Limited</td>\n",
       "      <td>1650</td>\n",
       "      <td>Santander Colombia</td>\n",
       "      <td>Alvaro Edgar Ramirez Jauregui</td>\n",
       "      <td>1</td>\n",
       "      <td>...</td>\n",
       "      <td>None</td>\n",
       "      <td>0</td>\n",
       "      <td>NaN</td>\n",
       "      <td>September 4th, 2021</td>\n",
       "      <td>NKG Quality Service (a division of Bernhard Ro...</td>\n",
       "      <td>Bahnhofstrasse 22 6300 Zug, Switzerland</td>\n",
       "      <td>Gloria Pedroza - +41417287296</td>\n",
       "      <td>1650.0</td>\n",
       "      <td>0</td>\n",
       "      <td>Specialty</td>\n",
       "    </tr>\n",
       "  </tbody>\n",
       "</table>\n",
       "<p>5 rows × 43 columns</p>\n",
       "</div>"
      ],
      "text/plain": [
       "  Country of Origin        Farm Name                      Lot Number  \\\n",
       "0            Taiwan           嵩岳咖啡莊園                          202004   \n",
       "1             Kenya              NaN                         1542247   \n",
       "2          Colombia  Droptop partner  Droptop Specialty Coffee Blend   \n",
       "3          Ethiopia       Honey Drip                               1   \n",
       "4          Colombia  Granja el Sauce                  001 Tostado SW   \n",
       "\n",
       "                      Mill     ICO Number              Company Altitude  \\\n",
       "0                   嵩岳咖啡莊園            NaN          TCL 台灣咖啡研究室     1200   \n",
       "1              Tylor Winch  037-1673-5107  Nestle Nespresso SA     1650   \n",
       "2                      NaN            NaN         Cafe Droptop     1800   \n",
       "3                      non            NaN             宸嶧國際有限公司     2219   \n",
       "4  Dry Mill/ Honey Process            NaN   Tostado SW Limited     1650   \n",
       "\n",
       "               Region                       Producer  Number of Bags  ...  \\\n",
       "0               雲林-石壁                            郭亮志               3  ...   \n",
       "1                 NaN            Tylor Winch Volcafe             320  ...   \n",
       "2            colombia                Droptop partner             159  ...   \n",
       "3            Ethiopia                      Honey Dip              37  ...   \n",
       "4  Santander Colombia  Alvaro Edgar Ramirez Jauregui               1  ...   \n",
       "\n",
       "   Color Category Two Defects  NA           Expiration  \\\n",
       "0   None                    0 NaN  September 1st, 2021   \n",
       "1  Green                    1 NaN   October 30th, 2021   \n",
       "2  Green                    0 NaN       May 26th, 2022   \n",
       "3  Green                    4 NaN      July 14th, 2021   \n",
       "4   None                    0 NaN  September 4th, 2021   \n",
       "\n",
       "                                  Certification Body  \\\n",
       "0  NKG Quality Service (a division of Bernhard Ro...   \n",
       "1  NKG Quality Service (a division of Bernhard Ro...   \n",
       "2                 Specialty Coffee Institute of Asia   \n",
       "3                              Japan Coffee Exchange   \n",
       "4  NKG Quality Service (a division of Bernhard Ro...   \n",
       "\n",
       "                               Certification Address  \\\n",
       "0            Bahnhofstrasse 22 6300 Zug, Switzerland   \n",
       "1            Bahnhofstrasse 22 6300 Zug, Switzerland   \n",
       "2                                 148 ULGIRO, #1309,   \n",
       "3  〒413-0002 静岡県熱海市伊豆山１１７３−５８ 1173-58 Izusan, Ata...   \n",
       "4            Bahnhofstrasse 22 6300 Zug, Switzerland   \n",
       "\n",
       "                               Certification Contact Mean Altitude (m)  \\\n",
       "0                      Gloria Pedroza - +41417287296            1200.0   \n",
       "1                      Gloria Pedroza - +41417287296            1650.0   \n",
       "2  Sung-Yong Steven Kil - 82-10-7912-1456-English...            1800.0   \n",
       "3            松澤　宏樹　Koju Matsuzawa - +81(0)9085642901            2219.0   \n",
       "4                      Gloria Pedroza - +41417287296            1650.0   \n",
       "\n",
       "   Total_Defects  Coffee_Grade  \n",
       "0              0     Specialty  \n",
       "1              1     Specialty  \n",
       "2              0     Specialty  \n",
       "3              4       Premium  \n",
       "4              0     Specialty  \n",
       "\n",
       "[5 rows x 43 columns]"
      ]
     },
     "execution_count": 55,
     "metadata": {},
     "output_type": "execute_result"
    }
   ],
   "source": [
    "#create Coffee_Grade column based on the grading criteria for coffee grades: https://coffeebeansdelivered.com.au/blog/coffee-beans-graded/\n",
    "def CoffeeGrade(df):\n",
    "\n",
    "    if (df['Total_Defects'] <= 3) and (df['Quakers'] == 0):\n",
    "        return 'Specialty'\n",
    "    elif (df['Total_Defects'] <= 8) and (1 <= df['Quakers'] <=3):\n",
    "        return 'Premium'\n",
    "    elif(4 <= df['Total_Defects'] <=8) and (df['Quakers'] <= 3):\n",
    "        return 'Premium'\n",
    "    elif(1 <= df['Total_Defects'] <=8) and (df['Quakers'] <= 5):\n",
    "        return 'Exchange'\n",
    "    elif (9 <= df['Total_Defects'] <= 23) and (df['Quakers'] <= 5):\n",
    "        return 'Exchange'\n",
    "    elif (df['Total_Defects'] >= 23) or (df['Quakers'] >= 5):\n",
    "        return 'Standard Grade'\n",
    "    else:\n",
    "        return 'Not Graded'\n",
    "\n",
    "#check out updated df\n",
    "coffee['Coffee_Grade'] = coffee.apply(CoffeeGrade, axis = 1)\n",
    "coffee.head()"
   ]
  },
  {
   "cell_type": "code",
   "execution_count": 56,
   "metadata": {},
   "outputs": [
    {
     "data": {
      "text/plain": [
       "Premium           79\n",
       "Specialty         58\n",
       "Exchange           9\n",
       "Standard Grade     4\n",
       "Name: Coffee_Grade, dtype: int64"
      ]
     },
     "execution_count": 56,
     "metadata": {},
     "output_type": "execute_result"
    }
   ],
   "source": [
    "#check out value counts for our Coffee Grades\n",
    "coffee.Coffee_Grade.value_counts()"
   ]
  },
  {
   "cell_type": "code",
   "execution_count": 57,
   "metadata": {},
   "outputs": [
    {
     "data": {
      "text/plain": [
       "Premium           52.666667\n",
       "Specialty         38.666667\n",
       "Exchange           6.000000\n",
       "Standard Grade     2.666667\n",
       "Name: Coffee_Grade, dtype: float64"
      ]
     },
     "execution_count": 57,
     "metadata": {},
     "output_type": "execute_result"
    }
   ],
   "source": [
    "#calculate percentages\n",
    "coffee['Coffee_Grade'].value_counts(normalize=True) * 100"
   ]
  },
  {
   "cell_type": "markdown",
   "metadata": {},
   "source": [
    "It looks like the vast majority (over 90%) of our data are either Premium or Specialty Grade. This is an extremely unbalanced data set and we will need to account for this when training/testing our models."
   ]
  },
  {
   "cell_type": "markdown",
   "metadata": {},
   "source": [
    "<a class=\"anchor\" id=\"cat_features\"></a>\n",
    "\n",
    "## 6. Categorical Features Analyzing and Cleaning"
   ]
  },
  {
   "cell_type": "markdown",
   "metadata": {},
   "source": [
    "<a class=\"anchor\" id=\"cleaning_harvest\"></a>\n",
    "\n",
    "### 6.1 Cleaning Harvest Year Column"
   ]
  },
  {
   "cell_type": "code",
   "execution_count": 58,
   "metadata": {},
   "outputs": [
    {
     "data": {
      "text/plain": [
       "array(['2020', '2019', '2021', '2020 / 2021'], dtype=object)"
      ]
     },
     "execution_count": 58,
     "metadata": {},
     "output_type": "execute_result"
    }
   ],
   "source": [
    "#check out values in Harvest Year Column\n",
    "\n",
    "coffee[\"Harvest Year\"].unique()"
   ]
  },
  {
   "cell_type": "code",
   "execution_count": 59,
   "metadata": {},
   "outputs": [],
   "source": [
    "#change \"2020/2021\" to be \"2021\"\n",
    "\n",
    "coffee.loc[coffee[\"Harvest Year\"] == \"2020 / 2021\", \"Harvest Year\"] = \"2021\"\n"
   ]
  },
  {
   "cell_type": "code",
   "execution_count": 60,
   "metadata": {},
   "outputs": [
    {
     "data": {
      "text/plain": [
       "array(['2020', '2019', '2021'], dtype=object)"
      ]
     },
     "execution_count": 60,
     "metadata": {},
     "output_type": "execute_result"
    }
   ],
   "source": [
    "#check changes\n",
    "\n",
    "coffee[\"Harvest Year\"].unique()"
   ]
  },
  {
   "cell_type": "code",
   "execution_count": 61,
   "metadata": {},
   "outputs": [
    {
     "data": {
      "text/plain": [
       "<AxesSubplot:>"
      ]
     },
     "execution_count": 61,
     "metadata": {},
     "output_type": "execute_result"
    },
    {
     "data": {
      "image/png": "[encoded data removed]",
      "text/plain": [
       "<Figure size 432x288 with 1 Axes>"
      ]
     },
     "metadata": {
      "needs_background": "light"
     },
     "output_type": "display_data"
    }
   ],
   "source": [
    "coffee['Harvest Year'].value_counts().plot(kind='bar')"
   ]
  },
  {
   "cell_type": "markdown",
   "metadata": {},
   "source": [
    "<a class=\"anchor\" id=\"cleaning_processing\"></a>\n",
    "\n",
    "### 6.2 Cleaning Processing Method Column"
   ]
  },
  {
   "cell_type": "code",
   "execution_count": 62,
   "metadata": {},
   "outputs": [
    {
     "data": {
      "text/plain": [
       "array(['Natural / Dry', 'Washed / Wet', 'Other', 'Pulped natural / honey'],\n",
       "      dtype=object)"
      ]
     },
     "execution_count": 62,
     "metadata": {},
     "output_type": "execute_result"
    }
   ],
   "source": [
    "#check entries for Processing Method. Nothing to clean here.\n",
    "coffee['Processing Method'].unique()"
   ]
  },
  {
   "cell_type": "code",
   "execution_count": 63,
   "metadata": {},
   "outputs": [
    {
     "data": {
      "text/plain": [
       "<AxesSubplot:>"
      ]
     },
     "execution_count": 63,
     "metadata": {},
     "output_type": "execute_result"
    },
    {
     "data": {
      "image/png": "[encoded data removed]",
      "text/plain": [
       "<Figure size 432x288 with 1 Axes>"
      ]
     },
     "metadata": {
      "needs_background": "light"
     },
     "output_type": "display_data"
    }
   ],
   "source": [
    "coffee['Processing Method'].value_counts().plot(kind='bar')"
   ]
  },
  {
   "cell_type": "markdown",
   "metadata": {},
   "source": [
    "<a class=\"anchor\" id=\"cleaning_color\"></a>\n",
    "\n",
    "### 6.3 Cleaning Color Column"
   ]
  },
  {
   "cell_type": "code",
   "execution_count": 64,
   "metadata": {},
   "outputs": [
    {
     "data": {
      "text/plain": [
       "array(['None', 'Green', 'greenish', 'Yellow Green', 'Blue-Green',\n",
       "       'Bluish-Green', 'Greenish', 'yellow-green'], dtype=object)"
      ]
     },
     "execution_count": 64,
     "metadata": {},
     "output_type": "execute_result"
    }
   ],
   "source": [
    "coffee.Color.unique()"
   ]
  },
  {
   "cell_type": "code",
   "execution_count": 65,
   "metadata": {},
   "outputs": [],
   "source": [
    "#consolodate color categories to Green, Blue-Green, Yellow-Green, or Greenish\n",
    "\n",
    "coffee['Color'] = coffee['Color'].str.replace('Bluish-Green', 'Blue-Green')\n",
    "coffee['Color'] = coffee['Color'].str.replace('yellow-green', 'Yellow-Green')\n",
    "coffee['Color'] = coffee['Color'].str.replace('Yellow Green', 'Yellow-Green')\n",
    "coffee['Color'] = coffee['Color'].str.replace('greenish', 'Green')\n"
   ]
  },
  {
   "cell_type": "code",
   "execution_count": 66,
   "metadata": {},
   "outputs": [
    {
     "data": {
      "text/plain": [
       "array(['None', 'Green', 'Yellow-Green', 'Blue-Green', 'Greenish'],\n",
       "      dtype=object)"
      ]
     },
     "execution_count": 66,
     "metadata": {},
     "output_type": "execute_result"
    }
   ],
   "source": [
    "coffee.Color.unique()"
   ]
  },
  {
   "cell_type": "code",
   "execution_count": 67,
   "metadata": {},
   "outputs": [
    {
     "data": {
      "text/plain": [
       "<AxesSubplot:>"
      ]
     },
     "execution_count": 67,
     "metadata": {},
     "output_type": "execute_result"
    },
    {
     "data": {
      "image/png": "[encoded data removed]",
      "text/plain": [
       "<Figure size 432x288 with 1 Axes>"
      ]
     },
     "metadata": {
      "needs_background": "light"
     },
     "output_type": "display_data"
    }
   ],
   "source": [
    "coffee['Color'].value_counts().plot(kind='bar')"
   ]
  },
  {
   "cell_type": "markdown",
   "metadata": {},
   "source": [
    "<a class=\"anchor\" id=\"cleaning_variety\"></a>\n",
    "\n",
    "### 6.4 Cleaning Variety Column"
   ]
  },
  {
   "cell_type": "code",
   "execution_count": 68,
   "metadata": {},
   "outputs": [
    {
     "data": {
      "text/plain": [
       "array(['Gesha', 'SL28', 'Typica', 'Ethiopian Heirlooms', 'Other',\n",
       "       'Ethiopian Yirgacheffe', 'Catimor', 'Bourbon', 'Caturra', 'SHG',\n",
       "       'Pacamara', 'Orange Bourbon', 'Yellow Bourbon', 'Catuai',\n",
       "       'Mundo Novo', 'Java', 'Mandheling'], dtype=object)"
      ]
     },
     "execution_count": 68,
     "metadata": {},
     "output_type": "execute_result"
    }
   ],
   "source": [
    "coffee.Variety.unique()"
   ]
  },
  {
   "cell_type": "code",
   "execution_count": 69,
   "metadata": {},
   "outputs": [
    {
     "data": {
      "text/plain": [
       "<AxesSubplot:>"
      ]
     },
     "execution_count": 69,
     "metadata": {},
     "output_type": "execute_result"
    },
    {
     "data": {
      "image/png": "[encoded data removed]",
      "text/plain": [
       "<Figure size 432x288 with 1 Axes>"
      ]
     },
     "metadata": {
      "needs_background": "light"
     },
     "output_type": "display_data"
    }
   ],
   "source": [
    "coffee['Variety'].value_counts().plot(kind='bar')"
   ]
  },
  {
   "cell_type": "code",
   "execution_count": 70,
   "metadata": {},
   "outputs": [
    {
     "data": {
      "text/plain": [
       "Caturra                  41\n",
       "Bourbon                  32\n",
       "Other                    19\n",
       "Catuai                   12\n",
       "SL28                     10\n",
       "Gesha                     6\n",
       "Ethiopian Heirlooms       5\n",
       "Ethiopian Yirgacheffe     4\n",
       "Mundo Novo                4\n",
       "Mandheling                4\n",
       "Yellow Bourbon            3\n",
       "Catimor                   3\n",
       "Java                      2\n",
       "Typica                    2\n",
       "Orange Bourbon            1\n",
       "SHG                       1\n",
       "Pacamara                  1\n",
       "Name: Variety, dtype: int64"
      ]
     },
     "execution_count": 70,
     "metadata": {},
     "output_type": "execute_result"
    }
   ],
   "source": [
    "coffee['Variety'].value_counts()"
   ]
  },
  {
   "cell_type": "markdown",
   "metadata": {},
   "source": [
    "No cleaning necessary for Variety column. I notice that we have many varieties with very few coffee data, so we will probably end up combining these with the 'Other' column in Feature Engineering."
   ]
  },
  {
   "cell_type": "markdown",
   "metadata": {},
   "source": [
    "<a class=\"anchor\" id=\"cleaning_country\"></a>\n",
    "\n",
    "### 6.5 Cleaning Country of Origin Column"
   ]
  },
  {
   "cell_type": "code",
   "execution_count": 71,
   "metadata": {},
   "outputs": [
    {
     "data": {
      "text/plain": [
       "array(['Taiwan', 'Kenya', 'Colombia', 'Ethiopia', 'Vietnam',\n",
       "       'Tanzania, United Republic Of', 'Guatemala', 'Nicaragua', 'Brazil',\n",
       "       'Honduras', 'Burundi', 'Uganda', 'El Salvador', 'Rwanda',\n",
       "       'Costa Rica', 'Peru', 'Thailand', 'Indonesia', 'Mexico', 'Ecuador'],\n",
       "      dtype=object)"
      ]
     },
     "execution_count": 71,
     "metadata": {},
     "output_type": "execute_result"
    }
   ],
   "source": [
    "coffee['Country of Origin'].unique()"
   ]
  },
  {
   "cell_type": "code",
   "execution_count": 72,
   "metadata": {},
   "outputs": [
    {
     "data": {
      "text/plain": [
       "<AxesSubplot:>"
      ]
     },
     "execution_count": 72,
     "metadata": {},
     "output_type": "execute_result"
    },
    {
     "data": {
      "image/png": "[encoded data removed]",
      "text/plain": [
       "<Figure size 432x288 with 1 Axes>"
      ]
     },
     "metadata": {
      "needs_background": "light"
     },
     "output_type": "display_data"
    }
   ],
   "source": [
    "coffee['Country of Origin'].value_counts().plot(kind='bar')"
   ]
  },
  {
   "cell_type": "markdown",
   "metadata": {},
   "source": [
    "Similar to the variety column, no cleaning necessary for Country of Orgin column but this column will probably go through some feature engineering to combine some of our less common countries into an Other category."
   ]
  },
  {
   "cell_type": "markdown",
   "metadata": {},
   "source": [
    "<a class=\"anchor\" id=\"data_organization\"></a>\n",
    "\n",
    "## 7. Data Organizing- creating new, cleaned data frame"
   ]
  },
  {
   "cell_type": "code",
   "execution_count": 73,
   "metadata": {},
   "outputs": [],
   "source": [
    "coffee2 = coffee[['Country of Origin','Variety', 'Mean Altitude (m)','Harvest Year','Processing Method', 'Aroma','Flavor','Aftertaste','Acidity','Body','Balance','Uniformity','Clean Cup','Sweetness','Overall','Total Cup Points','Moisture','Color','Quakers', 'Total_Defects','Coffee_Grade']]"
   ]
  },
  {
   "cell_type": "code",
   "execution_count": 74,
   "metadata": {},
   "outputs": [
    {
     "data": {
      "text/html": [
       "<div>\n",
       "<style scoped>\n",
       "    .dataframe tbody tr th:only-of-type {\n",
       "        vertical-align: middle;\n",
       "    }\n",
       "\n",
       "    .dataframe tbody tr th {\n",
       "        vertical-align: top;\n",
       "    }\n",
       "\n",
       "    .dataframe thead th {\n",
       "        text-align: right;\n",
       "    }\n",
       "</style>\n",
       "<table border=\"1\" class=\"dataframe\">\n",
       "  <thead>\n",
       "    <tr style=\"text-align: right;\">\n",
       "      <th></th>\n",
       "      <th>Country of Origin</th>\n",
       "      <th>Variety</th>\n",
       "      <th>Mean Altitude (m)</th>\n",
       "      <th>Harvest Year</th>\n",
       "      <th>Processing Method</th>\n",
       "      <th>Aroma</th>\n",
       "      <th>Flavor</th>\n",
       "      <th>Aftertaste</th>\n",
       "      <th>Acidity</th>\n",
       "      <th>Body</th>\n",
       "      <th>...</th>\n",
       "      <th>Uniformity</th>\n",
       "      <th>Clean Cup</th>\n",
       "      <th>Sweetness</th>\n",
       "      <th>Overall</th>\n",
       "      <th>Total Cup Points</th>\n",
       "      <th>Moisture</th>\n",
       "      <th>Color</th>\n",
       "      <th>Quakers</th>\n",
       "      <th>Total_Defects</th>\n",
       "      <th>Coffee_Grade</th>\n",
       "    </tr>\n",
       "  </thead>\n",
       "  <tbody>\n",
       "    <tr>\n",
       "      <th>0</th>\n",
       "      <td>Taiwan</td>\n",
       "      <td>Gesha</td>\n",
       "      <td>1200.0</td>\n",
       "      <td>2020</td>\n",
       "      <td>Natural / Dry</td>\n",
       "      <td>8.58</td>\n",
       "      <td>8.67</td>\n",
       "      <td>8.17</td>\n",
       "      <td>8.25</td>\n",
       "      <td>8.50</td>\n",
       "      <td>...</td>\n",
       "      <td>10.0</td>\n",
       "      <td>10.0</td>\n",
       "      <td>10.0</td>\n",
       "      <td>8.50</td>\n",
       "      <td>89.25</td>\n",
       "      <td>11.0</td>\n",
       "      <td>None</td>\n",
       "      <td>0</td>\n",
       "      <td>0</td>\n",
       "      <td>Specialty</td>\n",
       "    </tr>\n",
       "    <tr>\n",
       "      <th>1</th>\n",
       "      <td>Kenya</td>\n",
       "      <td>SL28</td>\n",
       "      <td>1650.0</td>\n",
       "      <td>2019</td>\n",
       "      <td>Washed / Wet</td>\n",
       "      <td>8.33</td>\n",
       "      <td>8.50</td>\n",
       "      <td>8.25</td>\n",
       "      <td>8.67</td>\n",
       "      <td>8.42</td>\n",
       "      <td>...</td>\n",
       "      <td>10.0</td>\n",
       "      <td>10.0</td>\n",
       "      <td>10.0</td>\n",
       "      <td>8.58</td>\n",
       "      <td>89.17</td>\n",
       "      <td>11.0</td>\n",
       "      <td>Green</td>\n",
       "      <td>0</td>\n",
       "      <td>1</td>\n",
       "      <td>Specialty</td>\n",
       "    </tr>\n",
       "    <tr>\n",
       "      <th>2</th>\n",
       "      <td>Colombia</td>\n",
       "      <td>Typica</td>\n",
       "      <td>1800.0</td>\n",
       "      <td>2021</td>\n",
       "      <td>Washed / Wet</td>\n",
       "      <td>8.17</td>\n",
       "      <td>8.33</td>\n",
       "      <td>8.25</td>\n",
       "      <td>8.25</td>\n",
       "      <td>8.17</td>\n",
       "      <td>...</td>\n",
       "      <td>10.0</td>\n",
       "      <td>10.0</td>\n",
       "      <td>10.0</td>\n",
       "      <td>8.83</td>\n",
       "      <td>88.17</td>\n",
       "      <td>11.0</td>\n",
       "      <td>Green</td>\n",
       "      <td>0</td>\n",
       "      <td>0</td>\n",
       "      <td>Specialty</td>\n",
       "    </tr>\n",
       "    <tr>\n",
       "      <th>3</th>\n",
       "      <td>Ethiopia</td>\n",
       "      <td>Ethiopian Heirlooms</td>\n",
       "      <td>2219.0</td>\n",
       "      <td>2020</td>\n",
       "      <td>Other</td>\n",
       "      <td>8.25</td>\n",
       "      <td>8.25</td>\n",
       "      <td>7.92</td>\n",
       "      <td>8.42</td>\n",
       "      <td>7.92</td>\n",
       "      <td>...</td>\n",
       "      <td>10.0</td>\n",
       "      <td>10.0</td>\n",
       "      <td>10.0</td>\n",
       "      <td>8.33</td>\n",
       "      <td>87.17</td>\n",
       "      <td>11.0</td>\n",
       "      <td>Green</td>\n",
       "      <td>3</td>\n",
       "      <td>4</td>\n",
       "      <td>Premium</td>\n",
       "    </tr>\n",
       "    <tr>\n",
       "      <th>4</th>\n",
       "      <td>Colombia</td>\n",
       "      <td>Other</td>\n",
       "      <td>1650.0</td>\n",
       "      <td>2019</td>\n",
       "      <td>Pulped natural / honey</td>\n",
       "      <td>8.33</td>\n",
       "      <td>8.08</td>\n",
       "      <td>7.75</td>\n",
       "      <td>8.33</td>\n",
       "      <td>8.17</td>\n",
       "      <td>...</td>\n",
       "      <td>10.0</td>\n",
       "      <td>10.0</td>\n",
       "      <td>10.0</td>\n",
       "      <td>8.25</td>\n",
       "      <td>87.08</td>\n",
       "      <td>11.0</td>\n",
       "      <td>None</td>\n",
       "      <td>0</td>\n",
       "      <td>0</td>\n",
       "      <td>Specialty</td>\n",
       "    </tr>\n",
       "  </tbody>\n",
       "</table>\n",
       "<p>5 rows × 21 columns</p>\n",
       "</div>"
      ],
      "text/plain": [
       "  Country of Origin              Variety  Mean Altitude (m) Harvest Year  \\\n",
       "0            Taiwan                Gesha             1200.0         2020   \n",
       "1             Kenya                 SL28             1650.0         2019   \n",
       "2          Colombia               Typica             1800.0         2021   \n",
       "3          Ethiopia  Ethiopian Heirlooms             2219.0         2020   \n",
       "4          Colombia                Other             1650.0         2019   \n",
       "\n",
       "        Processing Method  Aroma  Flavor  Aftertaste  Acidity  Body  ...  \\\n",
       "0           Natural / Dry   8.58    8.67        8.17     8.25  8.50  ...   \n",
       "1            Washed / Wet   8.33    8.50        8.25     8.67  8.42  ...   \n",
       "2            Washed / Wet   8.17    8.33        8.25     8.25  8.17  ...   \n",
       "3                   Other   8.25    8.25        7.92     8.42  7.92  ...   \n",
       "4  Pulped natural / honey   8.33    8.08        7.75     8.33  8.17  ...   \n",
       "\n",
       "   Uniformity  Clean Cup  Sweetness  Overall  Total Cup Points  Moisture  \\\n",
       "0        10.0       10.0       10.0     8.50             89.25      11.0   \n",
       "1        10.0       10.0       10.0     8.58             89.17      11.0   \n",
       "2        10.0       10.0       10.0     8.83             88.17      11.0   \n",
       "3        10.0       10.0       10.0     8.33             87.17      11.0   \n",
       "4        10.0       10.0       10.0     8.25             87.08      11.0   \n",
       "\n",
       "   Color Quakers  Total_Defects  Coffee_Grade  \n",
       "0   None       0              0     Specialty  \n",
       "1  Green       0              1     Specialty  \n",
       "2  Green       0              0     Specialty  \n",
       "3  Green       3              4       Premium  \n",
       "4   None       0              0     Specialty  \n",
       "\n",
       "[5 rows x 21 columns]"
      ]
     },
     "execution_count": 74,
     "metadata": {},
     "output_type": "execute_result"
    }
   ],
   "source": [
    "coffee2.head()"
   ]
  },
  {
   "cell_type": "code",
   "execution_count": 75,
   "metadata": {},
   "outputs": [
    {
     "name": "stdout",
     "output_type": "stream",
     "text": [
      "<class 'pandas.core.frame.DataFrame'>\n",
      "RangeIndex: 150 entries, 0 to 149\n",
      "Data columns (total 21 columns):\n",
      " #   Column             Non-Null Count  Dtype  \n",
      "---  ------             --------------  -----  \n",
      " 0   Country of Origin  150 non-null    object \n",
      " 1   Variety            150 non-null    object \n",
      " 2   Mean Altitude (m)  150 non-null    float64\n",
      " 3   Harvest Year       150 non-null    object \n",
      " 4   Processing Method  150 non-null    object \n",
      " 5   Aroma              150 non-null    float64\n",
      " 6   Flavor             150 non-null    float64\n",
      " 7   Aftertaste         150 non-null    float64\n",
      " 8   Acidity            150 non-null    float64\n",
      " 9   Body               150 non-null    float64\n",
      " 10  Balance            150 non-null    float64\n",
      " 11  Uniformity         150 non-null    float64\n",
      " 12  Clean Cup          150 non-null    float64\n",
      " 13  Sweetness          150 non-null    float64\n",
      " 14  Overall            150 non-null    float64\n",
      " 15  Total Cup Points   150 non-null    float64\n",
      " 16  Moisture           150 non-null    float64\n",
      " 17  Color              150 non-null    object \n",
      " 18  Quakers            150 non-null    int64  \n",
      " 19  Total_Defects      150 non-null    int64  \n",
      " 20  Coffee_Grade       150 non-null    object \n",
      "dtypes: float64(13), int64(2), object(6)\n",
      "memory usage: 24.7+ KB\n"
     ]
    }
   ],
   "source": [
    "#check our new dataframe to make sure we have no NaN values and that the dtypes look good:\n",
    "coffee2.info()"
   ]
  },
  {
   "cell_type": "markdown",
   "metadata": {},
   "source": [
    "<a class=\"anchor\" id=\"saving\"></a>\n",
    "## 8. Saving Data"
   ]
  },
  {
   "cell_type": "code",
   "execution_count": 77,
   "metadata": {},
   "outputs": [],
   "source": [
    "coffee2.to_csv('./data/coffee2.csv')"
   ]
  }
 ],
 "metadata": {
  "kernelspec": {
   "display_name": "Python 3",
   "language": "python",
   "name": "python3"
  },
  "language_info": {
   "codemirror_mode": {
    "name": "ipython",
    "version": 3
   },
   "file_extension": ".py",
   "mimetype": "text/x-python",
   "name": "python",
   "nbconvert_exporter": "python",
   "pygments_lexer": "ipython3",
   "version": "3.8.5"
  }
 },
 "nbformat": 4,
 "nbformat_minor": 4
}
