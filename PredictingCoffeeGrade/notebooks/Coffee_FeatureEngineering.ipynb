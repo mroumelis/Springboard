{
 "cells": [
  {
   "cell_type": "markdown",
   "metadata": {},
   "source": [
    "# Predicting Coffee Grade"
   ]
  },
  {
   "cell_type": "markdown",
   "metadata": {},
   "source": [
    "## Feature Engineering & Pre Processing"
   ]
  },
  {
   "cell_type": "markdown",
   "metadata": {},
   "source": [
    "## Table of Contents\n",
    "* [1. Combining Variables](#combining_variables)   \n",
    "    * [1.1 Combining Countries with less than 9 values into \"Other\" category](#combining_countries) \n",
    "    * [1.2 Combining Varieties with less than 8 values into \"Other\" category](#combining_varieties)\n",
    "    * [1.3 Combining Exchange and Standard Grade Coffee Grades into \"Grade 3 or Lower\" category](#combining_exchange)\n",
    "* [2. Feature Selection](#feature_selection)\n",
    "* [3. One Hot Encoding](#one_hot_encoding)\n",
    "* [4. Saving the Relevant Data Frames](#save)"
   ]
  },
  {
   "cell_type": "code",
   "execution_count": 1,
   "metadata": {},
   "outputs": [],
   "source": [
    "#import libraries\n",
    "\n",
    "import pandas as pd\n",
    "import matplotlib.pyplot as plt\n",
    "import seaborn as sns\n",
    "import numpy as np\n"
   ]
  },
  {
   "cell_type": "code",
   "execution_count": 3,
   "metadata": {},
   "outputs": [],
   "source": [
    "coffee2 = pd.read_csv('../data/coffee2.csv')"
   ]
  },
  {
   "cell_type": "markdown",
   "metadata": {},
   "source": [
    "<a class=\"anchor\" id=\"combining_variables\"></a>\n",
    "## 1. Combining Variables"
   ]
  },
  {
   "cell_type": "markdown",
   "metadata": {},
   "source": [
    "Because of our small dataset, we will combine our categories with the fewest values into one lumped category for our Countries, Varieties, and Coffee Grade features. This will improve the modeling process and help prevent over/under fitting of the test data."
   ]
  },
  {
   "cell_type": "markdown",
   "metadata": {},
   "source": [
    "<a class=\"anchor\" id=\"combining_countries\"></a>\n",
    "### 1.1 Combining Countries with less than 9 values into \"Other\" category"
   ]
  },
  {
   "cell_type": "code",
   "execution_count": 4,
   "metadata": {},
   "outputs": [],
   "source": [
    "#lump all countries that we have less than 5 graded coffees for into an Others category\n",
    "\n",
    "a = coffee2['Country of Origin'].value_counts() < 9\n",
    "b = coffee2['Country of Origin'].value_counts()\n",
    "for i in range(len(a.index)):\n",
    "    if(a[i]):\n",
    "        coffee2.loc[coffee2[\"Country of Origin\"] == a.index[i], \"Country of Origin\"] = \"Other\""
   ]
  },
  {
   "cell_type": "code",
   "execution_count": 5,
   "metadata": {},
   "outputs": [
    {
     "data": {
      "text/plain": [
       "Other         54\n",
       "Guatemala     36\n",
       "Brazil        21\n",
       "Colombia      17\n",
       "Ethiopia      12\n",
       "Costa Rica    10\n",
       "Name: Country of Origin, dtype: int64"
      ]
     },
     "execution_count": 5,
     "metadata": {},
     "output_type": "execute_result"
    }
   ],
   "source": [
    "coffee2[\"Country of Origin\"].value_counts()"
   ]
  },
  {
   "cell_type": "markdown",
   "metadata": {},
   "source": [
    "<a class=\"anchor\" id=\"combining_varieties\"></a>\n",
    "### 1.2 Combining Varieties with less than 8 values into \"Other\" category"
   ]
  },
  {
   "cell_type": "code",
   "execution_count": 6,
   "metadata": {},
   "outputs": [],
   "source": [
    "a = coffee2['Variety'].value_counts() <= 7\n",
    "b = coffee2['Variety'].value_counts()\n",
    "for i in range(len(a.index)):\n",
    "    if(a[i]):\n",
    "        coffee2.loc[coffee2[\"Variety\"] == a.index[i], \"Variety\"] = \"Other\""
   ]
  },
  {
   "cell_type": "code",
   "execution_count": 7,
   "metadata": {},
   "outputs": [
    {
     "data": {
      "text/plain": [
       "Other      55\n",
       "Caturra    41\n",
       "Bourbon    32\n",
       "Catuai     12\n",
       "SL28       10\n",
       "Name: Variety, dtype: int64"
      ]
     },
     "execution_count": 7,
     "metadata": {},
     "output_type": "execute_result"
    }
   ],
   "source": [
    "coffee2.Variety.value_counts()"
   ]
  },
  {
   "cell_type": "markdown",
   "metadata": {},
   "source": [
    "<a class=\"anchor\" id=\"combining_exchange\"></a>\n",
    "### 1.3 Combining Exchange and Standard Grade Coffee Grades into \"Grade 3 or Lower\" category"
   ]
  },
  {
   "cell_type": "code",
   "execution_count": 10,
   "metadata": {},
   "outputs": [
    {
     "data": {
      "text/plain": [
       "Premium           79\n",
       "Specialty         58\n",
       "Exchange           9\n",
       "Standard Grade     4\n",
       "Name: Coffee_Grade, dtype: int64"
      ]
     },
     "execution_count": 10,
     "metadata": {},
     "output_type": "execute_result"
    }
   ],
   "source": [
    "coffee2.Coffee_Grade.value_counts()"
   ]
  },
  {
   "cell_type": "code",
   "execution_count": 12,
   "metadata": {},
   "outputs": [],
   "source": [
    "coffee2['Coffee_Grade'] = coffee2['Coffee_Grade'].str.replace('Standard Grade', 'Grade 3 or Lower')\n",
    "coffee2['Coffee_Grade'] = coffee2['Coffee_Grade'].str.replace('Exchange', 'Grade 3 or Lower')"
   ]
  },
  {
   "cell_type": "markdown",
   "metadata": {},
   "source": [
    "Let's look at our new value counts for our target variable, Coffee_Grade"
   ]
  },
  {
   "cell_type": "code",
   "execution_count": 14,
   "metadata": {},
   "outputs": [
    {
     "data": {
      "text/plain": [
       "Premium             79\n",
       "Specialty           58\n",
       "Grade 3 or Lower    13\n",
       "Name: Coffee_Grade, dtype: int64"
      ]
     },
     "execution_count": 14,
     "metadata": {},
     "output_type": "execute_result"
    }
   ],
   "source": [
    "coffee2.Coffee_Grade.value_counts()"
   ]
  },
  {
   "cell_type": "code",
   "execution_count": 16,
   "metadata": {},
   "outputs": [
    {
     "data": {
      "image/png": "[encoded data removed]",
      "text/plain": [
       "<Figure size 432x288 with 1 Axes>"
      ]
     },
     "metadata": {
      "needs_background": "light"
     },
     "output_type": "display_data"
    }
   ],
   "source": [
    "ax = sns.countplot(x=\"Coffee_Grade\", data=coffee2)\n",
    "ax.tick_params(labelsize=15)"
   ]
  },
  {
   "cell_type": "markdown",
   "metadata": {},
   "source": [
    "Now our target feature has 3 categories with the following value counts: \n",
    "   \n",
    "   * Premium - 79\n",
    "   * Specialty - 58\n",
    "   * Grade 3 or Lower - 13\n",
    "    \n",
    "Even with this lumping, our dataset is highly unbalanced and that will be taken into consideration while modeling and analyzing results."
   ]
  },
  {
   "cell_type": "markdown",
   "metadata": {},
   "source": [
    "<a class=\"anchor\" id=\"feature_selection\"></a>\n",
    "## 2. Feature Selection"
   ]
  },
  {
   "cell_type": "code",
   "execution_count": 17,
   "metadata": {},
   "outputs": [
    {
     "data": {
      "text/plain": [
       "Index(['Unnamed: 0', 'Country of Origin', 'Variety', 'Mean Altitude (m)',\n",
       "       'Harvest Year', 'Processing Method', 'Aroma', 'Flavor', 'Aftertaste',\n",
       "       'Acidity', 'Body', 'Balance', 'Uniformity', 'Clean Cup', 'Sweetness',\n",
       "       'Overall', 'Total Cup Points', 'Moisture', 'Color', 'Quakers',\n",
       "       'Total_Defects', 'Coffee_Grade'],\n",
       "      dtype='object')"
      ]
     },
     "execution_count": 17,
     "metadata": {},
     "output_type": "execute_result"
    }
   ],
   "source": [
    "coffee2.columns"
   ]
  },
  {
   "cell_type": "markdown",
   "metadata": {},
   "source": [
    "Because our problem requires us to predict coffee grade without having already graded it for defects, quakers, and all other graded criteria, we will create a new data frame without these features. The useful features we will include are Country of Origin, Variety, Mean Altitude (m), Harvest Year, Processing Method, Moisture,\n",
    "Color, and our target variable, Coffee Grade."
   ]
  },
  {
   "cell_type": "code",
   "execution_count": 18,
   "metadata": {},
   "outputs": [],
   "source": [
    "#create new df without all the grading categories. We will keep Total Cup Points which is the sum of these categories.\n",
    "coffee3 = coffee2[['Country of Origin','Variety','Mean Altitude (m)','Harvest Year','Processing Method','Moisture','Color','Coffee_Grade']]"
   ]
  },
  {
   "cell_type": "code",
   "execution_count": 19,
   "metadata": {},
   "outputs": [
    {
     "name": "stdout",
     "output_type": "stream",
     "text": [
      "<class 'pandas.core.frame.DataFrame'>\n",
      "RangeIndex: 150 entries, 0 to 149\n",
      "Data columns (total 8 columns):\n",
      " #   Column             Non-Null Count  Dtype  \n",
      "---  ------             --------------  -----  \n",
      " 0   Country of Origin  150 non-null    object \n",
      " 1   Variety            150 non-null    object \n",
      " 2   Mean Altitude (m)  150 non-null    float64\n",
      " 3   Harvest Year       150 non-null    int64  \n",
      " 4   Processing Method  150 non-null    object \n",
      " 5   Moisture           150 non-null    float64\n",
      " 6   Color              150 non-null    object \n",
      " 7   Coffee_Grade       150 non-null    object \n",
      "dtypes: float64(2), int64(1), object(5)\n",
      "memory usage: 9.5+ KB\n"
     ]
    }
   ],
   "source": [
    "#make sure there are no Nan data\n",
    "coffee3.info()"
   ]
  },
  {
   "cell_type": "code",
   "execution_count": 20,
   "metadata": {},
   "outputs": [
    {
     "data": {
      "text/html": [
       "<div>\n",
       "<style scoped>\n",
       "    .dataframe tbody tr th:only-of-type {\n",
       "        vertical-align: middle;\n",
       "    }\n",
       "\n",
       "    .dataframe tbody tr th {\n",
       "        vertical-align: top;\n",
       "    }\n",
       "\n",
       "    .dataframe thead th {\n",
       "        text-align: right;\n",
       "    }\n",
       "</style>\n",
       "<table border=\"1\" class=\"dataframe\">\n",
       "  <thead>\n",
       "    <tr style=\"text-align: right;\">\n",
       "      <th></th>\n",
       "      <th>Country of Origin</th>\n",
       "      <th>Variety</th>\n",
       "      <th>Mean Altitude (m)</th>\n",
       "      <th>Harvest Year</th>\n",
       "      <th>Processing Method</th>\n",
       "      <th>Moisture</th>\n",
       "      <th>Color</th>\n",
       "      <th>Coffee_Grade</th>\n",
       "    </tr>\n",
       "  </thead>\n",
       "  <tbody>\n",
       "    <tr>\n",
       "      <th>0</th>\n",
       "      <td>Other</td>\n",
       "      <td>Other</td>\n",
       "      <td>1200.0</td>\n",
       "      <td>2020</td>\n",
       "      <td>Natural / Dry</td>\n",
       "      <td>11.0</td>\n",
       "      <td>None</td>\n",
       "      <td>Specialty</td>\n",
       "    </tr>\n",
       "    <tr>\n",
       "      <th>1</th>\n",
       "      <td>Other</td>\n",
       "      <td>SL28</td>\n",
       "      <td>1650.0</td>\n",
       "      <td>2019</td>\n",
       "      <td>Washed / Wet</td>\n",
       "      <td>11.0</td>\n",
       "      <td>Green</td>\n",
       "      <td>Specialty</td>\n",
       "    </tr>\n",
       "    <tr>\n",
       "      <th>2</th>\n",
       "      <td>Colombia</td>\n",
       "      <td>Other</td>\n",
       "      <td>1800.0</td>\n",
       "      <td>2021</td>\n",
       "      <td>Washed / Wet</td>\n",
       "      <td>11.0</td>\n",
       "      <td>Green</td>\n",
       "      <td>Specialty</td>\n",
       "    </tr>\n",
       "    <tr>\n",
       "      <th>3</th>\n",
       "      <td>Ethiopia</td>\n",
       "      <td>Other</td>\n",
       "      <td>2219.0</td>\n",
       "      <td>2020</td>\n",
       "      <td>Other</td>\n",
       "      <td>11.0</td>\n",
       "      <td>Green</td>\n",
       "      <td>Premium</td>\n",
       "    </tr>\n",
       "    <tr>\n",
       "      <th>4</th>\n",
       "      <td>Colombia</td>\n",
       "      <td>Other</td>\n",
       "      <td>1650.0</td>\n",
       "      <td>2019</td>\n",
       "      <td>Pulped natural / honey</td>\n",
       "      <td>11.0</td>\n",
       "      <td>None</td>\n",
       "      <td>Specialty</td>\n",
       "    </tr>\n",
       "  </tbody>\n",
       "</table>\n",
       "</div>"
      ],
      "text/plain": [
       "  Country of Origin Variety  Mean Altitude (m)  Harvest Year  \\\n",
       "0             Other   Other             1200.0          2020   \n",
       "1             Other    SL28             1650.0          2019   \n",
       "2          Colombia   Other             1800.0          2021   \n",
       "3          Ethiopia   Other             2219.0          2020   \n",
       "4          Colombia   Other             1650.0          2019   \n",
       "\n",
       "        Processing Method  Moisture  Color Coffee_Grade  \n",
       "0           Natural / Dry      11.0   None    Specialty  \n",
       "1            Washed / Wet      11.0  Green    Specialty  \n",
       "2            Washed / Wet      11.0  Green    Specialty  \n",
       "3                   Other      11.0  Green      Premium  \n",
       "4  Pulped natural / honey      11.0   None    Specialty  "
      ]
     },
     "execution_count": 20,
     "metadata": {},
     "output_type": "execute_result"
    }
   ],
   "source": [
    "coffee3.head()"
   ]
  },
  {
   "cell_type": "markdown",
   "metadata": {},
   "source": [
    "<a class=\"anchor\" id=\"one_hot_encoding\"></a>\n",
    "## 3. One Hot Encoding"
   ]
  },
  {
   "cell_type": "markdown",
   "metadata": {},
   "source": [
    "Lastly we will make our final data frame by one-hot-encoding our categorical features. This will allow us to run our models on the data. We will also drop our target feature, Coffee_Grade here and save this new df (which will be our X matrix for training and testing) as coffee4."
   ]
  },
  {
   "cell_type": "code",
   "execution_count": 21,
   "metadata": {},
   "outputs": [],
   "source": [
    "coffee4 = coffee3.drop(['Coffee_Grade'], axis=1)\n",
    "coffee4 = pd.get_dummies(coffee4)"
   ]
  },
  {
   "cell_type": "code",
   "execution_count": 23,
   "metadata": {},
   "outputs": [
    {
     "data": {
      "text/html": [
       "<div>\n",
       "<style scoped>\n",
       "    .dataframe tbody tr th:only-of-type {\n",
       "        vertical-align: middle;\n",
       "    }\n",
       "\n",
       "    .dataframe tbody tr th {\n",
       "        vertical-align: top;\n",
       "    }\n",
       "\n",
       "    .dataframe thead th {\n",
       "        text-align: right;\n",
       "    }\n",
       "</style>\n",
       "<table border=\"1\" class=\"dataframe\">\n",
       "  <thead>\n",
       "    <tr style=\"text-align: right;\">\n",
       "      <th></th>\n",
       "      <th>Mean Altitude (m)</th>\n",
       "      <th>Harvest Year</th>\n",
       "      <th>Moisture</th>\n",
       "      <th>Country of Origin_Brazil</th>\n",
       "      <th>Country of Origin_Colombia</th>\n",
       "      <th>Country of Origin_Costa Rica</th>\n",
       "      <th>Country of Origin_Ethiopia</th>\n",
       "      <th>Country of Origin_Guatemala</th>\n",
       "      <th>Country of Origin_Other</th>\n",
       "      <th>Variety_Bourbon</th>\n",
       "      <th>...</th>\n",
       "      <th>Variety_SL28</th>\n",
       "      <th>Processing Method_Natural / Dry</th>\n",
       "      <th>Processing Method_Other</th>\n",
       "      <th>Processing Method_Pulped natural / honey</th>\n",
       "      <th>Processing Method_Washed / Wet</th>\n",
       "      <th>Color_Blue-Green</th>\n",
       "      <th>Color_Green</th>\n",
       "      <th>Color_Greenish</th>\n",
       "      <th>Color_None</th>\n",
       "      <th>Color_Yellow-Green</th>\n",
       "    </tr>\n",
       "  </thead>\n",
       "  <tbody>\n",
       "    <tr>\n",
       "      <th>0</th>\n",
       "      <td>1200.0</td>\n",
       "      <td>2020</td>\n",
       "      <td>11.0</td>\n",
       "      <td>0</td>\n",
       "      <td>0</td>\n",
       "      <td>0</td>\n",
       "      <td>0</td>\n",
       "      <td>0</td>\n",
       "      <td>1</td>\n",
       "      <td>0</td>\n",
       "      <td>...</td>\n",
       "      <td>0</td>\n",
       "      <td>1</td>\n",
       "      <td>0</td>\n",
       "      <td>0</td>\n",
       "      <td>0</td>\n",
       "      <td>0</td>\n",
       "      <td>0</td>\n",
       "      <td>0</td>\n",
       "      <td>1</td>\n",
       "      <td>0</td>\n",
       "    </tr>\n",
       "    <tr>\n",
       "      <th>1</th>\n",
       "      <td>1650.0</td>\n",
       "      <td>2019</td>\n",
       "      <td>11.0</td>\n",
       "      <td>0</td>\n",
       "      <td>0</td>\n",
       "      <td>0</td>\n",
       "      <td>0</td>\n",
       "      <td>0</td>\n",
       "      <td>1</td>\n",
       "      <td>0</td>\n",
       "      <td>...</td>\n",
       "      <td>1</td>\n",
       "      <td>0</td>\n",
       "      <td>0</td>\n",
       "      <td>0</td>\n",
       "      <td>1</td>\n",
       "      <td>0</td>\n",
       "      <td>1</td>\n",
       "      <td>0</td>\n",
       "      <td>0</td>\n",
       "      <td>0</td>\n",
       "    </tr>\n",
       "    <tr>\n",
       "      <th>2</th>\n",
       "      <td>1800.0</td>\n",
       "      <td>2021</td>\n",
       "      <td>11.0</td>\n",
       "      <td>0</td>\n",
       "      <td>1</td>\n",
       "      <td>0</td>\n",
       "      <td>0</td>\n",
       "      <td>0</td>\n",
       "      <td>0</td>\n",
       "      <td>0</td>\n",
       "      <td>...</td>\n",
       "      <td>0</td>\n",
       "      <td>0</td>\n",
       "      <td>0</td>\n",
       "      <td>0</td>\n",
       "      <td>1</td>\n",
       "      <td>0</td>\n",
       "      <td>1</td>\n",
       "      <td>0</td>\n",
       "      <td>0</td>\n",
       "      <td>0</td>\n",
       "    </tr>\n",
       "    <tr>\n",
       "      <th>3</th>\n",
       "      <td>2219.0</td>\n",
       "      <td>2020</td>\n",
       "      <td>11.0</td>\n",
       "      <td>0</td>\n",
       "      <td>0</td>\n",
       "      <td>0</td>\n",
       "      <td>1</td>\n",
       "      <td>0</td>\n",
       "      <td>0</td>\n",
       "      <td>0</td>\n",
       "      <td>...</td>\n",
       "      <td>0</td>\n",
       "      <td>0</td>\n",
       "      <td>1</td>\n",
       "      <td>0</td>\n",
       "      <td>0</td>\n",
       "      <td>0</td>\n",
       "      <td>1</td>\n",
       "      <td>0</td>\n",
       "      <td>0</td>\n",
       "      <td>0</td>\n",
       "    </tr>\n",
       "    <tr>\n",
       "      <th>4</th>\n",
       "      <td>1650.0</td>\n",
       "      <td>2019</td>\n",
       "      <td>11.0</td>\n",
       "      <td>0</td>\n",
       "      <td>1</td>\n",
       "      <td>0</td>\n",
       "      <td>0</td>\n",
       "      <td>0</td>\n",
       "      <td>0</td>\n",
       "      <td>0</td>\n",
       "      <td>...</td>\n",
       "      <td>0</td>\n",
       "      <td>0</td>\n",
       "      <td>0</td>\n",
       "      <td>1</td>\n",
       "      <td>0</td>\n",
       "      <td>0</td>\n",
       "      <td>0</td>\n",
       "      <td>0</td>\n",
       "      <td>1</td>\n",
       "      <td>0</td>\n",
       "    </tr>\n",
       "  </tbody>\n",
       "</table>\n",
       "<p>5 rows × 23 columns</p>\n",
       "</div>"
      ],
      "text/plain": [
       "   Mean Altitude (m)  Harvest Year  Moisture  Country of Origin_Brazil  \\\n",
       "0             1200.0          2020      11.0                         0   \n",
       "1             1650.0          2019      11.0                         0   \n",
       "2             1800.0          2021      11.0                         0   \n",
       "3             2219.0          2020      11.0                         0   \n",
       "4             1650.0          2019      11.0                         0   \n",
       "\n",
       "   Country of Origin_Colombia  Country of Origin_Costa Rica  \\\n",
       "0                           0                             0   \n",
       "1                           0                             0   \n",
       "2                           1                             0   \n",
       "3                           0                             0   \n",
       "4                           1                             0   \n",
       "\n",
       "   Country of Origin_Ethiopia  Country of Origin_Guatemala  \\\n",
       "0                           0                            0   \n",
       "1                           0                            0   \n",
       "2                           0                            0   \n",
       "3                           1                            0   \n",
       "4                           0                            0   \n",
       "\n",
       "   Country of Origin_Other  Variety_Bourbon  ...  Variety_SL28  \\\n",
       "0                        1                0  ...             0   \n",
       "1                        1                0  ...             1   \n",
       "2                        0                0  ...             0   \n",
       "3                        0                0  ...             0   \n",
       "4                        0                0  ...             0   \n",
       "\n",
       "   Processing Method_Natural / Dry  Processing Method_Other  \\\n",
       "0                                1                        0   \n",
       "1                                0                        0   \n",
       "2                                0                        0   \n",
       "3                                0                        1   \n",
       "4                                0                        0   \n",
       "\n",
       "   Processing Method_Pulped natural / honey  Processing Method_Washed / Wet  \\\n",
       "0                                         0                               0   \n",
       "1                                         0                               1   \n",
       "2                                         0                               1   \n",
       "3                                         0                               0   \n",
       "4                                         1                               0   \n",
       "\n",
       "   Color_Blue-Green  Color_Green  Color_Greenish  Color_None  \\\n",
       "0                 0            0               0           1   \n",
       "1                 0            1               0           0   \n",
       "2                 0            1               0           0   \n",
       "3                 0            1               0           0   \n",
       "4                 0            0               0           1   \n",
       "\n",
       "   Color_Yellow-Green  \n",
       "0                   0  \n",
       "1                   0  \n",
       "2                   0  \n",
       "3                   0  \n",
       "4                   0  \n",
       "\n",
       "[5 rows x 23 columns]"
      ]
     },
     "execution_count": 23,
     "metadata": {},
     "output_type": "execute_result"
    }
   ],
   "source": [
    "coffee4.head()"
   ]
  },
  {
   "cell_type": "markdown",
   "metadata": {},
   "source": [
    "<a class=\"anchor\" id=\"save\"></a>\n",
    "## 4. Save the Relevant Data Frames"
   ]
  },
  {
   "cell_type": "code",
   "execution_count": 25,
   "metadata": {},
   "outputs": [],
   "source": [
    "coffee3.to_csv('../data/coffee3.csv')"
   ]
  },
  {
   "cell_type": "code",
   "execution_count": 27,
   "metadata": {},
   "outputs": [],
   "source": [
    "coffee4.to_csv('../data/coffee4.csv')"
   ]
  }
 ],
 "metadata": {
  "kernelspec": {
   "display_name": "Python 3",
   "language": "python",
   "name": "python3"
  },
  "language_info": {
   "codemirror_mode": {
    "name": "ipython",
    "version": 3
   },
   "file_extension": ".py",
   "mimetype": "text/x-python",
   "name": "python",
   "nbconvert_exporter": "python",
   "pygments_lexer": "ipython3",
   "version": "3.8.5"
  }
 },
 "nbformat": 4,
 "nbformat_minor": 4
}
