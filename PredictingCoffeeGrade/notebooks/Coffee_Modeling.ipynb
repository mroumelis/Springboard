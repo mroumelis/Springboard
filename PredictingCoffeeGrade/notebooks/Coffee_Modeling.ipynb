{
 "cells": [
  {
   "cell_type": "markdown",
   "metadata": {},
   "source": [
    "# Prediction Coffee Grade"
   ]
  },
  {
   "cell_type": "markdown",
   "metadata": {},
   "source": [
    "## Modeling"
   ]
  },
  {
   "cell_type": "markdown",
   "metadata": {},
   "source": [
    "## Table of Contents\n",
    "\n",
    "* [1. Import Libraries](#import)\n",
    "* [2. Download Data](#download)\n",
    "    * [2.1 Dealing with Categorical, Train-Test-Split, and Scaling](#categorical)\n",
    "    * [2.2 Defining Useful Functions](#useful)\n",
    "* [3. Defining Model Success](#model_success)\n",
    "* [4. Logistic Regression Model](#log_reg)\n",
    "     * [4.1 Logistic Regression- Out-of-the-Box](#log_reg_ootb)\n",
    "     * [4.2 Logistic Regression with PCA](#log_reg_pca)\n",
    "     * [4.3 Tuning Hyperparameters of Logistic Regression with GridSearch](#log_reg_tuning)\n",
    "* [5. Random Forest Classifier Model](#rf)\n",
    "     * [5.1 Random Forest- Out-of-the-Box](#rf_ootb)\n",
    "     * [5.2 Accounting for Imbalanced Data Set](#imbalanced)\n",
    "          * [5.2a Random Forest With Class Weighting](#rf_class_weighting)\n",
    "          * [5.2b Random Forest With Bootstrap Class Weighting](#rf_bootstrap)\n",
    "          * [5.2c Random Forest With Random Undersampling](#rf_random_undersampling)\n",
    "     * [5.3 Tuning Hyperparameters of the Random Forest Classifier](#rf_tuning)\n",
    "     * [5.4 Finding Important Features](#features)\n",
    "* [6. Gradient Boosting Model](#gb)\n",
    "     * [6.1 Gradient Boosting Model - Out of the Box](#gb_ootb)\n",
    "     * [6.2 Tuning Hyperparametrs of Gradient Boosting Model](#gb_tuning)\n",
    "* [7. CatBoost Model](#cat)\n",
    "     * [7.1 Catboost Model - Out of the Box](#cat_ootb)\n",
    "     * [7.2 Tuning Hyperparametrs of CatBoost Model](#cat_tuning)\n",
    "* [8. Conclusions](#conclusions)"
   ]
  },
  {
   "cell_type": "markdown",
   "metadata": {},
   "source": [
    "<a class=\"anchor\" id=\"import\"></a>\n",
    "## 1. Import Libraries"
   ]
  },
  {
   "cell_type": "code",
   "execution_count": 1,
   "metadata": {},
   "outputs": [],
   "source": [
    "#import libraries\n",
    "\n",
    "import pandas as pd\n",
    "import matplotlib.pyplot as plt\n",
    "from matplotlib import pyplot\n",
    "import seaborn as sns\n",
    "import numpy as np\n",
    "from sklearn import metrics\n",
    "from sklearn.metrics import confusion_matrix\n",
    "from sklearn.metrics import plot_confusion_matrix\n",
    "from sklearn.metrics import precision_score, recall_score, f1_score, accuracy_score\n",
    "from sklearn.model_selection import train_test_split\n",
    "from sklearn.metrics import mean_squared_error\n",
    "from sklearn.metrics import r2_score\n",
    "from sklearn.inspection import permutation_importance\n",
    "from sklearn.preprocessing import StandardScaler\n",
    "from sklearn.metrics import precision_recall_curve\n",
    "from sklearn.metrics import f1_score\n",
    "from sklearn.metrics import auc\n",
    "from sklearn.linear_model import LogisticRegression\n",
    "from sklearn.ensemble import RandomForestClassifier\n",
    "from imblearn.ensemble import BalancedRandomForestClassifier\n",
    "from sklearn.metrics import classification_report,confusion_matrix,roc_curve,roc_auc_score\n",
    "from sklearn.metrics import accuracy_score,log_loss\n",
    "from matplotlib import pyplot\n",
    "from sklearn.model_selection import GridSearchCV\n",
    "\n",
    "from sklearn.metrics import cohen_kappa_score\n",
    "from sklearn.decomposition import PCA\n",
    "\n",
    "from pprint import pprint\n",
    "from sklearn.model_selection import RandomizedSearchCV\n",
    "\n",
    "\n",
    "from sklearn.model_selection import KFold\n",
    "from sklearn.ensemble import GradientBoostingClassifier\n",
    "\n",
    "import catboost\n",
    "from catboost import CatBoostClassifier, Pool, metrics, cv"
   ]
  },
  {
   "cell_type": "code",
   "execution_count": 2,
   "metadata": {},
   "outputs": [],
   "source": [
    "import warnings\n",
    "warnings.filterwarnings('ignore')"
   ]
  },
  {
   "cell_type": "markdown",
   "metadata": {},
   "source": [
    "<a class=\"anchor\" id=\"download\"></a>\n",
    "\n",
    "## 2. Download Data"
   ]
  },
  {
   "cell_type": "code",
   "execution_count": 4,
   "metadata": {},
   "outputs": [],
   "source": [
    "coffee3 = pd.read_csv('../data/coffee3.csv')"
   ]
  },
  {
   "cell_type": "code",
   "execution_count": 5,
   "metadata": {},
   "outputs": [
    {
     "name": "stdout",
     "output_type": "stream",
     "text": [
      "<class 'pandas.core.frame.DataFrame'>\n",
      "RangeIndex: 150 entries, 0 to 149\n",
      "Data columns (total 9 columns):\n",
      " #   Column             Non-Null Count  Dtype  \n",
      "---  ------             --------------  -----  \n",
      " 0   Unnamed: 0         150 non-null    int64  \n",
      " 1   Country of Origin  150 non-null    object \n",
      " 2   Variety            150 non-null    object \n",
      " 3   Mean Altitude (m)  150 non-null    float64\n",
      " 4   Harvest Year       150 non-null    int64  \n",
      " 5   Processing Method  150 non-null    object \n",
      " 6   Moisture           150 non-null    float64\n",
      " 7   Color              150 non-null    object \n",
      " 8   Coffee_Grade       150 non-null    object \n",
      "dtypes: float64(2), int64(2), object(5)\n",
      "memory usage: 10.7+ KB\n"
     ]
    }
   ],
   "source": [
    "coffee3.info()"
   ]
  },
  {
   "cell_type": "code",
   "execution_count": 6,
   "metadata": {},
   "outputs": [],
   "source": [
    "coffee3 = coffee3.drop(columns=['Unnamed: 0'])"
   ]
  },
  {
   "cell_type": "markdown",
   "metadata": {},
   "source": [
    "<a class=\"anchor\" id=\"categorical\"></a>\n",
    "\n",
    "### 2.1 Dealing with categorical, train_test_split and scaling "
   ]
  },
  {
   "cell_type": "markdown",
   "metadata": {},
   "source": [
    "First let's get our target feature y and our predictive features X."
   ]
  },
  {
   "cell_type": "code",
   "execution_count": 7,
   "metadata": {},
   "outputs": [
    {
     "data": {
      "text/plain": [
       "((150, 7), (150,))"
      ]
     },
     "execution_count": 7,
     "metadata": {},
     "output_type": "execute_result"
    }
   ],
   "source": [
    "X = coffee3.drop('Coffee_Grade', axis=1)\n",
    "        \n",
    "y = coffee3['Coffee_Grade']\n",
    "X.shape, y.shape"
   ]
  },
  {
   "cell_type": "markdown",
   "metadata": {},
   "source": [
    "We will use pandas, get_dummies to encode our categorical data."
   ]
  },
  {
   "cell_type": "code",
   "execution_count": 8,
   "metadata": {},
   "outputs": [
    {
     "data": {
      "text/plain": [
       "(150, 19)"
      ]
     },
     "execution_count": 8,
     "metadata": {},
     "output_type": "execute_result"
    }
   ],
   "source": [
    "X_dumm = pd.get_dummies(X, drop_first=True)\n",
    "X_dumm.shape"
   ]
  },
  {
   "cell_type": "markdown",
   "metadata": {},
   "source": [
    "Now we will split our data in train and test."
   ]
  },
  {
   "cell_type": "code",
   "execution_count": 9,
   "metadata": {},
   "outputs": [],
   "source": [
    "X_train, X_test, y_train, y_test = train_test_split(X_dumm, y, test_size = 0.25, random_state=10)"
   ]
  },
  {
   "cell_type": "markdown",
   "metadata": {},
   "source": [
    "Finally we will apply sklearn's StandardScaler."
   ]
  },
  {
   "cell_type": "code",
   "execution_count": 10,
   "metadata": {},
   "outputs": [],
   "source": [
    "scaler = StandardScaler()\n",
    "scaler.fit(X_train)\n",
    "X_train = scaler.transform(X_train)\n",
    "X_test = scaler.transform(X_test)"
   ]
  },
  {
   "cell_type": "markdown",
   "metadata": {},
   "source": [
    "<a class=\"anchor\" id=\"useful\"></a>\n",
    "\n",
    "### 2.2 Defining useful functions \n",
    "Now we will crate a few functions to help us:\n",
    "\n",
    " * Getting the Evaluation Metrics from our classification models:\n",
    "    * Accuracy - for both Train and Test\n",
    "    * Cohen's Kappa - for both Train and Test\n",
    "    * Classification report - which includes the F1 score, Recall and Precision for both predicted classes.\n",
    "    * Confusion matrix - normalized.\n",
    "    \n",
    " * Creating a Results Data Frame\n",
    " * Performing a Random Search of Parameters\n",
    " * Performing a Grid Search of Parameters"
   ]
  },
  {
   "cell_type": "code",
   "execution_count": 11,
   "metadata": {},
   "outputs": [],
   "source": [
    "#printing classification report and confusion matrix\n",
    "def evaluation_block(model):\n",
    "    global train_acc, test_acc\n",
    "    \n",
    "    y_tr_pred = model.predict(X_train)\n",
    "    \n",
    "    train_acc = round(accuracy_score(y_train,y_tr_pred),4)\n",
    "    test_acc = round(accuracy_score(y_test,y_pred),4)\n",
    "    train_f1 = round(f1_score(y_train, y_tr_pred, average='weighted'),4)\n",
    "    test_f1 = round(f1_score(y_test, y_pred, average='weighted'),4)\n",
    "    #train_logloss = round(log_loss(y_train,y_tr_pred),4)\n",
    "    #test_logloss = round(log_loss(y_test,y_pred),4)\n",
    "    \n",
    "    print(\"Train - Accuracy:\", train_acc)\n",
    "    print(\"Test - Accuracy:\", test_acc)\n",
    "    print(\"Train - F1:\", train_f1)\n",
    "    print(\"Test - F1:\", test_f1)\n",
    "    \n",
    "\n",
    "    print('Validation - Classification report\\n', classification_report(y_test,y_pred))\n",
    "    plt.figure(figsize=(9,9))\n",
    "    plot_confusion_matrix(model, X_test, y_test, normalize='true', cmap = 'Blues')\n",
    "    plt.show()"
   ]
  },
  {
   "cell_type": "code",
   "execution_count": 12,
   "metadata": {},
   "outputs": [],
   "source": [
    "#create a dataframe to store and compare our model results\n",
    "results = pd.DataFrame(columns = ['model','name','train_accuracy', 'test_accuracy', 'train_f1', 'test_f1'])\n",
    "pd.set_option(\"max_colwidth\", 100)\n",
    "def save_scores(model, name):\n",
    "    y_tr_pred = model.predict(X_train)\n",
    "    \n",
    "    train_acc = round(accuracy_score(y_train,y_tr_pred),4)\n",
    "    test_acc = round(accuracy_score(y_test,y_pred),4)\n",
    "    train_f1 = round(f1_score(y_train, y_tr_pred, average='micro'),4)\n",
    "    test_f1 = round(f1_score(y_test, y_pred, average='micro'),4)\n",
    "    \n",
    "    \n",
    "    new_row = {'model':model,\n",
    "               'name': name,\n",
    "               'train_accuracy': train_acc,\n",
    "               'test_accuracy': test_acc,\n",
    "               'train_f1': train_f1,\n",
    "               'test_f1': test_f1,\n",
    "              \n",
    "              }\n",
    "    results.loc[0 if pd.isnull(results.index.max()) else results.index.max() + 1] = new_row"
   ]
  },
  {
   "cell_type": "code",
   "execution_count": 13,
   "metadata": {},
   "outputs": [],
   "source": [
    "#create function to perform random search on a given model and parameter grid\n",
    "def rand_cv(model, param_grid, name):\n",
    "    # Random search of parameters, using 3 fold cross validation, \n",
    "    random = RandomizedSearchCV(estimator = model, param_distributions = param_grid ,n_iter=100, cv = 3, verbose=2, random_state=10, n_jobs = -1)\n",
    "    random.fit(X_train, y_train)\n",
    "    print('Best Parameters based on Randomized Search CV:', random.best_params_)\n",
    "    print('Best score: ', random.best_score_)\n",
    "    evaluation_block(random)\n",
    "    save_scores(random, name)"
   ]
  },
  {
   "cell_type": "code",
   "execution_count": 14,
   "metadata": {},
   "outputs": [],
   "source": [
    "#create function to perform grid search on a given model and parameter grid\n",
    "def grid_cv(model, param_grid, name):\n",
    "    grid = GridSearchCV(model, param_grid, cv = 3)\n",
    "    grid.fit(X_train, y_train)\n",
    "    y_pred = grid.predict(X_test)\n",
    "\n",
    "    print('Best Parameters based on Grid Search CV: ', grid.best_params_)\n",
    "    print('Best Score: ', grid.best_score_)\n",
    "    evaluation_block(grid)\n",
    "    save_scores(grid, name)"
   ]
  },
  {
   "cell_type": "markdown",
   "metadata": {},
   "source": [
    "<a class=\"anchor\" id=\"model_success\"></a>\n",
    "\n",
    "## 3. Defining Model Success\n",
    "\n",
    "Because we will be conducting tests on multiple models, we need a way to compare them to choose the 'best' model. For our particular context -- that is, coffee grade predictions -- it is important that a coffee is graded accurately. If coffee is graded higher than it should be, the customer will feel like they are being lied to or ripped off. They expect a certain quality and are receiving a worse quality product. On the other hand, coffee that is graded lower than it should be means that the seller is not receiving just compensation for the quality of the product they are selling. Though both errors are important to consider, I think that most businesses would rather make the mistake of selling REALLY good low-grade coffee than REALLY bad \"specialty\" coffee. So, though Accuracy and F1 score will be important metrics to consider while conducting our tests, we want to also look at the model closely as to what is being labeled what. In other words, given a similar Accuracy and F1 score, does one model tend to label coffees ABOVE or BELOW the actual grade compared to others. In these instances, the model that tends to low-ball the coffee grade, so-to-speak, will be prefered. "
   ]
  },
  {
   "cell_type": "markdown",
   "metadata": {},
   "source": [
    "<a class=\"anchor\" id=\"log_reg\"></a>\n",
    "\n",
    "## 4. Logistic Regression Model"
   ]
  },
  {
   "cell_type": "markdown",
   "metadata": {},
   "source": [
    "<a class=\"anchor\" id=\"log_reg_ootb\"></a>\n",
    "### 4.1 Logistic Regression - Out of the Box"
   ]
  },
  {
   "cell_type": "markdown",
   "metadata": {},
   "source": [
    "For our initial model we will start off with logistic regression"
   ]
  },
  {
   "cell_type": "code",
   "execution_count": 15,
   "metadata": {},
   "outputs": [],
   "source": [
    "logisticRegr = LogisticRegression()\n",
    "logisticRegr.fit(X_train, y_train)\n",
    "y_pred = logisticRegr.predict(X_test)"
   ]
  },
  {
   "cell_type": "code",
   "execution_count": 16,
   "metadata": {},
   "outputs": [
    {
     "name": "stdout",
     "output_type": "stream",
     "text": [
      "Train - Accuracy: 0.7589\n",
      "Test - Accuracy: 0.7105\n",
      "Train - F1: 0.7551\n",
      "Test - F1: 0.6724\n",
      "Validation - Classification report\n",
      "                   precision    recall  f1-score   support\n",
      "\n",
      "Grade 3 or Lower       0.00      0.00      0.00         2\n",
      "         Premium       0.69      0.95      0.80        21\n",
      "       Specialty       0.78      0.47      0.58        15\n",
      "\n",
      "        accuracy                           0.71        38\n",
      "       macro avg       0.49      0.47      0.46        38\n",
      "    weighted avg       0.69      0.71      0.67        38\n",
      "\n"
     ]
    },
    {
     "data": {
      "text/plain": [
       "<Figure size 648x648 with 0 Axes>"
      ]
     },
     "metadata": {},
     "output_type": "display_data"
    },
    {
     "data": {
      "image/png": "[encoded data removed]",
      "text/plain": [
       "<Figure size 432x288 with 2 Axes>"
      ]
     },
     "metadata": {
      "needs_background": "light"
     },
     "output_type": "display_data"
    }
   ],
   "source": [
    "evaluation_block(logisticRegr)"
   ]
  },
  {
   "cell_type": "markdown",
   "metadata": {},
   "source": [
    "The score for the out of the box LogisticRegression model is: 0.71 accuracy and 0.41 Cohen Kappa score."
   ]
  },
  {
   "cell_type": "code",
   "execution_count": 17,
   "metadata": {},
   "outputs": [],
   "source": [
    "save_scores(logisticRegr, 'Log Reg Out of the Box')"
   ]
  },
  {
   "cell_type": "code",
   "execution_count": 18,
   "metadata": {},
   "outputs": [
    {
     "data": {
      "text/html": [
       "<div>\n",
       "<style scoped>\n",
       "    .dataframe tbody tr th:only-of-type {\n",
       "        vertical-align: middle;\n",
       "    }\n",
       "\n",
       "    .dataframe tbody tr th {\n",
       "        vertical-align: top;\n",
       "    }\n",
       "\n",
       "    .dataframe thead th {\n",
       "        text-align: right;\n",
       "    }\n",
       "</style>\n",
       "<table border=\"1\" class=\"dataframe\">\n",
       "  <thead>\n",
       "    <tr style=\"text-align: right;\">\n",
       "      <th></th>\n",
       "      <th>model</th>\n",
       "      <th>name</th>\n",
       "      <th>train_accuracy</th>\n",
       "      <th>test_accuracy</th>\n",
       "      <th>train_f1</th>\n",
       "      <th>test_f1</th>\n",
       "    </tr>\n",
       "  </thead>\n",
       "  <tbody>\n",
       "    <tr>\n",
       "      <th>0</th>\n",
       "      <td>LogisticRegression()</td>\n",
       "      <td>Log Reg Out of the Box</td>\n",
       "      <td>0.7589</td>\n",
       "      <td>0.7105</td>\n",
       "      <td>0.7589</td>\n",
       "      <td>0.7105</td>\n",
       "    </tr>\n",
       "  </tbody>\n",
       "</table>\n",
       "</div>"
      ],
      "text/plain": [
       "                  model                    name  train_accuracy  \\\n",
       "0  LogisticRegression()  Log Reg Out of the Box          0.7589   \n",
       "\n",
       "   test_accuracy  train_f1  test_f1  \n",
       "0         0.7105    0.7589   0.7105  "
      ]
     },
     "execution_count": 18,
     "metadata": {},
     "output_type": "execute_result"
    }
   ],
   "source": [
    "results"
   ]
  },
  {
   "cell_type": "markdown",
   "metadata": {},
   "source": [
    "\n"
   ]
  },
  {
   "cell_type": "markdown",
   "metadata": {},
   "source": [
    "<a class=\"anchor\" id=\"log_reg_pca\"></a>\n",
    "\n",
    "### 4.2 Logistic regression with PCA"
   ]
  },
  {
   "cell_type": "markdown",
   "metadata": {},
   "source": [
    "The out of the box model can be improved by either tunning the hyperparameters or by further modifing the data prior to applying the classifiers.\n",
    "\n",
    "We will now see how PCA affects our LogisticRegression model."
   ]
  },
  {
   "cell_type": "code",
   "execution_count": 19,
   "metadata": {},
   "outputs": [
    {
     "data": {
      "text/plain": [
       "PCA()"
      ]
     },
     "execution_count": 19,
     "metadata": {},
     "output_type": "execute_result"
    }
   ],
   "source": [
    "pca = PCA()\n",
    "pca.fit(X_train)"
   ]
  },
  {
   "cell_type": "code",
   "execution_count": 20,
   "metadata": {},
   "outputs": [
    {
     "data": {
      "image/png": "[encoded data removed]",
      "text/plain": [
       "<Figure size 432x288 with 1 Axes>"
      ]
     },
     "metadata": {
      "needs_background": "light"
     },
     "output_type": "display_data"
    }
   ],
   "source": [
    "features = range(pca.n_components_)\n",
    "plt.bar(features, pca.explained_variance_ratio_)\n",
    "plt.axvline(4.5, c = 'red', linestyle = '-.')\n",
    "plt.xticks(features)\n",
    "plt.ylabel('Variance')\n",
    "plt.xlabel('PCA Feature')\n",
    "plt.title('PCA features and their Explained Variance Ratio')\n",
    "plt.show()"
   ]
  },
  {
   "cell_type": "code",
   "execution_count": 21,
   "metadata": {},
   "outputs": [
    {
     "data": {
      "text/plain": [
       "Text(0.5, 1.0, 'Cummulative PCA features with a 50%, 70% 90% and 99% explained variance ratio thresholds\" ')"
      ]
     },
     "execution_count": 21,
     "metadata": {},
     "output_type": "execute_result"
    },
    {
     "data": {
      "image/png": "[encoded data removed]",
      "text/plain": [
       "<Figure size 432x288 with 1 Axes>"
      ]
     },
     "metadata": {
      "needs_background": "light"
     },
     "output_type": "display_data"
    }
   ],
   "source": [
    "plt.bar(features, np.cumsum(pca.explained_variance_ratio_))\n",
    "[plt.axhline(y=i, linestyle='--', c = 'red') for i in [.3,.5,.7,.9, 0.99]]\n",
    "plt.xticks(features)\n",
    "plt.ylabel('Cummulative variance')\n",
    "plt.xlabel('PCA Feature')\n",
    "plt.title('Cummulative PCA features with a 50%, 70% 90% and 99% explained variance ratio thresholds\" ')"
   ]
  },
  {
   "cell_type": "markdown",
   "metadata": {},
   "source": [
    "Based on our PCA decomposition we can choose the folowing number of principal components:\n",
    "\n",
    "* 2 - for about 30% explained variance\n",
    "* 4 - for >50% explained variance\n",
    "* 7 - for >70% explained variance\n",
    "* 12 - for >90% explained variance\n",
    "* 17 - for >99% explained variance\n",
    "\n",
    "Obviously we need to consider the fact that a model based on fewer features will be underfitting while one based on a lot of them will ussualy overfit.\n",
    "\n",
    "Another aspect when considering underfitting vs overfitting is the dataset size, and in this case the training data has barely over 100 records, so considering we are dealing with a rather small dataset we can can't choose more features without a high risk of overfitting. We will check that by comparing the metrics from our training set versus the scores our models produces on the test set."
   ]
  },
  {
   "cell_type": "code",
   "execution_count": 22,
   "metadata": {},
   "outputs": [
    {
     "name": "stdout",
     "output_type": "stream",
     "text": [
      "---------------------Train & Test scores : Log reg model with 2 PCA features-------------------\n",
      "Train - Accuracy:  0.5089\n",
      "Test - Accuracy:  0.6316\n",
      "Train - F1: 0.4724 \n",
      "Test - F1: 0.5834 \n",
      "\n",
      "                  precision    recall  f1-score   support\n",
      "\n",
      "Grade 3 or Lower       0.00      0.00      0.00         2\n",
      "         Premium       0.63      0.90      0.75        21\n",
      "       Specialty       0.62      0.33      0.43        15\n",
      "\n",
      "        accuracy                           0.63        38\n",
      "       macro avg       0.42      0.41      0.39        38\n",
      "    weighted avg       0.60      0.63      0.58        38\n",
      "\n"
     ]
    },
    {
     "data": {
      "text/plain": [
       "<Figure size 648x648 with 0 Axes>"
      ]
     },
     "metadata": {},
     "output_type": "display_data"
    },
    {
     "data": {
      "image/png": "[encoded data removed]",
      "text/plain": [
       "<Figure size 432x288 with 2 Axes>"
      ]
     },
     "metadata": {
      "needs_background": "light"
     },
     "output_type": "display_data"
    },
    {
     "name": "stdout",
     "output_type": "stream",
     "text": [
      "---------------------Train & Test scores : Log reg model with 4 PCA features-------------------\n",
      "Train - Accuracy:  0.6429\n",
      "Test - Accuracy:  0.6579\n",
      "Train - F1: 0.6084 \n",
      "Test - F1: 0.627 \n",
      "\n",
      "                  precision    recall  f1-score   support\n",
      "\n",
      "Grade 3 or Lower       0.00      0.00      0.00         2\n",
      "         Premium       0.67      0.86      0.75        21\n",
      "       Specialty       0.64      0.47      0.54        15\n",
      "\n",
      "        accuracy                           0.66        38\n",
      "       macro avg       0.43      0.44      0.43        38\n",
      "    weighted avg       0.62      0.66      0.63        38\n",
      "\n"
     ]
    },
    {
     "data": {
      "text/plain": [
       "<Figure size 648x648 with 0 Axes>"
      ]
     },
     "metadata": {},
     "output_type": "display_data"
    },
    {
     "data": {
      "image/png": "[encoded data removed]",
      "text/plain": [
       "<Figure size 432x288 with 2 Axes>"
      ]
     },
     "metadata": {
      "needs_background": "light"
     },
     "output_type": "display_data"
    },
    {
     "name": "stdout",
     "output_type": "stream",
     "text": [
      "---------------------Train & Test scores : Log reg model with 7 PCA features-------------------\n",
      "Train - Accuracy:  0.6786\n",
      "Test - Accuracy:  0.6579\n",
      "Train - F1: 0.6455 \n",
      "Test - F1: 0.6431 \n",
      "\n",
      "                  precision    recall  f1-score   support\n",
      "\n",
      "Grade 3 or Lower       0.00      0.00      0.00         2\n",
      "         Premium       0.71      0.81      0.76        21\n",
      "       Specialty       0.62      0.53      0.57        15\n",
      "\n",
      "        accuracy                           0.66        38\n",
      "       macro avg       0.44      0.45      0.44        38\n",
      "    weighted avg       0.63      0.66      0.64        38\n",
      "\n"
     ]
    },
    {
     "data": {
      "text/plain": [
       "<Figure size 648x648 with 0 Axes>"
      ]
     },
     "metadata": {},
     "output_type": "display_data"
    },
    {
     "data": {
      "image/png": "[encoded data removed]",
      "text/plain": [
       "<Figure size 432x288 with 2 Axes>"
      ]
     },
     "metadata": {
      "needs_background": "light"
     },
     "output_type": "display_data"
    },
    {
     "name": "stdout",
     "output_type": "stream",
     "text": [
      "---------------------Train & Test scores : Log reg model with 12 PCA features-------------------\n",
      "Train - Accuracy:  0.7232\n",
      "Test - Accuracy:  0.6316\n",
      "Train - F1: 0.7206 \n",
      "Test - F1: 0.6222 \n",
      "\n",
      "                  precision    recall  f1-score   support\n",
      "\n",
      "Grade 3 or Lower       0.00      0.00      0.00         2\n",
      "         Premium       0.71      0.81      0.76        21\n",
      "       Specialty       0.58      0.47      0.52        15\n",
      "\n",
      "        accuracy                           0.63        38\n",
      "       macro avg       0.43      0.43      0.42        38\n",
      "    weighted avg       0.62      0.63      0.62        38\n",
      "\n"
     ]
    },
    {
     "data": {
      "text/plain": [
       "<Figure size 648x648 with 0 Axes>"
      ]
     },
     "metadata": {},
     "output_type": "display_data"
    },
    {
     "data": {
      "image/png": "[encoded data removed]",
      "text/plain": [
       "<Figure size 432x288 with 2 Axes>"
      ]
     },
     "metadata": {
      "needs_background": "light"
     },
     "output_type": "display_data"
    },
    {
     "name": "stdout",
     "output_type": "stream",
     "text": [
      "---------------------Train & Test scores : Log reg model with 17 PCA features-------------------\n",
      "Train - Accuracy:  0.75\n",
      "Test - Accuracy:  0.6579\n",
      "Train - F1: 0.7464 \n",
      "Test - F1: 0.6174 \n",
      "\n",
      "                  precision    recall  f1-score   support\n",
      "\n",
      "Grade 3 or Lower       0.00      0.00      0.00         2\n",
      "         Premium       0.66      0.90      0.76        21\n",
      "       Specialty       0.67      0.40      0.50        15\n",
      "\n",
      "        accuracy                           0.66        38\n",
      "       macro avg       0.44      0.43      0.42        38\n",
      "    weighted avg       0.63      0.66      0.62        38\n",
      "\n"
     ]
    },
    {
     "data": {
      "text/plain": [
       "<Figure size 648x648 with 0 Axes>"
      ]
     },
     "metadata": {},
     "output_type": "display_data"
    },
    {
     "data": {
      "image/png": "[encoded data removed]",
      "text/plain": [
       "<Figure size 432x288 with 2 Axes>"
      ]
     },
     "metadata": {
      "needs_background": "light"
     },
     "output_type": "display_data"
    }
   ],
   "source": [
    "pca_feat = [2,4,7,12,17]\n",
    "for i in pca_feat:\n",
    "    pca = PCA(n_components = i)\n",
    "    pca.fit(X_train)\n",
    "    X_train_i = pca.transform(X_train)\n",
    "    X_test_i = pca.transform(X_test)\n",
    "\n",
    "    logreg_model = LogisticRegression(max_iter=10000)\n",
    "    logreg_model.fit(X_train_i, y_train)\n",
    "    \n",
    "    y_tr_pred = logreg_model.predict(X_train_i)\n",
    "    y_tr_pred_prob = logreg_model.predict_proba(X_train_i)[:,1]\n",
    "    \n",
    "    y_pred = logreg_model.predict(X_test_i)\n",
    "    y_pred_prob = logreg_model.predict_proba(X_test_i)[:,1]\n",
    "    \n",
    "    #add to results data frame\n",
    "    train_acc = round(accuracy_score(y_train,y_tr_pred),4)\n",
    "    test_acc = round(accuracy_score(y_test,y_pred),4)\n",
    "    train_f1 = round(f1_score(y_train, y_tr_pred, average='weighted'),4)\n",
    "    test_f1 = round(f1_score(y_test, y_pred, average='weighted'),4)\n",
    "    model = logreg_model\n",
    "    name = 'Log reg model with {} PCA features'.format(i)\n",
    "    \n",
    "    new_row = {'model':model,\n",
    "               'name': name,\n",
    "               'train_accuracy': train_acc,\n",
    "               'test_accuracy': test_acc,\n",
    "               'train_f1': train_f1,\n",
    "               'test_f1': test_f1}\n",
    "    results.loc[0 if pd.isnull(results.index.max()) else results.index.max() + 1] = new_row\n",
    "    \n",
    "    print('---------------------Train & Test scores : Log reg model with {} PCA features-------------------'.format(i))\n",
    "    print('Train - Accuracy: ', round(accuracy_score(y_train,y_tr_pred),4))\n",
    "    print('Test - Accuracy: ', round(accuracy_score(y_test,y_pred),4))\n",
    "    print('Train - F1: {} '.format(round(f1_score(y_train, y_tr_pred, average='weighted'),4)))        \n",
    "    print('Test - F1: {} \\n'.format(round(f1_score(y_test, y_pred, average='weighted'),4)))\n",
    "    print(classification_report(y_test,y_pred))\n",
    "    plt.figure(figsize=(9,9))\n",
    "    plot_confusion_matrix(logreg_model, X_test_i, y_test, normalize='true', cmap = 'Blues')\n",
    "    plt.show()\n",
    "    \n",
    "    \n",
    "    \n",
    "    "
   ]
  },
  {
   "cell_type": "code",
   "execution_count": 23,
   "metadata": {},
   "outputs": [
    {
     "data": {
      "text/html": [
       "<div>\n",
       "<style scoped>\n",
       "    .dataframe tbody tr th:only-of-type {\n",
       "        vertical-align: middle;\n",
       "    }\n",
       "\n",
       "    .dataframe tbody tr th {\n",
       "        vertical-align: top;\n",
       "    }\n",
       "\n",
       "    .dataframe thead th {\n",
       "        text-align: right;\n",
       "    }\n",
       "</style>\n",
       "<table border=\"1\" class=\"dataframe\">\n",
       "  <thead>\n",
       "    <tr style=\"text-align: right;\">\n",
       "      <th></th>\n",
       "      <th>model</th>\n",
       "      <th>name</th>\n",
       "      <th>train_accuracy</th>\n",
       "      <th>test_accuracy</th>\n",
       "      <th>train_f1</th>\n",
       "      <th>test_f1</th>\n",
       "    </tr>\n",
       "  </thead>\n",
       "  <tbody>\n",
       "    <tr>\n",
       "      <th>0</th>\n",
       "      <td>LogisticRegression()</td>\n",
       "      <td>Log Reg Out of the Box</td>\n",
       "      <td>0.7589</td>\n",
       "      <td>0.7105</td>\n",
       "      <td>0.7589</td>\n",
       "      <td>0.7105</td>\n",
       "    </tr>\n",
       "    <tr>\n",
       "      <th>2</th>\n",
       "      <td>LogisticRegression(max_iter=10000)</td>\n",
       "      <td>Log reg model with 4 PCA features</td>\n",
       "      <td>0.6429</td>\n",
       "      <td>0.6579</td>\n",
       "      <td>0.6084</td>\n",
       "      <td>0.6270</td>\n",
       "    </tr>\n",
       "    <tr>\n",
       "      <th>3</th>\n",
       "      <td>LogisticRegression(max_iter=10000)</td>\n",
       "      <td>Log reg model with 7 PCA features</td>\n",
       "      <td>0.6786</td>\n",
       "      <td>0.6579</td>\n",
       "      <td>0.6455</td>\n",
       "      <td>0.6431</td>\n",
       "    </tr>\n",
       "    <tr>\n",
       "      <th>5</th>\n",
       "      <td>LogisticRegression(max_iter=10000)</td>\n",
       "      <td>Log reg model with 17 PCA features</td>\n",
       "      <td>0.7500</td>\n",
       "      <td>0.6579</td>\n",
       "      <td>0.7464</td>\n",
       "      <td>0.6174</td>\n",
       "    </tr>\n",
       "    <tr>\n",
       "      <th>1</th>\n",
       "      <td>LogisticRegression(max_iter=10000)</td>\n",
       "      <td>Log reg model with 2 PCA features</td>\n",
       "      <td>0.5089</td>\n",
       "      <td>0.6316</td>\n",
       "      <td>0.4724</td>\n",
       "      <td>0.5834</td>\n",
       "    </tr>\n",
       "    <tr>\n",
       "      <th>4</th>\n",
       "      <td>LogisticRegression(max_iter=10000)</td>\n",
       "      <td>Log reg model with 12 PCA features</td>\n",
       "      <td>0.7232</td>\n",
       "      <td>0.6316</td>\n",
       "      <td>0.7206</td>\n",
       "      <td>0.6222</td>\n",
       "    </tr>\n",
       "  </tbody>\n",
       "</table>\n",
       "</div>"
      ],
      "text/plain": [
       "                                model                                name  \\\n",
       "0                LogisticRegression()              Log Reg Out of the Box   \n",
       "2  LogisticRegression(max_iter=10000)   Log reg model with 4 PCA features   \n",
       "3  LogisticRegression(max_iter=10000)   Log reg model with 7 PCA features   \n",
       "5  LogisticRegression(max_iter=10000)  Log reg model with 17 PCA features   \n",
       "1  LogisticRegression(max_iter=10000)   Log reg model with 2 PCA features   \n",
       "4  LogisticRegression(max_iter=10000)  Log reg model with 12 PCA features   \n",
       "\n",
       "   train_accuracy  test_accuracy  train_f1  test_f1  \n",
       "0          0.7589         0.7105    0.7589   0.7105  \n",
       "2          0.6429         0.6579    0.6084   0.6270  \n",
       "3          0.6786         0.6579    0.6455   0.6431  \n",
       "5          0.7500         0.6579    0.7464   0.6174  \n",
       "1          0.5089         0.6316    0.4724   0.5834  \n",
       "4          0.7232         0.6316    0.7206   0.6222  "
      ]
     },
     "execution_count": 23,
     "metadata": {},
     "output_type": "execute_result"
    }
   ],
   "source": [
    "results.sort_values('test_accuracy', ascending = False).head(15)"
   ]
  },
  {
   "cell_type": "markdown",
   "metadata": {},
   "source": [
    "As we can see, changing the number of PCA features does not improve the accuracy of our model so for our further modeling we will keep our data without the PCA transformation."
   ]
  },
  {
   "cell_type": "markdown",
   "metadata": {},
   "source": [
    "<a class=\"anchor\" id=\"log_reg_tuning\"></a>\n",
    "### 4.3 Tuning Hyperparameters of Logistic Regression with GridSearch"
   ]
  },
  {
   "cell_type": "markdown",
   "metadata": {},
   "source": [
    "Let's first look at the list of parameters currently in use by our base logisic regression model"
   ]
  },
  {
   "cell_type": "code",
   "execution_count": 24,
   "metadata": {},
   "outputs": [
    {
     "name": "stdout",
     "output_type": "stream",
     "text": [
      "Parameters currently in use:\n",
      "\n",
      "{'C': 1.0,\n",
      " 'class_weight': None,\n",
      " 'dual': False,\n",
      " 'fit_intercept': True,\n",
      " 'intercept_scaling': 1,\n",
      " 'l1_ratio': None,\n",
      " 'max_iter': 100,\n",
      " 'multi_class': 'auto',\n",
      " 'n_jobs': None,\n",
      " 'penalty': 'l2',\n",
      " 'random_state': None,\n",
      " 'solver': 'lbfgs',\n",
      " 'tol': 0.0001,\n",
      " 'verbose': 0,\n",
      " 'warm_start': False}\n"
     ]
    }
   ],
   "source": [
    "#Check out parameters currently in use\n",
    "print('Parameters currently in use:\\n')\n",
    "pprint(logisticRegr.get_params())"
   ]
  },
  {
   "cell_type": "markdown",
   "metadata": {},
   "source": [
    "Next we will create a parameter grid of all the parameters we'd like to test and perform our grid search."
   ]
  },
  {
   "cell_type": "code",
   "execution_count": 25,
   "metadata": {},
   "outputs": [],
   "source": [
    "param_grid = { 'solver' : ['newton-cg', 'lbfgs', 'liblinear', 'sag', 'saga'],\n",
    "                'penalty' : ['none','l1', 'l2', 'elasticnet'],\n",
    "                'C' : [100, 10, 1.0, 0.1, 0.01],\n",
    "               'max_iter' : [10, 100, 1000, 10000]\n",
    "             }"
   ]
  },
  {
   "cell_type": "code",
   "execution_count": 26,
   "metadata": {},
   "outputs": [
    {
     "name": "stdout",
     "output_type": "stream",
     "text": [
      "Best Parameters based on Grid Search CV:  {'C': 10, 'max_iter': 10, 'penalty': 'l2', 'solver': 'sag'}\n",
      "Best Score:  0.6173541963015647\n",
      "Train - Accuracy: 0.7411\n",
      "Test - Accuracy: 0.6579\n",
      "Train - F1: 0.7376\n",
      "Test - F1: 0.6174\n",
      "Validation - Classification report\n",
      "                   precision    recall  f1-score   support\n",
      "\n",
      "Grade 3 or Lower       0.00      0.00      0.00         2\n",
      "         Premium       0.66      0.90      0.76        21\n",
      "       Specialty       0.67      0.40      0.50        15\n",
      "\n",
      "        accuracy                           0.66        38\n",
      "       macro avg       0.44      0.43      0.42        38\n",
      "    weighted avg       0.63      0.66      0.62        38\n",
      "\n"
     ]
    },
    {
     "data": {
      "text/plain": [
       "<Figure size 648x648 with 0 Axes>"
      ]
     },
     "metadata": {},
     "output_type": "display_data"
    },
    {
     "data": {
      "image/png": "[encoded data removed]",
      "text/plain": [
       "<Figure size 432x288 with 2 Axes>"
      ]
     },
     "metadata": {
      "needs_background": "light"
     },
     "output_type": "display_data"
    }
   ],
   "source": [
    "grid_cv(logisticRegr, param_grid, 'Log Reg w/ GridSearch')"
   ]
  },
  {
   "cell_type": "markdown",
   "metadata": {},
   "source": [
    "Based on our results, the hypertuned model performed worse than our base model."
   ]
  },
  {
   "cell_type": "code",
   "execution_count": 27,
   "metadata": {},
   "outputs": [
    {
     "data": {
      "text/html": [
       "<div>\n",
       "<style scoped>\n",
       "    .dataframe tbody tr th:only-of-type {\n",
       "        vertical-align: middle;\n",
       "    }\n",
       "\n",
       "    .dataframe tbody tr th {\n",
       "        vertical-align: top;\n",
       "    }\n",
       "\n",
       "    .dataframe thead th {\n",
       "        text-align: right;\n",
       "    }\n",
       "</style>\n",
       "<table border=\"1\" class=\"dataframe\">\n",
       "  <thead>\n",
       "    <tr style=\"text-align: right;\">\n",
       "      <th></th>\n",
       "      <th>model</th>\n",
       "      <th>name</th>\n",
       "      <th>train_accuracy</th>\n",
       "      <th>test_accuracy</th>\n",
       "      <th>train_f1</th>\n",
       "      <th>test_f1</th>\n",
       "    </tr>\n",
       "  </thead>\n",
       "  <tbody>\n",
       "    <tr>\n",
       "      <th>0</th>\n",
       "      <td>LogisticRegression()</td>\n",
       "      <td>Log Reg Out of the Box</td>\n",
       "      <td>0.7589</td>\n",
       "      <td>0.7105</td>\n",
       "      <td>0.7589</td>\n",
       "      <td>0.7105</td>\n",
       "    </tr>\n",
       "    <tr>\n",
       "      <th>2</th>\n",
       "      <td>LogisticRegression(max_iter=10000)</td>\n",
       "      <td>Log reg model with 4 PCA features</td>\n",
       "      <td>0.6429</td>\n",
       "      <td>0.6579</td>\n",
       "      <td>0.6084</td>\n",
       "      <td>0.6270</td>\n",
       "    </tr>\n",
       "    <tr>\n",
       "      <th>3</th>\n",
       "      <td>LogisticRegression(max_iter=10000)</td>\n",
       "      <td>Log reg model with 7 PCA features</td>\n",
       "      <td>0.6786</td>\n",
       "      <td>0.6579</td>\n",
       "      <td>0.6455</td>\n",
       "      <td>0.6431</td>\n",
       "    </tr>\n",
       "    <tr>\n",
       "      <th>5</th>\n",
       "      <td>LogisticRegression(max_iter=10000)</td>\n",
       "      <td>Log reg model with 17 PCA features</td>\n",
       "      <td>0.7500</td>\n",
       "      <td>0.6579</td>\n",
       "      <td>0.7464</td>\n",
       "      <td>0.6174</td>\n",
       "    </tr>\n",
       "    <tr>\n",
       "      <th>6</th>\n",
       "      <td>GridSearchCV(cv=3, estimator=LogisticRegression(),\\n             param_grid={'C': [100, 10, 1.0,...</td>\n",
       "      <td>Log Reg w/ GridSearch</td>\n",
       "      <td>0.7411</td>\n",
       "      <td>0.6579</td>\n",
       "      <td>0.7411</td>\n",
       "      <td>0.6579</td>\n",
       "    </tr>\n",
       "    <tr>\n",
       "      <th>1</th>\n",
       "      <td>LogisticRegression(max_iter=10000)</td>\n",
       "      <td>Log reg model with 2 PCA features</td>\n",
       "      <td>0.5089</td>\n",
       "      <td>0.6316</td>\n",
       "      <td>0.4724</td>\n",
       "      <td>0.5834</td>\n",
       "    </tr>\n",
       "    <tr>\n",
       "      <th>4</th>\n",
       "      <td>LogisticRegression(max_iter=10000)</td>\n",
       "      <td>Log reg model with 12 PCA features</td>\n",
       "      <td>0.7232</td>\n",
       "      <td>0.6316</td>\n",
       "      <td>0.7206</td>\n",
       "      <td>0.6222</td>\n",
       "    </tr>\n",
       "  </tbody>\n",
       "</table>\n",
       "</div>"
      ],
      "text/plain": [
       "                                                                                                 model  \\\n",
       "0                                                                                 LogisticRegression()   \n",
       "2                                                                   LogisticRegression(max_iter=10000)   \n",
       "3                                                                   LogisticRegression(max_iter=10000)   \n",
       "5                                                                   LogisticRegression(max_iter=10000)   \n",
       "6  GridSearchCV(cv=3, estimator=LogisticRegression(),\\n             param_grid={'C': [100, 10, 1.0,...   \n",
       "1                                                                   LogisticRegression(max_iter=10000)   \n",
       "4                                                                   LogisticRegression(max_iter=10000)   \n",
       "\n",
       "                                 name  train_accuracy  test_accuracy  \\\n",
       "0              Log Reg Out of the Box          0.7589         0.7105   \n",
       "2   Log reg model with 4 PCA features          0.6429         0.6579   \n",
       "3   Log reg model with 7 PCA features          0.6786         0.6579   \n",
       "5  Log reg model with 17 PCA features          0.7500         0.6579   \n",
       "6               Log Reg w/ GridSearch          0.7411         0.6579   \n",
       "1   Log reg model with 2 PCA features          0.5089         0.6316   \n",
       "4  Log reg model with 12 PCA features          0.7232         0.6316   \n",
       "\n",
       "   train_f1  test_f1  \n",
       "0    0.7589   0.7105  \n",
       "2    0.6084   0.6270  \n",
       "3    0.6455   0.6431  \n",
       "5    0.7464   0.6174  \n",
       "6    0.7411   0.6579  \n",
       "1    0.4724   0.5834  \n",
       "4    0.7206   0.6222  "
      ]
     },
     "execution_count": 27,
     "metadata": {},
     "output_type": "execute_result"
    }
   ],
   "source": [
    "results.sort_values('test_accuracy', ascending = False).head(15)"
   ]
  },
  {
   "cell_type": "markdown",
   "metadata": {},
   "source": [
    "<a class=\"anchor\" id=\"rf\"></a>\n",
    "\n",
    "## 5. Random Forest Classifier"
   ]
  },
  {
   "cell_type": "markdown",
   "metadata": {},
   "source": []
  },
  {
   "cell_type": "markdown",
   "metadata": {},
   "source": [
    "<a class=\"anchor\" id=\"rf_ootb\"></a>\n",
    "\n",
    "### 5.1 Random Forest Classifier - Out of the Box"
   ]
  },
  {
   "cell_type": "code",
   "execution_count": 28,
   "metadata": {},
   "outputs": [],
   "source": [
    "rfc = RandomForestClassifier(random_state=10)\n",
    "rfc.fit(X_train, y_train)\n",
    "y_pred = rfc.predict(X_test)"
   ]
  },
  {
   "cell_type": "code",
   "execution_count": 29,
   "metadata": {},
   "outputs": [
    {
     "name": "stdout",
     "output_type": "stream",
     "text": [
      "Train - Accuracy: 0.9911\n",
      "Test - Accuracy: 0.8421\n",
      "Train - F1: 0.9909\n",
      "Test - F1: 0.8451\n",
      "Validation - Classification report\n",
      "                   precision    recall  f1-score   support\n",
      "\n",
      "Grade 3 or Lower       0.33      0.50      0.40         2\n",
      "         Premium       0.87      0.95      0.91        21\n",
      "       Specialty       0.92      0.73      0.81        15\n",
      "\n",
      "        accuracy                           0.84        38\n",
      "       macro avg       0.71      0.73      0.71        38\n",
      "    weighted avg       0.86      0.84      0.85        38\n",
      "\n"
     ]
    },
    {
     "data": {
      "text/plain": [
       "<Figure size 648x648 with 0 Axes>"
      ]
     },
     "metadata": {},
     "output_type": "display_data"
    },
    {
     "data": {
      "image/png": "[encoded data removed]",
      "text/plain": [
       "<Figure size 432x288 with 2 Axes>"
      ]
     },
     "metadata": {
      "needs_background": "light"
     },
     "output_type": "display_data"
    }
   ],
   "source": [
    "evaluation_block(rfc)"
   ]
  },
  {
   "cell_type": "markdown",
   "metadata": {},
   "source": [
    "Right off the bat we see a huge improvement in the evaluation metrics for this model compared to the logistic regression model."
   ]
  },
  {
   "cell_type": "code",
   "execution_count": 30,
   "metadata": {},
   "outputs": [],
   "source": [
    "save_scores(rfc, 'Random Forest Out of the Box')"
   ]
  },
  {
   "cell_type": "code",
   "execution_count": 31,
   "metadata": {},
   "outputs": [
    {
     "data": {
      "text/html": [
       "<div>\n",
       "<style scoped>\n",
       "    .dataframe tbody tr th:only-of-type {\n",
       "        vertical-align: middle;\n",
       "    }\n",
       "\n",
       "    .dataframe tbody tr th {\n",
       "        vertical-align: top;\n",
       "    }\n",
       "\n",
       "    .dataframe thead th {\n",
       "        text-align: right;\n",
       "    }\n",
       "</style>\n",
       "<table border=\"1\" class=\"dataframe\">\n",
       "  <thead>\n",
       "    <tr style=\"text-align: right;\">\n",
       "      <th></th>\n",
       "      <th>model</th>\n",
       "      <th>name</th>\n",
       "      <th>train_accuracy</th>\n",
       "      <th>test_accuracy</th>\n",
       "      <th>train_f1</th>\n",
       "      <th>test_f1</th>\n",
       "    </tr>\n",
       "  </thead>\n",
       "  <tbody>\n",
       "    <tr>\n",
       "      <th>7</th>\n",
       "      <td>(DecisionTreeClassifier(max_features='auto', random_state=1165313289), DecisionTreeClassifier(ma...</td>\n",
       "      <td>Random Forest Out of the Box</td>\n",
       "      <td>0.9911</td>\n",
       "      <td>0.8421</td>\n",
       "      <td>0.9911</td>\n",
       "      <td>0.8421</td>\n",
       "    </tr>\n",
       "    <tr>\n",
       "      <th>0</th>\n",
       "      <td>LogisticRegression()</td>\n",
       "      <td>Log Reg Out of the Box</td>\n",
       "      <td>0.7589</td>\n",
       "      <td>0.7105</td>\n",
       "      <td>0.7589</td>\n",
       "      <td>0.7105</td>\n",
       "    </tr>\n",
       "    <tr>\n",
       "      <th>2</th>\n",
       "      <td>LogisticRegression(max_iter=10000)</td>\n",
       "      <td>Log reg model with 4 PCA features</td>\n",
       "      <td>0.6429</td>\n",
       "      <td>0.6579</td>\n",
       "      <td>0.6084</td>\n",
       "      <td>0.6270</td>\n",
       "    </tr>\n",
       "    <tr>\n",
       "      <th>3</th>\n",
       "      <td>LogisticRegression(max_iter=10000)</td>\n",
       "      <td>Log reg model with 7 PCA features</td>\n",
       "      <td>0.6786</td>\n",
       "      <td>0.6579</td>\n",
       "      <td>0.6455</td>\n",
       "      <td>0.6431</td>\n",
       "    </tr>\n",
       "    <tr>\n",
       "      <th>5</th>\n",
       "      <td>LogisticRegression(max_iter=10000)</td>\n",
       "      <td>Log reg model with 17 PCA features</td>\n",
       "      <td>0.7500</td>\n",
       "      <td>0.6579</td>\n",
       "      <td>0.7464</td>\n",
       "      <td>0.6174</td>\n",
       "    </tr>\n",
       "    <tr>\n",
       "      <th>6</th>\n",
       "      <td>GridSearchCV(cv=3, estimator=LogisticRegression(),\\n             param_grid={'C': [100, 10, 1.0,...</td>\n",
       "      <td>Log Reg w/ GridSearch</td>\n",
       "      <td>0.7411</td>\n",
       "      <td>0.6579</td>\n",
       "      <td>0.7411</td>\n",
       "      <td>0.6579</td>\n",
       "    </tr>\n",
       "    <tr>\n",
       "      <th>1</th>\n",
       "      <td>LogisticRegression(max_iter=10000)</td>\n",
       "      <td>Log reg model with 2 PCA features</td>\n",
       "      <td>0.5089</td>\n",
       "      <td>0.6316</td>\n",
       "      <td>0.4724</td>\n",
       "      <td>0.5834</td>\n",
       "    </tr>\n",
       "    <tr>\n",
       "      <th>4</th>\n",
       "      <td>LogisticRegression(max_iter=10000)</td>\n",
       "      <td>Log reg model with 12 PCA features</td>\n",
       "      <td>0.7232</td>\n",
       "      <td>0.6316</td>\n",
       "      <td>0.7206</td>\n",
       "      <td>0.6222</td>\n",
       "    </tr>\n",
       "  </tbody>\n",
       "</table>\n",
       "</div>"
      ],
      "text/plain": [
       "                                                                                                 model  \\\n",
       "7  (DecisionTreeClassifier(max_features='auto', random_state=1165313289), DecisionTreeClassifier(ma...   \n",
       "0                                                                                 LogisticRegression()   \n",
       "2                                                                   LogisticRegression(max_iter=10000)   \n",
       "3                                                                   LogisticRegression(max_iter=10000)   \n",
       "5                                                                   LogisticRegression(max_iter=10000)   \n",
       "6  GridSearchCV(cv=3, estimator=LogisticRegression(),\\n             param_grid={'C': [100, 10, 1.0,...   \n",
       "1                                                                   LogisticRegression(max_iter=10000)   \n",
       "4                                                                   LogisticRegression(max_iter=10000)   \n",
       "\n",
       "                                 name  train_accuracy  test_accuracy  \\\n",
       "7        Random Forest Out of the Box          0.9911         0.8421   \n",
       "0              Log Reg Out of the Box          0.7589         0.7105   \n",
       "2   Log reg model with 4 PCA features          0.6429         0.6579   \n",
       "3   Log reg model with 7 PCA features          0.6786         0.6579   \n",
       "5  Log reg model with 17 PCA features          0.7500         0.6579   \n",
       "6               Log Reg w/ GridSearch          0.7411         0.6579   \n",
       "1   Log reg model with 2 PCA features          0.5089         0.6316   \n",
       "4  Log reg model with 12 PCA features          0.7232         0.6316   \n",
       "\n",
       "   train_f1  test_f1  \n",
       "7    0.9911   0.8421  \n",
       "0    0.7589   0.7105  \n",
       "2    0.6084   0.6270  \n",
       "3    0.6455   0.6431  \n",
       "5    0.7464   0.6174  \n",
       "6    0.7411   0.6579  \n",
       "1    0.4724   0.5834  \n",
       "4    0.7206   0.6222  "
      ]
     },
     "execution_count": 31,
     "metadata": {},
     "output_type": "execute_result"
    }
   ],
   "source": [
    "results.sort_values('test_accuracy', ascending = False).head(15)"
   ]
  },
  {
   "cell_type": "markdown",
   "metadata": {},
   "source": [
    "<a class=\"anchor\" id=\"imbalanced\"></a>\n",
    "\n",
    "### 5.2 Accounting for Imbalanced Data Set"
   ]
  },
  {
   "cell_type": "markdown",
   "metadata": {},
   "source": [
    "Because our data classes are highly imbalanced, I want to test some hyperparameters to account for this. We will try 2 different iterations of our RandomForestClassifier model by adjusting the class_weight  "
   ]
  },
  {
   "cell_type": "markdown",
   "metadata": {},
   "source": [
    "<a class=\"anchor\" id=\"rf_class_weighting\"></a>\n",
    "\n",
    "#### 5.2a Random Forest With Class Weighting\n"
   ]
  },
  {
   "cell_type": "code",
   "execution_count": 32,
   "metadata": {},
   "outputs": [],
   "source": [
    "rfc_balanced = RandomForestClassifier(class_weight='balanced', random_state = 10)\n",
    "rfc_balanced.fit(X_train, y_train)\n",
    "y_pred = rfc_balanced.predict(X_test)"
   ]
  },
  {
   "cell_type": "code",
   "execution_count": 33,
   "metadata": {},
   "outputs": [
    {
     "name": "stdout",
     "output_type": "stream",
     "text": [
      "Train - Accuracy: 0.9911\n",
      "Test - Accuracy: 0.8421\n",
      "Train - F1: 0.9912\n",
      "Test - F1: 0.837\n",
      "Validation - Classification report\n",
      "                   precision    recall  f1-score   support\n",
      "\n",
      "Grade 3 or Lower       0.67      1.00      0.80         2\n",
      "         Premium       0.83      0.95      0.89        21\n",
      "       Specialty       0.91      0.67      0.77        15\n",
      "\n",
      "        accuracy                           0.84        38\n",
      "       macro avg       0.80      0.87      0.82        38\n",
      "    weighted avg       0.85      0.84      0.84        38\n",
      "\n"
     ]
    },
    {
     "data": {
      "text/plain": [
       "<Figure size 648x648 with 0 Axes>"
      ]
     },
     "metadata": {},
     "output_type": "display_data"
    },
    {
     "data": {
      "image/png": "[encoded data removed]",
      "text/plain": [
       "<Figure size 432x288 with 2 Axes>"
      ]
     },
     "metadata": {
      "needs_background": "light"
     },
     "output_type": "display_data"
    }
   ],
   "source": [
    "evaluation_block(rfc_balanced)"
   ]
  },
  {
   "cell_type": "code",
   "execution_count": 34,
   "metadata": {},
   "outputs": [],
   "source": [
    "save_scores(rfc_balanced, 'Random Forest Balanced')"
   ]
  },
  {
   "cell_type": "markdown",
   "metadata": {},
   "source": [
    "<a class=\"anchor\" id=\"rf_bootstrap\"></a>\n",
    "\n",
    "#### 5.2b Random Forest With Bootstrap Class Weighting"
   ]
  },
  {
   "cell_type": "code",
   "execution_count": 35,
   "metadata": {},
   "outputs": [],
   "source": [
    "rfc_balanced_subsample = RandomForestClassifier(class_weight='balanced_subsample', random_state = 10)\n",
    "rfc_balanced_subsample.fit(X_train, y_train)\n",
    "y_pred = rfc_balanced_subsample.predict(X_test)"
   ]
  },
  {
   "cell_type": "code",
   "execution_count": 36,
   "metadata": {},
   "outputs": [
    {
     "name": "stdout",
     "output_type": "stream",
     "text": [
      "Train - Accuracy: 0.9911\n",
      "Test - Accuracy: 0.8421\n",
      "Train - F1: 0.9912\n",
      "Test - F1: 0.8411\n",
      "Validation - Classification report\n",
      "                   precision    recall  f1-score   support\n",
      "\n",
      "Grade 3 or Lower       0.50      1.00      0.67         2\n",
      "         Premium       0.87      0.95      0.91        21\n",
      "       Specialty       0.91      0.67      0.77        15\n",
      "\n",
      "        accuracy                           0.84        38\n",
      "       macro avg       0.76      0.87      0.78        38\n",
      "    weighted avg       0.87      0.84      0.84        38\n",
      "\n"
     ]
    },
    {
     "data": {
      "text/plain": [
       "<Figure size 648x648 with 0 Axes>"
      ]
     },
     "metadata": {},
     "output_type": "display_data"
    },
    {
     "data": {
      "image/png": "[encoded data removed]",
      "text/plain": [
       "<Figure size 432x288 with 2 Axes>"
      ]
     },
     "metadata": {
      "needs_background": "light"
     },
     "output_type": "display_data"
    }
   ],
   "source": [
    "evaluation_block(rfc_balanced_subsample)"
   ]
  },
  {
   "cell_type": "code",
   "execution_count": 37,
   "metadata": {},
   "outputs": [],
   "source": [
    "save_scores(rfc_balanced_subsample, 'Random Forest Balanced Subsample')"
   ]
  },
  {
   "cell_type": "markdown",
   "metadata": {},
   "source": [
    "<a class=\"anchor\" id=\"rf_random_undersampling\"></a>\n",
    "\n",
    "#### 5.2c Random Forest With Random Undersampling"
   ]
  },
  {
   "cell_type": "code",
   "execution_count": 38,
   "metadata": {},
   "outputs": [],
   "source": [
    "brfc = BalancedRandomForestClassifier(random_state = 10)\n",
    "brfc.fit(X_train, y_train)\n",
    "y_pred = brfc.predict(X_test)"
   ]
  },
  {
   "cell_type": "code",
   "execution_count": 39,
   "metadata": {},
   "outputs": [
    {
     "name": "stdout",
     "output_type": "stream",
     "text": [
      "Train - Accuracy: 0.7679\n",
      "Test - Accuracy: 0.6053\n",
      "Train - F1: 0.7747\n",
      "Test - F1: 0.6225\n",
      "Validation - Classification report\n",
      "                   precision    recall  f1-score   support\n",
      "\n",
      "Grade 3 or Lower       0.25      1.00      0.40         2\n",
      "         Premium       0.78      0.67      0.72        21\n",
      "       Specialty       0.58      0.47      0.52        15\n",
      "\n",
      "        accuracy                           0.61        38\n",
      "       macro avg       0.54      0.71      0.55        38\n",
      "    weighted avg       0.67      0.61      0.62        38\n",
      "\n"
     ]
    },
    {
     "data": {
      "text/plain": [
       "<Figure size 648x648 with 0 Axes>"
      ]
     },
     "metadata": {},
     "output_type": "display_data"
    },
    {
     "data": {
      "image/png": "[encoded data removed]",
      "text/plain": [
       "<Figure size 432x288 with 2 Axes>"
      ]
     },
     "metadata": {
      "needs_background": "light"
     },
     "output_type": "display_data"
    }
   ],
   "source": [
    "evaluation_block(brfc)"
   ]
  },
  {
   "cell_type": "code",
   "execution_count": 40,
   "metadata": {},
   "outputs": [],
   "source": [
    "save_scores(brfc, 'Balanced Random Forest Classifier')"
   ]
  },
  {
   "cell_type": "code",
   "execution_count": 41,
   "metadata": {},
   "outputs": [
    {
     "data": {
      "text/html": [
       "<div>\n",
       "<style scoped>\n",
       "    .dataframe tbody tr th:only-of-type {\n",
       "        vertical-align: middle;\n",
       "    }\n",
       "\n",
       "    .dataframe tbody tr th {\n",
       "        vertical-align: top;\n",
       "    }\n",
       "\n",
       "    .dataframe thead th {\n",
       "        text-align: right;\n",
       "    }\n",
       "</style>\n",
       "<table border=\"1\" class=\"dataframe\">\n",
       "  <thead>\n",
       "    <tr style=\"text-align: right;\">\n",
       "      <th></th>\n",
       "      <th>model</th>\n",
       "      <th>name</th>\n",
       "      <th>train_accuracy</th>\n",
       "      <th>test_accuracy</th>\n",
       "      <th>train_f1</th>\n",
       "      <th>test_f1</th>\n",
       "    </tr>\n",
       "  </thead>\n",
       "  <tbody>\n",
       "    <tr>\n",
       "      <th>7</th>\n",
       "      <td>(DecisionTreeClassifier(max_features='auto', random_state=1165313289), DecisionTreeClassifier(ma...</td>\n",
       "      <td>Random Forest Out of the Box</td>\n",
       "      <td>0.9911</td>\n",
       "      <td>0.8421</td>\n",
       "      <td>0.9911</td>\n",
       "      <td>0.8421</td>\n",
       "    </tr>\n",
       "    <tr>\n",
       "      <th>8</th>\n",
       "      <td>(DecisionTreeClassifier(max_features='auto', random_state=1165313289), DecisionTreeClassifier(ma...</td>\n",
       "      <td>Random Forest Balanced</td>\n",
       "      <td>0.9911</td>\n",
       "      <td>0.8421</td>\n",
       "      <td>0.9911</td>\n",
       "      <td>0.8421</td>\n",
       "    </tr>\n",
       "    <tr>\n",
       "      <th>9</th>\n",
       "      <td>(DecisionTreeClassifier(max_features='auto', random_state=1165313289), DecisionTreeClassifier(ma...</td>\n",
       "      <td>Random Forest Balanced Subsample</td>\n",
       "      <td>0.9911</td>\n",
       "      <td>0.8421</td>\n",
       "      <td>0.9911</td>\n",
       "      <td>0.8421</td>\n",
       "    </tr>\n",
       "    <tr>\n",
       "      <th>0</th>\n",
       "      <td>LogisticRegression()</td>\n",
       "      <td>Log Reg Out of the Box</td>\n",
       "      <td>0.7589</td>\n",
       "      <td>0.7105</td>\n",
       "      <td>0.7589</td>\n",
       "      <td>0.7105</td>\n",
       "    </tr>\n",
       "    <tr>\n",
       "      <th>2</th>\n",
       "      <td>LogisticRegression(max_iter=10000)</td>\n",
       "      <td>Log reg model with 4 PCA features</td>\n",
       "      <td>0.6429</td>\n",
       "      <td>0.6579</td>\n",
       "      <td>0.6084</td>\n",
       "      <td>0.6270</td>\n",
       "    </tr>\n",
       "    <tr>\n",
       "      <th>3</th>\n",
       "      <td>LogisticRegression(max_iter=10000)</td>\n",
       "      <td>Log reg model with 7 PCA features</td>\n",
       "      <td>0.6786</td>\n",
       "      <td>0.6579</td>\n",
       "      <td>0.6455</td>\n",
       "      <td>0.6431</td>\n",
       "    </tr>\n",
       "    <tr>\n",
       "      <th>5</th>\n",
       "      <td>LogisticRegression(max_iter=10000)</td>\n",
       "      <td>Log reg model with 17 PCA features</td>\n",
       "      <td>0.7500</td>\n",
       "      <td>0.6579</td>\n",
       "      <td>0.7464</td>\n",
       "      <td>0.6174</td>\n",
       "    </tr>\n",
       "    <tr>\n",
       "      <th>6</th>\n",
       "      <td>GridSearchCV(cv=3, estimator=LogisticRegression(),\\n             param_grid={'C': [100, 10, 1.0,...</td>\n",
       "      <td>Log Reg w/ GridSearch</td>\n",
       "      <td>0.7411</td>\n",
       "      <td>0.6579</td>\n",
       "      <td>0.7411</td>\n",
       "      <td>0.6579</td>\n",
       "    </tr>\n",
       "    <tr>\n",
       "      <th>1</th>\n",
       "      <td>LogisticRegression(max_iter=10000)</td>\n",
       "      <td>Log reg model with 2 PCA features</td>\n",
       "      <td>0.5089</td>\n",
       "      <td>0.6316</td>\n",
       "      <td>0.4724</td>\n",
       "      <td>0.5834</td>\n",
       "    </tr>\n",
       "    <tr>\n",
       "      <th>4</th>\n",
       "      <td>LogisticRegression(max_iter=10000)</td>\n",
       "      <td>Log reg model with 12 PCA features</td>\n",
       "      <td>0.7232</td>\n",
       "      <td>0.6316</td>\n",
       "      <td>0.7206</td>\n",
       "      <td>0.6222</td>\n",
       "    </tr>\n",
       "    <tr>\n",
       "      <th>10</th>\n",
       "      <td>(DecisionTreeClassifier(max_features='auto', random_state=1165313289), DecisionTreeClassifier(ma...</td>\n",
       "      <td>Balanced Random Forest Classifier</td>\n",
       "      <td>0.7679</td>\n",
       "      <td>0.6053</td>\n",
       "      <td>0.7679</td>\n",
       "      <td>0.6053</td>\n",
       "    </tr>\n",
       "  </tbody>\n",
       "</table>\n",
       "</div>"
      ],
      "text/plain": [
       "                                                                                                  model  \\\n",
       "7   (DecisionTreeClassifier(max_features='auto', random_state=1165313289), DecisionTreeClassifier(ma...   \n",
       "8   (DecisionTreeClassifier(max_features='auto', random_state=1165313289), DecisionTreeClassifier(ma...   \n",
       "9   (DecisionTreeClassifier(max_features='auto', random_state=1165313289), DecisionTreeClassifier(ma...   \n",
       "0                                                                                  LogisticRegression()   \n",
       "2                                                                    LogisticRegression(max_iter=10000)   \n",
       "3                                                                    LogisticRegression(max_iter=10000)   \n",
       "5                                                                    LogisticRegression(max_iter=10000)   \n",
       "6   GridSearchCV(cv=3, estimator=LogisticRegression(),\\n             param_grid={'C': [100, 10, 1.0,...   \n",
       "1                                                                    LogisticRegression(max_iter=10000)   \n",
       "4                                                                    LogisticRegression(max_iter=10000)   \n",
       "10  (DecisionTreeClassifier(max_features='auto', random_state=1165313289), DecisionTreeClassifier(ma...   \n",
       "\n",
       "                                  name  train_accuracy  test_accuracy  \\\n",
       "7         Random Forest Out of the Box          0.9911         0.8421   \n",
       "8               Random Forest Balanced          0.9911         0.8421   \n",
       "9     Random Forest Balanced Subsample          0.9911         0.8421   \n",
       "0               Log Reg Out of the Box          0.7589         0.7105   \n",
       "2    Log reg model with 4 PCA features          0.6429         0.6579   \n",
       "3    Log reg model with 7 PCA features          0.6786         0.6579   \n",
       "5   Log reg model with 17 PCA features          0.7500         0.6579   \n",
       "6                Log Reg w/ GridSearch          0.7411         0.6579   \n",
       "1    Log reg model with 2 PCA features          0.5089         0.6316   \n",
       "4   Log reg model with 12 PCA features          0.7232         0.6316   \n",
       "10   Balanced Random Forest Classifier          0.7679         0.6053   \n",
       "\n",
       "    train_f1  test_f1  \n",
       "7     0.9911   0.8421  \n",
       "8     0.9911   0.8421  \n",
       "9     0.9911   0.8421  \n",
       "0     0.7589   0.7105  \n",
       "2     0.6084   0.6270  \n",
       "3     0.6455   0.6431  \n",
       "5     0.7464   0.6174  \n",
       "6     0.7411   0.6579  \n",
       "1     0.4724   0.5834  \n",
       "4     0.7206   0.6222  \n",
       "10    0.7679   0.6053  "
      ]
     },
     "execution_count": 41,
     "metadata": {},
     "output_type": "execute_result"
    }
   ],
   "source": [
    "results.sort_values('test_accuracy', ascending = False).head(15)"
   ]
  },
  {
   "cell_type": "markdown",
   "metadata": {},
   "source": [
    "Based on these three models, our rfc_balanced model performed the best. Though they had similar accuracy and overall F1 scores, the precision and recall scores for the individual classes were better. The rfc_balanced model did a better job at not giving the coffees a HIGHER grade than what they were."
   ]
  },
  {
   "cell_type": "markdown",
   "metadata": {},
   "source": [
    "<a class=\"anchor\" id=\"rf_tuning\"></a>\n",
    "\n",
    "### 5.3 Tuning Hyperparameters of the Random Forest Classifier"
   ]
  },
  {
   "cell_type": "code",
   "execution_count": 42,
   "metadata": {},
   "outputs": [
    {
     "name": "stdout",
     "output_type": "stream",
     "text": [
      "Parameters currently in use:\n",
      "\n",
      "{'bootstrap': True,\n",
      " 'ccp_alpha': 0.0,\n",
      " 'class_weight': 'balanced',\n",
      " 'criterion': 'gini',\n",
      " 'max_depth': None,\n",
      " 'max_features': 'auto',\n",
      " 'max_leaf_nodes': None,\n",
      " 'max_samples': None,\n",
      " 'min_impurity_decrease': 0.0,\n",
      " 'min_impurity_split': None,\n",
      " 'min_samples_leaf': 1,\n",
      " 'min_samples_split': 2,\n",
      " 'min_weight_fraction_leaf': 0.0,\n",
      " 'n_estimators': 100,\n",
      " 'n_jobs': None,\n",
      " 'oob_score': False,\n",
      " 'random_state': 10,\n",
      " 'verbose': 0,\n",
      " 'warm_start': False}\n"
     ]
    }
   ],
   "source": [
    "#Check out parameters currently in use\n",
    "print('Parameters currently in use:\\n')\n",
    "pprint(rfc_balanced.get_params())"
   ]
  },
  {
   "cell_type": "markdown",
   "metadata": {},
   "source": [
    "### We will try to fine tune the following:\n",
    "\n",
    "n_estimators = number of trees in the foreset\n",
    "\n",
    "max_features = max number of features considered for splitting a node\n",
    "\n",
    "max_depth = max number of levels in each decision tree\n",
    "\n",
    "min_samples_split = min number of data points placed in a node before the node is split\n",
    "\n",
    "min_samples_leaf = min number of data points allowed in a leaf node\n",
    "\n",
    "bootstrap = method for sampling data points (with or without replacement)"
   ]
  },
  {
   "cell_type": "markdown",
   "metadata": {},
   "source": [
    "### Use Randomized Search to find best parameters"
   ]
  },
  {
   "cell_type": "code",
   "execution_count": 43,
   "metadata": {},
   "outputs": [],
   "source": [
    "param_grid = {   'bootstrap': [True, False],\n",
    "                 'max_depth': [10, 20, 30, 40, 50, 60, 70, 80, 90, 100, 110, None],\n",
    "                 'max_features': ['auto', 'sqrt'],\n",
    "                 'min_samples_leaf': [1, 2, 4],\n",
    "                 'min_samples_split': [2, 5, 10],\n",
    "                 'n_estimators': [10, 50, 75, 100,200,300,400,500,600,700,800,900,1000,1100,1200,1300,1400,1500]\n",
    "             }"
   ]
  },
  {
   "cell_type": "code",
   "execution_count": 44,
   "metadata": {},
   "outputs": [
    {
     "name": "stdout",
     "output_type": "stream",
     "text": [
      "Fitting 3 folds for each of 100 candidates, totalling 300 fits\n",
      "Best Parameters based on Randomized Search CV: {'n_estimators': 400, 'min_samples_split': 2, 'min_samples_leaf': 1, 'max_features': 'sqrt', 'max_depth': 40, 'bootstrap': True}\n",
      "Best score:  0.7245139876718825\n",
      "Train - Accuracy: 0.9911\n",
      "Test - Accuracy: 0.6053\n",
      "Train - F1: 0.9912\n",
      "Test - F1: 0.6225\n",
      "Validation - Classification report\n",
      "                   precision    recall  f1-score   support\n",
      "\n",
      "Grade 3 or Lower       0.25      1.00      0.40         2\n",
      "         Premium       0.78      0.67      0.72        21\n",
      "       Specialty       0.58      0.47      0.52        15\n",
      "\n",
      "        accuracy                           0.61        38\n",
      "       macro avg       0.54      0.71      0.55        38\n",
      "    weighted avg       0.67      0.61      0.62        38\n",
      "\n"
     ]
    },
    {
     "data": {
      "text/plain": [
       "<Figure size 648x648 with 0 Axes>"
      ]
     },
     "metadata": {},
     "output_type": "display_data"
    },
    {
     "data": {
      "image/png": "[encoded data removed]",
      "text/plain": [
       "<Figure size 432x288 with 2 Axes>"
      ]
     },
     "metadata": {
      "needs_background": "light"
     },
     "output_type": "display_data"
    }
   ],
   "source": [
    "rand_cv(rfc_balanced, param_grid, 'Random Forest Balanced RandomSearch')"
   ]
  },
  {
   "cell_type": "code",
   "execution_count": 45,
   "metadata": {},
   "outputs": [
    {
     "data": {
      "text/html": [
       "<div>\n",
       "<style scoped>\n",
       "    .dataframe tbody tr th:only-of-type {\n",
       "        vertical-align: middle;\n",
       "    }\n",
       "\n",
       "    .dataframe tbody tr th {\n",
       "        vertical-align: top;\n",
       "    }\n",
       "\n",
       "    .dataframe thead th {\n",
       "        text-align: right;\n",
       "    }\n",
       "</style>\n",
       "<table border=\"1\" class=\"dataframe\">\n",
       "  <thead>\n",
       "    <tr style=\"text-align: right;\">\n",
       "      <th></th>\n",
       "      <th>model</th>\n",
       "      <th>name</th>\n",
       "      <th>train_accuracy</th>\n",
       "      <th>test_accuracy</th>\n",
       "      <th>train_f1</th>\n",
       "      <th>test_f1</th>\n",
       "    </tr>\n",
       "  </thead>\n",
       "  <tbody>\n",
       "    <tr>\n",
       "      <th>7</th>\n",
       "      <td>(DecisionTreeClassifier(max_features='auto', random_state=1165313289), DecisionTreeClassifier(ma...</td>\n",
       "      <td>Random Forest Out of the Box</td>\n",
       "      <td>0.9911</td>\n",
       "      <td>0.8421</td>\n",
       "      <td>0.9911</td>\n",
       "      <td>0.8421</td>\n",
       "    </tr>\n",
       "    <tr>\n",
       "      <th>8</th>\n",
       "      <td>(DecisionTreeClassifier(max_features='auto', random_state=1165313289), DecisionTreeClassifier(ma...</td>\n",
       "      <td>Random Forest Balanced</td>\n",
       "      <td>0.9911</td>\n",
       "      <td>0.8421</td>\n",
       "      <td>0.9911</td>\n",
       "      <td>0.8421</td>\n",
       "    </tr>\n",
       "    <tr>\n",
       "      <th>9</th>\n",
       "      <td>(DecisionTreeClassifier(max_features='auto', random_state=1165313289), DecisionTreeClassifier(ma...</td>\n",
       "      <td>Random Forest Balanced Subsample</td>\n",
       "      <td>0.9911</td>\n",
       "      <td>0.8421</td>\n",
       "      <td>0.9911</td>\n",
       "      <td>0.8421</td>\n",
       "    </tr>\n",
       "    <tr>\n",
       "      <th>0</th>\n",
       "      <td>LogisticRegression()</td>\n",
       "      <td>Log Reg Out of the Box</td>\n",
       "      <td>0.7589</td>\n",
       "      <td>0.7105</td>\n",
       "      <td>0.7589</td>\n",
       "      <td>0.7105</td>\n",
       "    </tr>\n",
       "    <tr>\n",
       "      <th>2</th>\n",
       "      <td>LogisticRegression(max_iter=10000)</td>\n",
       "      <td>Log reg model with 4 PCA features</td>\n",
       "      <td>0.6429</td>\n",
       "      <td>0.6579</td>\n",
       "      <td>0.6084</td>\n",
       "      <td>0.6270</td>\n",
       "    </tr>\n",
       "    <tr>\n",
       "      <th>3</th>\n",
       "      <td>LogisticRegression(max_iter=10000)</td>\n",
       "      <td>Log reg model with 7 PCA features</td>\n",
       "      <td>0.6786</td>\n",
       "      <td>0.6579</td>\n",
       "      <td>0.6455</td>\n",
       "      <td>0.6431</td>\n",
       "    </tr>\n",
       "    <tr>\n",
       "      <th>5</th>\n",
       "      <td>LogisticRegression(max_iter=10000)</td>\n",
       "      <td>Log reg model with 17 PCA features</td>\n",
       "      <td>0.7500</td>\n",
       "      <td>0.6579</td>\n",
       "      <td>0.7464</td>\n",
       "      <td>0.6174</td>\n",
       "    </tr>\n",
       "    <tr>\n",
       "      <th>6</th>\n",
       "      <td>GridSearchCV(cv=3, estimator=LogisticRegression(),\\n             param_grid={'C': [100, 10, 1.0,...</td>\n",
       "      <td>Log Reg w/ GridSearch</td>\n",
       "      <td>0.7411</td>\n",
       "      <td>0.6579</td>\n",
       "      <td>0.7411</td>\n",
       "      <td>0.6579</td>\n",
       "    </tr>\n",
       "    <tr>\n",
       "      <th>1</th>\n",
       "      <td>LogisticRegression(max_iter=10000)</td>\n",
       "      <td>Log reg model with 2 PCA features</td>\n",
       "      <td>0.5089</td>\n",
       "      <td>0.6316</td>\n",
       "      <td>0.4724</td>\n",
       "      <td>0.5834</td>\n",
       "    </tr>\n",
       "    <tr>\n",
       "      <th>4</th>\n",
       "      <td>LogisticRegression(max_iter=10000)</td>\n",
       "      <td>Log reg model with 12 PCA features</td>\n",
       "      <td>0.7232</td>\n",
       "      <td>0.6316</td>\n",
       "      <td>0.7206</td>\n",
       "      <td>0.6222</td>\n",
       "    </tr>\n",
       "    <tr>\n",
       "      <th>10</th>\n",
       "      <td>(DecisionTreeClassifier(max_features='auto', random_state=1165313289), DecisionTreeClassifier(ma...</td>\n",
       "      <td>Balanced Random Forest Classifier</td>\n",
       "      <td>0.7679</td>\n",
       "      <td>0.6053</td>\n",
       "      <td>0.7679</td>\n",
       "      <td>0.6053</td>\n",
       "    </tr>\n",
       "    <tr>\n",
       "      <th>11</th>\n",
       "      <td>RandomizedSearchCV(cv=3,\\n                   estimator=RandomForestClassifier(class_weight='bala...</td>\n",
       "      <td>Random Forest Balanced RandomSearch</td>\n",
       "      <td>0.9911</td>\n",
       "      <td>0.6053</td>\n",
       "      <td>0.9911</td>\n",
       "      <td>0.6053</td>\n",
       "    </tr>\n",
       "  </tbody>\n",
       "</table>\n",
       "</div>"
      ],
      "text/plain": [
       "                                                                                                  model  \\\n",
       "7   (DecisionTreeClassifier(max_features='auto', random_state=1165313289), DecisionTreeClassifier(ma...   \n",
       "8   (DecisionTreeClassifier(max_features='auto', random_state=1165313289), DecisionTreeClassifier(ma...   \n",
       "9   (DecisionTreeClassifier(max_features='auto', random_state=1165313289), DecisionTreeClassifier(ma...   \n",
       "0                                                                                  LogisticRegression()   \n",
       "2                                                                    LogisticRegression(max_iter=10000)   \n",
       "3                                                                    LogisticRegression(max_iter=10000)   \n",
       "5                                                                    LogisticRegression(max_iter=10000)   \n",
       "6   GridSearchCV(cv=3, estimator=LogisticRegression(),\\n             param_grid={'C': [100, 10, 1.0,...   \n",
       "1                                                                    LogisticRegression(max_iter=10000)   \n",
       "4                                                                    LogisticRegression(max_iter=10000)   \n",
       "10  (DecisionTreeClassifier(max_features='auto', random_state=1165313289), DecisionTreeClassifier(ma...   \n",
       "11  RandomizedSearchCV(cv=3,\\n                   estimator=RandomForestClassifier(class_weight='bala...   \n",
       "\n",
       "                                   name  train_accuracy  test_accuracy  \\\n",
       "7          Random Forest Out of the Box          0.9911         0.8421   \n",
       "8                Random Forest Balanced          0.9911         0.8421   \n",
       "9      Random Forest Balanced Subsample          0.9911         0.8421   \n",
       "0                Log Reg Out of the Box          0.7589         0.7105   \n",
       "2     Log reg model with 4 PCA features          0.6429         0.6579   \n",
       "3     Log reg model with 7 PCA features          0.6786         0.6579   \n",
       "5    Log reg model with 17 PCA features          0.7500         0.6579   \n",
       "6                 Log Reg w/ GridSearch          0.7411         0.6579   \n",
       "1     Log reg model with 2 PCA features          0.5089         0.6316   \n",
       "4    Log reg model with 12 PCA features          0.7232         0.6316   \n",
       "10    Balanced Random Forest Classifier          0.7679         0.6053   \n",
       "11  Random Forest Balanced RandomSearch          0.9911         0.6053   \n",
       "\n",
       "    train_f1  test_f1  \n",
       "7     0.9911   0.8421  \n",
       "8     0.9911   0.8421  \n",
       "9     0.9911   0.8421  \n",
       "0     0.7589   0.7105  \n",
       "2     0.6084   0.6270  \n",
       "3     0.6455   0.6431  \n",
       "5     0.7464   0.6174  \n",
       "6     0.7411   0.6579  \n",
       "1     0.4724   0.5834  \n",
       "4     0.7206   0.6222  \n",
       "10    0.7679   0.6053  \n",
       "11    0.9911   0.6053  "
      ]
     },
     "execution_count": 45,
     "metadata": {},
     "output_type": "execute_result"
    }
   ],
   "source": [
    "results.sort_values('test_accuracy', ascending = False).head(15)"
   ]
  },
  {
   "cell_type": "markdown",
   "metadata": {},
   "source": [
    "<a class=\"anchor\" id=\"features\"></a>\n",
    "### 5.4 Finding Important Features"
   ]
  },
  {
   "cell_type": "code",
   "execution_count": 46,
   "metadata": {},
   "outputs": [
    {
     "data": {
      "text/plain": [
       "Moisture                                    0.267662\n",
       "Mean Altitude (m)                           0.247171\n",
       "Harvest Year                                0.073540\n",
       "Country of Origin_Other                     0.071899\n",
       "Country of Origin_Guatemala                 0.046501\n",
       "Processing Method_Washed / Wet              0.045999\n",
       "Variety_Other                               0.037284\n",
       "Color_Green                                 0.032623\n",
       "Variety_Caturra                             0.030219\n",
       "Variety_Catuai                              0.026511\n",
       "Country of Origin_Ethiopia                  0.024923\n",
       "Country of Origin_Colombia                  0.019432\n",
       "Color_None                                  0.019325\n",
       "Variety_SL28                                0.015218\n",
       "Country of Origin_Costa Rica                0.013778\n",
       "Processing Method_Pulped natural / honey    0.009939\n",
       "Color_Yellow-Green                          0.009094\n",
       "Color_Greenish                              0.005727\n",
       "Processing Method_Other                     0.003154\n",
       "dtype: float64"
      ]
     },
     "execution_count": 46,
     "metadata": {},
     "output_type": "execute_result"
    }
   ],
   "source": [
    "#Finding Important Features:\n",
    "feature_imp = pd.Series(rfc_balanced.feature_importances_,index=X_dumm.columns).sort_values(ascending=False)\n",
    "feature_imp"
   ]
  },
  {
   "cell_type": "code",
   "execution_count": 47,
   "metadata": {},
   "outputs": [
    {
     "data": {
      "image/png": "[encoded data removed]",
      "text/plain": [
       "<Figure size 720x720 with 1 Axes>"
      ]
     },
     "metadata": {
      "needs_background": "light"
     },
     "output_type": "display_data"
    }
   ],
   "source": [
    "#Visualizing Important Features\n",
    "\n",
    "%matplotlib inline\n",
    "# Creating a bar plot\n",
    "fig, ax = plt.subplots(figsize=(10,10))\n",
    "sns.barplot(x=feature_imp, y=feature_imp.index)\n",
    "\n",
    "# Add labels to your graph\n",
    "plt.xlabel('Feature Importance Score')\n",
    "plt.ylabel('Features')\n",
    "plt.title(\"Visualizing Important Features\")\n",
    "plt.show()"
   ]
  },
  {
   "cell_type": "code",
   "execution_count": 48,
   "metadata": {},
   "outputs": [],
   "source": [
    "#sorting features by importance\n",
    "feat_sorted_idx = np.argsort(feature_imp)"
   ]
  },
  {
   "cell_type": "code",
   "execution_count": 49,
   "metadata": {},
   "outputs": [
    {
     "data": {
      "text/plain": [
       "(Index(['Harvest Year', 'Mean Altitude (m)'], dtype='object'),\n",
       " Index(['Country of Origin_Colombia', 'Moisture', 'Harvest Year',\n",
       "        'Mean Altitude (m)'],\n",
       "       dtype='object'),\n",
       " Index(['Variety_Caturra', 'Variety_Catuai', 'Country of Origin_Other',\n",
       "        'Country of Origin_Guatemala', 'Country of Origin_Ethiopia',\n",
       "        'Country of Origin_Costa Rica', 'Country of Origin_Colombia',\n",
       "        'Moisture', 'Harvest Year', 'Mean Altitude (m)'],\n",
       "       dtype='object'))"
      ]
     },
     "execution_count": 49,
     "metadata": {},
     "output_type": "execute_result"
    }
   ],
   "source": [
    "# Choosing most important top 4,9,and 13 features.\n",
    "top2_feat = X_dumm.columns[feat_sorted_idx][-2:]\n",
    "top4_feat = X_dumm.columns[feat_sorted_idx][-4:]\n",
    "top10_feat = X_dumm.columns[feat_sorted_idx][-10:]\n",
    "top2_feat, top4_feat, top10_feat"
   ]
  },
  {
   "cell_type": "code",
   "execution_count": 50,
   "metadata": {},
   "outputs": [
    {
     "name": "stdout",
     "output_type": "stream",
     "text": [
      "The Predictive features subsets have 2, 4, and 10 features respectively.\n"
     ]
    }
   ],
   "source": [
    "print('The Predictive features subsets have {}, {}, and {} features respectively.'.format(len(top2_feat), len(top4_feat), len(top10_feat)))"
   ]
  },
  {
   "cell_type": "code",
   "execution_count": 51,
   "metadata": {},
   "outputs": [
    {
     "name": "stdout",
     "output_type": "stream",
     "text": [
      "----------Random forest model on train set with 2 most important features-------\n",
      "RandomForestClassifier(random_state=10)\n",
      "Train - Accuracy: 0.8482\n",
      "Test - Accuracy: 0.5\n",
      "Validation - Classification report\n",
      "                   precision    recall  f1-score   support\n",
      "\n",
      "Grade 3 or Lower       0.00      0.00      0.00         5\n",
      "         Premium       0.52      0.81      0.63        16\n",
      "       Specialty       0.67      0.35      0.46        17\n",
      "\n",
      "        accuracy                           0.50        38\n",
      "       macro avg       0.40      0.39      0.37        38\n",
      "    weighted avg       0.52      0.50      0.47        38\n",
      "\n"
     ]
    },
    {
     "data": {
      "text/plain": [
       "<Figure size 648x648 with 0 Axes>"
      ]
     },
     "metadata": {},
     "output_type": "display_data"
    },
    {
     "data": {
      "image/png": "[encoded data removed]",
      "text/plain": [
       "<Figure size 432x288 with 2 Axes>"
      ]
     },
     "metadata": {
      "needs_background": "light"
     },
     "output_type": "display_data"
    },
    {
     "name": "stdout",
     "output_type": "stream",
     "text": [
      "Train Cohen Kappa: 0.7153\n",
      "Test Cohen Kappa: 0.1711\n",
      "RandomForestClassifier(class_weight='balanced', random_state=10)\n",
      "Train - Accuracy: 0.8393\n",
      "Test - Accuracy: 0.5263\n",
      "Validation - Classification report\n",
      "                   precision    recall  f1-score   support\n",
      "\n",
      "Grade 3 or Lower       0.29      0.40      0.33         5\n",
      "         Premium       0.52      0.75      0.62        16\n",
      "       Specialty       0.75      0.35      0.48        17\n",
      "\n",
      "        accuracy                           0.53        38\n",
      "       macro avg       0.52      0.50      0.48        38\n",
      "    weighted avg       0.59      0.53      0.52        38\n",
      "\n"
     ]
    },
    {
     "data": {
      "text/plain": [
       "<Figure size 648x648 with 0 Axes>"
      ]
     },
     "metadata": {},
     "output_type": "display_data"
    },
    {
     "data": {
      "image/png": "[encoded data removed]",
      "text/plain": [
       "<Figure size 432x288 with 2 Axes>"
      ]
     },
     "metadata": {
      "needs_background": "light"
     },
     "output_type": "display_data"
    },
    {
     "name": "stdout",
     "output_type": "stream",
     "text": [
      "Train Cohen Kappa: 0.7122\n",
      "Test Cohen Kappa: 0.2442\n",
      "----------Random forest model on train set with 4 most important features-------\n",
      "RandomForestClassifier(random_state=10)\n",
      "Train - Accuracy: 0.9643\n",
      "Test - Accuracy: 0.6053\n",
      "Validation - Classification report\n",
      "                   precision    recall  f1-score   support\n",
      "\n",
      "Grade 3 or Lower       1.00      1.00      1.00         4\n",
      "         Premium       0.57      0.67      0.62        18\n",
      "       Specialty       0.54      0.44      0.48        16\n",
      "\n",
      "        accuracy                           0.61        38\n",
      "       macro avg       0.70      0.70      0.70        38\n",
      "    weighted avg       0.60      0.61      0.60        38\n",
      "\n"
     ]
    },
    {
     "data": {
      "text/plain": [
       "<Figure size 648x648 with 0 Axes>"
      ]
     },
     "metadata": {},
     "output_type": "display_data"
    },
    {
     "data": {
      "image/png": "[encoded data removed]",
      "text/plain": [
       "<Figure size 432x288 with 2 Axes>"
      ]
     },
     "metadata": {
      "needs_background": "light"
     },
     "output_type": "display_data"
    },
    {
     "name": "stdout",
     "output_type": "stream",
     "text": [
      "Train Cohen Kappa: 0.9358\n",
      "Test Cohen Kappa: 0.323\n",
      "RandomForestClassifier(class_weight='balanced', random_state=10)\n",
      "Train - Accuracy: 0.9643\n",
      "Test - Accuracy: 0.6579\n",
      "Validation - Classification report\n",
      "                   precision    recall  f1-score   support\n",
      "\n",
      "Grade 3 or Lower       1.00      1.00      1.00         4\n",
      "         Premium       0.61      0.78      0.68        18\n",
      "       Specialty       0.64      0.44      0.52        16\n",
      "\n",
      "        accuracy                           0.66        38\n",
      "       macro avg       0.75      0.74      0.73        38\n",
      "    weighted avg       0.66      0.66      0.65        38\n",
      "\n"
     ]
    },
    {
     "data": {
      "text/plain": [
       "<Figure size 648x648 with 0 Axes>"
      ]
     },
     "metadata": {},
     "output_type": "display_data"
    },
    {
     "data": {
      "image/png": "[encoded data removed]",
      "text/plain": [
       "<Figure size 432x288 with 2 Axes>"
      ]
     },
     "metadata": {
      "needs_background": "light"
     },
     "output_type": "display_data"
    },
    {
     "name": "stdout",
     "output_type": "stream",
     "text": [
      "Train Cohen Kappa: 0.9358\n",
      "Test Cohen Kappa: 0.4105\n",
      "----------Random forest model on train set with 10 most important features-------\n",
      "RandomForestClassifier(random_state=10)\n",
      "Train - Accuracy: 0.9911\n",
      "Test - Accuracy: 0.7105\n",
      "Validation - Classification report\n",
      "                   precision    recall  f1-score   support\n",
      "\n",
      "Grade 3 or Lower       0.50      0.50      0.50         2\n",
      "         Premium       0.68      0.83      0.75        18\n",
      "       Specialty       0.79      0.61      0.69        18\n",
      "\n",
      "        accuracy                           0.71        38\n",
      "       macro avg       0.66      0.65      0.65        38\n",
      "    weighted avg       0.72      0.71      0.71        38\n",
      "\n"
     ]
    },
    {
     "data": {
      "text/plain": [
       "<Figure size 648x648 with 0 Axes>"
      ]
     },
     "metadata": {},
     "output_type": "display_data"
    },
    {
     "data": {
      "image/png": "[encoded data removed]",
      "text/plain": [
       "<Figure size 432x288 with 2 Axes>"
      ]
     },
     "metadata": {
      "needs_background": "light"
     },
     "output_type": "display_data"
    },
    {
     "name": "stdout",
     "output_type": "stream",
     "text": [
      "Train Cohen Kappa: 0.9841\n",
      "Test Cohen Kappa: 0.4722\n",
      "RandomForestClassifier(class_weight='balanced', random_state=10)\n",
      "Train - Accuracy: 0.9911\n",
      "Test - Accuracy: 0.7105\n",
      "Validation - Classification report\n",
      "                   precision    recall  f1-score   support\n",
      "\n",
      "Grade 3 or Lower       0.50      0.50      0.50         2\n",
      "         Premium       0.68      0.83      0.75        18\n",
      "       Specialty       0.79      0.61      0.69        18\n",
      "\n",
      "        accuracy                           0.71        38\n",
      "       macro avg       0.66      0.65      0.65        38\n",
      "    weighted avg       0.72      0.71      0.71        38\n",
      "\n"
     ]
    },
    {
     "data": {
      "text/plain": [
       "<Figure size 648x648 with 0 Axes>"
      ]
     },
     "metadata": {},
     "output_type": "display_data"
    },
    {
     "data": {
      "image/png": "[encoded data removed]",
      "text/plain": [
       "<Figure size 432x288 with 2 Axes>"
      ]
     },
     "metadata": {
      "needs_background": "light"
     },
     "output_type": "display_data"
    },
    {
     "name": "stdout",
     "output_type": "stream",
     "text": [
      "Train Cohen Kappa: 0.9841\n",
      "Test Cohen Kappa: 0.4722\n"
     ]
    }
   ],
   "source": [
    "def selecting_features():\n",
    "    for columns_set in [top2_feat, top4_feat, top10_feat]:\n",
    "        X = X_dumm[columns_set]\n",
    "        X_train, X_test, y_train, y_test = train_test_split(X, y, test_size = 0.25)\n",
    "        print('----------Random forest model on train set with {} most important features-------'.format(len(columns_set)))\n",
    "        for rfc_model in [rfc, rfc_balanced]:\n",
    "            print(rfc_model)\n",
    "            rfc_model.fit(X_train, y_train)\n",
    "            y_pred = rfc_model.predict(X_test)\n",
    "            \n",
    "            y_tr_pred = rfc_model.predict(X_train)\n",
    "    \n",
    "            train_acc = round(accuracy_score(y_train,y_tr_pred),4)\n",
    "            test_acc = round(accuracy_score(y_test,y_pred),4)\n",
    "            train_f1 = round(f1_score(y_train, y_tr_pred, average = 'weighted'),4)\n",
    "            test_f1 = round(f1_score(y_test, y_pred, average = 'weighted'),4)\n",
    "            \n",
    "            print(\"Train - Accuracy:\", train_acc)\n",
    "            print(\"Test - Accuracy:\", test_acc)\n",
    "            print('Validation - Classification report\\n', classification_report(y_test,y_pred))\n",
    "            plt.figure(figsize=(9,9))\n",
    "            plot_confusion_matrix(rfc_model, X_test, y_test, normalize='true', cmap = 'Blues')\n",
    "            plt.show()\n",
    "            \n",
    "            y_pred_prob = rfc_model.predict_proba(X_test)[:,1]\n",
    "            y_tr_pred_prob = rfc_model.predict_proba(X_train)[:,1]\n",
    "            \n",
    "            train_cohen = round(cohen_kappa_score(y_train, y_tr_pred),4)\n",
    "            test_cohen = round(cohen_kappa_score(y_test, y_pred),4)\n",
    "        \n",
    "            #train_roc_score = round(roc_auc_score(y_train, y_tr_pred_prob),4)\n",
    "            #test_roc_score = round(roc_auc_score(y_test, y_pred_prob),4)\n",
    "        \n",
    "            print('Train Cohen Kappa: {}'.format(train_cohen))\n",
    "            print('Test Cohen Kappa: {}'.format(test_cohen))\n",
    "            \n",
    "            name = '{} with top {} features'.format(rfc_model, len(columns_set))\n",
    "            \n",
    "            new_row = {'model':rfc_model,\n",
    "                       'name': name,\n",
    "               'train_accuracy': train_acc,\n",
    "               'test_accuracy': test_acc,\n",
    "               'train_f1': train_f1,\n",
    "               'test_f1': test_f1}\n",
    "            results.loc[0 if pd.isnull(results.index.max()) else results.index.max() + 1] = new_row\n",
    "            \n",
    "selecting_features()"
   ]
  },
  {
   "cell_type": "code",
   "execution_count": 52,
   "metadata": {},
   "outputs": [
    {
     "data": {
      "text/html": [
       "<div>\n",
       "<style scoped>\n",
       "    .dataframe tbody tr th:only-of-type {\n",
       "        vertical-align: middle;\n",
       "    }\n",
       "\n",
       "    .dataframe tbody tr th {\n",
       "        vertical-align: top;\n",
       "    }\n",
       "\n",
       "    .dataframe thead th {\n",
       "        text-align: right;\n",
       "    }\n",
       "</style>\n",
       "<table border=\"1\" class=\"dataframe\">\n",
       "  <thead>\n",
       "    <tr style=\"text-align: right;\">\n",
       "      <th></th>\n",
       "      <th>model</th>\n",
       "      <th>name</th>\n",
       "      <th>train_accuracy</th>\n",
       "      <th>test_accuracy</th>\n",
       "      <th>train_f1</th>\n",
       "      <th>test_f1</th>\n",
       "    </tr>\n",
       "  </thead>\n",
       "  <tbody>\n",
       "    <tr>\n",
       "      <th>9</th>\n",
       "      <td>(DecisionTreeClassifier(max_features='auto', random_state=1165313289), DecisionTreeClassifier(ma...</td>\n",
       "      <td>Random Forest Balanced Subsample</td>\n",
       "      <td>0.9911</td>\n",
       "      <td>0.8421</td>\n",
       "      <td>0.9911</td>\n",
       "      <td>0.8421</td>\n",
       "    </tr>\n",
       "    <tr>\n",
       "      <th>7</th>\n",
       "      <td>(DecisionTreeClassifier(max_features='auto', random_state=1165313289), DecisionTreeClassifier(ma...</td>\n",
       "      <td>Random Forest Out of the Box</td>\n",
       "      <td>0.9911</td>\n",
       "      <td>0.8421</td>\n",
       "      <td>0.9911</td>\n",
       "      <td>0.8421</td>\n",
       "    </tr>\n",
       "    <tr>\n",
       "      <th>8</th>\n",
       "      <td>(DecisionTreeClassifier(max_features='auto', random_state=1165313289), DecisionTreeClassifier(ma...</td>\n",
       "      <td>Random Forest Balanced</td>\n",
       "      <td>0.9911</td>\n",
       "      <td>0.8421</td>\n",
       "      <td>0.9911</td>\n",
       "      <td>0.8421</td>\n",
       "    </tr>\n",
       "    <tr>\n",
       "      <th>16</th>\n",
       "      <td>(DecisionTreeClassifier(max_features='auto', random_state=1165313289), DecisionTreeClassifier(ma...</td>\n",
       "      <td>RandomForestClassifier(random_state=10) with top 10 features</td>\n",
       "      <td>0.9911</td>\n",
       "      <td>0.7105</td>\n",
       "      <td>0.9909</td>\n",
       "      <td>0.7072</td>\n",
       "    </tr>\n",
       "    <tr>\n",
       "      <th>0</th>\n",
       "      <td>LogisticRegression()</td>\n",
       "      <td>Log Reg Out of the Box</td>\n",
       "      <td>0.7589</td>\n",
       "      <td>0.7105</td>\n",
       "      <td>0.7589</td>\n",
       "      <td>0.7105</td>\n",
       "    </tr>\n",
       "    <tr>\n",
       "      <th>17</th>\n",
       "      <td>(DecisionTreeClassifier(max_features='auto', random_state=1165313289), DecisionTreeClassifier(ma...</td>\n",
       "      <td>RandomForestClassifier(class_weight='balanced', random_state=10) with top 10 features</td>\n",
       "      <td>0.9911</td>\n",
       "      <td>0.7105</td>\n",
       "      <td>0.9909</td>\n",
       "      <td>0.7072</td>\n",
       "    </tr>\n",
       "    <tr>\n",
       "      <th>5</th>\n",
       "      <td>LogisticRegression(max_iter=10000)</td>\n",
       "      <td>Log reg model with 17 PCA features</td>\n",
       "      <td>0.7500</td>\n",
       "      <td>0.6579</td>\n",
       "      <td>0.7464</td>\n",
       "      <td>0.6174</td>\n",
       "    </tr>\n",
       "    <tr>\n",
       "      <th>6</th>\n",
       "      <td>GridSearchCV(cv=3, estimator=LogisticRegression(),\\n             param_grid={'C': [100, 10, 1.0,...</td>\n",
       "      <td>Log Reg w/ GridSearch</td>\n",
       "      <td>0.7411</td>\n",
       "      <td>0.6579</td>\n",
       "      <td>0.7411</td>\n",
       "      <td>0.6579</td>\n",
       "    </tr>\n",
       "    <tr>\n",
       "      <th>3</th>\n",
       "      <td>LogisticRegression(max_iter=10000)</td>\n",
       "      <td>Log reg model with 7 PCA features</td>\n",
       "      <td>0.6786</td>\n",
       "      <td>0.6579</td>\n",
       "      <td>0.6455</td>\n",
       "      <td>0.6431</td>\n",
       "    </tr>\n",
       "    <tr>\n",
       "      <th>15</th>\n",
       "      <td>(DecisionTreeClassifier(max_features='auto', random_state=1165313289), DecisionTreeClassifier(ma...</td>\n",
       "      <td>RandomForestClassifier(class_weight='balanced', random_state=10) with top 4 features</td>\n",
       "      <td>0.9643</td>\n",
       "      <td>0.6579</td>\n",
       "      <td>0.9643</td>\n",
       "      <td>0.6471</td>\n",
       "    </tr>\n",
       "    <tr>\n",
       "      <th>2</th>\n",
       "      <td>LogisticRegression(max_iter=10000)</td>\n",
       "      <td>Log reg model with 4 PCA features</td>\n",
       "      <td>0.6429</td>\n",
       "      <td>0.6579</td>\n",
       "      <td>0.6084</td>\n",
       "      <td>0.6270</td>\n",
       "    </tr>\n",
       "    <tr>\n",
       "      <th>4</th>\n",
       "      <td>LogisticRegression(max_iter=10000)</td>\n",
       "      <td>Log reg model with 12 PCA features</td>\n",
       "      <td>0.7232</td>\n",
       "      <td>0.6316</td>\n",
       "      <td>0.7206</td>\n",
       "      <td>0.6222</td>\n",
       "    </tr>\n",
       "    <tr>\n",
       "      <th>1</th>\n",
       "      <td>LogisticRegression(max_iter=10000)</td>\n",
       "      <td>Log reg model with 2 PCA features</td>\n",
       "      <td>0.5089</td>\n",
       "      <td>0.6316</td>\n",
       "      <td>0.4724</td>\n",
       "      <td>0.5834</td>\n",
       "    </tr>\n",
       "    <tr>\n",
       "      <th>10</th>\n",
       "      <td>(DecisionTreeClassifier(max_features='auto', random_state=1165313289), DecisionTreeClassifier(ma...</td>\n",
       "      <td>Balanced Random Forest Classifier</td>\n",
       "      <td>0.7679</td>\n",
       "      <td>0.6053</td>\n",
       "      <td>0.7679</td>\n",
       "      <td>0.6053</td>\n",
       "    </tr>\n",
       "    <tr>\n",
       "      <th>11</th>\n",
       "      <td>RandomizedSearchCV(cv=3,\\n                   estimator=RandomForestClassifier(class_weight='bala...</td>\n",
       "      <td>Random Forest Balanced RandomSearch</td>\n",
       "      <td>0.9911</td>\n",
       "      <td>0.6053</td>\n",
       "      <td>0.9911</td>\n",
       "      <td>0.6053</td>\n",
       "    </tr>\n",
       "  </tbody>\n",
       "</table>\n",
       "</div>"
      ],
      "text/plain": [
       "                                                                                                  model  \\\n",
       "9   (DecisionTreeClassifier(max_features='auto', random_state=1165313289), DecisionTreeClassifier(ma...   \n",
       "7   (DecisionTreeClassifier(max_features='auto', random_state=1165313289), DecisionTreeClassifier(ma...   \n",
       "8   (DecisionTreeClassifier(max_features='auto', random_state=1165313289), DecisionTreeClassifier(ma...   \n",
       "16  (DecisionTreeClassifier(max_features='auto', random_state=1165313289), DecisionTreeClassifier(ma...   \n",
       "0                                                                                  LogisticRegression()   \n",
       "17  (DecisionTreeClassifier(max_features='auto', random_state=1165313289), DecisionTreeClassifier(ma...   \n",
       "5                                                                    LogisticRegression(max_iter=10000)   \n",
       "6   GridSearchCV(cv=3, estimator=LogisticRegression(),\\n             param_grid={'C': [100, 10, 1.0,...   \n",
       "3                                                                    LogisticRegression(max_iter=10000)   \n",
       "15  (DecisionTreeClassifier(max_features='auto', random_state=1165313289), DecisionTreeClassifier(ma...   \n",
       "2                                                                    LogisticRegression(max_iter=10000)   \n",
       "4                                                                    LogisticRegression(max_iter=10000)   \n",
       "1                                                                    LogisticRegression(max_iter=10000)   \n",
       "10  (DecisionTreeClassifier(max_features='auto', random_state=1165313289), DecisionTreeClassifier(ma...   \n",
       "11  RandomizedSearchCV(cv=3,\\n                   estimator=RandomForestClassifier(class_weight='bala...   \n",
       "\n",
       "                                                                                     name  \\\n",
       "9                                                        Random Forest Balanced Subsample   \n",
       "7                                                            Random Forest Out of the Box   \n",
       "8                                                                  Random Forest Balanced   \n",
       "16                           RandomForestClassifier(random_state=10) with top 10 features   \n",
       "0                                                                  Log Reg Out of the Box   \n",
       "17  RandomForestClassifier(class_weight='balanced', random_state=10) with top 10 features   \n",
       "5                                                      Log reg model with 17 PCA features   \n",
       "6                                                                   Log Reg w/ GridSearch   \n",
       "3                                                       Log reg model with 7 PCA features   \n",
       "15   RandomForestClassifier(class_weight='balanced', random_state=10) with top 4 features   \n",
       "2                                                       Log reg model with 4 PCA features   \n",
       "4                                                      Log reg model with 12 PCA features   \n",
       "1                                                       Log reg model with 2 PCA features   \n",
       "10                                                      Balanced Random Forest Classifier   \n",
       "11                                                    Random Forest Balanced RandomSearch   \n",
       "\n",
       "    train_accuracy  test_accuracy  train_f1  test_f1  \n",
       "9           0.9911         0.8421    0.9911   0.8421  \n",
       "7           0.9911         0.8421    0.9911   0.8421  \n",
       "8           0.9911         0.8421    0.9911   0.8421  \n",
       "16          0.9911         0.7105    0.9909   0.7072  \n",
       "0           0.7589         0.7105    0.7589   0.7105  \n",
       "17          0.9911         0.7105    0.9909   0.7072  \n",
       "5           0.7500         0.6579    0.7464   0.6174  \n",
       "6           0.7411         0.6579    0.7411   0.6579  \n",
       "3           0.6786         0.6579    0.6455   0.6431  \n",
       "15          0.9643         0.6579    0.9643   0.6471  \n",
       "2           0.6429         0.6579    0.6084   0.6270  \n",
       "4           0.7232         0.6316    0.7206   0.6222  \n",
       "1           0.5089         0.6316    0.4724   0.5834  \n",
       "10          0.7679         0.6053    0.7679   0.6053  \n",
       "11          0.9911         0.6053    0.9911   0.6053  "
      ]
     },
     "execution_count": 52,
     "metadata": {},
     "output_type": "execute_result"
    }
   ],
   "source": [
    "results.sort_values('test_accuracy', ascending = False).head(15)"
   ]
  },
  {
   "cell_type": "markdown",
   "metadata": {},
   "source": [
    "Based on our results, the best reduced-feature model was produced by the reducing the number of features to 4 but it does not give a better model performance than our original models."
   ]
  },
  {
   "cell_type": "markdown",
   "metadata": {},
   "source": [
    "<a class=\"anchor\" id=\"gb\"></a>\n",
    "\n",
    "## 6. Gradient Boosting Model"
   ]
  },
  {
   "cell_type": "markdown",
   "metadata": {},
   "source": [
    "Pros: \n",
    "    good for heterogeneous data\n",
    "    easy to use\n",
    "    works well for small data\n",
    "    "
   ]
  },
  {
   "cell_type": "markdown",
   "metadata": {},
   "source": [
    "<a class=\"anchor\" id=\"gb_ootb\"></a>\n",
    "\n",
    "### 6.1 Gradient Boosting Model - Out of the Box"
   ]
  },
  {
   "cell_type": "code",
   "execution_count": 53,
   "metadata": {},
   "outputs": [],
   "source": [
    "gbc = GradientBoostingClassifier()\n",
    "gbc.fit(X_train,y_train)\n",
    "y_pred = gbc.predict(X_test)"
   ]
  },
  {
   "cell_type": "code",
   "execution_count": 54,
   "metadata": {},
   "outputs": [
    {
     "name": "stdout",
     "output_type": "stream",
     "text": [
      "Train - Accuracy: 0.9732\n",
      "Test - Accuracy: 0.7632\n",
      "Train - F1: 0.9731\n",
      "Test - F1: 0.7604\n",
      "Validation - Classification report\n",
      "                   precision    recall  f1-score   support\n",
      "\n",
      "Grade 3 or Lower       0.50      0.50      0.50         2\n",
      "         Premium       0.78      0.86      0.82        21\n",
      "       Specialty       0.77      0.67      0.71        15\n",
      "\n",
      "        accuracy                           0.76        38\n",
      "       macro avg       0.68      0.67      0.68        38\n",
      "    weighted avg       0.76      0.76      0.76        38\n",
      "\n"
     ]
    },
    {
     "data": {
      "text/plain": [
       "<Figure size 648x648 with 0 Axes>"
      ]
     },
     "metadata": {},
     "output_type": "display_data"
    },
    {
     "data": {
      "image/png": "[encoded data removed]",
      "text/plain": [
       "<Figure size 432x288 with 2 Axes>"
      ]
     },
     "metadata": {
      "needs_background": "light"
     },
     "output_type": "display_data"
    }
   ],
   "source": [
    "evaluation_block(gbc)"
   ]
  },
  {
   "cell_type": "code",
   "execution_count": 55,
   "metadata": {},
   "outputs": [],
   "source": [
    "save_scores(gbc, 'Gradient Boosting Out of the Box')"
   ]
  },
  {
   "cell_type": "markdown",
   "metadata": {},
   "source": [
    "<a class=\"anchor\" id=\"gb_tuning\"></a>\n",
    "\n",
    "### 6.2 Tuning Hyperparameters of Gradient Boosting Model"
   ]
  },
  {
   "cell_type": "code",
   "execution_count": 56,
   "metadata": {},
   "outputs": [
    {
     "name": "stdout",
     "output_type": "stream",
     "text": [
      "Parameters currently in use:\n",
      "\n",
      "{'ccp_alpha': 0.0,\n",
      " 'criterion': 'friedman_mse',\n",
      " 'init': None,\n",
      " 'learning_rate': 0.1,\n",
      " 'loss': 'deviance',\n",
      " 'max_depth': 3,\n",
      " 'max_features': None,\n",
      " 'max_leaf_nodes': None,\n",
      " 'min_impurity_decrease': 0.0,\n",
      " 'min_impurity_split': None,\n",
      " 'min_samples_leaf': 1,\n",
      " 'min_samples_split': 2,\n",
      " 'min_weight_fraction_leaf': 0.0,\n",
      " 'n_estimators': 100,\n",
      " 'n_iter_no_change': None,\n",
      " 'random_state': None,\n",
      " 'subsample': 1.0,\n",
      " 'tol': 0.0001,\n",
      " 'validation_fraction': 0.1,\n",
      " 'verbose': 0,\n",
      " 'warm_start': False}\n"
     ]
    }
   ],
   "source": [
    "#Check out parameters currently in use\n",
    "print('Parameters currently in use:\\n')\n",
    "pprint(gbc.get_params())"
   ]
  },
  {
   "cell_type": "markdown",
   "metadata": {},
   "source": [
    "### most important parameters are:\n",
    "Criterion: The loss function used to find the optimal feature and threshold to split the data\n",
    "\n",
    "learning_rate: this parameter scales the contribution of each tree\n",
    "\n",
    "max_depth: the maximum depth of each tree\n",
    "\n",
    "n_estimators: the number of trees to construct\n",
    "\n",
    "init: the initial estimator. By default, it is the log(odds) converted to a probability"
   ]
  },
  {
   "cell_type": "code",
   "execution_count": 57,
   "metadata": {},
   "outputs": [],
   "source": [
    "param_grid = {  'criterion' : ['friedman_mse', 'mse', 'mae'],\n",
    "                'n_estimators' : [1, 2, 4, 8, 16, 32, 64, 100, 200],\n",
    "                'max_depth' : np.linspace(1, 32, 32, endpoint=True),\n",
    "                'learning_rate' : [1, 0.5, 0.25, 0.1, 0.05, 0.01],\n",
    "                'min_samples_split' : np.linspace(0.1, 1.0, 10, endpoint=True),\n",
    "                'min_samples_leaf' : np.linspace(0.1, 0.5, 5, endpoint=True),\n",
    "                'max_features' : list(range(1,coffee3.shape[1]))\n",
    "             }"
   ]
  },
  {
   "cell_type": "code",
   "execution_count": 58,
   "metadata": {},
   "outputs": [
    {
     "name": "stdout",
     "output_type": "stream",
     "text": [
      "Fitting 3 folds for each of 100 candidates, totalling 300 fits\n",
      "Best Parameters based on Randomized Search CV: {'n_estimators': 16, 'min_samples_split': 0.2, 'min_samples_leaf': 0.1, 'max_features': 3, 'max_depth': 26.0, 'learning_rate': 0.5, 'criterion': 'friedman_mse'}\n",
      "Best score:  0.6970128022759602\n",
      "Train - Accuracy: 0.8482\n",
      "Test - Accuracy: 0.7632\n",
      "Train - F1: 0.8467\n",
      "Test - F1: 0.7604\n",
      "Validation - Classification report\n",
      "                   precision    recall  f1-score   support\n",
      "\n",
      "Grade 3 or Lower       0.50      0.50      0.50         2\n",
      "         Premium       0.78      0.86      0.82        21\n",
      "       Specialty       0.77      0.67      0.71        15\n",
      "\n",
      "        accuracy                           0.76        38\n",
      "       macro avg       0.68      0.67      0.68        38\n",
      "    weighted avg       0.76      0.76      0.76        38\n",
      "\n"
     ]
    },
    {
     "data": {
      "text/plain": [
       "<Figure size 648x648 with 0 Axes>"
      ]
     },
     "metadata": {},
     "output_type": "display_data"
    },
    {
     "data": {
      "image/png": "[encoded data removed]",
      "text/plain": [
       "<Figure size 432x288 with 2 Axes>"
      ]
     },
     "metadata": {
      "needs_background": "light"
     },
     "output_type": "display_data"
    }
   ],
   "source": [
    "rand_cv(gbc, param_grid, 'Gradient Boosting RandomSearch')"
   ]
  },
  {
   "cell_type": "code",
   "execution_count": 59,
   "metadata": {},
   "outputs": [
    {
     "data": {
      "text/html": [
       "<div>\n",
       "<style scoped>\n",
       "    .dataframe tbody tr th:only-of-type {\n",
       "        vertical-align: middle;\n",
       "    }\n",
       "\n",
       "    .dataframe tbody tr th {\n",
       "        vertical-align: top;\n",
       "    }\n",
       "\n",
       "    .dataframe thead th {\n",
       "        text-align: right;\n",
       "    }\n",
       "</style>\n",
       "<table border=\"1\" class=\"dataframe\">\n",
       "  <thead>\n",
       "    <tr style=\"text-align: right;\">\n",
       "      <th></th>\n",
       "      <th>model</th>\n",
       "      <th>name</th>\n",
       "      <th>train_accuracy</th>\n",
       "      <th>test_accuracy</th>\n",
       "      <th>train_f1</th>\n",
       "      <th>test_f1</th>\n",
       "    </tr>\n",
       "  </thead>\n",
       "  <tbody>\n",
       "    <tr>\n",
       "      <th>7</th>\n",
       "      <td>(DecisionTreeClassifier(max_features='auto', random_state=1165313289), DecisionTreeClassifier(ma...</td>\n",
       "      <td>Random Forest Out of the Box</td>\n",
       "      <td>0.9911</td>\n",
       "      <td>0.8421</td>\n",
       "      <td>0.9911</td>\n",
       "      <td>0.8421</td>\n",
       "    </tr>\n",
       "    <tr>\n",
       "      <th>9</th>\n",
       "      <td>(DecisionTreeClassifier(max_features='auto', random_state=1165313289), DecisionTreeClassifier(ma...</td>\n",
       "      <td>Random Forest Balanced Subsample</td>\n",
       "      <td>0.9911</td>\n",
       "      <td>0.8421</td>\n",
       "      <td>0.9911</td>\n",
       "      <td>0.8421</td>\n",
       "    </tr>\n",
       "    <tr>\n",
       "      <th>8</th>\n",
       "      <td>(DecisionTreeClassifier(max_features='auto', random_state=1165313289), DecisionTreeClassifier(ma...</td>\n",
       "      <td>Random Forest Balanced</td>\n",
       "      <td>0.9911</td>\n",
       "      <td>0.8421</td>\n",
       "      <td>0.9911</td>\n",
       "      <td>0.8421</td>\n",
       "    </tr>\n",
       "    <tr>\n",
       "      <th>19</th>\n",
       "      <td>RandomizedSearchCV(cv=3, estimator=GradientBoostingClassifier(), n_iter=100,\\n                  ...</td>\n",
       "      <td>Gradient Boosting RandomSearch</td>\n",
       "      <td>0.8482</td>\n",
       "      <td>0.7632</td>\n",
       "      <td>0.8482</td>\n",
       "      <td>0.7632</td>\n",
       "    </tr>\n",
       "    <tr>\n",
       "      <th>18</th>\n",
       "      <td>([DecisionTreeRegressor(criterion='friedman_mse', max_depth=3,\\n                      random_sta...</td>\n",
       "      <td>Gradient Boosting Out of the Box</td>\n",
       "      <td>0.9732</td>\n",
       "      <td>0.7632</td>\n",
       "      <td>0.9732</td>\n",
       "      <td>0.7632</td>\n",
       "    </tr>\n",
       "    <tr>\n",
       "      <th>17</th>\n",
       "      <td>(DecisionTreeClassifier(max_features='auto', random_state=1165313289), DecisionTreeClassifier(ma...</td>\n",
       "      <td>RandomForestClassifier(class_weight='balanced', random_state=10) with top 10 features</td>\n",
       "      <td>0.9911</td>\n",
       "      <td>0.7105</td>\n",
       "      <td>0.9909</td>\n",
       "      <td>0.7072</td>\n",
       "    </tr>\n",
       "    <tr>\n",
       "      <th>16</th>\n",
       "      <td>(DecisionTreeClassifier(max_features='auto', random_state=1165313289), DecisionTreeClassifier(ma...</td>\n",
       "      <td>RandomForestClassifier(random_state=10) with top 10 features</td>\n",
       "      <td>0.9911</td>\n",
       "      <td>0.7105</td>\n",
       "      <td>0.9909</td>\n",
       "      <td>0.7072</td>\n",
       "    </tr>\n",
       "    <tr>\n",
       "      <th>0</th>\n",
       "      <td>LogisticRegression()</td>\n",
       "      <td>Log Reg Out of the Box</td>\n",
       "      <td>0.7589</td>\n",
       "      <td>0.7105</td>\n",
       "      <td>0.7589</td>\n",
       "      <td>0.7105</td>\n",
       "    </tr>\n",
       "    <tr>\n",
       "      <th>6</th>\n",
       "      <td>GridSearchCV(cv=3, estimator=LogisticRegression(),\\n             param_grid={'C': [100, 10, 1.0,...</td>\n",
       "      <td>Log Reg w/ GridSearch</td>\n",
       "      <td>0.7411</td>\n",
       "      <td>0.6579</td>\n",
       "      <td>0.7411</td>\n",
       "      <td>0.6579</td>\n",
       "    </tr>\n",
       "    <tr>\n",
       "      <th>5</th>\n",
       "      <td>LogisticRegression(max_iter=10000)</td>\n",
       "      <td>Log reg model with 17 PCA features</td>\n",
       "      <td>0.7500</td>\n",
       "      <td>0.6579</td>\n",
       "      <td>0.7464</td>\n",
       "      <td>0.6174</td>\n",
       "    </tr>\n",
       "    <tr>\n",
       "      <th>15</th>\n",
       "      <td>(DecisionTreeClassifier(max_features='auto', random_state=1165313289), DecisionTreeClassifier(ma...</td>\n",
       "      <td>RandomForestClassifier(class_weight='balanced', random_state=10) with top 4 features</td>\n",
       "      <td>0.9643</td>\n",
       "      <td>0.6579</td>\n",
       "      <td>0.9643</td>\n",
       "      <td>0.6471</td>\n",
       "    </tr>\n",
       "    <tr>\n",
       "      <th>3</th>\n",
       "      <td>LogisticRegression(max_iter=10000)</td>\n",
       "      <td>Log reg model with 7 PCA features</td>\n",
       "      <td>0.6786</td>\n",
       "      <td>0.6579</td>\n",
       "      <td>0.6455</td>\n",
       "      <td>0.6431</td>\n",
       "    </tr>\n",
       "    <tr>\n",
       "      <th>2</th>\n",
       "      <td>LogisticRegression(max_iter=10000)</td>\n",
       "      <td>Log reg model with 4 PCA features</td>\n",
       "      <td>0.6429</td>\n",
       "      <td>0.6579</td>\n",
       "      <td>0.6084</td>\n",
       "      <td>0.6270</td>\n",
       "    </tr>\n",
       "    <tr>\n",
       "      <th>1</th>\n",
       "      <td>LogisticRegression(max_iter=10000)</td>\n",
       "      <td>Log reg model with 2 PCA features</td>\n",
       "      <td>0.5089</td>\n",
       "      <td>0.6316</td>\n",
       "      <td>0.4724</td>\n",
       "      <td>0.5834</td>\n",
       "    </tr>\n",
       "    <tr>\n",
       "      <th>4</th>\n",
       "      <td>LogisticRegression(max_iter=10000)</td>\n",
       "      <td>Log reg model with 12 PCA features</td>\n",
       "      <td>0.7232</td>\n",
       "      <td>0.6316</td>\n",
       "      <td>0.7206</td>\n",
       "      <td>0.6222</td>\n",
       "    </tr>\n",
       "  </tbody>\n",
       "</table>\n",
       "</div>"
      ],
      "text/plain": [
       "                                                                                                  model  \\\n",
       "7   (DecisionTreeClassifier(max_features='auto', random_state=1165313289), DecisionTreeClassifier(ma...   \n",
       "9   (DecisionTreeClassifier(max_features='auto', random_state=1165313289), DecisionTreeClassifier(ma...   \n",
       "8   (DecisionTreeClassifier(max_features='auto', random_state=1165313289), DecisionTreeClassifier(ma...   \n",
       "19  RandomizedSearchCV(cv=3, estimator=GradientBoostingClassifier(), n_iter=100,\\n                  ...   \n",
       "18  ([DecisionTreeRegressor(criterion='friedman_mse', max_depth=3,\\n                      random_sta...   \n",
       "17  (DecisionTreeClassifier(max_features='auto', random_state=1165313289), DecisionTreeClassifier(ma...   \n",
       "16  (DecisionTreeClassifier(max_features='auto', random_state=1165313289), DecisionTreeClassifier(ma...   \n",
       "0                                                                                  LogisticRegression()   \n",
       "6   GridSearchCV(cv=3, estimator=LogisticRegression(),\\n             param_grid={'C': [100, 10, 1.0,...   \n",
       "5                                                                    LogisticRegression(max_iter=10000)   \n",
       "15  (DecisionTreeClassifier(max_features='auto', random_state=1165313289), DecisionTreeClassifier(ma...   \n",
       "3                                                                    LogisticRegression(max_iter=10000)   \n",
       "2                                                                    LogisticRegression(max_iter=10000)   \n",
       "1                                                                    LogisticRegression(max_iter=10000)   \n",
       "4                                                                    LogisticRegression(max_iter=10000)   \n",
       "\n",
       "                                                                                     name  \\\n",
       "7                                                            Random Forest Out of the Box   \n",
       "9                                                        Random Forest Balanced Subsample   \n",
       "8                                                                  Random Forest Balanced   \n",
       "19                                                         Gradient Boosting RandomSearch   \n",
       "18                                                       Gradient Boosting Out of the Box   \n",
       "17  RandomForestClassifier(class_weight='balanced', random_state=10) with top 10 features   \n",
       "16                           RandomForestClassifier(random_state=10) with top 10 features   \n",
       "0                                                                  Log Reg Out of the Box   \n",
       "6                                                                   Log Reg w/ GridSearch   \n",
       "5                                                      Log reg model with 17 PCA features   \n",
       "15   RandomForestClassifier(class_weight='balanced', random_state=10) with top 4 features   \n",
       "3                                                       Log reg model with 7 PCA features   \n",
       "2                                                       Log reg model with 4 PCA features   \n",
       "1                                                       Log reg model with 2 PCA features   \n",
       "4                                                      Log reg model with 12 PCA features   \n",
       "\n",
       "    train_accuracy  test_accuracy  train_f1  test_f1  \n",
       "7           0.9911         0.8421    0.9911   0.8421  \n",
       "9           0.9911         0.8421    0.9911   0.8421  \n",
       "8           0.9911         0.8421    0.9911   0.8421  \n",
       "19          0.8482         0.7632    0.8482   0.7632  \n",
       "18          0.9732         0.7632    0.9732   0.7632  \n",
       "17          0.9911         0.7105    0.9909   0.7072  \n",
       "16          0.9911         0.7105    0.9909   0.7072  \n",
       "0           0.7589         0.7105    0.7589   0.7105  \n",
       "6           0.7411         0.6579    0.7411   0.6579  \n",
       "5           0.7500         0.6579    0.7464   0.6174  \n",
       "15          0.9643         0.6579    0.9643   0.6471  \n",
       "3           0.6786         0.6579    0.6455   0.6431  \n",
       "2           0.6429         0.6579    0.6084   0.6270  \n",
       "1           0.5089         0.6316    0.4724   0.5834  \n",
       "4           0.7232         0.6316    0.7206   0.6222  "
      ]
     },
     "execution_count": 59,
     "metadata": {},
     "output_type": "execute_result"
    }
   ],
   "source": [
    "results.sort_values('test_accuracy', ascending = False).head(15)"
   ]
  },
  {
   "cell_type": "markdown",
   "metadata": {},
   "source": [
    "Though our Gradient Boost model performed better than the Logistic Regression models, it did not perform better than the Random Forest Balanced model."
   ]
  },
  {
   "cell_type": "markdown",
   "metadata": {},
   "source": [
    "<a class=\"anchor\" id=\"cat\"></a>\n",
    "\n",
    "## 7. Catboost Model"
   ]
  },
  {
   "cell_type": "markdown",
   "metadata": {},
   "source": [
    "Lastly we will try the Catboost Model on our data. Catboost is a good model to use with categorical data, performs well with default parameters and comes with sophisticated model analysis tools."
   ]
  },
  {
   "cell_type": "code",
   "execution_count": 61,
   "metadata": {},
   "outputs": [],
   "source": [
    "#use df with categorical features (no need to label encode)\n",
    "coffee3 = pd.read_csv('../data/coffee3.csv')\n",
    "coffee3 = coffee3.drop(columns=['Unnamed: 0'])"
   ]
  },
  {
   "cell_type": "code",
   "execution_count": 62,
   "metadata": {},
   "outputs": [
    {
     "data": {
      "text/plain": [
       "Index(['Country of Origin', 'Variety', 'Mean Altitude (m)', 'Harvest Year',\n",
       "       'Processing Method', 'Moisture', 'Color', 'Coffee_Grade'],\n",
       "      dtype='object')"
      ]
     },
     "execution_count": 62,
     "metadata": {},
     "output_type": "execute_result"
    }
   ],
   "source": [
    "coffee3.columns"
   ]
  },
  {
   "cell_type": "code",
   "execution_count": 63,
   "metadata": {},
   "outputs": [
    {
     "data": {
      "text/plain": [
       "((150, 7), (150,))"
      ]
     },
     "execution_count": 63,
     "metadata": {},
     "output_type": "execute_result"
    }
   ],
   "source": [
    "X = coffee3.drop('Coffee_Grade', axis=1)        \n",
    "y  = coffee3['Coffee_Grade']\n",
    "X.shape, y.shape"
   ]
  },
  {
   "cell_type": "markdown",
   "metadata": {},
   "source": [
    "The Catboost model requires labeling the categorical features. We will create an array of our categorical feature indices."
   ]
  },
  {
   "cell_type": "code",
   "execution_count": 64,
   "metadata": {},
   "outputs": [
    {
     "data": {
      "text/plain": [
       "array([0, 1, 3, 4, 6])"
      ]
     },
     "execution_count": 64,
     "metadata": {},
     "output_type": "execute_result"
    }
   ],
   "source": [
    "categorical_features_indices = np.where(X.dtypes != np.float)[0]\n",
    "categorical_features_indices"
   ]
  },
  {
   "cell_type": "markdown",
   "metadata": {},
   "source": [
    "We can account for the unbalanced nature of our data set using the class_weights parameter within the model. We will find the percentages of each of our 3 classes and subtract them from 100 to get the weights of each class."
   ]
  },
  {
   "cell_type": "code",
   "execution_count": 65,
   "metadata": {},
   "outputs": [
    {
     "data": {
      "text/plain": [
       "Premium             52.67\n",
       "Specialty           38.67\n",
       "Grade 3 or Lower     8.67\n",
       "Name: Coffee_Grade, dtype: float64"
      ]
     },
     "execution_count": 65,
     "metadata": {},
     "output_type": "execute_result"
    }
   ],
   "source": [
    "#find class weights for class_wights parameter\n",
    "round( coffee3['Coffee_Grade'].value_counts(normalize=True) * 100 , 2)"
   ]
  },
  {
   "cell_type": "markdown",
   "metadata": {},
   "source": [
    "<a class=\"anchor\" id=\"cat_ootb\"></a>\n",
    "\n",
    "### 7.1 CatBoost - Out of the Box"
   ]
  },
  {
   "cell_type": "markdown",
   "metadata": {},
   "source": [
    "Because we have 3 classes, we will be using the Cat Boost Classifier model with loss_function = 'MultiClass'"
   ]
  },
  {
   "cell_type": "code",
   "execution_count": 66,
   "metadata": {},
   "outputs": [],
   "source": [
    "cat = CatBoostClassifier(loss_function='MultiClass', class_weights = [(100-8.67), (100-52.67), (100-38.67)], eval_metric = 'Accuracy', cat_features=categorical_features_indices)"
   ]
  },
  {
   "cell_type": "code",
   "execution_count": 67,
   "metadata": {},
   "outputs": [
    {
     "data": {
      "text/plain": [
       "<catboost.core.CatBoostClassifier at 0x7ff4ee2f0340>"
      ]
     },
     "execution_count": 67,
     "metadata": {},
     "output_type": "execute_result"
    }
   ],
   "source": [
    "#split data\n",
    "X_train, X_test, y_train, y_test = train_test_split(X, y, test_size = 0.25, random_state=10)\n",
    "\n",
    "cat.fit(X_train, y_train, cat_features=categorical_features_indices, eval_set=(X_test, y_test), verbose=False)"
   ]
  },
  {
   "cell_type": "code",
   "execution_count": 68,
   "metadata": {},
   "outputs": [
    {
     "name": "stdout",
     "output_type": "stream",
     "text": [
      "{'learn': {'Accuracy': 1.0, 'MultiClass': 0.025720976721614136}, 'validation': {'Accuracy': 0.7640684183310122, 'MultiClass': 0.6258123975934392}}\n"
     ]
    }
   ],
   "source": [
    "print(cat.get_best_score())"
   ]
  },
  {
   "cell_type": "code",
   "execution_count": 69,
   "metadata": {},
   "outputs": [],
   "source": [
    "y_pred = cat.predict(X_test)\n",
    "y_tr_pred = cat.predict(X_train)"
   ]
  },
  {
   "cell_type": "code",
   "execution_count": 70,
   "metadata": {},
   "outputs": [
    {
     "name": "stdout",
     "output_type": "stream",
     "text": [
      "Train - Accuracy: 0.6696\n",
      "Test - Accuracy: 0.7895\n",
      "Train - F1: 0.6393\n",
      "Test - F1: 0.7693\n",
      "Validation - Classification report\n",
      "                   precision    recall  f1-score   support\n",
      "\n",
      "Grade 3 or Lower       0.00      0.00      0.00         2\n",
      "         Premium       0.85      0.81      0.83        21\n",
      "       Specialty       0.72      0.87      0.79        15\n",
      "\n",
      "        accuracy                           0.79        38\n",
      "       macro avg       0.52      0.56      0.54        38\n",
      "    weighted avg       0.75      0.79      0.77        38\n",
      "\n"
     ]
    },
    {
     "data": {
      "text/plain": [
       "<Figure size 648x648 with 0 Axes>"
      ]
     },
     "metadata": {},
     "output_type": "display_data"
    },
    {
     "data": {
      "image/png": "[encoded data removed]",
      "text/plain": [
       "<Figure size 432x288 with 2 Axes>"
      ]
     },
     "metadata": {
      "needs_background": "light"
     },
     "output_type": "display_data"
    }
   ],
   "source": [
    "evaluation_block(cat)"
   ]
  },
  {
   "cell_type": "markdown",
   "metadata": {},
   "source": [
    "Here we can see that our accuracy for our test set is decent but not as good as our out-of-the-box Random Forest Classifier. Our confusion matrix is also showing poorer results regarding our labeling."
   ]
  },
  {
   "cell_type": "code",
   "execution_count": 71,
   "metadata": {},
   "outputs": [],
   "source": [
    "save_scores(cat, \"Catboost Out of the Box\")"
   ]
  },
  {
   "cell_type": "markdown",
   "metadata": {},
   "source": [
    "<a class=\"anchor\" id=\"cat_tuning\"></a>\n",
    "\n",
    "### 7.2 Tuning Hyperparameters of CatBoost Model"
   ]
  },
  {
   "cell_type": "code",
   "execution_count": 72,
   "metadata": {},
   "outputs": [
    {
     "data": {
      "text/plain": [
       "{'loss_function': 'MultiClass',\n",
       " 'class_weights': [91.33, 47.33, 61.33],\n",
       " 'eval_metric': 'Accuracy',\n",
       " 'cat_features': array([0, 1, 3, 4, 6])}"
      ]
     },
     "execution_count": 72,
     "metadata": {},
     "output_type": "execute_result"
    }
   ],
   "source": [
    "cat.get_params()"
   ]
  },
  {
   "cell_type": "code",
   "execution_count": 73,
   "metadata": {},
   "outputs": [],
   "source": [
    "params = {'depth':[3,1,2,6,4,5,7,8,9,10],\n",
    "          'iterations':[250,100,500,1000],\n",
    "          'learning_rate':[0.03,0.001,0.01,0.1,0.2,0.3], \n",
    "          'l2_leaf_reg':[3,1,5,10,100],\n",
    "          'border_count':[32,5,10,20,50,100,200]\n",
    "          \n",
    "          }"
   ]
  },
  {
   "cell_type": "code",
   "execution_count": 74,
   "metadata": {},
   "outputs": [
    {
     "name": "stdout",
     "output_type": "stream",
     "text": [
      "Fitting 3 folds for each of 100 candidates, totalling 300 fits\n",
      "0:\tlearn: 0.4428554\ttotal: 730us\tremaining: 182ms\n",
      "1:\tlearn: 0.4428554\ttotal: 3.76ms\tremaining: 466ms\n",
      "2:\tlearn: 0.4267774\ttotal: 5.26ms\tremaining: 433ms\n",
      "3:\tlearn: 0.4415982\ttotal: 5.95ms\tremaining: 366ms\n",
      "4:\tlearn: 0.4415982\ttotal: 6.55ms\tremaining: 321ms\n",
      "5:\tlearn: 0.4298039\ttotal: 7.18ms\tremaining: 292ms\n",
      "6:\tlearn: 0.4298039\ttotal: 7.88ms\tremaining: 274ms\n",
      "7:\tlearn: 0.4298039\ttotal: 8.8ms\tremaining: 266ms\n",
      "8:\tlearn: 0.4319958\ttotal: 9.71ms\tremaining: 260ms\n",
      "9:\tlearn: 0.4298039\ttotal: 10.4ms\tremaining: 250ms\n",
      "10:\tlearn: 0.4298039\ttotal: 11ms\tremaining: 239ms\n",
      "11:\tlearn: 0.4415982\ttotal: 11.6ms\tremaining: 230ms\n",
      "12:\tlearn: 0.4415982\ttotal: 12.3ms\tremaining: 223ms\n",
      "13:\tlearn: 0.4459821\ttotal: 13ms\tremaining: 219ms\n",
      "14:\tlearn: 0.4459821\ttotal: 13.7ms\tremaining: 214ms\n",
      "15:\tlearn: 0.5216551\ttotal: 14.4ms\tremaining: 211ms\n",
      "16:\tlearn: 0.5216551\ttotal: 15.2ms\tremaining: 209ms\n",
      "17:\tlearn: 0.5216551\ttotal: 15.9ms\tremaining: 205ms\n",
      "18:\tlearn: 0.5120527\ttotal: 16.8ms\tremaining: 205ms\n",
      "19:\tlearn: 0.5035964\ttotal: 18ms\tremaining: 207ms\n",
      "20:\tlearn: 0.4843916\ttotal: 26.2ms\tremaining: 285ms\n",
      "21:\tlearn: 0.4843916\ttotal: 27.3ms\tremaining: 283ms\n",
      "22:\tlearn: 0.4843916\ttotal: 28.2ms\tremaining: 279ms\n",
      "23:\tlearn: 0.5507738\ttotal: 29.2ms\tremaining: 275ms\n",
      "24:\tlearn: 0.5507738\ttotal: 30ms\tremaining: 270ms\n",
      "25:\tlearn: 0.5507738\ttotal: 31.2ms\tremaining: 268ms\n",
      "26:\tlearn: 0.4821997\ttotal: 32.9ms\tremaining: 272ms\n",
      "27:\tlearn: 0.5411714\ttotal: 34.5ms\tremaining: 273ms\n",
      "28:\tlearn: 0.5071458\ttotal: 35.3ms\tremaining: 269ms\n",
      "29:\tlearn: 0.5071458\ttotal: 36.6ms\tremaining: 268ms\n",
      "30:\tlearn: 0.5071458\ttotal: 37.8ms\tremaining: 267ms\n",
      "31:\tlearn: 0.5071458\ttotal: 39.5ms\tremaining: 269ms\n",
      "32:\tlearn: 0.5071458\ttotal: 40.3ms\tremaining: 265ms\n",
      "33:\tlearn: 0.5071458\ttotal: 41.6ms\tremaining: 264ms\n",
      "34:\tlearn: 0.5123643\ttotal: 43.4ms\tremaining: 266ms\n",
      "35:\tlearn: 0.5677866\ttotal: 44.2ms\tremaining: 263ms\n",
      "36:\tlearn: 0.5847993\ttotal: 45.1ms\tremaining: 260ms\n",
      "37:\tlearn: 0.5751970\ttotal: 45.9ms\tremaining: 256ms\n",
      "38:\tlearn: 0.5847993\ttotal: 46.6ms\tremaining: 252ms\n",
      "39:\tlearn: 0.5847993\ttotal: 47.7ms\tremaining: 250ms\n",
      "40:\tlearn: 0.5441979\ttotal: 48.6ms\tremaining: 248ms\n",
      "41:\tlearn: 0.5677866\ttotal: 49.4ms\tremaining: 245ms\n",
      "42:\tlearn: 0.5677866\ttotal: 50ms\tremaining: 241ms\n",
      "43:\tlearn: 0.6061961\ttotal: 50.9ms\tremaining: 238ms\n",
      "44:\tlearn: 0.6009776\ttotal: 51.6ms\tremaining: 235ms\n",
      "45:\tlearn: 0.6424136\ttotal: 52.3ms\tremaining: 232ms\n",
      "46:\tlearn: 0.6350032\ttotal: 52.9ms\tremaining: 229ms\n",
      "47:\tlearn: 0.6563999\ttotal: 53.7ms\tremaining: 226ms\n",
      "48:\tlearn: 0.6149639\ttotal: 54.1ms\tremaining: 222ms\n",
      "49:\tlearn: 0.6245663\ttotal: 55.9ms\tremaining: 224ms\n",
      "50:\tlearn: 0.6415791\ttotal: 57ms\tremaining: 222ms\n",
      "51:\tlearn: 0.6415791\ttotal: 58.1ms\tremaining: 221ms\n",
      "52:\tlearn: 0.6489895\ttotal: 58.8ms\tremaining: 219ms\n",
      "53:\tlearn: 0.6489895\ttotal: 59.7ms\tremaining: 217ms\n",
      "54:\tlearn: 0.6489895\ttotal: 60.6ms\tremaining: 215ms\n",
      "55:\tlearn: 0.6489895\ttotal: 61.8ms\tremaining: 214ms\n",
      "56:\tlearn: 0.6393871\ttotal: 63.1ms\tremaining: 214ms\n",
      "57:\tlearn: 0.6489895\ttotal: 64ms\tremaining: 212ms\n",
      "58:\tlearn: 0.6415791\ttotal: 64.8ms\tremaining: 210ms\n",
      "59:\tlearn: 0.6511815\ttotal: 65.7ms\tremaining: 208ms\n",
      "60:\tlearn: 0.6459630\ttotal: 66.8ms\tremaining: 207ms\n",
      "61:\tlearn: 0.6459630\ttotal: 67.9ms\tremaining: 206ms\n",
      "62:\tlearn: 0.6363606\ttotal: 68.8ms\tremaining: 204ms\n",
      "63:\tlearn: 0.6511815\ttotal: 69.8ms\tremaining: 203ms\n",
      "64:\tlearn: 0.6267583\ttotal: 70.5ms\tremaining: 201ms\n",
      "65:\tlearn: 0.6267583\ttotal: 71.1ms\tremaining: 198ms\n",
      "66:\tlearn: 0.6459630\ttotal: 71.7ms\tremaining: 196ms\n",
      "67:\tlearn: 0.6481550\ttotal: 72.4ms\tremaining: 194ms\n",
      "68:\tlearn: 0.6481550\ttotal: 72.9ms\tremaining: 191ms\n",
      "69:\tlearn: 0.6481550\ttotal: 73.5ms\tremaining: 189ms\n",
      "70:\tlearn: 0.6385526\ttotal: 74.2ms\tremaining: 187ms\n",
      "71:\tlearn: 0.6385526\ttotal: 75.2ms\tremaining: 186ms\n",
      "72:\tlearn: 0.6385526\ttotal: 76ms\tremaining: 184ms\n",
      "73:\tlearn: 0.6385526\ttotal: 76.6ms\tremaining: 182ms\n",
      "74:\tlearn: 0.6459630\ttotal: 77.2ms\tremaining: 180ms\n",
      "75:\tlearn: 0.6459630\ttotal: 77.8ms\tremaining: 178ms\n",
      "76:\tlearn: 0.6437711\ttotal: 80.4ms\tremaining: 181ms\n",
      "77:\tlearn: 0.6437711\ttotal: 81.7ms\tremaining: 180ms\n",
      "78:\tlearn: 0.6703862\ttotal: 82.3ms\tremaining: 178ms\n",
      "79:\tlearn: 0.6651678\ttotal: 82.9ms\tremaining: 176ms\n",
      "80:\tlearn: 0.6651678\ttotal: 83.5ms\tremaining: 174ms\n",
      "81:\tlearn: 0.6651678\ttotal: 84.1ms\tremaining: 172ms\n",
      "82:\tlearn: 0.6555654\ttotal: 84.8ms\tremaining: 171ms\n",
      "83:\tlearn: 0.6651678\ttotal: 85.5ms\tremaining: 169ms\n",
      "84:\tlearn: 0.6651678\ttotal: 86.2ms\tremaining: 167ms\n",
      "85:\tlearn: 0.6629758\ttotal: 88.1ms\tremaining: 168ms\n",
      "86:\tlearn: 0.6651678\ttotal: 88.7ms\tremaining: 166ms\n",
      "87:\tlearn: 0.6651678\ttotal: 89.4ms\tremaining: 165ms\n",
      "88:\tlearn: 0.6651678\ttotal: 90.1ms\tremaining: 163ms\n",
      "89:\tlearn: 0.6651678\ttotal: 90.7ms\tremaining: 161ms\n",
      "90:\tlearn: 0.6651678\ttotal: 91.5ms\tremaining: 160ms\n",
      "91:\tlearn: 0.6651678\ttotal: 93.1ms\tremaining: 160ms\n",
      "92:\tlearn: 0.6651678\ttotal: 94.3ms\tremaining: 159ms\n",
      "93:\tlearn: 0.6651678\ttotal: 95.2ms\tremaining: 158ms\n",
      "94:\tlearn: 0.6651678\ttotal: 96.1ms\tremaining: 157ms\n",
      "95:\tlearn: 0.6651678\ttotal: 96.8ms\tremaining: 155ms\n",
      "96:\tlearn: 0.6555654\ttotal: 97.6ms\tremaining: 154ms\n",
      "97:\tlearn: 0.6651678\ttotal: 98.5ms\tremaining: 153ms\n",
      "98:\tlearn: 0.6651678\ttotal: 99.8ms\tremaining: 152ms\n",
      "99:\tlearn: 0.6555654\ttotal: 101ms\tremaining: 151ms\n",
      "100:\tlearn: 0.6555654\ttotal: 102ms\tremaining: 150ms\n",
      "101:\tlearn: 0.6555654\ttotal: 102ms\tremaining: 148ms\n",
      "102:\tlearn: 0.6555654\ttotal: 103ms\tremaining: 147ms\n",
      "103:\tlearn: 0.6555654\ttotal: 104ms\tremaining: 146ms\n",
      "104:\tlearn: 0.6555654\ttotal: 106ms\tremaining: 146ms\n",
      "105:\tlearn: 0.6555654\ttotal: 107ms\tremaining: 145ms\n",
      "106:\tlearn: 0.6651678\ttotal: 108ms\tremaining: 144ms\n",
      "107:\tlearn: 0.6651678\ttotal: 108ms\tremaining: 142ms\n",
      "108:\tlearn: 0.6651678\ttotal: 109ms\tremaining: 141ms\n",
      "109:\tlearn: 0.6651678\ttotal: 109ms\tremaining: 139ms\n",
      "110:\tlearn: 0.6651678\ttotal: 110ms\tremaining: 138ms\n",
      "111:\tlearn: 0.6651678\ttotal: 111ms\tremaining: 137ms\n",
      "112:\tlearn: 0.6651678\ttotal: 112ms\tremaining: 136ms\n",
      "113:\tlearn: 0.6651678\ttotal: 112ms\tremaining: 134ms\n",
      "114:\tlearn: 0.6651678\ttotal: 113ms\tremaining: 133ms\n",
      "115:\tlearn: 0.6651678\ttotal: 114ms\tremaining: 131ms\n",
      "116:\tlearn: 0.6651678\ttotal: 114ms\tremaining: 130ms\n",
      "117:\tlearn: 0.6651678\ttotal: 115ms\tremaining: 128ms\n",
      "118:\tlearn: 0.6651678\ttotal: 115ms\tremaining: 127ms\n",
      "119:\tlearn: 0.6651678\ttotal: 116ms\tremaining: 126ms\n",
      "120:\tlearn: 0.6725782\ttotal: 117ms\tremaining: 125ms\n",
      "121:\tlearn: 0.6725782\ttotal: 118ms\tremaining: 124ms\n",
      "122:\tlearn: 0.6725782\ttotal: 119ms\tremaining: 123ms\n",
      "123:\tlearn: 0.6725782\ttotal: 119ms\tremaining: 121ms\n",
      "124:\tlearn: 0.6629758\ttotal: 120ms\tremaining: 120ms\n",
      "125:\tlearn: 0.6533734\ttotal: 120ms\tremaining: 118ms\n",
      "126:\tlearn: 0.6629758\ttotal: 121ms\tremaining: 117ms\n",
      "127:\tlearn: 0.6629758\ttotal: 122ms\tremaining: 116ms\n",
      "128:\tlearn: 0.6629758\ttotal: 123ms\tremaining: 115ms\n",
      "129:\tlearn: 0.6533734\ttotal: 124ms\tremaining: 114ms\n",
      "130:\tlearn: 0.6533734\ttotal: 124ms\tremaining: 113ms\n",
      "131:\tlearn: 0.6555654\ttotal: 125ms\tremaining: 112ms\n",
      "132:\tlearn: 0.6459630\ttotal: 125ms\tremaining: 110ms\n",
      "133:\tlearn: 0.6459630\ttotal: 126ms\tremaining: 109ms\n",
      "134:\tlearn: 0.6459630\ttotal: 127ms\tremaining: 108ms\n",
      "135:\tlearn: 0.6459630\ttotal: 127ms\tremaining: 107ms\n",
      "136:\tlearn: 0.6555654\ttotal: 128ms\tremaining: 105ms\n",
      "137:\tlearn: 0.6459630\ttotal: 129ms\tremaining: 105ms\n",
      "138:\tlearn: 0.6459630\ttotal: 130ms\tremaining: 104ms\n",
      "139:\tlearn: 0.6459630\ttotal: 131ms\tremaining: 103ms\n",
      "140:\tlearn: 0.6459630\ttotal: 131ms\tremaining: 101ms\n",
      "141:\tlearn: 0.6459630\ttotal: 132ms\tremaining: 100ms\n",
      "142:\tlearn: 0.6459630\ttotal: 132ms\tremaining: 98.9ms\n",
      "143:\tlearn: 0.6459630\ttotal: 133ms\tremaining: 97.8ms\n",
      "144:\tlearn: 0.6459630\ttotal: 134ms\tremaining: 96.8ms\n",
      "145:\tlearn: 0.6555654\ttotal: 135ms\tremaining: 96ms\n",
      "146:\tlearn: 0.6459630\ttotal: 135ms\tremaining: 94.9ms\n",
      "147:\tlearn: 0.6555654\ttotal: 136ms\tremaining: 93.8ms\n",
      "148:\tlearn: 0.6289502\ttotal: 137ms\tremaining: 92.7ms\n",
      "149:\tlearn: 0.6289502\ttotal: 137ms\tremaining: 91.6ms\n",
      "150:\tlearn: 0.6289502\ttotal: 138ms\tremaining: 90.5ms\n",
      "151:\tlearn: 0.6289502\ttotal: 139ms\tremaining: 89.3ms\n",
      "152:\tlearn: 0.6289502\ttotal: 139ms\tremaining: 88.3ms\n",
      "153:\tlearn: 0.6363606\ttotal: 140ms\tremaining: 87.4ms\n",
      "154:\tlearn: 0.6363606\ttotal: 142ms\tremaining: 86.9ms\n",
      "155:\tlearn: 0.6363606\ttotal: 143ms\tremaining: 86ms\n",
      "156:\tlearn: 0.6385526\ttotal: 143ms\tremaining: 84.9ms\n",
      "157:\tlearn: 0.6385526\ttotal: 144ms\tremaining: 83.8ms\n",
      "158:\tlearn: 0.6385526\ttotal: 145ms\tremaining: 82.7ms\n",
      "159:\tlearn: 0.6289502\ttotal: 145ms\tremaining: 81.7ms\n",
      "160:\tlearn: 0.6289502\ttotal: 146ms\tremaining: 80.7ms\n",
      "161:\tlearn: 0.6289502\ttotal: 147ms\tremaining: 79.6ms\n",
      "162:\tlearn: 0.6289502\ttotal: 147ms\tremaining: 78.6ms\n",
      "163:\tlearn: 0.6289502\ttotal: 148ms\tremaining: 77.6ms\n",
      "164:\tlearn: 0.6289502\ttotal: 149ms\tremaining: 76.6ms\n",
      "165:\tlearn: 0.6385526\ttotal: 149ms\tremaining: 75.5ms\n",
      "166:\tlearn: 0.6385526\ttotal: 150ms\tremaining: 74.5ms\n",
      "167:\tlearn: 0.6385526\ttotal: 151ms\tremaining: 73.5ms\n",
      "168:\tlearn: 0.6385526\ttotal: 151ms\tremaining: 72.4ms\n",
      "169:\tlearn: 0.6385526\ttotal: 152ms\tremaining: 71.7ms\n",
      "170:\tlearn: 0.6385526\ttotal: 153ms\tremaining: 70.7ms\n",
      "171:\tlearn: 0.6385526\ttotal: 154ms\tremaining: 69.8ms\n",
      "172:\tlearn: 0.6385526\ttotal: 155ms\tremaining: 68.8ms\n",
      "173:\tlearn: 0.6385526\ttotal: 155ms\tremaining: 67.9ms\n",
      "174:\tlearn: 0.6385526\ttotal: 157ms\tremaining: 67.2ms\n",
      "175:\tlearn: 0.6385526\ttotal: 158ms\tremaining: 66.2ms\n",
      "176:\tlearn: 0.6385526\ttotal: 159ms\tremaining: 65.7ms\n",
      "177:\tlearn: 0.6385526\ttotal: 160ms\tremaining: 64.9ms\n",
      "178:\tlearn: 0.6385526\ttotal: 161ms\tremaining: 64ms\n",
      "179:\tlearn: 0.6385526\ttotal: 162ms\tremaining: 63.1ms\n",
      "180:\tlearn: 0.6385526\ttotal: 164ms\tremaining: 62.3ms\n",
      "181:\tlearn: 0.6385526\ttotal: 165ms\tremaining: 61.5ms\n",
      "182:\tlearn: 0.6385526\ttotal: 166ms\tremaining: 60.6ms\n",
      "183:\tlearn: 0.6385526\ttotal: 166ms\tremaining: 59.7ms\n",
      "184:\tlearn: 0.6385526\ttotal: 167ms\tremaining: 58.7ms\n",
      "185:\tlearn: 0.6385526\ttotal: 168ms\tremaining: 57.9ms\n",
      "186:\tlearn: 0.6385526\ttotal: 169ms\tremaining: 57.1ms\n",
      "187:\tlearn: 0.6385526\ttotal: 170ms\tremaining: 56.1ms\n",
      "188:\tlearn: 0.6385526\ttotal: 171ms\tremaining: 55.1ms\n",
      "189:\tlearn: 0.6385526\ttotal: 171ms\tremaining: 54.2ms\n",
      "190:\tlearn: 0.6385526\ttotal: 174ms\tremaining: 53.8ms\n",
      "191:\tlearn: 0.6385526\ttotal: 175ms\tremaining: 52.9ms\n",
      "192:\tlearn: 0.6385526\ttotal: 176ms\tremaining: 51.9ms\n",
      "193:\tlearn: 0.6385526\ttotal: 177ms\tremaining: 51ms\n",
      "194:\tlearn: 0.6385526\ttotal: 179ms\tremaining: 50.5ms\n",
      "195:\tlearn: 0.6385526\ttotal: 182ms\tremaining: 50.1ms\n",
      "196:\tlearn: 0.6385526\ttotal: 184ms\tremaining: 49.5ms\n",
      "197:\tlearn: 0.6481550\ttotal: 186ms\tremaining: 48.8ms\n",
      "198:\tlearn: 0.6481550\ttotal: 187ms\tremaining: 47.9ms\n",
      "199:\tlearn: 0.6481550\ttotal: 188ms\tremaining: 46.9ms\n",
      "200:\tlearn: 0.6481550\ttotal: 188ms\tremaining: 45.9ms\n",
      "201:\tlearn: 0.6385526\ttotal: 189ms\tremaining: 44.9ms\n",
      "202:\tlearn: 0.6481550\ttotal: 190ms\tremaining: 43.9ms\n",
      "203:\tlearn: 0.6481550\ttotal: 190ms\tremaining: 42.9ms\n",
      "204:\tlearn: 0.6481550\ttotal: 191ms\tremaining: 41.9ms\n",
      "205:\tlearn: 0.6481550\ttotal: 192ms\tremaining: 41ms\n",
      "206:\tlearn: 0.6481550\ttotal: 193ms\tremaining: 40.1ms\n",
      "207:\tlearn: 0.6481550\ttotal: 194ms\tremaining: 39.2ms\n",
      "208:\tlearn: 0.6555654\ttotal: 197ms\tremaining: 38.5ms\n",
      "209:\tlearn: 0.6555654\ttotal: 198ms\tremaining: 37.6ms\n",
      "210:\tlearn: 0.6555654\ttotal: 198ms\tremaining: 36.6ms\n",
      "211:\tlearn: 0.6629758\ttotal: 199ms\tremaining: 35.6ms\n",
      "212:\tlearn: 0.6555654\ttotal: 199ms\tremaining: 34.6ms\n",
      "213:\tlearn: 0.6629758\ttotal: 200ms\tremaining: 33.6ms\n",
      "214:\tlearn: 0.6555654\ttotal: 200ms\tremaining: 32.6ms\n",
      "215:\tlearn: 0.6555654\ttotal: 201ms\tremaining: 31.7ms\n",
      "216:\tlearn: 0.6555654\ttotal: 202ms\tremaining: 30.7ms\n",
      "217:\tlearn: 0.6555654\ttotal: 203ms\tremaining: 29.8ms\n",
      "218:\tlearn: 0.6555654\ttotal: 203ms\tremaining: 28.8ms\n",
      "219:\tlearn: 0.6555654\ttotal: 204ms\tremaining: 27.8ms\n",
      "220:\tlearn: 0.6555654\ttotal: 205ms\tremaining: 26.9ms\n",
      "221:\tlearn: 0.6555654\ttotal: 205ms\tremaining: 25.9ms\n",
      "222:\tlearn: 0.6555654\ttotal: 206ms\tremaining: 24.9ms\n",
      "223:\tlearn: 0.6555654\ttotal: 207ms\tremaining: 24ms\n",
      "224:\tlearn: 0.6555654\ttotal: 207ms\tremaining: 23ms\n",
      "225:\tlearn: 0.6555654\ttotal: 208ms\tremaining: 22.1ms\n",
      "226:\tlearn: 0.6555654\ttotal: 209ms\tremaining: 21.1ms\n",
      "227:\tlearn: 0.6629758\ttotal: 209ms\tremaining: 20.2ms\n",
      "228:\tlearn: 0.6629758\ttotal: 210ms\tremaining: 19.2ms\n",
      "229:\tlearn: 0.6629758\ttotal: 210ms\tremaining: 18.3ms\n",
      "230:\tlearn: 0.6629758\ttotal: 211ms\tremaining: 17.4ms\n",
      "231:\tlearn: 0.6629758\ttotal: 211ms\tremaining: 16.4ms\n",
      "232:\tlearn: 0.6629758\ttotal: 212ms\tremaining: 15.5ms\n",
      "233:\tlearn: 0.6555654\ttotal: 213ms\tremaining: 14.5ms\n",
      "234:\tlearn: 0.6629758\ttotal: 213ms\tremaining: 13.6ms\n",
      "235:\tlearn: 0.6629758\ttotal: 214ms\tremaining: 12.7ms\n",
      "236:\tlearn: 0.6629758\ttotal: 215ms\tremaining: 11.8ms\n",
      "237:\tlearn: 0.6629758\ttotal: 215ms\tremaining: 10.8ms\n",
      "238:\tlearn: 0.6629758\ttotal: 216ms\tremaining: 9.93ms\n",
      "239:\tlearn: 0.6629758\ttotal: 216ms\tremaining: 9.01ms\n",
      "240:\tlearn: 0.6629758\ttotal: 217ms\tremaining: 8.1ms\n",
      "241:\tlearn: 0.6629758\ttotal: 218ms\tremaining: 7.19ms\n",
      "242:\tlearn: 0.6629758\ttotal: 218ms\tremaining: 6.29ms\n",
      "243:\tlearn: 0.6629758\ttotal: 219ms\tremaining: 5.38ms\n",
      "244:\tlearn: 0.6629758\ttotal: 220ms\tremaining: 4.48ms\n",
      "245:\tlearn: 0.6629758\ttotal: 220ms\tremaining: 3.58ms\n",
      "246:\tlearn: 0.6629758\ttotal: 221ms\tremaining: 2.69ms\n",
      "247:\tlearn: 0.6629758\ttotal: 222ms\tremaining: 1.79ms\n",
      "248:\tlearn: 0.6629758\ttotal: 222ms\tremaining: 892us\n",
      "249:\tlearn: 0.6629758\ttotal: 223ms\tremaining: 0us\n",
      "Best Parameters based on Randomized Search CV: {'learning_rate': 0.03, 'l2_leaf_reg': 10, 'iterations': 250, 'depth': 1, 'border_count': 5}\n",
      "Best score:  0.6614509246088194\n",
      "Train - Accuracy: 0.6696\n",
      "Test - Accuracy: 0.7895\n",
      "Train - F1: 0.6352\n",
      "Test - F1: 0.7693\n",
      "Validation - Classification report\n",
      "                   precision    recall  f1-score   support\n",
      "\n",
      "Grade 3 or Lower       0.00      0.00      0.00         2\n",
      "         Premium       0.85      0.81      0.83        21\n",
      "       Specialty       0.72      0.87      0.79        15\n",
      "\n",
      "        accuracy                           0.79        38\n",
      "       macro avg       0.52      0.56      0.54        38\n",
      "    weighted avg       0.75      0.79      0.77        38\n",
      "\n"
     ]
    },
    {
     "data": {
      "text/plain": [
       "<Figure size 648x648 with 0 Axes>"
      ]
     },
     "metadata": {},
     "output_type": "display_data"
    },
    {
     "data": {
      "image/png": "[encoded data removed]",
      "text/plain": [
       "<Figure size 432x288 with 2 Axes>"
      ]
     },
     "metadata": {
      "needs_background": "light"
     },
     "output_type": "display_data"
    }
   ],
   "source": [
    "rand_cv(cat, params, \"CatBoost w/ Random Search\")"
   ]
  },
  {
   "cell_type": "code",
   "execution_count": 77,
   "metadata": {},
   "outputs": [],
   "source": [
    "ordered_results = results.sort_values('test_accuracy', ascending = False).head(25)"
   ]
  },
  {
   "cell_type": "code",
   "execution_count": 87,
   "metadata": {},
   "outputs": [
    {
     "name": "stdout",
     "output_type": "stream",
     "text": [
      "Collecting dataframe-image\n",
      "  Downloading dataframe_image-0.1.1-py3-none-any.whl (32 kB)\n",
      "Requirement already satisfied: pandas>=0.24 in /opt/anaconda3/lib/python3.8/site-packages (from dataframe-image) (1.1.3)\n",
      "Requirement already satisfied: requests in /opt/anaconda3/lib/python3.8/site-packages (from dataframe-image) (2.24.0)\n",
      "Requirement already satisfied: nbconvert>=5 in /opt/anaconda3/lib/python3.8/site-packages (from dataframe-image) (6.0.7)\n",
      "Requirement already satisfied: matplotlib>=3.1 in /opt/anaconda3/lib/python3.8/site-packages (from dataframe-image) (3.3.2)\n",
      "Collecting aiohttp\n",
      "  Downloading aiohttp-3.7.4.post0-cp38-cp38-macosx_10_14_x86_64.whl (648 kB)\n",
      "\u001b[K     |████████████████████████████████| 648 kB 5.7 MB/s eta 0:00:01\n",
      "\u001b[?25hRequirement already satisfied: beautifulsoup4 in /opt/anaconda3/lib/python3.8/site-packages (from dataframe-image) (4.9.3)\n",
      "Requirement already satisfied: pytz>=2017.2 in /opt/anaconda3/lib/python3.8/site-packages (from pandas>=0.24->dataframe-image) (2020.1)\n",
      "Requirement already satisfied: python-dateutil>=2.7.3 in /opt/anaconda3/lib/python3.8/site-packages (from pandas>=0.24->dataframe-image) (2.8.1)\n",
      "Requirement already satisfied: numpy>=1.15.4 in /opt/anaconda3/lib/python3.8/site-packages (from pandas>=0.24->dataframe-image) (1.19.2)\n",
      "Requirement already satisfied: certifi>=2017.4.17 in /opt/anaconda3/lib/python3.8/site-packages (from requests->dataframe-image) (2020.6.20)\n",
      "Requirement already satisfied: chardet<4,>=3.0.2 in /opt/anaconda3/lib/python3.8/site-packages (from requests->dataframe-image) (3.0.4)\n",
      "Requirement already satisfied: urllib3!=1.25.0,!=1.25.1,<1.26,>=1.21.1 in /opt/anaconda3/lib/python3.8/site-packages (from requests->dataframe-image) (1.25.11)\n",
      "Requirement already satisfied: idna<3,>=2.5 in /opt/anaconda3/lib/python3.8/site-packages (from requests->dataframe-image) (2.10)\n",
      "Requirement already satisfied: bleach in /opt/anaconda3/lib/python3.8/site-packages (from nbconvert>=5->dataframe-image) (3.2.1)\n",
      "Requirement already satisfied: testpath in /opt/anaconda3/lib/python3.8/site-packages (from nbconvert>=5->dataframe-image) (0.4.4)\n",
      "Requirement already satisfied: entrypoints>=0.2.2 in /opt/anaconda3/lib/python3.8/site-packages (from nbconvert>=5->dataframe-image) (0.3)\n",
      "Requirement already satisfied: traitlets>=4.2 in /opt/anaconda3/lib/python3.8/site-packages (from nbconvert>=5->dataframe-image) (5.0.5)\n",
      "Requirement already satisfied: defusedxml in /opt/anaconda3/lib/python3.8/site-packages (from nbconvert>=5->dataframe-image) (0.6.0)\n",
      "Requirement already satisfied: mistune<2,>=0.8.1 in /opt/anaconda3/lib/python3.8/site-packages (from nbconvert>=5->dataframe-image) (0.8.4)\n",
      "Requirement already satisfied: nbformat>=4.4 in /opt/anaconda3/lib/python3.8/site-packages (from nbconvert>=5->dataframe-image) (5.0.8)\n",
      "Requirement already satisfied: pygments>=2.4.1 in /opt/anaconda3/lib/python3.8/site-packages (from nbconvert>=5->dataframe-image) (2.7.2)\n",
      "Requirement already satisfied: nbclient<0.6.0,>=0.5.0 in /opt/anaconda3/lib/python3.8/site-packages (from nbconvert>=5->dataframe-image) (0.5.1)\n",
      "Requirement already satisfied: jupyter-core in /opt/anaconda3/lib/python3.8/site-packages (from nbconvert>=5->dataframe-image) (4.6.3)\n",
      "Requirement already satisfied: jinja2>=2.4 in /opt/anaconda3/lib/python3.8/site-packages (from nbconvert>=5->dataframe-image) (2.11.2)\n",
      "Requirement already satisfied: jupyterlab-pygments in /opt/anaconda3/lib/python3.8/site-packages (from nbconvert>=5->dataframe-image) (0.1.2)\n",
      "Requirement already satisfied: pandocfilters>=1.4.1 in /opt/anaconda3/lib/python3.8/site-packages (from nbconvert>=5->dataframe-image) (1.4.3)\n",
      "Requirement already satisfied: cycler>=0.10 in /opt/anaconda3/lib/python3.8/site-packages (from matplotlib>=3.1->dataframe-image) (0.10.0)\n",
      "Requirement already satisfied: pyparsing!=2.0.4,!=2.1.2,!=2.1.6,>=2.0.3 in /opt/anaconda3/lib/python3.8/site-packages (from matplotlib>=3.1->dataframe-image) (2.4.7)\n",
      "Requirement already satisfied: kiwisolver>=1.0.1 in /opt/anaconda3/lib/python3.8/site-packages (from matplotlib>=3.1->dataframe-image) (1.3.0)\n",
      "Requirement already satisfied: pillow>=6.2.0 in /opt/anaconda3/lib/python3.8/site-packages (from matplotlib>=3.1->dataframe-image) (8.0.1)\n",
      "Collecting yarl<2.0,>=1.0\n",
      "  Downloading yarl-1.6.3-cp38-cp38-macosx_10_14_x86_64.whl (124 kB)\n",
      "\u001b[K     |████████████████████████████████| 124 kB 5.8 MB/s eta 0:00:01\n",
      "\u001b[?25hCollecting async-timeout<4.0,>=3.0\n",
      "  Downloading async_timeout-3.0.1-py3-none-any.whl (8.2 kB)\n",
      "Collecting multidict<7.0,>=4.5\n",
      "  Downloading multidict-5.1.0-cp38-cp38-macosx_10_14_x86_64.whl (49 kB)\n",
      "\u001b[K     |████████████████████████████████| 49 kB 5.6 MB/s eta 0:00:011\n",
      "\u001b[?25hRequirement already satisfied: attrs>=17.3.0 in /opt/anaconda3/lib/python3.8/site-packages (from aiohttp->dataframe-image) (20.3.0)\n",
      "Requirement already satisfied: typing-extensions>=3.6.5 in /opt/anaconda3/lib/python3.8/site-packages (from aiohttp->dataframe-image) (3.7.4.3)\n",
      "Requirement already satisfied: soupsieve>1.2; python_version >= \"3.0\" in /opt/anaconda3/lib/python3.8/site-packages (from beautifulsoup4->dataframe-image) (2.0.1)\n",
      "Requirement already satisfied: six>=1.5 in /opt/anaconda3/lib/python3.8/site-packages (from python-dateutil>=2.7.3->pandas>=0.24->dataframe-image) (1.15.0)\n",
      "Requirement already satisfied: webencodings in /opt/anaconda3/lib/python3.8/site-packages (from bleach->nbconvert>=5->dataframe-image) (0.5.1)\n",
      "Requirement already satisfied: packaging in /opt/anaconda3/lib/python3.8/site-packages (from bleach->nbconvert>=5->dataframe-image) (20.4)\n",
      "Requirement already satisfied: ipython-genutils in /opt/anaconda3/lib/python3.8/site-packages (from traitlets>=4.2->nbconvert>=5->dataframe-image) (0.2.0)\n",
      "Requirement already satisfied: jsonschema!=2.5.0,>=2.4 in /opt/anaconda3/lib/python3.8/site-packages (from nbformat>=4.4->nbconvert>=5->dataframe-image) (3.2.0)\n",
      "Requirement already satisfied: nest-asyncio in /opt/anaconda3/lib/python3.8/site-packages (from nbclient<0.6.0,>=0.5.0->nbconvert>=5->dataframe-image) (1.4.2)\n",
      "Requirement already satisfied: jupyter-client>=6.1.5 in /opt/anaconda3/lib/python3.8/site-packages (from nbclient<0.6.0,>=0.5.0->nbconvert>=5->dataframe-image) (6.1.7)\n",
      "Requirement already satisfied: async-generator in /opt/anaconda3/lib/python3.8/site-packages (from nbclient<0.6.0,>=0.5.0->nbconvert>=5->dataframe-image) (1.10)\n",
      "Requirement already satisfied: MarkupSafe>=0.23 in /opt/anaconda3/lib/python3.8/site-packages (from jinja2>=2.4->nbconvert>=5->dataframe-image) (1.1.1)\n",
      "Requirement already satisfied: setuptools in /opt/anaconda3/lib/python3.8/site-packages (from jsonschema!=2.5.0,>=2.4->nbformat>=4.4->nbconvert>=5->dataframe-image) (50.3.1.post20201107)\n",
      "Requirement already satisfied: pyrsistent>=0.14.0 in /opt/anaconda3/lib/python3.8/site-packages (from jsonschema!=2.5.0,>=2.4->nbformat>=4.4->nbconvert>=5->dataframe-image) (0.17.3)\n",
      "Requirement already satisfied: tornado>=4.1 in /opt/anaconda3/lib/python3.8/site-packages (from jupyter-client>=6.1.5->nbclient<0.6.0,>=0.5.0->nbconvert>=5->dataframe-image) (6.0.4)\n",
      "Requirement already satisfied: pyzmq>=13 in /opt/anaconda3/lib/python3.8/site-packages (from jupyter-client>=6.1.5->nbclient<0.6.0,>=0.5.0->nbconvert>=5->dataframe-image) (19.0.2)\n",
      "Installing collected packages: multidict, yarl, async-timeout, aiohttp, dataframe-image\n",
      "Successfully installed aiohttp-3.7.4.post0 async-timeout-3.0.1 dataframe-image-0.1.1 multidict-5.1.0 yarl-1.6.3\n",
      "Note: you may need to restart the kernel to use updated packages.\n"
     ]
    }
   ],
   "source": [
    "pip install dataframe-image\n"
   ]
  },
  {
   "cell_type": "code",
   "execution_count": 76,
   "metadata": {},
   "outputs": [],
   "source": [
    "import dataframe_image as dfi"
   ]
  },
  {
   "cell_type": "code",
   "execution_count": 91,
   "metadata": {},
   "outputs": [],
   "source": [
    "dfi.export(ordered_results, '../docs/coffee_results.png')"
   ]
  },
  {
   "cell_type": "code",
   "execution_count": 78,
   "metadata": {},
   "outputs": [
    {
     "data": {
      "text/html": [
       "<div>\n",
       "<style scoped>\n",
       "    .dataframe tbody tr th:only-of-type {\n",
       "        vertical-align: middle;\n",
       "    }\n",
       "\n",
       "    .dataframe tbody tr th {\n",
       "        vertical-align: top;\n",
       "    }\n",
       "\n",
       "    .dataframe thead th {\n",
       "        text-align: right;\n",
       "    }\n",
       "</style>\n",
       "<table border=\"1\" class=\"dataframe\">\n",
       "  <thead>\n",
       "    <tr style=\"text-align: right;\">\n",
       "      <th></th>\n",
       "      <th>model</th>\n",
       "      <th>name</th>\n",
       "      <th>train_accuracy</th>\n",
       "      <th>test_accuracy</th>\n",
       "      <th>train_f1</th>\n",
       "      <th>test_f1</th>\n",
       "    </tr>\n",
       "  </thead>\n",
       "  <tbody>\n",
       "    <tr>\n",
       "      <th>9</th>\n",
       "      <td>(DecisionTreeClassifier(max_features='auto', random_state=1165313289), DecisionTreeClassifier(ma...</td>\n",
       "      <td>Random Forest Balanced Subsample</td>\n",
       "      <td>0.9911</td>\n",
       "      <td>0.8421</td>\n",
       "      <td>0.9911</td>\n",
       "      <td>0.8421</td>\n",
       "    </tr>\n",
       "    <tr>\n",
       "      <th>7</th>\n",
       "      <td>(DecisionTreeClassifier(max_features='auto', random_state=1165313289), DecisionTreeClassifier(ma...</td>\n",
       "      <td>Random Forest Out of the Box</td>\n",
       "      <td>0.9911</td>\n",
       "      <td>0.8421</td>\n",
       "      <td>0.9911</td>\n",
       "      <td>0.8421</td>\n",
       "    </tr>\n",
       "    <tr>\n",
       "      <th>8</th>\n",
       "      <td>(DecisionTreeClassifier(max_features='auto', random_state=1165313289), DecisionTreeClassifier(ma...</td>\n",
       "      <td>Random Forest Balanced</td>\n",
       "      <td>0.9911</td>\n",
       "      <td>0.8421</td>\n",
       "      <td>0.9911</td>\n",
       "      <td>0.8421</td>\n",
       "    </tr>\n",
       "    <tr>\n",
       "      <th>21</th>\n",
       "      <td>RandomizedSearchCV(cv=3,\\n                   estimator=&lt;catboost.core.CatBoostClassifier object ...</td>\n",
       "      <td>CatBoost w/ Random Search</td>\n",
       "      <td>0.6696</td>\n",
       "      <td>0.7895</td>\n",
       "      <td>0.6696</td>\n",
       "      <td>0.7895</td>\n",
       "    </tr>\n",
       "    <tr>\n",
       "      <th>20</th>\n",
       "      <td>&lt;catboost.core.CatBoostClassifier object at 0x7ff4ee2f0340&gt;</td>\n",
       "      <td>Catboost Out of the Box</td>\n",
       "      <td>0.6696</td>\n",
       "      <td>0.7895</td>\n",
       "      <td>0.6696</td>\n",
       "      <td>0.7895</td>\n",
       "    </tr>\n",
       "    <tr>\n",
       "      <th>19</th>\n",
       "      <td>RandomizedSearchCV(cv=3, estimator=GradientBoostingClassifier(), n_iter=100,\\n                  ...</td>\n",
       "      <td>Gradient Boosting RandomSearch</td>\n",
       "      <td>0.8482</td>\n",
       "      <td>0.7632</td>\n",
       "      <td>0.8482</td>\n",
       "      <td>0.7632</td>\n",
       "    </tr>\n",
       "    <tr>\n",
       "      <th>18</th>\n",
       "      <td>([DecisionTreeRegressor(criterion='friedman_mse', max_depth=3,\\n                      random_sta...</td>\n",
       "      <td>Gradient Boosting Out of the Box</td>\n",
       "      <td>0.9732</td>\n",
       "      <td>0.7632</td>\n",
       "      <td>0.9732</td>\n",
       "      <td>0.7632</td>\n",
       "    </tr>\n",
       "    <tr>\n",
       "      <th>17</th>\n",
       "      <td>(DecisionTreeClassifier(max_features='auto', random_state=1165313289), DecisionTreeClassifier(ma...</td>\n",
       "      <td>RandomForestClassifier(class_weight='balanced', random_state=10) with top 10 features</td>\n",
       "      <td>0.9911</td>\n",
       "      <td>0.7105</td>\n",
       "      <td>0.9909</td>\n",
       "      <td>0.7072</td>\n",
       "    </tr>\n",
       "    <tr>\n",
       "      <th>16</th>\n",
       "      <td>(DecisionTreeClassifier(max_features='auto', random_state=1165313289), DecisionTreeClassifier(ma...</td>\n",
       "      <td>RandomForestClassifier(random_state=10) with top 10 features</td>\n",
       "      <td>0.9911</td>\n",
       "      <td>0.7105</td>\n",
       "      <td>0.9909</td>\n",
       "      <td>0.7072</td>\n",
       "    </tr>\n",
       "    <tr>\n",
       "      <th>0</th>\n",
       "      <td>LogisticRegression()</td>\n",
       "      <td>Log Reg Out of the Box</td>\n",
       "      <td>0.7589</td>\n",
       "      <td>0.7105</td>\n",
       "      <td>0.7589</td>\n",
       "      <td>0.7105</td>\n",
       "    </tr>\n",
       "    <tr>\n",
       "      <th>15</th>\n",
       "      <td>(DecisionTreeClassifier(max_features='auto', random_state=1165313289), DecisionTreeClassifier(ma...</td>\n",
       "      <td>RandomForestClassifier(class_weight='balanced', random_state=10) with top 4 features</td>\n",
       "      <td>0.9643</td>\n",
       "      <td>0.6579</td>\n",
       "      <td>0.9643</td>\n",
       "      <td>0.6471</td>\n",
       "    </tr>\n",
       "    <tr>\n",
       "      <th>6</th>\n",
       "      <td>GridSearchCV(cv=3, estimator=LogisticRegression(),\\n             param_grid={'C': [100, 10, 1.0,...</td>\n",
       "      <td>Log Reg w/ GridSearch</td>\n",
       "      <td>0.7411</td>\n",
       "      <td>0.6579</td>\n",
       "      <td>0.7411</td>\n",
       "      <td>0.6579</td>\n",
       "    </tr>\n",
       "    <tr>\n",
       "      <th>5</th>\n",
       "      <td>LogisticRegression(max_iter=10000)</td>\n",
       "      <td>Log reg model with 17 PCA features</td>\n",
       "      <td>0.7500</td>\n",
       "      <td>0.6579</td>\n",
       "      <td>0.7464</td>\n",
       "      <td>0.6174</td>\n",
       "    </tr>\n",
       "    <tr>\n",
       "      <th>3</th>\n",
       "      <td>LogisticRegression(max_iter=10000)</td>\n",
       "      <td>Log reg model with 7 PCA features</td>\n",
       "      <td>0.6786</td>\n",
       "      <td>0.6579</td>\n",
       "      <td>0.6455</td>\n",
       "      <td>0.6431</td>\n",
       "    </tr>\n",
       "    <tr>\n",
       "      <th>2</th>\n",
       "      <td>LogisticRegression(max_iter=10000)</td>\n",
       "      <td>Log reg model with 4 PCA features</td>\n",
       "      <td>0.6429</td>\n",
       "      <td>0.6579</td>\n",
       "      <td>0.6084</td>\n",
       "      <td>0.6270</td>\n",
       "    </tr>\n",
       "    <tr>\n",
       "      <th>1</th>\n",
       "      <td>LogisticRegression(max_iter=10000)</td>\n",
       "      <td>Log reg model with 2 PCA features</td>\n",
       "      <td>0.5089</td>\n",
       "      <td>0.6316</td>\n",
       "      <td>0.4724</td>\n",
       "      <td>0.5834</td>\n",
       "    </tr>\n",
       "    <tr>\n",
       "      <th>4</th>\n",
       "      <td>LogisticRegression(max_iter=10000)</td>\n",
       "      <td>Log reg model with 12 PCA features</td>\n",
       "      <td>0.7232</td>\n",
       "      <td>0.6316</td>\n",
       "      <td>0.7206</td>\n",
       "      <td>0.6222</td>\n",
       "    </tr>\n",
       "    <tr>\n",
       "      <th>10</th>\n",
       "      <td>(DecisionTreeClassifier(max_features='auto', random_state=1165313289), DecisionTreeClassifier(ma...</td>\n",
       "      <td>Balanced Random Forest Classifier</td>\n",
       "      <td>0.7679</td>\n",
       "      <td>0.6053</td>\n",
       "      <td>0.7679</td>\n",
       "      <td>0.6053</td>\n",
       "    </tr>\n",
       "    <tr>\n",
       "      <th>14</th>\n",
       "      <td>(DecisionTreeClassifier(max_features='auto', random_state=1165313289), DecisionTreeClassifier(ma...</td>\n",
       "      <td>RandomForestClassifier(random_state=10) with top 4 features</td>\n",
       "      <td>0.9643</td>\n",
       "      <td>0.6053</td>\n",
       "      <td>0.9643</td>\n",
       "      <td>0.6000</td>\n",
       "    </tr>\n",
       "    <tr>\n",
       "      <th>11</th>\n",
       "      <td>RandomizedSearchCV(cv=3,\\n                   estimator=RandomForestClassifier(class_weight='bala...</td>\n",
       "      <td>Random Forest Balanced RandomSearch</td>\n",
       "      <td>0.9911</td>\n",
       "      <td>0.6053</td>\n",
       "      <td>0.9911</td>\n",
       "      <td>0.6053</td>\n",
       "    </tr>\n",
       "    <tr>\n",
       "      <th>13</th>\n",
       "      <td>(DecisionTreeClassifier(max_features='auto', random_state=1165313289), DecisionTreeClassifier(ma...</td>\n",
       "      <td>RandomForestClassifier(class_weight='balanced', random_state=10) with top 2 features</td>\n",
       "      <td>0.8393</td>\n",
       "      <td>0.5263</td>\n",
       "      <td>0.8441</td>\n",
       "      <td>0.5177</td>\n",
       "    </tr>\n",
       "    <tr>\n",
       "      <th>12</th>\n",
       "      <td>(DecisionTreeClassifier(max_features='auto', random_state=1165313289), DecisionTreeClassifier(ma...</td>\n",
       "      <td>RandomForestClassifier(random_state=10) with top 2 features</td>\n",
       "      <td>0.8482</td>\n",
       "      <td>0.5000</td>\n",
       "      <td>0.8461</td>\n",
       "      <td>0.4735</td>\n",
       "    </tr>\n",
       "  </tbody>\n",
       "</table>\n",
       "</div>"
      ],
      "text/plain": [
       "                                                                                                  model  \\\n",
       "9   (DecisionTreeClassifier(max_features='auto', random_state=1165313289), DecisionTreeClassifier(ma...   \n",
       "7   (DecisionTreeClassifier(max_features='auto', random_state=1165313289), DecisionTreeClassifier(ma...   \n",
       "8   (DecisionTreeClassifier(max_features='auto', random_state=1165313289), DecisionTreeClassifier(ma...   \n",
       "21  RandomizedSearchCV(cv=3,\\n                   estimator=<catboost.core.CatBoostClassifier object ...   \n",
       "20                                          <catboost.core.CatBoostClassifier object at 0x7ff4ee2f0340>   \n",
       "19  RandomizedSearchCV(cv=3, estimator=GradientBoostingClassifier(), n_iter=100,\\n                  ...   \n",
       "18  ([DecisionTreeRegressor(criterion='friedman_mse', max_depth=3,\\n                      random_sta...   \n",
       "17  (DecisionTreeClassifier(max_features='auto', random_state=1165313289), DecisionTreeClassifier(ma...   \n",
       "16  (DecisionTreeClassifier(max_features='auto', random_state=1165313289), DecisionTreeClassifier(ma...   \n",
       "0                                                                                  LogisticRegression()   \n",
       "15  (DecisionTreeClassifier(max_features='auto', random_state=1165313289), DecisionTreeClassifier(ma...   \n",
       "6   GridSearchCV(cv=3, estimator=LogisticRegression(),\\n             param_grid={'C': [100, 10, 1.0,...   \n",
       "5                                                                    LogisticRegression(max_iter=10000)   \n",
       "3                                                                    LogisticRegression(max_iter=10000)   \n",
       "2                                                                    LogisticRegression(max_iter=10000)   \n",
       "1                                                                    LogisticRegression(max_iter=10000)   \n",
       "4                                                                    LogisticRegression(max_iter=10000)   \n",
       "10  (DecisionTreeClassifier(max_features='auto', random_state=1165313289), DecisionTreeClassifier(ma...   \n",
       "14  (DecisionTreeClassifier(max_features='auto', random_state=1165313289), DecisionTreeClassifier(ma...   \n",
       "11  RandomizedSearchCV(cv=3,\\n                   estimator=RandomForestClassifier(class_weight='bala...   \n",
       "13  (DecisionTreeClassifier(max_features='auto', random_state=1165313289), DecisionTreeClassifier(ma...   \n",
       "12  (DecisionTreeClassifier(max_features='auto', random_state=1165313289), DecisionTreeClassifier(ma...   \n",
       "\n",
       "                                                                                     name  \\\n",
       "9                                                        Random Forest Balanced Subsample   \n",
       "7                                                            Random Forest Out of the Box   \n",
       "8                                                                  Random Forest Balanced   \n",
       "21                                                              CatBoost w/ Random Search   \n",
       "20                                                                Catboost Out of the Box   \n",
       "19                                                         Gradient Boosting RandomSearch   \n",
       "18                                                       Gradient Boosting Out of the Box   \n",
       "17  RandomForestClassifier(class_weight='balanced', random_state=10) with top 10 features   \n",
       "16                           RandomForestClassifier(random_state=10) with top 10 features   \n",
       "0                                                                  Log Reg Out of the Box   \n",
       "15   RandomForestClassifier(class_weight='balanced', random_state=10) with top 4 features   \n",
       "6                                                                   Log Reg w/ GridSearch   \n",
       "5                                                      Log reg model with 17 PCA features   \n",
       "3                                                       Log reg model with 7 PCA features   \n",
       "2                                                       Log reg model with 4 PCA features   \n",
       "1                                                       Log reg model with 2 PCA features   \n",
       "4                                                      Log reg model with 12 PCA features   \n",
       "10                                                      Balanced Random Forest Classifier   \n",
       "14                            RandomForestClassifier(random_state=10) with top 4 features   \n",
       "11                                                    Random Forest Balanced RandomSearch   \n",
       "13   RandomForestClassifier(class_weight='balanced', random_state=10) with top 2 features   \n",
       "12                            RandomForestClassifier(random_state=10) with top 2 features   \n",
       "\n",
       "    train_accuracy  test_accuracy  train_f1  test_f1  \n",
       "9           0.9911         0.8421    0.9911   0.8421  \n",
       "7           0.9911         0.8421    0.9911   0.8421  \n",
       "8           0.9911         0.8421    0.9911   0.8421  \n",
       "21          0.6696         0.7895    0.6696   0.7895  \n",
       "20          0.6696         0.7895    0.6696   0.7895  \n",
       "19          0.8482         0.7632    0.8482   0.7632  \n",
       "18          0.9732         0.7632    0.9732   0.7632  \n",
       "17          0.9911         0.7105    0.9909   0.7072  \n",
       "16          0.9911         0.7105    0.9909   0.7072  \n",
       "0           0.7589         0.7105    0.7589   0.7105  \n",
       "15          0.9643         0.6579    0.9643   0.6471  \n",
       "6           0.7411         0.6579    0.7411   0.6579  \n",
       "5           0.7500         0.6579    0.7464   0.6174  \n",
       "3           0.6786         0.6579    0.6455   0.6431  \n",
       "2           0.6429         0.6579    0.6084   0.6270  \n",
       "1           0.5089         0.6316    0.4724   0.5834  \n",
       "4           0.7232         0.6316    0.7206   0.6222  \n",
       "10          0.7679         0.6053    0.7679   0.6053  \n",
       "14          0.9643         0.6053    0.9643   0.6000  \n",
       "11          0.9911         0.6053    0.9911   0.6053  \n",
       "13          0.8393         0.5263    0.8441   0.5177  \n",
       "12          0.8482         0.5000    0.8461   0.4735  "
      ]
     },
     "execution_count": 78,
     "metadata": {},
     "output_type": "execute_result"
    }
   ],
   "source": [
    "ordered_results"
   ]
  },
  {
   "cell_type": "markdown",
   "metadata": {},
   "source": [
    "<a class=\"anchor\" id=\"conclusions\"></a>\n",
    "\n",
    "## 8. Conclusions"
   ]
  },
  {
   "cell_type": "markdown",
   "metadata": {},
   "source": [
    "Our top 3 models are Random Forest Classifier Models. Though they have the same Accuracy and F1 scores, as mentioned previously, the Random Forest Balanced model out performed the other models in regards to it's precision and recall scores for the Grade 3 or Lower Class and did a better job in regards to not over-grading the coffee."
   ]
  },
  {
   "cell_type": "code",
   "execution_count": null,
   "metadata": {},
   "outputs": [],
   "source": []
  }
 ],
 "metadata": {
  "kernelspec": {
   "display_name": "Python 3",
   "language": "python",
   "name": "python3"
  },
  "language_info": {
   "codemirror_mode": {
    "name": "ipython",
    "version": 3
   },
   "file_extension": ".py",
   "mimetype": "text/x-python",
   "name": "python",
   "nbconvert_exporter": "python",
   "pygments_lexer": "ipython3",
   "version": "3.8.5"
  }
 },
 "nbformat": 4,
 "nbformat_minor": 4
}
