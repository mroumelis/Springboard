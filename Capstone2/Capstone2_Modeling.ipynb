{
 "cells": [
  {
   "cell_type": "markdown",
   "metadata": {},
   "source": [
    "# 1. Import Libraries"
   ]
  },
  {
   "cell_type": "code",
   "execution_count": 1,
   "metadata": {},
   "outputs": [],
   "source": [
    "#import libraries\n",
    "\n",
    "import pandas as pd\n",
    "import matplotlib.pyplot as plt\n",
    "from matplotlib import pyplot\n",
    "import seaborn as sns\n",
    "import numpy as np\n",
    "from sklearn import metrics\n",
    "from sklearn.metrics import confusion_matrix\n",
    "from sklearn.metrics import plot_confusion_matrix\n",
    "from sklearn.metrics import precision_score, recall_score, f1_score, accuracy_score\n",
    "from sklearn.model_selection import train_test_split\n",
    "from sklearn.metrics import mean_squared_error\n",
    "from sklearn.metrics import r2_score\n",
    "from sklearn.inspection import permutation_importance\n",
    "from sklearn.preprocessing import StandardScaler\n",
    "from sklearn.metrics import precision_recall_curve\n",
    "from sklearn.metrics import f1_score\n",
    "from sklearn.metrics import auc\n",
    "from sklearn.linear_model import LogisticRegression\n",
    "from sklearn.ensemble import RandomForestClassifier\n",
    "from imblearn.ensemble import BalancedRandomForestClassifier\n",
    "from sklearn.metrics import classification_report,confusion_matrix,roc_curve,roc_auc_score\n",
    "from sklearn.metrics import accuracy_score,log_loss\n",
    "from matplotlib import pyplot\n",
    "from sklearn.model_selection import GridSearchCV\n",
    "\n",
    "from sklearn.metrics import cohen_kappa_score\n",
    "from sklearn.decomposition import PCA\n",
    "\n",
    "from pprint import pprint\n",
    "from sklearn.model_selection import RandomizedSearchCV\n",
    "\n",
    "\n",
    "from sklearn.model_selection import KFold\n",
    "from sklearn.ensemble import GradientBoostingClassifier\n",
    "\n",
    "import catboost\n",
    "from catboost import CatBoostClassifier, Pool, metrics, cv"
   ]
  },
  {
   "cell_type": "code",
   "execution_count": 2,
   "metadata": {},
   "outputs": [],
   "source": [
    "import warnings\n",
    "warnings.filterwarnings('ignore')"
   ]
  },
  {
   "cell_type": "markdown",
   "metadata": {},
   "source": [
    "# 2. Download Data"
   ]
  },
  {
   "cell_type": "code",
   "execution_count": 3,
   "metadata": {},
   "outputs": [],
   "source": [
    "coffee3 = pd.read_csv('coffee3.csv')"
   ]
  },
  {
   "cell_type": "code",
   "execution_count": 4,
   "metadata": {},
   "outputs": [
    {
     "name": "stdout",
     "output_type": "stream",
     "text": [
      "<class 'pandas.core.frame.DataFrame'>\n",
      "RangeIndex: 150 entries, 0 to 149\n",
      "Data columns (total 9 columns):\n",
      " #   Column             Non-Null Count  Dtype  \n",
      "---  ------             --------------  -----  \n",
      " 0   Unnamed: 0         150 non-null    int64  \n",
      " 1   Country of Origin  150 non-null    object \n",
      " 2   Variety            150 non-null    object \n",
      " 3   Mean Altitude (m)  150 non-null    float64\n",
      " 4   Harvest Year       150 non-null    int64  \n",
      " 5   Processing Method  150 non-null    object \n",
      " 6   Moisture           150 non-null    float64\n",
      " 7   Color              150 non-null    object \n",
      " 8   Coffee_Grade       150 non-null    object \n",
      "dtypes: float64(2), int64(2), object(5)\n",
      "memory usage: 10.7+ KB\n"
     ]
    }
   ],
   "source": [
    "coffee3.info()"
   ]
  },
  {
   "cell_type": "code",
   "execution_count": 5,
   "metadata": {},
   "outputs": [],
   "source": [
    "coffee3 = coffee3.drop(columns=['Unnamed: 0'])"
   ]
  },
  {
   "cell_type": "markdown",
   "metadata": {},
   "source": [
    "### 2.1 Dealing with categorical, train_test_split and scaling "
   ]
  },
  {
   "cell_type": "markdown",
   "metadata": {},
   "source": [
    "First let's get our target feature y and our predictive features X."
   ]
  },
  {
   "cell_type": "code",
   "execution_count": 6,
   "metadata": {},
   "outputs": [
    {
     "data": {
      "text/plain": [
       "((150, 7), (150,))"
      ]
     },
     "execution_count": 6,
     "metadata": {},
     "output_type": "execute_result"
    }
   ],
   "source": [
    "X = coffee3.drop('Coffee_Grade', axis=1)\n",
    "        \n",
    "y = coffee3['Coffee_Grade']\n",
    "X.shape, y.shape"
   ]
  },
  {
   "cell_type": "markdown",
   "metadata": {},
   "source": [
    "We will use pandas, get_dummies to encode our categorical data."
   ]
  },
  {
   "cell_type": "code",
   "execution_count": 7,
   "metadata": {},
   "outputs": [
    {
     "data": {
      "text/plain": [
       "(150, 19)"
      ]
     },
     "execution_count": 7,
     "metadata": {},
     "output_type": "execute_result"
    }
   ],
   "source": [
    "X_dumm = pd.get_dummies(X, drop_first=True)\n",
    "X_dumm.shape"
   ]
  },
  {
   "cell_type": "markdown",
   "metadata": {},
   "source": [
    "Now we will split our data in train and test."
   ]
  },
  {
   "cell_type": "code",
   "execution_count": 8,
   "metadata": {},
   "outputs": [],
   "source": [
    "X_train, X_test, y_train, y_test = train_test_split(X_dumm, y, test_size = 0.25, random_state=10)"
   ]
  },
  {
   "cell_type": "markdown",
   "metadata": {},
   "source": [
    "Finally we will apply sklearn's StandardScaler."
   ]
  },
  {
   "cell_type": "code",
   "execution_count": 9,
   "metadata": {},
   "outputs": [],
   "source": [
    "scaler = StandardScaler()\n",
    "scaler.fit(X_train)\n",
    "X_train = scaler.transform(X_train)\n",
    "X_test = scaler.transform(X_test)"
   ]
  },
  {
   "cell_type": "markdown",
   "metadata": {},
   "source": [
    "### 2.2 Defining useful functions \n",
    "Now we will crate a few functions to help us:\n",
    "\n",
    " * Getting the Evaluation Metrics from our classification models:\n",
    "    * Accuracy - for both Train and Test\n",
    "    * Cohen's Kappa - for both Train and Test\n",
    "    * Classification report - which includes the F1 score, Recall and Precision for both predicted classes.\n",
    "    * Confusion matrix - normalized.\n",
    "    \n",
    " * Creating a Results Data Frame\n",
    " * Performing a Random Search of Parameters\n",
    " * Performing a Grid Search of Parameters"
   ]
  },
  {
   "cell_type": "code",
   "execution_count": 10,
   "metadata": {},
   "outputs": [],
   "source": [
    "#printing classification report and confusion matrix\n",
    "def evaluation_block(model):\n",
    "    global train_acc, test_acc\n",
    "    \n",
    "    y_tr_pred = model.predict(X_train)\n",
    "    \n",
    "    train_acc = round(accuracy_score(y_train,y_tr_pred),4)\n",
    "    test_acc = round(accuracy_score(y_test,y_pred),4)\n",
    "    train_cohen = round(cohen_kappa_score(y_train, y_tr_pred),4)\n",
    "    test_cohen = round(cohen_kappa_score(y_test, y_pred),4)\n",
    "    \n",
    "    print(\"Train - Accuracy:\", train_acc)\n",
    "    print(\"Test - Accuracy:\", test_acc)\n",
    "    print(\"Train - Cohen's Kappa:\", train_cohen)\n",
    "    print(\"Test - Cohen's Kappa:\", test_cohen)\n",
    "\n",
    "    print('Validation - Classification report\\n', classification_report(y_test,y_pred))\n",
    "    plt.figure(figsize=(9,9))\n",
    "    plot_confusion_matrix(model, X_test, y_test, normalize='true', cmap = 'Blues')\n",
    "    plt.show()"
   ]
  },
  {
   "cell_type": "code",
   "execution_count": 11,
   "metadata": {},
   "outputs": [],
   "source": [
    "#create a dataframe to store and compare our model results\n",
    "results = pd.DataFrame(columns = ['model','name','train_accuracy', 'test_accuracy', 'train_cohenkappa', 'test_cohenkappa'])\n",
    "pd.set_option(\"max_colwidth\", 100)\n",
    "def save_scores(model, name):\n",
    "    y_tr_pred = model.predict(X_train)\n",
    "    \n",
    "    train_acc = round(accuracy_score(y_train,y_tr_pred),4)\n",
    "    test_acc = round(accuracy_score(y_test,y_pred),4)\n",
    "    train_f1 = round(f1_score(y_train, y_tr_pred, average='weighted'),4)\n",
    " \n",
    "    train_cohen = round(cohen_kappa_score(y_train, y_tr_pred),4)\n",
    "    test_cohen = round(cohen_kappa_score(y_test, y_pred),4)\n",
    "    \n",
    "    new_row = {'model':model,\n",
    "               'name': name,\n",
    "               'train_accuracy': train_acc,\n",
    "               'test_accuracy': test_acc,\n",
    "               'train_cohenkappa': train_cohen,\n",
    "               'test_cohenkappa': test_cohen}\n",
    "    results.loc[0 if pd.isnull(results.index.max()) else results.index.max() + 1] = new_row"
   ]
  },
  {
   "cell_type": "code",
   "execution_count": 12,
   "metadata": {},
   "outputs": [],
   "source": [
    "#create function to perform random search on a given model and parameter grid\n",
    "def rand_cv(model, param_grid, name):\n",
    "    # Random search of parameters, using 3 fold cross validation, \n",
    "    random = RandomizedSearchCV(estimator = model, param_distributions = param_grid ,n_iter=100, cv = 3, verbose=2, random_state=10, n_jobs = -1)\n",
    "    random.fit(X_train, y_train)\n",
    "    print('Best Parameters based on Randomized Search CV:', random.best_params_)\n",
    "    print('Best score: ', random.best_score_)\n",
    "    evaluation_block(random)\n",
    "    save_scores(random, name)"
   ]
  },
  {
   "cell_type": "code",
   "execution_count": 13,
   "metadata": {},
   "outputs": [],
   "source": [
    "#create function to perform grid search on a given model and parameter grid\n",
    "def grid_cv(model, param_grid, name):\n",
    "    grid = GridSearchCV(model, param_grid, cv = 3)\n",
    "    grid.fit(X_train, y_train)\n",
    "    y_pred = grid.predict(X_test)\n",
    "\n",
    "    print('Best Parameters based on Grid Search CV: ', grid.best_params_)\n",
    "    print('Best Score: ', grid.best_score_)\n",
    "    evaluation_block(grid)\n",
    "    save_scores(grid, name)"
   ]
  },
  {
   "cell_type": "markdown",
   "metadata": {},
   "source": [
    "# 3. Logistic Regression Model"
   ]
  },
  {
   "cell_type": "markdown",
   "metadata": {},
   "source": [
    "### 3.1 Logistic Regression - Out of the Box"
   ]
  },
  {
   "cell_type": "markdown",
   "metadata": {},
   "source": [
    "For our initial model we will start off with logistic regression"
   ]
  },
  {
   "cell_type": "code",
   "execution_count": 14,
   "metadata": {},
   "outputs": [],
   "source": [
    "logisticRegr = LogisticRegression()\n",
    "logisticRegr.fit(X_train, y_train)\n",
    "y_pred = logisticRegr.predict(X_test)"
   ]
  },
  {
   "cell_type": "code",
   "execution_count": 77,
   "metadata": {},
   "outputs": [
    {
     "data": {
      "text/plain": [
       "0.4354"
      ]
     },
     "execution_count": 77,
     "metadata": {},
     "output_type": "execute_result"
    }
   ],
   "source": [
    "f1_train = round(f1_score(y_train, y_tr_pred, average='weighted'),4)\n",
    "f1_train"
   ]
  },
  {
   "cell_type": "code",
   "execution_count": 15,
   "metadata": {},
   "outputs": [
    {
     "name": "stdout",
     "output_type": "stream",
     "text": [
      "Train - Accuracy: 0.7589\n",
      "Test - Accuracy: 0.7105\n",
      "Train - Cohen's Kappa: 0.5712\n",
      "Test - Cohen's Kappa: 0.4029\n",
      "Validation - Classification report\n",
      "                   precision    recall  f1-score   support\n",
      "\n",
      "Grade 3 or Lower       0.00      0.00      0.00         2\n",
      "         Premium       0.69      0.95      0.80        21\n",
      "       Specialty       0.78      0.47      0.58        15\n",
      "\n",
      "        accuracy                           0.71        38\n",
      "       macro avg       0.49      0.47      0.46        38\n",
      "    weighted avg       0.69      0.71      0.67        38\n",
      "\n"
     ]
    },
    {
     "data": {
      "text/plain": [
       "<Figure size 648x648 with 0 Axes>"
      ]
     },
     "metadata": {},
     "output_type": "display_data"
    },
    {
     "data": {
      "image/png": "[encoded data removed]",
      "text/plain": [
       "<Figure size 432x288 with 2 Axes>"
      ]
     },
     "metadata": {
      "needs_background": "light"
     },
     "output_type": "display_data"
    }
   ],
   "source": [
    "evaluation_block(logisticRegr)"
   ]
  },
  {
   "cell_type": "markdown",
   "metadata": {},
   "source": [
    "The score for the out of the box LogisticRegression model is: 0.71 accuracy and 0.41 Cohen Kappa score."
   ]
  },
  {
   "cell_type": "code",
   "execution_count": 16,
   "metadata": {},
   "outputs": [],
   "source": [
    "save_scores(logisticRegr, 'Log Reg Out of the Box')"
   ]
  },
  {
   "cell_type": "code",
   "execution_count": 17,
   "metadata": {},
   "outputs": [
    {
     "data": {
      "text/html": [
       "<div>\n",
       "<style scoped>\n",
       "    .dataframe tbody tr th:only-of-type {\n",
       "        vertical-align: middle;\n",
       "    }\n",
       "\n",
       "    .dataframe tbody tr th {\n",
       "        vertical-align: top;\n",
       "    }\n",
       "\n",
       "    .dataframe thead th {\n",
       "        text-align: right;\n",
       "    }\n",
       "</style>\n",
       "<table border=\"1\" class=\"dataframe\">\n",
       "  <thead>\n",
       "    <tr style=\"text-align: right;\">\n",
       "      <th></th>\n",
       "      <th>model</th>\n",
       "      <th>name</th>\n",
       "      <th>train_accuracy</th>\n",
       "      <th>test_accuracy</th>\n",
       "      <th>train_cohenkappa</th>\n",
       "      <th>test_cohenkappa</th>\n",
       "    </tr>\n",
       "  </thead>\n",
       "  <tbody>\n",
       "    <tr>\n",
       "      <th>0</th>\n",
       "      <td>LogisticRegression()</td>\n",
       "      <td>Log Reg Out of the Box</td>\n",
       "      <td>0.7589</td>\n",
       "      <td>0.7105</td>\n",
       "      <td>0.5712</td>\n",
       "      <td>0.4029</td>\n",
       "    </tr>\n",
       "  </tbody>\n",
       "</table>\n",
       "</div>"
      ],
      "text/plain": [
       "                  model                    name  train_accuracy  \\\n",
       "0  LogisticRegression()  Log Reg Out of the Box          0.7589   \n",
       "\n",
       "   test_accuracy  train_cohenkappa  test_cohenkappa  \n",
       "0         0.7105            0.5712           0.4029  "
      ]
     },
     "execution_count": 17,
     "metadata": {},
     "output_type": "execute_result"
    }
   ],
   "source": [
    "results"
   ]
  },
  {
   "cell_type": "markdown",
   "metadata": {},
   "source": [
    "\n"
   ]
  },
  {
   "cell_type": "markdown",
   "metadata": {},
   "source": [
    "### 3.2 Logistic regression with PCA"
   ]
  },
  {
   "cell_type": "markdown",
   "metadata": {},
   "source": [
    "The out of the box model can be improved by either tunning the hyperparameters or by further modifing the data prior to applying the classifiers.\n",
    "\n",
    "We will now see how PCA affects our LogisticRegression model."
   ]
  },
  {
   "cell_type": "code",
   "execution_count": 18,
   "metadata": {},
   "outputs": [
    {
     "data": {
      "text/plain": [
       "PCA()"
      ]
     },
     "execution_count": 18,
     "metadata": {},
     "output_type": "execute_result"
    }
   ],
   "source": [
    "pca = PCA()\n",
    "pca.fit(X_train)"
   ]
  },
  {
   "cell_type": "code",
   "execution_count": 19,
   "metadata": {},
   "outputs": [
    {
     "data": {
      "image/png": "[encoded data removed]",
      "text/plain": [
       "<Figure size 432x288 with 1 Axes>"
      ]
     },
     "metadata": {
      "needs_background": "light"
     },
     "output_type": "display_data"
    }
   ],
   "source": [
    "features = range(pca.n_components_)\n",
    "plt.bar(features, pca.explained_variance_ratio_)\n",
    "plt.axvline(4.5, c = 'red', linestyle = '-.')\n",
    "plt.xticks(features)\n",
    "plt.ylabel('Variance')\n",
    "plt.xlabel('PCA Feature')\n",
    "plt.title('PCA features and their Explained Variance Ratio')\n",
    "plt.show()"
   ]
  },
  {
   "cell_type": "code",
   "execution_count": 20,
   "metadata": {},
   "outputs": [
    {
     "data": {
      "text/plain": [
       "Text(0.5, 1.0, 'Cummulative PCA features with a 50%, 70% 90% and 99% explained variance ratio thresholds\" ')"
      ]
     },
     "execution_count": 20,
     "metadata": {},
     "output_type": "execute_result"
    },
    {
     "data": {
      "image/png": "[encoded data removed]",
      "text/plain": [
       "<Figure size 432x288 with 1 Axes>"
      ]
     },
     "metadata": {
      "needs_background": "light"
     },
     "output_type": "display_data"
    }
   ],
   "source": [
    "plt.bar(features, np.cumsum(pca.explained_variance_ratio_))\n",
    "[plt.axhline(y=i, linestyle='--', c = 'red') for i in [.3,.5,.7,.9, 0.99]]\n",
    "plt.xticks(features)\n",
    "plt.ylabel('Cummulative variance')\n",
    "plt.xlabel('PCA Feature')\n",
    "plt.title('Cummulative PCA features with a 50%, 70% 90% and 99% explained variance ratio thresholds\" ')"
   ]
  },
  {
   "cell_type": "markdown",
   "metadata": {},
   "source": [
    "Based on our PCA decomposition we can choose the folowing number of principal components:\n",
    "\n",
    "* 2 - for about 30% explained variance\n",
    "* 4 - for >50% explained variance\n",
    "* 7 - for >70% explained variance\n",
    "* 12 - for >90% explained variance\n",
    "* 17 - for >99% explained variance\n",
    "\n",
    "Obviously we need to consider the fact that a model based on fewer features will be underfitting while one based on a lot of them will ussualy overfit.\n",
    "\n",
    "Another aspect when considering underfitting vs overfitting is the dataset size, and in this case the training data has barely over 100 records, so considering we are dealing with a rather small dataset we can can't choose more features without a high risk of overfitting. We will check that by comparing the metrics from our training set versus the scores our models produces on the test set."
   ]
  },
  {
   "cell_type": "code",
   "execution_count": 21,
   "metadata": {},
   "outputs": [
    {
     "name": "stdout",
     "output_type": "stream",
     "text": [
      "---------------------Train & Test scores : Log reg model with 2 PCA features-------------------\n",
      "Train - Accuracy:  0.5089\n",
      "Test - Accuracy:  0.6316\n",
      "                  precision    recall  f1-score   support\n",
      "\n",
      "Grade 3 or Lower       0.00      0.00      0.00         2\n",
      "         Premium       0.63      0.90      0.75        21\n",
      "       Specialty       0.62      0.33      0.43        15\n",
      "\n",
      "        accuracy                           0.63        38\n",
      "       macro avg       0.42      0.41      0.39        38\n",
      "    weighted avg       0.60      0.63      0.58        38\n",
      "\n"
     ]
    },
    {
     "data": {
      "text/plain": [
       "<Figure size 648x648 with 0 Axes>"
      ]
     },
     "metadata": {},
     "output_type": "display_data"
    },
    {
     "data": {
      "image/png": "[encoded data removed]",
      "text/plain": [
       "<Figure size 432x288 with 2 Axes>"
      ]
     },
     "metadata": {
      "needs_background": "light"
     },
     "output_type": "display_data"
    },
    {
     "name": "stdout",
     "output_type": "stream",
     "text": [
      "---------------------Train & Test scores : Log reg model with 4 PCA features-------------------\n",
      "Train - Accuracy:  0.6429\n",
      "Test - Accuracy:  0.6579\n",
      "                  precision    recall  f1-score   support\n",
      "\n",
      "Grade 3 or Lower       0.00      0.00      0.00         2\n",
      "         Premium       0.67      0.86      0.75        21\n",
      "       Specialty       0.64      0.47      0.54        15\n",
      "\n",
      "        accuracy                           0.66        38\n",
      "       macro avg       0.43      0.44      0.43        38\n",
      "    weighted avg       0.62      0.66      0.63        38\n",
      "\n"
     ]
    },
    {
     "data": {
      "text/plain": [
       "<Figure size 648x648 with 0 Axes>"
      ]
     },
     "metadata": {},
     "output_type": "display_data"
    },
    {
     "data": {
      "image/png": "[encoded data removed]",
      "text/plain": [
       "<Figure size 432x288 with 2 Axes>"
      ]
     },
     "metadata": {
      "needs_background": "light"
     },
     "output_type": "display_data"
    },
    {
     "name": "stdout",
     "output_type": "stream",
     "text": [
      "---------------------Train & Test scores : Log reg model with 7 PCA features-------------------\n",
      "Train - Accuracy:  0.6786\n",
      "Test - Accuracy:  0.6579\n",
      "                  precision    recall  f1-score   support\n",
      "\n",
      "Grade 3 or Lower       0.00      0.00      0.00         2\n",
      "         Premium       0.71      0.81      0.76        21\n",
      "       Specialty       0.62      0.53      0.57        15\n",
      "\n",
      "        accuracy                           0.66        38\n",
      "       macro avg       0.44      0.45      0.44        38\n",
      "    weighted avg       0.63      0.66      0.64        38\n",
      "\n"
     ]
    },
    {
     "data": {
      "text/plain": [
       "<Figure size 648x648 with 0 Axes>"
      ]
     },
     "metadata": {},
     "output_type": "display_data"
    },
    {
     "data": {
      "image/png": "[encoded data removed]",
      "text/plain": [
       "<Figure size 432x288 with 2 Axes>"
      ]
     },
     "metadata": {
      "needs_background": "light"
     },
     "output_type": "display_data"
    },
    {
     "name": "stdout",
     "output_type": "stream",
     "text": [
      "---------------------Train & Test scores : Log reg model with 12 PCA features-------------------\n",
      "Train - Accuracy:  0.7232\n",
      "Test - Accuracy:  0.6316\n",
      "                  precision    recall  f1-score   support\n",
      "\n",
      "Grade 3 or Lower       0.00      0.00      0.00         2\n",
      "         Premium       0.71      0.81      0.76        21\n",
      "       Specialty       0.58      0.47      0.52        15\n",
      "\n",
      "        accuracy                           0.63        38\n",
      "       macro avg       0.43      0.43      0.42        38\n",
      "    weighted avg       0.62      0.63      0.62        38\n",
      "\n"
     ]
    },
    {
     "data": {
      "text/plain": [
       "<Figure size 648x648 with 0 Axes>"
      ]
     },
     "metadata": {},
     "output_type": "display_data"
    },
    {
     "data": {
      "image/png": "[encoded data removed]",
      "text/plain": [
       "<Figure size 432x288 with 2 Axes>"
      ]
     },
     "metadata": {
      "needs_background": "light"
     },
     "output_type": "display_data"
    },
    {
     "name": "stdout",
     "output_type": "stream",
     "text": [
      "---------------------Train & Test scores : Log reg model with 17 PCA features-------------------\n",
      "Train - Accuracy:  0.75\n",
      "Test - Accuracy:  0.6579\n",
      "                  precision    recall  f1-score   support\n",
      "\n",
      "Grade 3 or Lower       0.00      0.00      0.00         2\n",
      "         Premium       0.66      0.90      0.76        21\n",
      "       Specialty       0.67      0.40      0.50        15\n",
      "\n",
      "        accuracy                           0.66        38\n",
      "       macro avg       0.44      0.43      0.42        38\n",
      "    weighted avg       0.63      0.66      0.62        38\n",
      "\n"
     ]
    },
    {
     "data": {
      "text/plain": [
       "<Figure size 648x648 with 0 Axes>"
      ]
     },
     "metadata": {},
     "output_type": "display_data"
    },
    {
     "data": {
      "image/png": "[encoded data removed]",
      "text/plain": [
       "<Figure size 432x288 with 2 Axes>"
      ]
     },
     "metadata": {
      "needs_background": "light"
     },
     "output_type": "display_data"
    }
   ],
   "source": [
    "pca_feat = [2,4,7,12,17]\n",
    "for i in pca_feat:\n",
    "    pca = PCA(n_components = i)\n",
    "    pca.fit(X_train)\n",
    "    X_train_i = pca.transform(X_train)\n",
    "    X_test_i = pca.transform(X_test)\n",
    "\n",
    "    logreg_model = LogisticRegression(max_iter=10000)\n",
    "    logreg_model.fit(X_train_i, y_train)\n",
    "    \n",
    "    y_tr_pred = logreg_model.predict(X_train_i)\n",
    "    y_tr_pred_prob = logreg_model.predict_proba(X_train_i)[:,1]\n",
    "    \n",
    "    y_pred = logreg_model.predict(X_test_i)\n",
    "    y_pred_prob = logreg_model.predict_proba(X_test_i)[:,1]\n",
    "    \n",
    "    #add to results data frame\n",
    "    train_acc = round(accuracy_score(y_train,y_tr_pred),4)\n",
    "    test_acc = round(accuracy_score(y_test,y_pred),4)\n",
    "    train_cohen = round(cohen_kappa_score(y_train, y_tr_pred),4)\n",
    "    test_cohen = round(cohen_kappa_score(y_test, y_pred),4)\n",
    "    model = logreg_model\n",
    "    name = 'Log reg model with {} PCA features'.format(i)\n",
    "    \n",
    "    new_row = {'model':model,\n",
    "               'name': name,\n",
    "               'train_accuracy': train_acc,\n",
    "               'test_accuracy': test_acc,\n",
    "               'train_cohenkappa': train_cohen,\n",
    "               'test_cohenkappa': test_cohen}\n",
    "    results.loc[0 if pd.isnull(results.index.max()) else results.index.max() + 1] = new_row\n",
    "    \n",
    "    print('---------------------Train & Test scores : Log reg model with {} PCA features-------------------'.format(i))\n",
    "    print('Train - Accuracy: ', round(accuracy_score(y_train,y_tr_pred),4))\n",
    "    print('Test - Accuracy: ', round(accuracy_score(y_test,y_pred),4))\n",
    "    #print('Train - Cohens Kappa: {} '.format(round(cohen_kappa_score(y_train, y_tr_pred_prob),4)))        \n",
    "    #print('Test - Cohens Kappa: {} \\n'.format(round(cohen_kappa_score(y_test, y_pred_prob),4)))\n",
    "    print(classification_report(y_test,y_pred))\n",
    "    plt.figure(figsize=(9,9))\n",
    "    plot_confusion_matrix(logreg_model, X_test_i, y_test, normalize='true', cmap = 'Blues')\n",
    "    plt.show()\n",
    "    \n",
    "    \n",
    "    \n",
    "    "
   ]
  },
  {
   "cell_type": "code",
   "execution_count": 22,
   "metadata": {},
   "outputs": [
    {
     "data": {
      "text/html": [
       "<div>\n",
       "<style scoped>\n",
       "    .dataframe tbody tr th:only-of-type {\n",
       "        vertical-align: middle;\n",
       "    }\n",
       "\n",
       "    .dataframe tbody tr th {\n",
       "        vertical-align: top;\n",
       "    }\n",
       "\n",
       "    .dataframe thead th {\n",
       "        text-align: right;\n",
       "    }\n",
       "</style>\n",
       "<table border=\"1\" class=\"dataframe\">\n",
       "  <thead>\n",
       "    <tr style=\"text-align: right;\">\n",
       "      <th></th>\n",
       "      <th>model</th>\n",
       "      <th>name</th>\n",
       "      <th>train_accuracy</th>\n",
       "      <th>test_accuracy</th>\n",
       "      <th>train_cohenkappa</th>\n",
       "      <th>test_cohenkappa</th>\n",
       "    </tr>\n",
       "  </thead>\n",
       "  <tbody>\n",
       "    <tr>\n",
       "      <th>0</th>\n",
       "      <td>LogisticRegression()</td>\n",
       "      <td>Log Reg Out of the Box</td>\n",
       "      <td>0.7589</td>\n",
       "      <td>0.7105</td>\n",
       "      <td>0.5712</td>\n",
       "      <td>0.4029</td>\n",
       "    </tr>\n",
       "    <tr>\n",
       "      <th>1</th>\n",
       "      <td>LogisticRegression(max_iter=10000)</td>\n",
       "      <td>Log reg model with 2 PCA features</td>\n",
       "      <td>0.5089</td>\n",
       "      <td>0.6316</td>\n",
       "      <td>0.0650</td>\n",
       "      <td>0.2334</td>\n",
       "    </tr>\n",
       "    <tr>\n",
       "      <th>2</th>\n",
       "      <td>LogisticRegression(max_iter=10000)</td>\n",
       "      <td>Log reg model with 4 PCA features</td>\n",
       "      <td>0.6429</td>\n",
       "      <td>0.6579</td>\n",
       "      <td>0.3336</td>\n",
       "      <td>0.3062</td>\n",
       "    </tr>\n",
       "    <tr>\n",
       "      <th>3</th>\n",
       "      <td>LogisticRegression(max_iter=10000)</td>\n",
       "      <td>Log reg model with 7 PCA features</td>\n",
       "      <td>0.6786</td>\n",
       "      <td>0.6579</td>\n",
       "      <td>0.4108</td>\n",
       "      <td>0.3351</td>\n",
       "    </tr>\n",
       "    <tr>\n",
       "      <th>4</th>\n",
       "      <td>LogisticRegression(max_iter=10000)</td>\n",
       "      <td>Log reg model with 12 PCA features</td>\n",
       "      <td>0.7232</td>\n",
       "      <td>0.6316</td>\n",
       "      <td>0.5065</td>\n",
       "      <td>0.2963</td>\n",
       "    </tr>\n",
       "    <tr>\n",
       "      <th>5</th>\n",
       "      <td>LogisticRegression(max_iter=10000)</td>\n",
       "      <td>Log reg model with 17 PCA features</td>\n",
       "      <td>0.7500</td>\n",
       "      <td>0.6579</td>\n",
       "      <td>0.5533</td>\n",
       "      <td>0.2943</td>\n",
       "    </tr>\n",
       "  </tbody>\n",
       "</table>\n",
       "</div>"
      ],
      "text/plain": [
       "                                model                                name  \\\n",
       "0                LogisticRegression()              Log Reg Out of the Box   \n",
       "1  LogisticRegression(max_iter=10000)   Log reg model with 2 PCA features   \n",
       "2  LogisticRegression(max_iter=10000)   Log reg model with 4 PCA features   \n",
       "3  LogisticRegression(max_iter=10000)   Log reg model with 7 PCA features   \n",
       "4  LogisticRegression(max_iter=10000)  Log reg model with 12 PCA features   \n",
       "5  LogisticRegression(max_iter=10000)  Log reg model with 17 PCA features   \n",
       "\n",
       "   train_accuracy  test_accuracy  train_cohenkappa  test_cohenkappa  \n",
       "0          0.7589         0.7105            0.5712           0.4029  \n",
       "1          0.5089         0.6316            0.0650           0.2334  \n",
       "2          0.6429         0.6579            0.3336           0.3062  \n",
       "3          0.6786         0.6579            0.4108           0.3351  \n",
       "4          0.7232         0.6316            0.5065           0.2963  \n",
       "5          0.7500         0.6579            0.5533           0.2943  "
      ]
     },
     "execution_count": 22,
     "metadata": {},
     "output_type": "execute_result"
    }
   ],
   "source": [
    "results"
   ]
  },
  {
   "cell_type": "markdown",
   "metadata": {},
   "source": [
    "As we can see, changing the number of PCA features does not improve the accuracy of our model so for our further modeling we will keep our data without the PCA transformation."
   ]
  },
  {
   "cell_type": "markdown",
   "metadata": {},
   "source": [
    "### 3.3 Tuning Hyperparameters of Logistic Regression with GridSearch"
   ]
  },
  {
   "cell_type": "markdown",
   "metadata": {},
   "source": [
    "Let's first look at the list of parameters currently in use by our base logisic regression model"
   ]
  },
  {
   "cell_type": "code",
   "execution_count": 23,
   "metadata": {},
   "outputs": [
    {
     "name": "stdout",
     "output_type": "stream",
     "text": [
      "Parameters currently in use:\n",
      "\n",
      "{'C': 1.0,\n",
      " 'class_weight': None,\n",
      " 'dual': False,\n",
      " 'fit_intercept': True,\n",
      " 'intercept_scaling': 1,\n",
      " 'l1_ratio': None,\n",
      " 'max_iter': 100,\n",
      " 'multi_class': 'auto',\n",
      " 'n_jobs': None,\n",
      " 'penalty': 'l2',\n",
      " 'random_state': None,\n",
      " 'solver': 'lbfgs',\n",
      " 'tol': 0.0001,\n",
      " 'verbose': 0,\n",
      " 'warm_start': False}\n"
     ]
    }
   ],
   "source": [
    "#Check out parameters currently in use\n",
    "print('Parameters currently in use:\\n')\n",
    "pprint(logisticRegr.get_params())"
   ]
  },
  {
   "cell_type": "markdown",
   "metadata": {},
   "source": [
    "Next we will create a parameter grid of all the parameters we'd like to test and perform our grid search."
   ]
  },
  {
   "cell_type": "code",
   "execution_count": 24,
   "metadata": {},
   "outputs": [],
   "source": [
    "param_grid = { 'solver' : ['newton-cg', 'lbfgs', 'liblinear', 'sag', 'saga'],\n",
    "                'penalty' : ['none','l1', 'l2', 'elasticnet'],\n",
    "                'C' : [100, 10, 1.0, 0.1, 0.01],\n",
    "               'max_iter' : [10, 100, 1000, 10000]\n",
    "             }"
   ]
  },
  {
   "cell_type": "code",
   "execution_count": 25,
   "metadata": {},
   "outputs": [
    {
     "name": "stdout",
     "output_type": "stream",
     "text": [
      "Best Parameters based on Grid Search CV:  {'C': 100, 'max_iter': 10, 'penalty': 'none', 'solver': 'sag'}\n",
      "Best Score:  0.6173541963015647\n",
      "Train - Accuracy: 0.7589\n",
      "Test - Accuracy: 0.6579\n",
      "Train - Cohen's Kappa: 0.5683\n",
      "Test - Cohen's Kappa: 0.2943\n",
      "Validation - Classification report\n",
      "                   precision    recall  f1-score   support\n",
      "\n",
      "Grade 3 or Lower       0.00      0.00      0.00         2\n",
      "         Premium       0.66      0.90      0.76        21\n",
      "       Specialty       0.67      0.40      0.50        15\n",
      "\n",
      "        accuracy                           0.66        38\n",
      "       macro avg       0.44      0.43      0.42        38\n",
      "    weighted avg       0.63      0.66      0.62        38\n",
      "\n"
     ]
    },
    {
     "data": {
      "text/plain": [
       "<Figure size 648x648 with 0 Axes>"
      ]
     },
     "metadata": {},
     "output_type": "display_data"
    },
    {
     "data": {
      "image/png": "[encoded data removed]",
      "text/plain": [
       "<Figure size 432x288 with 2 Axes>"
      ]
     },
     "metadata": {
      "needs_background": "light"
     },
     "output_type": "display_data"
    }
   ],
   "source": [
    "grid_cv(logisticRegr, param_grid, 'Log Reg w/ GridSearch')"
   ]
  },
  {
   "cell_type": "markdown",
   "metadata": {},
   "source": [
    "Based on our results, the hypertuned model performed worse than our base model."
   ]
  },
  {
   "cell_type": "code",
   "execution_count": 26,
   "metadata": {},
   "outputs": [
    {
     "data": {
      "text/html": [
       "<div>\n",
       "<style scoped>\n",
       "    .dataframe tbody tr th:only-of-type {\n",
       "        vertical-align: middle;\n",
       "    }\n",
       "\n",
       "    .dataframe tbody tr th {\n",
       "        vertical-align: top;\n",
       "    }\n",
       "\n",
       "    .dataframe thead th {\n",
       "        text-align: right;\n",
       "    }\n",
       "</style>\n",
       "<table border=\"1\" class=\"dataframe\">\n",
       "  <thead>\n",
       "    <tr style=\"text-align: right;\">\n",
       "      <th></th>\n",
       "      <th>model</th>\n",
       "      <th>name</th>\n",
       "      <th>train_accuracy</th>\n",
       "      <th>test_accuracy</th>\n",
       "      <th>train_cohenkappa</th>\n",
       "      <th>test_cohenkappa</th>\n",
       "    </tr>\n",
       "  </thead>\n",
       "  <tbody>\n",
       "    <tr>\n",
       "      <th>0</th>\n",
       "      <td>LogisticRegression()</td>\n",
       "      <td>Log Reg Out of the Box</td>\n",
       "      <td>0.7589</td>\n",
       "      <td>0.7105</td>\n",
       "      <td>0.5712</td>\n",
       "      <td>0.4029</td>\n",
       "    </tr>\n",
       "    <tr>\n",
       "      <th>1</th>\n",
       "      <td>LogisticRegression(max_iter=10000)</td>\n",
       "      <td>Log reg model with 2 PCA features</td>\n",
       "      <td>0.5089</td>\n",
       "      <td>0.6316</td>\n",
       "      <td>0.0650</td>\n",
       "      <td>0.2334</td>\n",
       "    </tr>\n",
       "    <tr>\n",
       "      <th>2</th>\n",
       "      <td>LogisticRegression(max_iter=10000)</td>\n",
       "      <td>Log reg model with 4 PCA features</td>\n",
       "      <td>0.6429</td>\n",
       "      <td>0.6579</td>\n",
       "      <td>0.3336</td>\n",
       "      <td>0.3062</td>\n",
       "    </tr>\n",
       "    <tr>\n",
       "      <th>3</th>\n",
       "      <td>LogisticRegression(max_iter=10000)</td>\n",
       "      <td>Log reg model with 7 PCA features</td>\n",
       "      <td>0.6786</td>\n",
       "      <td>0.6579</td>\n",
       "      <td>0.4108</td>\n",
       "      <td>0.3351</td>\n",
       "    </tr>\n",
       "    <tr>\n",
       "      <th>4</th>\n",
       "      <td>LogisticRegression(max_iter=10000)</td>\n",
       "      <td>Log reg model with 12 PCA features</td>\n",
       "      <td>0.7232</td>\n",
       "      <td>0.6316</td>\n",
       "      <td>0.5065</td>\n",
       "      <td>0.2963</td>\n",
       "    </tr>\n",
       "    <tr>\n",
       "      <th>5</th>\n",
       "      <td>LogisticRegression(max_iter=10000)</td>\n",
       "      <td>Log reg model with 17 PCA features</td>\n",
       "      <td>0.7500</td>\n",
       "      <td>0.6579</td>\n",
       "      <td>0.5533</td>\n",
       "      <td>0.2943</td>\n",
       "    </tr>\n",
       "    <tr>\n",
       "      <th>6</th>\n",
       "      <td>GridSearchCV(cv=3, estimator=LogisticRegression(),\\n             param_grid={'C': [100, 10, 1.0,...</td>\n",
       "      <td>Log Reg w/ GridSearch</td>\n",
       "      <td>0.7589</td>\n",
       "      <td>0.6579</td>\n",
       "      <td>0.5683</td>\n",
       "      <td>0.2943</td>\n",
       "    </tr>\n",
       "  </tbody>\n",
       "</table>\n",
       "</div>"
      ],
      "text/plain": [
       "                                                                                                 model  \\\n",
       "0                                                                                 LogisticRegression()   \n",
       "1                                                                   LogisticRegression(max_iter=10000)   \n",
       "2                                                                   LogisticRegression(max_iter=10000)   \n",
       "3                                                                   LogisticRegression(max_iter=10000)   \n",
       "4                                                                   LogisticRegression(max_iter=10000)   \n",
       "5                                                                   LogisticRegression(max_iter=10000)   \n",
       "6  GridSearchCV(cv=3, estimator=LogisticRegression(),\\n             param_grid={'C': [100, 10, 1.0,...   \n",
       "\n",
       "                                 name  train_accuracy  test_accuracy  \\\n",
       "0              Log Reg Out of the Box          0.7589         0.7105   \n",
       "1   Log reg model with 2 PCA features          0.5089         0.6316   \n",
       "2   Log reg model with 4 PCA features          0.6429         0.6579   \n",
       "3   Log reg model with 7 PCA features          0.6786         0.6579   \n",
       "4  Log reg model with 12 PCA features          0.7232         0.6316   \n",
       "5  Log reg model with 17 PCA features          0.7500         0.6579   \n",
       "6               Log Reg w/ GridSearch          0.7589         0.6579   \n",
       "\n",
       "   train_cohenkappa  test_cohenkappa  \n",
       "0            0.5712           0.4029  \n",
       "1            0.0650           0.2334  \n",
       "2            0.3336           0.3062  \n",
       "3            0.4108           0.3351  \n",
       "4            0.5065           0.2963  \n",
       "5            0.5533           0.2943  \n",
       "6            0.5683           0.2943  "
      ]
     },
     "execution_count": 26,
     "metadata": {},
     "output_type": "execute_result"
    }
   ],
   "source": [
    "results"
   ]
  },
  {
   "cell_type": "markdown",
   "metadata": {},
   "source": [
    "# 4. Random Forest Classifier"
   ]
  },
  {
   "cell_type": "markdown",
   "metadata": {},
   "source": []
  },
  {
   "cell_type": "markdown",
   "metadata": {},
   "source": [
    "### 4.1 Random Forest Classifier - Out of the Box"
   ]
  },
  {
   "cell_type": "code",
   "execution_count": 27,
   "metadata": {},
   "outputs": [],
   "source": [
    "rfc = RandomForestClassifier(random_state=10)\n",
    "rfc.fit(X_train, y_train)\n",
    "y_pred = rfc.predict(X_test)"
   ]
  },
  {
   "cell_type": "code",
   "execution_count": 28,
   "metadata": {},
   "outputs": [
    {
     "name": "stdout",
     "output_type": "stream",
     "text": [
      "Train - Accuracy: 0.9911\n",
      "Test - Accuracy: 0.8421\n",
      "Train - Cohen's Kappa: 0.9844\n",
      "Test - Cohen's Kappa: 0.7058\n",
      "Validation - Classification report\n",
      "                   precision    recall  f1-score   support\n",
      "\n",
      "Grade 3 or Lower       0.33      0.50      0.40         2\n",
      "         Premium       0.87      0.95      0.91        21\n",
      "       Specialty       0.92      0.73      0.81        15\n",
      "\n",
      "        accuracy                           0.84        38\n",
      "       macro avg       0.71      0.73      0.71        38\n",
      "    weighted avg       0.86      0.84      0.85        38\n",
      "\n"
     ]
    },
    {
     "data": {
      "text/plain": [
       "<Figure size 648x648 with 0 Axes>"
      ]
     },
     "metadata": {},
     "output_type": "display_data"
    },
    {
     "data": {
      "image/png": "[encoded data removed]",
      "text/plain": [
       "<Figure size 432x288 with 2 Axes>"
      ]
     },
     "metadata": {
      "needs_background": "light"
     },
     "output_type": "display_data"
    }
   ],
   "source": [
    "evaluation_block(rfc)"
   ]
  },
  {
   "cell_type": "markdown",
   "metadata": {},
   "source": [
    "Right off the bat we see a huge improvement in the evaluation metrics for this model compared to the logistic regression model."
   ]
  },
  {
   "cell_type": "code",
   "execution_count": 29,
   "metadata": {},
   "outputs": [],
   "source": [
    "save_scores(rfc, 'Random Forest Out of the Box')"
   ]
  },
  {
   "cell_type": "code",
   "execution_count": 30,
   "metadata": {},
   "outputs": [
    {
     "data": {
      "text/html": [
       "<div>\n",
       "<style scoped>\n",
       "    .dataframe tbody tr th:only-of-type {\n",
       "        vertical-align: middle;\n",
       "    }\n",
       "\n",
       "    .dataframe tbody tr th {\n",
       "        vertical-align: top;\n",
       "    }\n",
       "\n",
       "    .dataframe thead th {\n",
       "        text-align: right;\n",
       "    }\n",
       "</style>\n",
       "<table border=\"1\" class=\"dataframe\">\n",
       "  <thead>\n",
       "    <tr style=\"text-align: right;\">\n",
       "      <th></th>\n",
       "      <th>model</th>\n",
       "      <th>name</th>\n",
       "      <th>train_accuracy</th>\n",
       "      <th>test_accuracy</th>\n",
       "      <th>train_cohenkappa</th>\n",
       "      <th>test_cohenkappa</th>\n",
       "    </tr>\n",
       "  </thead>\n",
       "  <tbody>\n",
       "    <tr>\n",
       "      <th>0</th>\n",
       "      <td>LogisticRegression()</td>\n",
       "      <td>Log Reg Out of the Box</td>\n",
       "      <td>0.7589</td>\n",
       "      <td>0.7105</td>\n",
       "      <td>0.5712</td>\n",
       "      <td>0.4029</td>\n",
       "    </tr>\n",
       "    <tr>\n",
       "      <th>1</th>\n",
       "      <td>LogisticRegression(max_iter=10000)</td>\n",
       "      <td>Log reg model with 2 PCA features</td>\n",
       "      <td>0.5089</td>\n",
       "      <td>0.6316</td>\n",
       "      <td>0.0650</td>\n",
       "      <td>0.2334</td>\n",
       "    </tr>\n",
       "    <tr>\n",
       "      <th>2</th>\n",
       "      <td>LogisticRegression(max_iter=10000)</td>\n",
       "      <td>Log reg model with 4 PCA features</td>\n",
       "      <td>0.6429</td>\n",
       "      <td>0.6579</td>\n",
       "      <td>0.3336</td>\n",
       "      <td>0.3062</td>\n",
       "    </tr>\n",
       "    <tr>\n",
       "      <th>3</th>\n",
       "      <td>LogisticRegression(max_iter=10000)</td>\n",
       "      <td>Log reg model with 7 PCA features</td>\n",
       "      <td>0.6786</td>\n",
       "      <td>0.6579</td>\n",
       "      <td>0.4108</td>\n",
       "      <td>0.3351</td>\n",
       "    </tr>\n",
       "    <tr>\n",
       "      <th>4</th>\n",
       "      <td>LogisticRegression(max_iter=10000)</td>\n",
       "      <td>Log reg model with 12 PCA features</td>\n",
       "      <td>0.7232</td>\n",
       "      <td>0.6316</td>\n",
       "      <td>0.5065</td>\n",
       "      <td>0.2963</td>\n",
       "    </tr>\n",
       "    <tr>\n",
       "      <th>5</th>\n",
       "      <td>LogisticRegression(max_iter=10000)</td>\n",
       "      <td>Log reg model with 17 PCA features</td>\n",
       "      <td>0.7500</td>\n",
       "      <td>0.6579</td>\n",
       "      <td>0.5533</td>\n",
       "      <td>0.2943</td>\n",
       "    </tr>\n",
       "    <tr>\n",
       "      <th>6</th>\n",
       "      <td>GridSearchCV(cv=3, estimator=LogisticRegression(),\\n             param_grid={'C': [100, 10, 1.0,...</td>\n",
       "      <td>Log Reg w/ GridSearch</td>\n",
       "      <td>0.7589</td>\n",
       "      <td>0.6579</td>\n",
       "      <td>0.5683</td>\n",
       "      <td>0.2943</td>\n",
       "    </tr>\n",
       "    <tr>\n",
       "      <th>7</th>\n",
       "      <td>(DecisionTreeClassifier(max_features='auto', random_state=1165313289), DecisionTreeClassifier(ma...</td>\n",
       "      <td>Random Forest Out of the Box</td>\n",
       "      <td>0.9911</td>\n",
       "      <td>0.8421</td>\n",
       "      <td>0.9844</td>\n",
       "      <td>0.7058</td>\n",
       "    </tr>\n",
       "  </tbody>\n",
       "</table>\n",
       "</div>"
      ],
      "text/plain": [
       "                                                                                                 model  \\\n",
       "0                                                                                 LogisticRegression()   \n",
       "1                                                                   LogisticRegression(max_iter=10000)   \n",
       "2                                                                   LogisticRegression(max_iter=10000)   \n",
       "3                                                                   LogisticRegression(max_iter=10000)   \n",
       "4                                                                   LogisticRegression(max_iter=10000)   \n",
       "5                                                                   LogisticRegression(max_iter=10000)   \n",
       "6  GridSearchCV(cv=3, estimator=LogisticRegression(),\\n             param_grid={'C': [100, 10, 1.0,...   \n",
       "7  (DecisionTreeClassifier(max_features='auto', random_state=1165313289), DecisionTreeClassifier(ma...   \n",
       "\n",
       "                                 name  train_accuracy  test_accuracy  \\\n",
       "0              Log Reg Out of the Box          0.7589         0.7105   \n",
       "1   Log reg model with 2 PCA features          0.5089         0.6316   \n",
       "2   Log reg model with 4 PCA features          0.6429         0.6579   \n",
       "3   Log reg model with 7 PCA features          0.6786         0.6579   \n",
       "4  Log reg model with 12 PCA features          0.7232         0.6316   \n",
       "5  Log reg model with 17 PCA features          0.7500         0.6579   \n",
       "6               Log Reg w/ GridSearch          0.7589         0.6579   \n",
       "7        Random Forest Out of the Box          0.9911         0.8421   \n",
       "\n",
       "   train_cohenkappa  test_cohenkappa  \n",
       "0            0.5712           0.4029  \n",
       "1            0.0650           0.2334  \n",
       "2            0.3336           0.3062  \n",
       "3            0.4108           0.3351  \n",
       "4            0.5065           0.2963  \n",
       "5            0.5533           0.2943  \n",
       "6            0.5683           0.2943  \n",
       "7            0.9844           0.7058  "
      ]
     },
     "execution_count": 30,
     "metadata": {},
     "output_type": "execute_result"
    }
   ],
   "source": [
    "results"
   ]
  },
  {
   "cell_type": "markdown",
   "metadata": {},
   "source": [
    "### 4.2 Accounting for Imbalanced Data Set"
   ]
  },
  {
   "cell_type": "markdown",
   "metadata": {},
   "source": [
    "Because our data classes are highly imbalanced, I want to test some hyperparameters to account for this. We will try 2 different iterations of our RandomForestClassifier model by adjusting the class_weight  "
   ]
  },
  {
   "cell_type": "markdown",
   "metadata": {},
   "source": [
    "#### 4.2a Random Forest With Class Weighting\n"
   ]
  },
  {
   "cell_type": "code",
   "execution_count": 31,
   "metadata": {},
   "outputs": [],
   "source": [
    "rfc_balanced = RandomForestClassifier(class_weight='balanced', random_state = 10)\n",
    "rfc_balanced.fit(X_train, y_train)\n",
    "y_pred = rfc_balanced.predict(X_test)"
   ]
  },
  {
   "cell_type": "code",
   "execution_count": 32,
   "metadata": {},
   "outputs": [
    {
     "name": "stdout",
     "output_type": "stream",
     "text": [
      "Train - Accuracy: 0.9911\n",
      "Test - Accuracy: 0.8421\n",
      "Train - Cohen's Kappa: 0.9846\n",
      "Test - Cohen's Kappa: 0.7035\n",
      "Validation - Classification report\n",
      "                   precision    recall  f1-score   support\n",
      "\n",
      "Grade 3 or Lower       0.67      1.00      0.80         2\n",
      "         Premium       0.83      0.95      0.89        21\n",
      "       Specialty       0.91      0.67      0.77        15\n",
      "\n",
      "        accuracy                           0.84        38\n",
      "       macro avg       0.80      0.87      0.82        38\n",
      "    weighted avg       0.85      0.84      0.84        38\n",
      "\n"
     ]
    },
    {
     "data": {
      "text/plain": [
       "<Figure size 648x648 with 0 Axes>"
      ]
     },
     "metadata": {},
     "output_type": "display_data"
    },
    {
     "data": {
      "image/png": "[encoded data removed]",
      "text/plain": [
       "<Figure size 432x288 with 2 Axes>"
      ]
     },
     "metadata": {
      "needs_background": "light"
     },
     "output_type": "display_data"
    }
   ],
   "source": [
    "evaluation_block(rfc_balanced)"
   ]
  },
  {
   "cell_type": "code",
   "execution_count": 33,
   "metadata": {},
   "outputs": [],
   "source": [
    "save_scores(rfc_balanced, 'Random Forest Balanced')"
   ]
  },
  {
   "cell_type": "markdown",
   "metadata": {},
   "source": [
    "#### 4.2b Random Forest With Bootstrap Class Weighting"
   ]
  },
  {
   "cell_type": "code",
   "execution_count": 34,
   "metadata": {},
   "outputs": [],
   "source": [
    "rfc_balanced_subsample = RandomForestClassifier(class_weight='balanced_subsample', random_state = 10)\n",
    "rfc_balanced_subsample.fit(X_train, y_train)\n",
    "y_pred = rfc_balanced_subsample.predict(X_test)"
   ]
  },
  {
   "cell_type": "code",
   "execution_count": 35,
   "metadata": {},
   "outputs": [
    {
     "name": "stdout",
     "output_type": "stream",
     "text": [
      "Train - Accuracy: 0.9911\n",
      "Test - Accuracy: 0.8421\n",
      "Train - Cohen's Kappa: 0.9846\n",
      "Test - Cohen's Kappa: 0.7107\n",
      "Validation - Classification report\n",
      "                   precision    recall  f1-score   support\n",
      "\n",
      "Grade 3 or Lower       0.50      1.00      0.67         2\n",
      "         Premium       0.87      0.95      0.91        21\n",
      "       Specialty       0.91      0.67      0.77        15\n",
      "\n",
      "        accuracy                           0.84        38\n",
      "       macro avg       0.76      0.87      0.78        38\n",
      "    weighted avg       0.87      0.84      0.84        38\n",
      "\n"
     ]
    },
    {
     "data": {
      "text/plain": [
       "<Figure size 648x648 with 0 Axes>"
      ]
     },
     "metadata": {},
     "output_type": "display_data"
    },
    {
     "data": {
      "image/png": "[encoded data removed]",
      "text/plain": [
       "<Figure size 432x288 with 2 Axes>"
      ]
     },
     "metadata": {
      "needs_background": "light"
     },
     "output_type": "display_data"
    }
   ],
   "source": [
    "evaluation_block(rfc_balanced_subsample)"
   ]
  },
  {
   "cell_type": "code",
   "execution_count": 36,
   "metadata": {},
   "outputs": [],
   "source": [
    "save_scores(rfc_balanced_subsample, 'Random Forest Balanced Subsample')"
   ]
  },
  {
   "cell_type": "markdown",
   "metadata": {},
   "source": [
    "#### 4.2c Random Forest With Random Undersampling"
   ]
  },
  {
   "cell_type": "code",
   "execution_count": 37,
   "metadata": {},
   "outputs": [],
   "source": [
    "brfc = BalancedRandomForestClassifier(random_state = 10)\n",
    "brfc.fit(X_train, y_train)\n",
    "y_pred = brfc.predict(X_test)"
   ]
  },
  {
   "cell_type": "code",
   "execution_count": 38,
   "metadata": {},
   "outputs": [
    {
     "name": "stdout",
     "output_type": "stream",
     "text": [
      "Train - Accuracy: 0.7679\n",
      "Test - Accuracy: 0.6053\n",
      "Train - Cohen's Kappa: 0.6261\n",
      "Test - Cohen's Kappa: 0.3448\n",
      "Validation - Classification report\n",
      "                   precision    recall  f1-score   support\n",
      "\n",
      "Grade 3 or Lower       0.25      1.00      0.40         2\n",
      "         Premium       0.78      0.67      0.72        21\n",
      "       Specialty       0.58      0.47      0.52        15\n",
      "\n",
      "        accuracy                           0.61        38\n",
      "       macro avg       0.54      0.71      0.55        38\n",
      "    weighted avg       0.67      0.61      0.62        38\n",
      "\n"
     ]
    },
    {
     "data": {
      "text/plain": [
       "<Figure size 648x648 with 0 Axes>"
      ]
     },
     "metadata": {},
     "output_type": "display_data"
    },
    {
     "data": {
      "image/png": "[encoded data removed]",
      "text/plain": [
       "<Figure size 432x288 with 2 Axes>"
      ]
     },
     "metadata": {
      "needs_background": "light"
     },
     "output_type": "display_data"
    }
   ],
   "source": [
    "evaluation_block(brfc)"
   ]
  },
  {
   "cell_type": "code",
   "execution_count": 39,
   "metadata": {},
   "outputs": [],
   "source": [
    "save_scores(brfc, 'Balanced Random Forest Classifier')"
   ]
  },
  {
   "cell_type": "code",
   "execution_count": 40,
   "metadata": {},
   "outputs": [
    {
     "data": {
      "text/html": [
       "<div>\n",
       "<style scoped>\n",
       "    .dataframe tbody tr th:only-of-type {\n",
       "        vertical-align: middle;\n",
       "    }\n",
       "\n",
       "    .dataframe tbody tr th {\n",
       "        vertical-align: top;\n",
       "    }\n",
       "\n",
       "    .dataframe thead th {\n",
       "        text-align: right;\n",
       "    }\n",
       "</style>\n",
       "<table border=\"1\" class=\"dataframe\">\n",
       "  <thead>\n",
       "    <tr style=\"text-align: right;\">\n",
       "      <th></th>\n",
       "      <th>model</th>\n",
       "      <th>name</th>\n",
       "      <th>train_accuracy</th>\n",
       "      <th>test_accuracy</th>\n",
       "      <th>train_cohenkappa</th>\n",
       "      <th>test_cohenkappa</th>\n",
       "    </tr>\n",
       "  </thead>\n",
       "  <tbody>\n",
       "    <tr>\n",
       "      <th>9</th>\n",
       "      <td>(DecisionTreeClassifier(max_features='auto', random_state=1165313289), DecisionTreeClassifier(ma...</td>\n",
       "      <td>Random Forest Balanced Subsample</td>\n",
       "      <td>0.9911</td>\n",
       "      <td>0.8421</td>\n",
       "      <td>0.9846</td>\n",
       "      <td>0.7107</td>\n",
       "    </tr>\n",
       "    <tr>\n",
       "      <th>7</th>\n",
       "      <td>(DecisionTreeClassifier(max_features='auto', random_state=1165313289), DecisionTreeClassifier(ma...</td>\n",
       "      <td>Random Forest Out of the Box</td>\n",
       "      <td>0.9911</td>\n",
       "      <td>0.8421</td>\n",
       "      <td>0.9844</td>\n",
       "      <td>0.7058</td>\n",
       "    </tr>\n",
       "    <tr>\n",
       "      <th>8</th>\n",
       "      <td>(DecisionTreeClassifier(max_features='auto', random_state=1165313289), DecisionTreeClassifier(ma...</td>\n",
       "      <td>Random Forest Balanced</td>\n",
       "      <td>0.9911</td>\n",
       "      <td>0.8421</td>\n",
       "      <td>0.9846</td>\n",
       "      <td>0.7035</td>\n",
       "    </tr>\n",
       "    <tr>\n",
       "      <th>0</th>\n",
       "      <td>LogisticRegression()</td>\n",
       "      <td>Log Reg Out of the Box</td>\n",
       "      <td>0.7589</td>\n",
       "      <td>0.7105</td>\n",
       "      <td>0.5712</td>\n",
       "      <td>0.4029</td>\n",
       "    </tr>\n",
       "    <tr>\n",
       "      <th>10</th>\n",
       "      <td>(DecisionTreeClassifier(max_features='auto', random_state=1165313289), DecisionTreeClassifier(ma...</td>\n",
       "      <td>Balanced Random Forest Classifier</td>\n",
       "      <td>0.7679</td>\n",
       "      <td>0.6053</td>\n",
       "      <td>0.6261</td>\n",
       "      <td>0.3448</td>\n",
       "    </tr>\n",
       "    <tr>\n",
       "      <th>3</th>\n",
       "      <td>LogisticRegression(max_iter=10000)</td>\n",
       "      <td>Log reg model with 7 PCA features</td>\n",
       "      <td>0.6786</td>\n",
       "      <td>0.6579</td>\n",
       "      <td>0.4108</td>\n",
       "      <td>0.3351</td>\n",
       "    </tr>\n",
       "    <tr>\n",
       "      <th>2</th>\n",
       "      <td>LogisticRegression(max_iter=10000)</td>\n",
       "      <td>Log reg model with 4 PCA features</td>\n",
       "      <td>0.6429</td>\n",
       "      <td>0.6579</td>\n",
       "      <td>0.3336</td>\n",
       "      <td>0.3062</td>\n",
       "    </tr>\n",
       "    <tr>\n",
       "      <th>4</th>\n",
       "      <td>LogisticRegression(max_iter=10000)</td>\n",
       "      <td>Log reg model with 12 PCA features</td>\n",
       "      <td>0.7232</td>\n",
       "      <td>0.6316</td>\n",
       "      <td>0.5065</td>\n",
       "      <td>0.2963</td>\n",
       "    </tr>\n",
       "    <tr>\n",
       "      <th>5</th>\n",
       "      <td>LogisticRegression(max_iter=10000)</td>\n",
       "      <td>Log reg model with 17 PCA features</td>\n",
       "      <td>0.7500</td>\n",
       "      <td>0.6579</td>\n",
       "      <td>0.5533</td>\n",
       "      <td>0.2943</td>\n",
       "    </tr>\n",
       "    <tr>\n",
       "      <th>6</th>\n",
       "      <td>GridSearchCV(cv=3, estimator=LogisticRegression(),\\n             param_grid={'C': [100, 10, 1.0,...</td>\n",
       "      <td>Log Reg w/ GridSearch</td>\n",
       "      <td>0.7589</td>\n",
       "      <td>0.6579</td>\n",
       "      <td>0.5683</td>\n",
       "      <td>0.2943</td>\n",
       "    </tr>\n",
       "    <tr>\n",
       "      <th>1</th>\n",
       "      <td>LogisticRegression(max_iter=10000)</td>\n",
       "      <td>Log reg model with 2 PCA features</td>\n",
       "      <td>0.5089</td>\n",
       "      <td>0.6316</td>\n",
       "      <td>0.0650</td>\n",
       "      <td>0.2334</td>\n",
       "    </tr>\n",
       "  </tbody>\n",
       "</table>\n",
       "</div>"
      ],
      "text/plain": [
       "                                                                                                  model  \\\n",
       "9   (DecisionTreeClassifier(max_features='auto', random_state=1165313289), DecisionTreeClassifier(ma...   \n",
       "7   (DecisionTreeClassifier(max_features='auto', random_state=1165313289), DecisionTreeClassifier(ma...   \n",
       "8   (DecisionTreeClassifier(max_features='auto', random_state=1165313289), DecisionTreeClassifier(ma...   \n",
       "0                                                                                  LogisticRegression()   \n",
       "10  (DecisionTreeClassifier(max_features='auto', random_state=1165313289), DecisionTreeClassifier(ma...   \n",
       "3                                                                    LogisticRegression(max_iter=10000)   \n",
       "2                                                                    LogisticRegression(max_iter=10000)   \n",
       "4                                                                    LogisticRegression(max_iter=10000)   \n",
       "5                                                                    LogisticRegression(max_iter=10000)   \n",
       "6   GridSearchCV(cv=3, estimator=LogisticRegression(),\\n             param_grid={'C': [100, 10, 1.0,...   \n",
       "1                                                                    LogisticRegression(max_iter=10000)   \n",
       "\n",
       "                                  name  train_accuracy  test_accuracy  \\\n",
       "9     Random Forest Balanced Subsample          0.9911         0.8421   \n",
       "7         Random Forest Out of the Box          0.9911         0.8421   \n",
       "8               Random Forest Balanced          0.9911         0.8421   \n",
       "0               Log Reg Out of the Box          0.7589         0.7105   \n",
       "10   Balanced Random Forest Classifier          0.7679         0.6053   \n",
       "3    Log reg model with 7 PCA features          0.6786         0.6579   \n",
       "2    Log reg model with 4 PCA features          0.6429         0.6579   \n",
       "4   Log reg model with 12 PCA features          0.7232         0.6316   \n",
       "5   Log reg model with 17 PCA features          0.7500         0.6579   \n",
       "6                Log Reg w/ GridSearch          0.7589         0.6579   \n",
       "1    Log reg model with 2 PCA features          0.5089         0.6316   \n",
       "\n",
       "    train_cohenkappa  test_cohenkappa  \n",
       "9             0.9846           0.7107  \n",
       "7             0.9844           0.7058  \n",
       "8             0.9846           0.7035  \n",
       "0             0.5712           0.4029  \n",
       "10            0.6261           0.3448  \n",
       "3             0.4108           0.3351  \n",
       "2             0.3336           0.3062  \n",
       "4             0.5065           0.2963  \n",
       "5             0.5533           0.2943  \n",
       "6             0.5683           0.2943  \n",
       "1             0.0650           0.2334  "
      ]
     },
     "execution_count": 40,
     "metadata": {},
     "output_type": "execute_result"
    }
   ],
   "source": [
    "results.sort_values('test_cohenkappa', ascending = False).head(15)"
   ]
  },
  {
   "cell_type": "markdown",
   "metadata": {},
   "source": [
    "Based on these three models, our rfc_balanced_subsample model performed the best."
   ]
  },
  {
   "cell_type": "markdown",
   "metadata": {},
   "source": [
    "### 4.3 Tuning Hyperparameters of the Random Forest Classifier"
   ]
  },
  {
   "cell_type": "code",
   "execution_count": 41,
   "metadata": {},
   "outputs": [
    {
     "name": "stdout",
     "output_type": "stream",
     "text": [
      "Parameters currently in use:\n",
      "\n",
      "{'bootstrap': True,\n",
      " 'ccp_alpha': 0.0,\n",
      " 'class_weight': 'balanced_subsample',\n",
      " 'criterion': 'gini',\n",
      " 'max_depth': None,\n",
      " 'max_features': 'auto',\n",
      " 'max_leaf_nodes': None,\n",
      " 'max_samples': None,\n",
      " 'min_impurity_decrease': 0.0,\n",
      " 'min_impurity_split': None,\n",
      " 'min_samples_leaf': 1,\n",
      " 'min_samples_split': 2,\n",
      " 'min_weight_fraction_leaf': 0.0,\n",
      " 'n_estimators': 100,\n",
      " 'n_jobs': None,\n",
      " 'oob_score': False,\n",
      " 'random_state': 10,\n",
      " 'verbose': 0,\n",
      " 'warm_start': False}\n"
     ]
    }
   ],
   "source": [
    "#Check out parameters currently in use\n",
    "print('Parameters currently in use:\\n')\n",
    "pprint(rfc_balanced_subsample.get_params())"
   ]
  },
  {
   "cell_type": "markdown",
   "metadata": {},
   "source": [
    "### We will try to fine tune the following:\n",
    "\n",
    "n_estimators = number of trees in the foreset\n",
    "\n",
    "max_features = max number of features considered for splitting a node\n",
    "\n",
    "max_depth = max number of levels in each decision tree\n",
    "\n",
    "min_samples_split = min number of data points placed in a node before the node is split\n",
    "\n",
    "min_samples_leaf = min number of data points allowed in a leaf node\n",
    "\n",
    "bootstrap = method for sampling data points (with or without replacement)"
   ]
  },
  {
   "cell_type": "markdown",
   "metadata": {},
   "source": [
    "### Use Randomized Search to find best parameters"
   ]
  },
  {
   "cell_type": "code",
   "execution_count": 42,
   "metadata": {},
   "outputs": [],
   "source": [
    "param_grid = {   'bootstrap': [True, False],\n",
    "                 'max_depth': [10, 20, 30, 40, 50, 60, 70, 80, 90, 100, 110, None],\n",
    "                 'max_features': ['auto', 'sqrt'],\n",
    "                 'min_samples_leaf': [1, 2, 4],\n",
    "                 'min_samples_split': [2, 5, 10],\n",
    "                 'n_estimators': [100,200,300,400,500,600,700,800,900,1000,1100,1200,1300,1400,1500,1600,1700,1800,1900,2000]\n",
    "             }"
   ]
  },
  {
   "cell_type": "code",
   "execution_count": 43,
   "metadata": {},
   "outputs": [
    {
     "name": "stdout",
     "output_type": "stream",
     "text": [
      "Fitting 3 folds for each of 100 candidates, totalling 300 fits\n",
      "Best Parameters based on Randomized Search CV: {'n_estimators': 1400, 'min_samples_split': 5, 'min_samples_leaf': 4, 'max_features': 'sqrt', 'max_depth': 10, 'bootstrap': True}\n",
      "Best score:  0.7238027501185397\n",
      "Train - Accuracy: 0.7857\n",
      "Test - Accuracy: 0.6053\n",
      "Train - Cohen's Kappa: 0.6416\n",
      "Test - Cohen's Kappa: 0.3448\n",
      "Validation - Classification report\n",
      "                   precision    recall  f1-score   support\n",
      "\n",
      "Grade 3 or Lower       0.25      1.00      0.40         2\n",
      "         Premium       0.78      0.67      0.72        21\n",
      "       Specialty       0.58      0.47      0.52        15\n",
      "\n",
      "        accuracy                           0.61        38\n",
      "       macro avg       0.54      0.71      0.55        38\n",
      "    weighted avg       0.67      0.61      0.62        38\n",
      "\n"
     ]
    },
    {
     "data": {
      "text/plain": [
       "<Figure size 648x648 with 0 Axes>"
      ]
     },
     "metadata": {},
     "output_type": "display_data"
    },
    {
     "data": {
      "image/png": "[encoded data removed]",
      "text/plain": [
       "<Figure size 432x288 with 2 Axes>"
      ]
     },
     "metadata": {
      "needs_background": "light"
     },
     "output_type": "display_data"
    }
   ],
   "source": [
    "rand_cv(rfc_balanced_subsample, param_grid, 'Random Forest Balanced Subsample RandomSearch')"
   ]
  },
  {
   "cell_type": "code",
   "execution_count": 44,
   "metadata": {},
   "outputs": [
    {
     "data": {
      "text/html": [
       "<div>\n",
       "<style scoped>\n",
       "    .dataframe tbody tr th:only-of-type {\n",
       "        vertical-align: middle;\n",
       "    }\n",
       "\n",
       "    .dataframe tbody tr th {\n",
       "        vertical-align: top;\n",
       "    }\n",
       "\n",
       "    .dataframe thead th {\n",
       "        text-align: right;\n",
       "    }\n",
       "</style>\n",
       "<table border=\"1\" class=\"dataframe\">\n",
       "  <thead>\n",
       "    <tr style=\"text-align: right;\">\n",
       "      <th></th>\n",
       "      <th>model</th>\n",
       "      <th>name</th>\n",
       "      <th>train_accuracy</th>\n",
       "      <th>test_accuracy</th>\n",
       "      <th>train_cohenkappa</th>\n",
       "      <th>test_cohenkappa</th>\n",
       "    </tr>\n",
       "  </thead>\n",
       "  <tbody>\n",
       "    <tr>\n",
       "      <th>9</th>\n",
       "      <td>(DecisionTreeClassifier(max_features='auto', random_state=1165313289), DecisionTreeClassifier(ma...</td>\n",
       "      <td>Random Forest Balanced Subsample</td>\n",
       "      <td>0.9911</td>\n",
       "      <td>0.8421</td>\n",
       "      <td>0.9846</td>\n",
       "      <td>0.7107</td>\n",
       "    </tr>\n",
       "    <tr>\n",
       "      <th>7</th>\n",
       "      <td>(DecisionTreeClassifier(max_features='auto', random_state=1165313289), DecisionTreeClassifier(ma...</td>\n",
       "      <td>Random Forest Out of the Box</td>\n",
       "      <td>0.9911</td>\n",
       "      <td>0.8421</td>\n",
       "      <td>0.9844</td>\n",
       "      <td>0.7058</td>\n",
       "    </tr>\n",
       "    <tr>\n",
       "      <th>8</th>\n",
       "      <td>(DecisionTreeClassifier(max_features='auto', random_state=1165313289), DecisionTreeClassifier(ma...</td>\n",
       "      <td>Random Forest Balanced</td>\n",
       "      <td>0.9911</td>\n",
       "      <td>0.8421</td>\n",
       "      <td>0.9846</td>\n",
       "      <td>0.7035</td>\n",
       "    </tr>\n",
       "    <tr>\n",
       "      <th>0</th>\n",
       "      <td>LogisticRegression()</td>\n",
       "      <td>Log Reg Out of the Box</td>\n",
       "      <td>0.7589</td>\n",
       "      <td>0.7105</td>\n",
       "      <td>0.5712</td>\n",
       "      <td>0.4029</td>\n",
       "    </tr>\n",
       "    <tr>\n",
       "      <th>10</th>\n",
       "      <td>(DecisionTreeClassifier(max_features='auto', random_state=1165313289), DecisionTreeClassifier(ma...</td>\n",
       "      <td>Balanced Random Forest Classifier</td>\n",
       "      <td>0.7679</td>\n",
       "      <td>0.6053</td>\n",
       "      <td>0.6261</td>\n",
       "      <td>0.3448</td>\n",
       "    </tr>\n",
       "    <tr>\n",
       "      <th>11</th>\n",
       "      <td>RandomizedSearchCV(cv=3,\\n                   estimator=RandomForestClassifier(class_weight='bala...</td>\n",
       "      <td>Random Forest Balanced Subsample RandomSearch</td>\n",
       "      <td>0.7857</td>\n",
       "      <td>0.6053</td>\n",
       "      <td>0.6416</td>\n",
       "      <td>0.3448</td>\n",
       "    </tr>\n",
       "    <tr>\n",
       "      <th>3</th>\n",
       "      <td>LogisticRegression(max_iter=10000)</td>\n",
       "      <td>Log reg model with 7 PCA features</td>\n",
       "      <td>0.6786</td>\n",
       "      <td>0.6579</td>\n",
       "      <td>0.4108</td>\n",
       "      <td>0.3351</td>\n",
       "    </tr>\n",
       "    <tr>\n",
       "      <th>2</th>\n",
       "      <td>LogisticRegression(max_iter=10000)</td>\n",
       "      <td>Log reg model with 4 PCA features</td>\n",
       "      <td>0.6429</td>\n",
       "      <td>0.6579</td>\n",
       "      <td>0.3336</td>\n",
       "      <td>0.3062</td>\n",
       "    </tr>\n",
       "    <tr>\n",
       "      <th>4</th>\n",
       "      <td>LogisticRegression(max_iter=10000)</td>\n",
       "      <td>Log reg model with 12 PCA features</td>\n",
       "      <td>0.7232</td>\n",
       "      <td>0.6316</td>\n",
       "      <td>0.5065</td>\n",
       "      <td>0.2963</td>\n",
       "    </tr>\n",
       "    <tr>\n",
       "      <th>5</th>\n",
       "      <td>LogisticRegression(max_iter=10000)</td>\n",
       "      <td>Log reg model with 17 PCA features</td>\n",
       "      <td>0.7500</td>\n",
       "      <td>0.6579</td>\n",
       "      <td>0.5533</td>\n",
       "      <td>0.2943</td>\n",
       "    </tr>\n",
       "    <tr>\n",
       "      <th>6</th>\n",
       "      <td>GridSearchCV(cv=3, estimator=LogisticRegression(),\\n             param_grid={'C': [100, 10, 1.0,...</td>\n",
       "      <td>Log Reg w/ GridSearch</td>\n",
       "      <td>0.7589</td>\n",
       "      <td>0.6579</td>\n",
       "      <td>0.5683</td>\n",
       "      <td>0.2943</td>\n",
       "    </tr>\n",
       "    <tr>\n",
       "      <th>1</th>\n",
       "      <td>LogisticRegression(max_iter=10000)</td>\n",
       "      <td>Log reg model with 2 PCA features</td>\n",
       "      <td>0.5089</td>\n",
       "      <td>0.6316</td>\n",
       "      <td>0.0650</td>\n",
       "      <td>0.2334</td>\n",
       "    </tr>\n",
       "  </tbody>\n",
       "</table>\n",
       "</div>"
      ],
      "text/plain": [
       "                                                                                                  model  \\\n",
       "9   (DecisionTreeClassifier(max_features='auto', random_state=1165313289), DecisionTreeClassifier(ma...   \n",
       "7   (DecisionTreeClassifier(max_features='auto', random_state=1165313289), DecisionTreeClassifier(ma...   \n",
       "8   (DecisionTreeClassifier(max_features='auto', random_state=1165313289), DecisionTreeClassifier(ma...   \n",
       "0                                                                                  LogisticRegression()   \n",
       "10  (DecisionTreeClassifier(max_features='auto', random_state=1165313289), DecisionTreeClassifier(ma...   \n",
       "11  RandomizedSearchCV(cv=3,\\n                   estimator=RandomForestClassifier(class_weight='bala...   \n",
       "3                                                                    LogisticRegression(max_iter=10000)   \n",
       "2                                                                    LogisticRegression(max_iter=10000)   \n",
       "4                                                                    LogisticRegression(max_iter=10000)   \n",
       "5                                                                    LogisticRegression(max_iter=10000)   \n",
       "6   GridSearchCV(cv=3, estimator=LogisticRegression(),\\n             param_grid={'C': [100, 10, 1.0,...   \n",
       "1                                                                    LogisticRegression(max_iter=10000)   \n",
       "\n",
       "                                             name  train_accuracy  \\\n",
       "9                Random Forest Balanced Subsample          0.9911   \n",
       "7                    Random Forest Out of the Box          0.9911   \n",
       "8                          Random Forest Balanced          0.9911   \n",
       "0                          Log Reg Out of the Box          0.7589   \n",
       "10              Balanced Random Forest Classifier          0.7679   \n",
       "11  Random Forest Balanced Subsample RandomSearch          0.7857   \n",
       "3               Log reg model with 7 PCA features          0.6786   \n",
       "2               Log reg model with 4 PCA features          0.6429   \n",
       "4              Log reg model with 12 PCA features          0.7232   \n",
       "5              Log reg model with 17 PCA features          0.7500   \n",
       "6                           Log Reg w/ GridSearch          0.7589   \n",
       "1               Log reg model with 2 PCA features          0.5089   \n",
       "\n",
       "    test_accuracy  train_cohenkappa  test_cohenkappa  \n",
       "9          0.8421            0.9846           0.7107  \n",
       "7          0.8421            0.9844           0.7058  \n",
       "8          0.8421            0.9846           0.7035  \n",
       "0          0.7105            0.5712           0.4029  \n",
       "10         0.6053            0.6261           0.3448  \n",
       "11         0.6053            0.6416           0.3448  \n",
       "3          0.6579            0.4108           0.3351  \n",
       "2          0.6579            0.3336           0.3062  \n",
       "4          0.6316            0.5065           0.2963  \n",
       "5          0.6579            0.5533           0.2943  \n",
       "6          0.6579            0.5683           0.2943  \n",
       "1          0.6316            0.0650           0.2334  "
      ]
     },
     "execution_count": 44,
     "metadata": {},
     "output_type": "execute_result"
    }
   ],
   "source": [
    "results.sort_values('test_cohenkappa', ascending = False).head(15)"
   ]
  },
  {
   "cell_type": "markdown",
   "metadata": {},
   "source": [
    "### 4.2 Finding Important Features"
   ]
  },
  {
   "cell_type": "code",
   "execution_count": 45,
   "metadata": {},
   "outputs": [
    {
     "data": {
      "text/plain": [
       "Moisture                                    0.274933\n",
       "Mean Altitude (m)                           0.245325\n",
       "Country of Origin_Other                     0.078774\n",
       "Harvest Year                                0.072863\n",
       "Country of Origin_Guatemala                 0.046343\n",
       "Color_Green                                 0.038808\n",
       "Processing Method_Washed / Wet              0.037686\n",
       "Variety_Caturra                             0.031663\n",
       "Variety_Other                               0.031487\n",
       "Variety_Catuai                              0.027435\n",
       "Country of Origin_Ethiopia                  0.023493\n",
       "Country of Origin_Colombia                  0.021414\n",
       "Color_None                                  0.018225\n",
       "Variety_SL28                                0.013473\n",
       "Processing Method_Pulped natural / honey    0.009804\n",
       "Country of Origin_Costa Rica                0.009150\n",
       "Color_Yellow-Green                          0.009103\n",
       "Color_Greenish                              0.007427\n",
       "Processing Method_Other                     0.002594\n",
       "dtype: float64"
      ]
     },
     "execution_count": 45,
     "metadata": {},
     "output_type": "execute_result"
    }
   ],
   "source": [
    "#Finding Important Features:\n",
    "feature_imp = pd.Series(rfc_balanced_subsample.feature_importances_,index=X_dumm.columns).sort_values(ascending=False)\n",
    "feature_imp"
   ]
  },
  {
   "cell_type": "code",
   "execution_count": 46,
   "metadata": {},
   "outputs": [
    {
     "data": {
      "image/png": "[encoded data removed]",
      "text/plain": [
       "<Figure size 720x720 with 1 Axes>"
      ]
     },
     "metadata": {
      "needs_background": "light"
     },
     "output_type": "display_data"
    }
   ],
   "source": [
    "#Visualizing Important Features\n",
    "\n",
    "%matplotlib inline\n",
    "# Creating a bar plot\n",
    "fig, ax = plt.subplots(figsize=(10,10))\n",
    "sns.barplot(x=feature_imp, y=feature_imp.index)\n",
    "\n",
    "# Add labels to your graph\n",
    "plt.xlabel('Feature Importance Score')\n",
    "plt.ylabel('Features')\n",
    "plt.title(\"Visualizing Important Features\")\n",
    "plt.show()"
   ]
  },
  {
   "cell_type": "code",
   "execution_count": 47,
   "metadata": {},
   "outputs": [],
   "source": [
    "#sorting features by importance\n",
    "feat_sorted_idx = np.argsort(feature_imp)"
   ]
  },
  {
   "cell_type": "code",
   "execution_count": 48,
   "metadata": {},
   "outputs": [
    {
     "data": {
      "text/plain": [
       "(Index(['Harvest Year', 'Mean Altitude (m)'], dtype='object'),\n",
       " Index(['Country of Origin_Colombia', 'Moisture', 'Harvest Year',\n",
       "        'Mean Altitude (m)'],\n",
       "       dtype='object'),\n",
       " Index(['Variety_Caturra', 'Variety_Catuai', 'Country of Origin_Other',\n",
       "        'Country of Origin_Guatemala', 'Country of Origin_Ethiopia',\n",
       "        'Country of Origin_Costa Rica', 'Country of Origin_Colombia',\n",
       "        'Moisture', 'Harvest Year', 'Mean Altitude (m)'],\n",
       "       dtype='object'))"
      ]
     },
     "execution_count": 48,
     "metadata": {},
     "output_type": "execute_result"
    }
   ],
   "source": [
    "# Choosing most important top 4,9,and 13 features.\n",
    "top2_feat = X_dumm.columns[feat_sorted_idx][-2:]\n",
    "top4_feat = X_dumm.columns[feat_sorted_idx][-4:]\n",
    "top10_feat = X_dumm.columns[feat_sorted_idx][-10:]\n",
    "top2_feat, top4_feat, top10_feat"
   ]
  },
  {
   "cell_type": "code",
   "execution_count": 49,
   "metadata": {},
   "outputs": [
    {
     "name": "stdout",
     "output_type": "stream",
     "text": [
      "The Predictive features subsets have 2, 4, and 10 features respectively.\n"
     ]
    }
   ],
   "source": [
    "print('The Predictive features subsets have {}, {}, and {} features respectively.'.format(len(top2_feat), len(top4_feat), len(top10_feat)))"
   ]
  },
  {
   "cell_type": "code",
   "execution_count": 50,
   "metadata": {},
   "outputs": [
    {
     "name": "stdout",
     "output_type": "stream",
     "text": [
      "----------Random forest model on train set with 2 most important features-------\n",
      "RandomForestClassifier(random_state=10)\n",
      "Train - Accuracy: 0.8393\n",
      "Test - Accuracy: 0.6842\n",
      "Validation - Classification report\n",
      "                   precision    recall  f1-score   support\n",
      "\n",
      "Grade 3 or Lower       0.50      0.33      0.40         3\n",
      "         Premium       0.72      0.82      0.77        22\n",
      "       Specialty       0.64      0.54      0.58        13\n",
      "\n",
      "        accuracy                           0.68        38\n",
      "       macro avg       0.62      0.56      0.58        38\n",
      "    weighted avg       0.67      0.68      0.67        38\n",
      "\n"
     ]
    },
    {
     "data": {
      "text/plain": [
       "<Figure size 648x648 with 0 Axes>"
      ]
     },
     "metadata": {},
     "output_type": "display_data"
    },
    {
     "data": {
      "image/png": "[encoded data removed]",
      "text/plain": [
       "<Figure size 432x288 with 2 Axes>"
      ]
     },
     "metadata": {
      "needs_background": "light"
     },
     "output_type": "display_data"
    },
    {
     "name": "stdout",
     "output_type": "stream",
     "text": [
      "Train Cohen Kappa: 0.7033\n",
      "Test Cohen Kappa: 0.3879\n",
      "RandomForestClassifier(class_weight='balanced_subsample', random_state=10)\n",
      "Train - Accuracy: 0.8214\n",
      "Test - Accuracy: 0.5789\n",
      "Validation - Classification report\n",
      "                   precision    recall  f1-score   support\n",
      "\n",
      "Grade 3 or Lower       0.14      0.33      0.20         3\n",
      "         Premium       0.71      0.68      0.70        22\n",
      "       Specialty       0.60      0.46      0.52        13\n",
      "\n",
      "        accuracy                           0.58        38\n",
      "       macro avg       0.49      0.49      0.47        38\n",
      "    weighted avg       0.63      0.58      0.60        38\n",
      "\n"
     ]
    },
    {
     "data": {
      "text/plain": [
       "<Figure size 648x648 with 0 Axes>"
      ]
     },
     "metadata": {},
     "output_type": "display_data"
    },
    {
     "data": {
      "image/png": "[encoded data removed]",
      "text/plain": [
       "<Figure size 432x288 with 2 Axes>"
      ]
     },
     "metadata": {
      "needs_background": "light"
     },
     "output_type": "display_data"
    },
    {
     "name": "stdout",
     "output_type": "stream",
     "text": [
      "Train Cohen Kappa: 0.7081\n",
      "Test Cohen Kappa: 0.2684\n",
      "----------Random forest model on train set with 4 most important features-------\n",
      "RandomForestClassifier(random_state=10)\n",
      "Train - Accuracy: 0.9732\n",
      "Test - Accuracy: 0.6579\n",
      "Validation - Classification report\n",
      "                   precision    recall  f1-score   support\n",
      "\n",
      "Grade 3 or Lower       1.00      0.25      0.40         4\n",
      "         Premium       0.65      0.75      0.70        20\n",
      "       Specialty       0.64      0.64      0.64        14\n",
      "\n",
      "        accuracy                           0.66        38\n",
      "       macro avg       0.77      0.55      0.58        38\n",
      "    weighted avg       0.69      0.66      0.65        38\n",
      "\n"
     ]
    },
    {
     "data": {
      "text/plain": [
       "<Figure size 648x648 with 0 Axes>"
      ]
     },
     "metadata": {},
     "output_type": "display_data"
    },
    {
     "data": {
      "image/png": "[encoded data removed]",
      "text/plain": [
       "<Figure size 432x288 with 2 Axes>"
      ]
     },
     "metadata": {
      "needs_background": "light"
     },
     "output_type": "display_data"
    },
    {
     "name": "stdout",
     "output_type": "stream",
     "text": [
      "Train Cohen Kappa: 0.9522\n",
      "Test Cohen Kappa: 0.3699\n",
      "RandomForestClassifier(class_weight='balanced_subsample', random_state=10)\n",
      "Train - Accuracy: 0.9732\n",
      "Test - Accuracy: 0.6579\n",
      "Validation - Classification report\n",
      "                   precision    recall  f1-score   support\n",
      "\n",
      "Grade 3 or Lower       1.00      0.25      0.40         4\n",
      "         Premium       0.65      0.75      0.70        20\n",
      "       Specialty       0.64      0.64      0.64        14\n",
      "\n",
      "        accuracy                           0.66        38\n",
      "       macro avg       0.77      0.55      0.58        38\n",
      "    weighted avg       0.69      0.66      0.65        38\n",
      "\n"
     ]
    },
    {
     "data": {
      "text/plain": [
       "<Figure size 648x648 with 0 Axes>"
      ]
     },
     "metadata": {},
     "output_type": "display_data"
    },
    {
     "data": {
      "image/png": "[encoded data removed]",
      "text/plain": [
       "<Figure size 432x288 with 2 Axes>"
      ]
     },
     "metadata": {
      "needs_background": "light"
     },
     "output_type": "display_data"
    },
    {
     "name": "stdout",
     "output_type": "stream",
     "text": [
      "Train Cohen Kappa: 0.9526\n",
      "Test Cohen Kappa: 0.3699\n",
      "----------Random forest model on train set with 10 most important features-------\n",
      "RandomForestClassifier(random_state=10)\n",
      "Train - Accuracy: 0.9911\n",
      "Test - Accuracy: 0.7368\n",
      "Validation - Classification report\n",
      "                   precision    recall  f1-score   support\n",
      "\n",
      "Grade 3 or Lower       1.00      0.60      0.75         5\n",
      "         Premium       0.89      0.73      0.80        22\n",
      "       Specialty       0.53      0.82      0.64        11\n",
      "\n",
      "        accuracy                           0.74        38\n",
      "       macro avg       0.81      0.72      0.73        38\n",
      "    weighted avg       0.80      0.74      0.75        38\n",
      "\n"
     ]
    },
    {
     "data": {
      "text/plain": [
       "<Figure size 648x648 with 0 Axes>"
      ]
     },
     "metadata": {},
     "output_type": "display_data"
    },
    {
     "data": {
      "image/png": "[encoded data removed]",
      "text/plain": [
       "<Figure size 432x288 with 2 Axes>"
      ]
     },
     "metadata": {
      "needs_background": "light"
     },
     "output_type": "display_data"
    },
    {
     "name": "stdout",
     "output_type": "stream",
     "text": [
      "Train Cohen Kappa: 0.9842\n",
      "Test Cohen Kappa: 0.5508\n",
      "RandomForestClassifier(class_weight='balanced_subsample', random_state=10)\n",
      "Train - Accuracy: 0.9911\n",
      "Test - Accuracy: 0.7632\n",
      "Validation - Classification report\n",
      "                   precision    recall  f1-score   support\n",
      "\n",
      "Grade 3 or Lower       1.00      0.60      0.75         5\n",
      "         Premium       0.89      0.77      0.83        22\n",
      "       Specialty       0.56      0.82      0.67        11\n",
      "\n",
      "        accuracy                           0.76        38\n",
      "       macro avg       0.82      0.73      0.75        38\n",
      "    weighted avg       0.81      0.76      0.77        38\n",
      "\n"
     ]
    },
    {
     "data": {
      "text/plain": [
       "<Figure size 648x648 with 0 Axes>"
      ]
     },
     "metadata": {},
     "output_type": "display_data"
    },
    {
     "data": {
      "image/png": "[encoded data removed]",
      "text/plain": [
       "<Figure size 432x288 with 2 Axes>"
      ]
     },
     "metadata": {
      "needs_background": "light"
     },
     "output_type": "display_data"
    },
    {
     "name": "stdout",
     "output_type": "stream",
     "text": [
      "Train Cohen Kappa: 0.9842\n",
      "Test Cohen Kappa: 0.5904\n"
     ]
    }
   ],
   "source": [
    "def selecting_features():\n",
    "    for columns_set in [top2_feat, top4_feat, top10_feat]:\n",
    "        X = X_dumm[columns_set]\n",
    "        X_train, X_test, y_train, y_test = train_test_split(X, y, test_size = 0.25)\n",
    "        print('----------Random forest model on train set with {} most important features-------'.format(len(columns_set)))\n",
    "        for rfc_model in [rfc, rfc_balanced_subsample]:\n",
    "            print(rfc_model)\n",
    "            rfc_model.fit(X_train, y_train)\n",
    "            y_pred = rfc_model.predict(X_test)\n",
    "            \n",
    "            y_tr_pred = rfc_model.predict(X_train)\n",
    "    \n",
    "            train_acc = round(accuracy_score(y_train,y_tr_pred),4)\n",
    "            test_acc = round(accuracy_score(y_test,y_pred),4)\n",
    "    \n",
    "            print(\"Train - Accuracy:\", train_acc)\n",
    "            print(\"Test - Accuracy:\", test_acc)\n",
    "            print('Validation - Classification report\\n', classification_report(y_test,y_pred))\n",
    "            plt.figure(figsize=(9,9))\n",
    "            plot_confusion_matrix(rfc_model, X_test, y_test, normalize='true', cmap = 'Blues')\n",
    "            plt.show()\n",
    "            \n",
    "            y_pred_prob = rfc_model.predict_proba(X_test)[:,1]\n",
    "            y_tr_pred_prob = rfc_model.predict_proba(X_train)[:,1]\n",
    "            \n",
    "            train_cohen = round(cohen_kappa_score(y_train, y_tr_pred),4)\n",
    "            test_cohen = round(cohen_kappa_score(y_test, y_pred),4)\n",
    "        \n",
    "            #train_roc_score = round(roc_auc_score(y_train, y_tr_pred_prob),4)\n",
    "            #test_roc_score = round(roc_auc_score(y_test, y_pred_prob),4)\n",
    "        \n",
    "            print('Train Cohen Kappa: {}'.format(train_cohen))\n",
    "            print('Test Cohen Kappa: {}'.format(test_cohen))\n",
    "            \n",
    "            name = '{} with top {} features'.format(rfc_model, columns_set)\n",
    "        \n",
    "            new_row = {'model':rfc_model,\n",
    "                       'name': name,\n",
    "               'train_accuracy': train_acc,\n",
    "               'test_accuracy': test_acc,\n",
    "               'train_cohenkappa': train_cohen,\n",
    "               'test_cohenkappa': test_cohen}\n",
    "            results.loc[0 if pd.isnull(results.index.max()) else results.index.max() + 1] = new_row\n",
    "            \n",
    "selecting_features()"
   ]
  },
  {
   "cell_type": "code",
   "execution_count": 51,
   "metadata": {},
   "outputs": [
    {
     "data": {
      "text/html": [
       "<div>\n",
       "<style scoped>\n",
       "    .dataframe tbody tr th:only-of-type {\n",
       "        vertical-align: middle;\n",
       "    }\n",
       "\n",
       "    .dataframe tbody tr th {\n",
       "        vertical-align: top;\n",
       "    }\n",
       "\n",
       "    .dataframe thead th {\n",
       "        text-align: right;\n",
       "    }\n",
       "</style>\n",
       "<table border=\"1\" class=\"dataframe\">\n",
       "  <thead>\n",
       "    <tr style=\"text-align: right;\">\n",
       "      <th></th>\n",
       "      <th>model</th>\n",
       "      <th>name</th>\n",
       "      <th>train_accuracy</th>\n",
       "      <th>test_accuracy</th>\n",
       "      <th>train_cohenkappa</th>\n",
       "      <th>test_cohenkappa</th>\n",
       "    </tr>\n",
       "  </thead>\n",
       "  <tbody>\n",
       "    <tr>\n",
       "      <th>9</th>\n",
       "      <td>(DecisionTreeClassifier(max_features='auto', random_state=1165313289), DecisionTreeClassifier(ma...</td>\n",
       "      <td>Random Forest Balanced Subsample</td>\n",
       "      <td>0.9911</td>\n",
       "      <td>0.8421</td>\n",
       "      <td>0.9846</td>\n",
       "      <td>0.7107</td>\n",
       "    </tr>\n",
       "    <tr>\n",
       "      <th>7</th>\n",
       "      <td>(DecisionTreeClassifier(max_features='auto', random_state=1165313289), DecisionTreeClassifier(ma...</td>\n",
       "      <td>Random Forest Out of the Box</td>\n",
       "      <td>0.9911</td>\n",
       "      <td>0.8421</td>\n",
       "      <td>0.9844</td>\n",
       "      <td>0.7058</td>\n",
       "    </tr>\n",
       "    <tr>\n",
       "      <th>8</th>\n",
       "      <td>(DecisionTreeClassifier(max_features='auto', random_state=1165313289), DecisionTreeClassifier(ma...</td>\n",
       "      <td>Random Forest Balanced</td>\n",
       "      <td>0.9911</td>\n",
       "      <td>0.8421</td>\n",
       "      <td>0.9846</td>\n",
       "      <td>0.7035</td>\n",
       "    </tr>\n",
       "    <tr>\n",
       "      <th>17</th>\n",
       "      <td>(DecisionTreeClassifier(max_features='auto', random_state=1165313289), DecisionTreeClassifier(ma...</td>\n",
       "      <td>RandomForestClassifier(class_weight='balanced_subsample', random_state=10) with top Index(['Vari...</td>\n",
       "      <td>0.9911</td>\n",
       "      <td>0.7632</td>\n",
       "      <td>0.9842</td>\n",
       "      <td>0.5904</td>\n",
       "    </tr>\n",
       "    <tr>\n",
       "      <th>16</th>\n",
       "      <td>(DecisionTreeClassifier(max_features='auto', random_state=1165313289), DecisionTreeClassifier(ma...</td>\n",
       "      <td>RandomForestClassifier(random_state=10) with top Index(['Variety_Caturra', 'Variety_Catuai', 'Co...</td>\n",
       "      <td>0.9911</td>\n",
       "      <td>0.7368</td>\n",
       "      <td>0.9842</td>\n",
       "      <td>0.5508</td>\n",
       "    </tr>\n",
       "    <tr>\n",
       "      <th>0</th>\n",
       "      <td>LogisticRegression()</td>\n",
       "      <td>Log Reg Out of the Box</td>\n",
       "      <td>0.7589</td>\n",
       "      <td>0.7105</td>\n",
       "      <td>0.5712</td>\n",
       "      <td>0.4029</td>\n",
       "    </tr>\n",
       "    <tr>\n",
       "      <th>12</th>\n",
       "      <td>(DecisionTreeClassifier(max_features='auto', random_state=1165313289), DecisionTreeClassifier(ma...</td>\n",
       "      <td>RandomForestClassifier(random_state=10) with top Index(['Harvest Year', 'Mean Altitude (m)'], dt...</td>\n",
       "      <td>0.8393</td>\n",
       "      <td>0.6842</td>\n",
       "      <td>0.7033</td>\n",
       "      <td>0.3879</td>\n",
       "    </tr>\n",
       "    <tr>\n",
       "      <th>14</th>\n",
       "      <td>(DecisionTreeClassifier(max_features='auto', random_state=1165313289), DecisionTreeClassifier(ma...</td>\n",
       "      <td>RandomForestClassifier(random_state=10) with top Index(['Country of Origin_Colombia', 'Moisture'...</td>\n",
       "      <td>0.9732</td>\n",
       "      <td>0.6579</td>\n",
       "      <td>0.9522</td>\n",
       "      <td>0.3699</td>\n",
       "    </tr>\n",
       "    <tr>\n",
       "      <th>15</th>\n",
       "      <td>(DecisionTreeClassifier(max_features='auto', random_state=1165313289), DecisionTreeClassifier(ma...</td>\n",
       "      <td>RandomForestClassifier(class_weight='balanced_subsample', random_state=10) with top Index(['Coun...</td>\n",
       "      <td>0.9732</td>\n",
       "      <td>0.6579</td>\n",
       "      <td>0.9526</td>\n",
       "      <td>0.3699</td>\n",
       "    </tr>\n",
       "    <tr>\n",
       "      <th>10</th>\n",
       "      <td>(DecisionTreeClassifier(max_features='auto', random_state=1165313289), DecisionTreeClassifier(ma...</td>\n",
       "      <td>Balanced Random Forest Classifier</td>\n",
       "      <td>0.7679</td>\n",
       "      <td>0.6053</td>\n",
       "      <td>0.6261</td>\n",
       "      <td>0.3448</td>\n",
       "    </tr>\n",
       "    <tr>\n",
       "      <th>11</th>\n",
       "      <td>RandomizedSearchCV(cv=3,\\n                   estimator=RandomForestClassifier(class_weight='bala...</td>\n",
       "      <td>Random Forest Balanced Subsample RandomSearch</td>\n",
       "      <td>0.7857</td>\n",
       "      <td>0.6053</td>\n",
       "      <td>0.6416</td>\n",
       "      <td>0.3448</td>\n",
       "    </tr>\n",
       "    <tr>\n",
       "      <th>3</th>\n",
       "      <td>LogisticRegression(max_iter=10000)</td>\n",
       "      <td>Log reg model with 7 PCA features</td>\n",
       "      <td>0.6786</td>\n",
       "      <td>0.6579</td>\n",
       "      <td>0.4108</td>\n",
       "      <td>0.3351</td>\n",
       "    </tr>\n",
       "    <tr>\n",
       "      <th>2</th>\n",
       "      <td>LogisticRegression(max_iter=10000)</td>\n",
       "      <td>Log reg model with 4 PCA features</td>\n",
       "      <td>0.6429</td>\n",
       "      <td>0.6579</td>\n",
       "      <td>0.3336</td>\n",
       "      <td>0.3062</td>\n",
       "    </tr>\n",
       "    <tr>\n",
       "      <th>4</th>\n",
       "      <td>LogisticRegression(max_iter=10000)</td>\n",
       "      <td>Log reg model with 12 PCA features</td>\n",
       "      <td>0.7232</td>\n",
       "      <td>0.6316</td>\n",
       "      <td>0.5065</td>\n",
       "      <td>0.2963</td>\n",
       "    </tr>\n",
       "    <tr>\n",
       "      <th>5</th>\n",
       "      <td>LogisticRegression(max_iter=10000)</td>\n",
       "      <td>Log reg model with 17 PCA features</td>\n",
       "      <td>0.7500</td>\n",
       "      <td>0.6579</td>\n",
       "      <td>0.5533</td>\n",
       "      <td>0.2943</td>\n",
       "    </tr>\n",
       "  </tbody>\n",
       "</table>\n",
       "</div>"
      ],
      "text/plain": [
       "                                                                                                  model  \\\n",
       "9   (DecisionTreeClassifier(max_features='auto', random_state=1165313289), DecisionTreeClassifier(ma...   \n",
       "7   (DecisionTreeClassifier(max_features='auto', random_state=1165313289), DecisionTreeClassifier(ma...   \n",
       "8   (DecisionTreeClassifier(max_features='auto', random_state=1165313289), DecisionTreeClassifier(ma...   \n",
       "17  (DecisionTreeClassifier(max_features='auto', random_state=1165313289), DecisionTreeClassifier(ma...   \n",
       "16  (DecisionTreeClassifier(max_features='auto', random_state=1165313289), DecisionTreeClassifier(ma...   \n",
       "0                                                                                  LogisticRegression()   \n",
       "12  (DecisionTreeClassifier(max_features='auto', random_state=1165313289), DecisionTreeClassifier(ma...   \n",
       "14  (DecisionTreeClassifier(max_features='auto', random_state=1165313289), DecisionTreeClassifier(ma...   \n",
       "15  (DecisionTreeClassifier(max_features='auto', random_state=1165313289), DecisionTreeClassifier(ma...   \n",
       "10  (DecisionTreeClassifier(max_features='auto', random_state=1165313289), DecisionTreeClassifier(ma...   \n",
       "11  RandomizedSearchCV(cv=3,\\n                   estimator=RandomForestClassifier(class_weight='bala...   \n",
       "3                                                                    LogisticRegression(max_iter=10000)   \n",
       "2                                                                    LogisticRegression(max_iter=10000)   \n",
       "4                                                                    LogisticRegression(max_iter=10000)   \n",
       "5                                                                    LogisticRegression(max_iter=10000)   \n",
       "\n",
       "                                                                                                   name  \\\n",
       "9                                                                      Random Forest Balanced Subsample   \n",
       "7                                                                          Random Forest Out of the Box   \n",
       "8                                                                                Random Forest Balanced   \n",
       "17  RandomForestClassifier(class_weight='balanced_subsample', random_state=10) with top Index(['Vari...   \n",
       "16  RandomForestClassifier(random_state=10) with top Index(['Variety_Caturra', 'Variety_Catuai', 'Co...   \n",
       "0                                                                                Log Reg Out of the Box   \n",
       "12  RandomForestClassifier(random_state=10) with top Index(['Harvest Year', 'Mean Altitude (m)'], dt...   \n",
       "14  RandomForestClassifier(random_state=10) with top Index(['Country of Origin_Colombia', 'Moisture'...   \n",
       "15  RandomForestClassifier(class_weight='balanced_subsample', random_state=10) with top Index(['Coun...   \n",
       "10                                                                    Balanced Random Forest Classifier   \n",
       "11                                                        Random Forest Balanced Subsample RandomSearch   \n",
       "3                                                                     Log reg model with 7 PCA features   \n",
       "2                                                                     Log reg model with 4 PCA features   \n",
       "4                                                                    Log reg model with 12 PCA features   \n",
       "5                                                                    Log reg model with 17 PCA features   \n",
       "\n",
       "    train_accuracy  test_accuracy  train_cohenkappa  test_cohenkappa  \n",
       "9           0.9911         0.8421            0.9846           0.7107  \n",
       "7           0.9911         0.8421            0.9844           0.7058  \n",
       "8           0.9911         0.8421            0.9846           0.7035  \n",
       "17          0.9911         0.7632            0.9842           0.5904  \n",
       "16          0.9911         0.7368            0.9842           0.5508  \n",
       "0           0.7589         0.7105            0.5712           0.4029  \n",
       "12          0.8393         0.6842            0.7033           0.3879  \n",
       "14          0.9732         0.6579            0.9522           0.3699  \n",
       "15          0.9732         0.6579            0.9526           0.3699  \n",
       "10          0.7679         0.6053            0.6261           0.3448  \n",
       "11          0.7857         0.6053            0.6416           0.3448  \n",
       "3           0.6786         0.6579            0.4108           0.3351  \n",
       "2           0.6429         0.6579            0.3336           0.3062  \n",
       "4           0.7232         0.6316            0.5065           0.2963  \n",
       "5           0.7500         0.6579            0.5533           0.2943  "
      ]
     },
     "execution_count": 51,
     "metadata": {},
     "output_type": "execute_result"
    }
   ],
   "source": [
    "results.sort_values('test_cohenkappa', ascending = False).head(15)"
   ]
  },
  {
   "cell_type": "markdown",
   "metadata": {},
   "source": [
    "Based on our results, reducing the number of features does not give a better model performance. "
   ]
  },
  {
   "cell_type": "markdown",
   "metadata": {},
   "source": [
    "# 5. Gradient Boosting Model"
   ]
  },
  {
   "cell_type": "markdown",
   "metadata": {},
   "source": [
    "Pros: \n",
    "    good for heterogeneous data\n",
    "    easy to use\n",
    "    works well for small data\n",
    "    "
   ]
  },
  {
   "cell_type": "markdown",
   "metadata": {},
   "source": [
    "### 5.1 Gradient Boosting Model - Out of the Box"
   ]
  },
  {
   "cell_type": "code",
   "execution_count": 53,
   "metadata": {},
   "outputs": [],
   "source": [
    "gbc = GradientBoostingClassifier()\n",
    "gbc.fit(X_train,y_train)\n",
    "y_pred = gbc.predict(X_test)"
   ]
  },
  {
   "cell_type": "code",
   "execution_count": 54,
   "metadata": {},
   "outputs": [
    {
     "name": "stdout",
     "output_type": "stream",
     "text": [
      "Train - Accuracy: 0.9732\n",
      "Test - Accuracy: 0.7632\n",
      "Train - Cohen's Kappa: 0.9529\n",
      "Test - Cohen's Kappa: 0.5512\n",
      "Validation - Classification report\n",
      "                   precision    recall  f1-score   support\n",
      "\n",
      "Grade 3 or Lower       0.50      0.50      0.50         2\n",
      "         Premium       0.78      0.86      0.82        21\n",
      "       Specialty       0.77      0.67      0.71        15\n",
      "\n",
      "        accuracy                           0.76        38\n",
      "       macro avg       0.68      0.67      0.68        38\n",
      "    weighted avg       0.76      0.76      0.76        38\n",
      "\n"
     ]
    },
    {
     "data": {
      "text/plain": [
       "<Figure size 648x648 with 0 Axes>"
      ]
     },
     "metadata": {},
     "output_type": "display_data"
    },
    {
     "data": {
      "image/png": "[encoded data removed]",
      "text/plain": [
       "<Figure size 432x288 with 2 Axes>"
      ]
     },
     "metadata": {
      "needs_background": "light"
     },
     "output_type": "display_data"
    }
   ],
   "source": [
    "evaluation_block(gbc)"
   ]
  },
  {
   "cell_type": "code",
   "execution_count": 55,
   "metadata": {},
   "outputs": [],
   "source": [
    "save_scores(gbc, 'Gradient Boosting Untuned')"
   ]
  },
  {
   "cell_type": "markdown",
   "metadata": {},
   "source": [
    "### 5.2 Tuning Hyperparameters"
   ]
  },
  {
   "cell_type": "code",
   "execution_count": 56,
   "metadata": {},
   "outputs": [
    {
     "name": "stdout",
     "output_type": "stream",
     "text": [
      "Parameters currently in use:\n",
      "\n",
      "{'ccp_alpha': 0.0,\n",
      " 'criterion': 'friedman_mse',\n",
      " 'init': None,\n",
      " 'learning_rate': 0.1,\n",
      " 'loss': 'deviance',\n",
      " 'max_depth': 3,\n",
      " 'max_features': None,\n",
      " 'max_leaf_nodes': None,\n",
      " 'min_impurity_decrease': 0.0,\n",
      " 'min_impurity_split': None,\n",
      " 'min_samples_leaf': 1,\n",
      " 'min_samples_split': 2,\n",
      " 'min_weight_fraction_leaf': 0.0,\n",
      " 'n_estimators': 100,\n",
      " 'n_iter_no_change': None,\n",
      " 'random_state': None,\n",
      " 'subsample': 1.0,\n",
      " 'tol': 0.0001,\n",
      " 'validation_fraction': 0.1,\n",
      " 'verbose': 0,\n",
      " 'warm_start': False}\n"
     ]
    }
   ],
   "source": [
    "#Check out parameters currently in use\n",
    "print('Parameters currently in use:\\n')\n",
    "pprint(gbc.get_params())"
   ]
  },
  {
   "cell_type": "markdown",
   "metadata": {},
   "source": [
    "### most important parameters are:\n",
    "Criterion: The loss function used to find the optimal feature and threshold to split the data\n",
    "\n",
    "learning_rate: this parameter scales the contribution of each tree\n",
    "\n",
    "max_depth: the maximum depth of each tree\n",
    "\n",
    "n_estimators: the number of trees to construct\n",
    "\n",
    "init: the initial estimator. By default, it is the log(odds) converted to a probability"
   ]
  },
  {
   "cell_type": "code",
   "execution_count": 57,
   "metadata": {},
   "outputs": [],
   "source": [
    "param_grid = {  'criterion' : ['friedman_mse', 'mse', 'mae'],\n",
    "                'n_estimators' : [1, 2, 4, 8, 16, 32, 64, 100, 200],\n",
    "                'max_depth' : np.linspace(1, 32, 32, endpoint=True),\n",
    "                'learning_rate' : [1, 0.5, 0.25, 0.1, 0.05, 0.01],\n",
    "                'min_samples_split' : np.linspace(0.1, 1.0, 10, endpoint=True),\n",
    "                'min_samples_leaf' : np.linspace(0.1, 0.5, 5, endpoint=True),\n",
    "                'max_features' : list(range(1,coffee3.shape[1]))\n",
    "             }"
   ]
  },
  {
   "cell_type": "code",
   "execution_count": 58,
   "metadata": {},
   "outputs": [
    {
     "name": "stdout",
     "output_type": "stream",
     "text": [
      "Fitting 3 folds for each of 100 candidates, totalling 300 fits\n",
      "Best Parameters based on Randomized Search CV: {'n_estimators': 16, 'min_samples_split': 0.2, 'min_samples_leaf': 0.1, 'max_features': 3, 'max_depth': 26.0, 'learning_rate': 0.5, 'criterion': 'friedman_mse'}\n",
      "Best score:  0.7152678994784258\n",
      "Train - Accuracy: 0.8571\n",
      "Test - Accuracy: 0.7632\n",
      "Train - Cohen's Kappa: 0.746\n",
      "Test - Cohen's Kappa: 0.5512\n",
      "Validation - Classification report\n",
      "                   precision    recall  f1-score   support\n",
      "\n",
      "Grade 3 or Lower       0.50      0.50      0.50         2\n",
      "         Premium       0.78      0.86      0.82        21\n",
      "       Specialty       0.77      0.67      0.71        15\n",
      "\n",
      "        accuracy                           0.76        38\n",
      "       macro avg       0.68      0.67      0.68        38\n",
      "    weighted avg       0.76      0.76      0.76        38\n",
      "\n"
     ]
    },
    {
     "data": {
      "text/plain": [
       "<Figure size 648x648 with 0 Axes>"
      ]
     },
     "metadata": {},
     "output_type": "display_data"
    },
    {
     "data": {
      "image/png": "[encoded data removed]",
      "text/plain": [
       "<Figure size 432x288 with 2 Axes>"
      ]
     },
     "metadata": {
      "needs_background": "light"
     },
     "output_type": "display_data"
    }
   ],
   "source": [
    "rand_cv(gbc, param_grid, 'Gradient Boosting RandomSearch')"
   ]
  },
  {
   "cell_type": "code",
   "execution_count": 59,
   "metadata": {},
   "outputs": [
    {
     "data": {
      "text/html": [
       "<div>\n",
       "<style scoped>\n",
       "    .dataframe tbody tr th:only-of-type {\n",
       "        vertical-align: middle;\n",
       "    }\n",
       "\n",
       "    .dataframe tbody tr th {\n",
       "        vertical-align: top;\n",
       "    }\n",
       "\n",
       "    .dataframe thead th {\n",
       "        text-align: right;\n",
       "    }\n",
       "</style>\n",
       "<table border=\"1\" class=\"dataframe\">\n",
       "  <thead>\n",
       "    <tr style=\"text-align: right;\">\n",
       "      <th></th>\n",
       "      <th>model</th>\n",
       "      <th>name</th>\n",
       "      <th>train_accuracy</th>\n",
       "      <th>test_accuracy</th>\n",
       "      <th>train_cohenkappa</th>\n",
       "      <th>test_cohenkappa</th>\n",
       "    </tr>\n",
       "  </thead>\n",
       "  <tbody>\n",
       "    <tr>\n",
       "      <th>9</th>\n",
       "      <td>(DecisionTreeClassifier(max_features='auto', random_state=1165313289), DecisionTreeClassifier(ma...</td>\n",
       "      <td>Random Forest Balanced Subsample</td>\n",
       "      <td>0.9911</td>\n",
       "      <td>0.8421</td>\n",
       "      <td>0.9846</td>\n",
       "      <td>0.7107</td>\n",
       "    </tr>\n",
       "    <tr>\n",
       "      <th>7</th>\n",
       "      <td>(DecisionTreeClassifier(max_features='auto', random_state=1165313289), DecisionTreeClassifier(ma...</td>\n",
       "      <td>Random Forest Out of the Box</td>\n",
       "      <td>0.9911</td>\n",
       "      <td>0.8421</td>\n",
       "      <td>0.9844</td>\n",
       "      <td>0.7058</td>\n",
       "    </tr>\n",
       "    <tr>\n",
       "      <th>8</th>\n",
       "      <td>(DecisionTreeClassifier(max_features='auto', random_state=1165313289), DecisionTreeClassifier(ma...</td>\n",
       "      <td>Random Forest Balanced</td>\n",
       "      <td>0.9911</td>\n",
       "      <td>0.8421</td>\n",
       "      <td>0.9846</td>\n",
       "      <td>0.7035</td>\n",
       "    </tr>\n",
       "    <tr>\n",
       "      <th>17</th>\n",
       "      <td>(DecisionTreeClassifier(max_features='auto', random_state=1165313289), DecisionTreeClassifier(ma...</td>\n",
       "      <td>RandomForestClassifier(class_weight='balanced_subsample', random_state=10) with top Index(['Vari...</td>\n",
       "      <td>0.9911</td>\n",
       "      <td>0.7632</td>\n",
       "      <td>0.9842</td>\n",
       "      <td>0.5904</td>\n",
       "    </tr>\n",
       "    <tr>\n",
       "      <th>19</th>\n",
       "      <td>RandomizedSearchCV(cv=3, estimator=GradientBoostingClassifier(), n_iter=100,\\n                  ...</td>\n",
       "      <td>Gradient Boosting RandomSearch</td>\n",
       "      <td>0.8571</td>\n",
       "      <td>0.7632</td>\n",
       "      <td>0.7460</td>\n",
       "      <td>0.5512</td>\n",
       "    </tr>\n",
       "    <tr>\n",
       "      <th>18</th>\n",
       "      <td>([DecisionTreeRegressor(criterion='friedman_mse', max_depth=3,\\n                      random_sta...</td>\n",
       "      <td>Gradient Boosting Untuned</td>\n",
       "      <td>0.9732</td>\n",
       "      <td>0.7632</td>\n",
       "      <td>0.9529</td>\n",
       "      <td>0.5512</td>\n",
       "    </tr>\n",
       "    <tr>\n",
       "      <th>16</th>\n",
       "      <td>(DecisionTreeClassifier(max_features='auto', random_state=1165313289), DecisionTreeClassifier(ma...</td>\n",
       "      <td>RandomForestClassifier(random_state=10) with top Index(['Variety_Caturra', 'Variety_Catuai', 'Co...</td>\n",
       "      <td>0.9911</td>\n",
       "      <td>0.7368</td>\n",
       "      <td>0.9842</td>\n",
       "      <td>0.5508</td>\n",
       "    </tr>\n",
       "    <tr>\n",
       "      <th>0</th>\n",
       "      <td>LogisticRegression()</td>\n",
       "      <td>Log Reg Out of the Box</td>\n",
       "      <td>0.7589</td>\n",
       "      <td>0.7105</td>\n",
       "      <td>0.5712</td>\n",
       "      <td>0.4029</td>\n",
       "    </tr>\n",
       "    <tr>\n",
       "      <th>12</th>\n",
       "      <td>(DecisionTreeClassifier(max_features='auto', random_state=1165313289), DecisionTreeClassifier(ma...</td>\n",
       "      <td>RandomForestClassifier(random_state=10) with top Index(['Harvest Year', 'Mean Altitude (m)'], dt...</td>\n",
       "      <td>0.8393</td>\n",
       "      <td>0.6842</td>\n",
       "      <td>0.7033</td>\n",
       "      <td>0.3879</td>\n",
       "    </tr>\n",
       "    <tr>\n",
       "      <th>14</th>\n",
       "      <td>(DecisionTreeClassifier(max_features='auto', random_state=1165313289), DecisionTreeClassifier(ma...</td>\n",
       "      <td>RandomForestClassifier(random_state=10) with top Index(['Country of Origin_Colombia', 'Moisture'...</td>\n",
       "      <td>0.9732</td>\n",
       "      <td>0.6579</td>\n",
       "      <td>0.9522</td>\n",
       "      <td>0.3699</td>\n",
       "    </tr>\n",
       "    <tr>\n",
       "      <th>15</th>\n",
       "      <td>(DecisionTreeClassifier(max_features='auto', random_state=1165313289), DecisionTreeClassifier(ma...</td>\n",
       "      <td>RandomForestClassifier(class_weight='balanced_subsample', random_state=10) with top Index(['Coun...</td>\n",
       "      <td>0.9732</td>\n",
       "      <td>0.6579</td>\n",
       "      <td>0.9526</td>\n",
       "      <td>0.3699</td>\n",
       "    </tr>\n",
       "    <tr>\n",
       "      <th>11</th>\n",
       "      <td>RandomizedSearchCV(cv=3,\\n                   estimator=RandomForestClassifier(class_weight='bala...</td>\n",
       "      <td>Random Forest Balanced Subsample RandomSearch</td>\n",
       "      <td>0.7857</td>\n",
       "      <td>0.6053</td>\n",
       "      <td>0.6416</td>\n",
       "      <td>0.3448</td>\n",
       "    </tr>\n",
       "    <tr>\n",
       "      <th>10</th>\n",
       "      <td>(DecisionTreeClassifier(max_features='auto', random_state=1165313289), DecisionTreeClassifier(ma...</td>\n",
       "      <td>Balanced Random Forest Classifier</td>\n",
       "      <td>0.7679</td>\n",
       "      <td>0.6053</td>\n",
       "      <td>0.6261</td>\n",
       "      <td>0.3448</td>\n",
       "    </tr>\n",
       "    <tr>\n",
       "      <th>3</th>\n",
       "      <td>LogisticRegression(max_iter=10000)</td>\n",
       "      <td>Log reg model with 7 PCA features</td>\n",
       "      <td>0.6786</td>\n",
       "      <td>0.6579</td>\n",
       "      <td>0.4108</td>\n",
       "      <td>0.3351</td>\n",
       "    </tr>\n",
       "    <tr>\n",
       "      <th>2</th>\n",
       "      <td>LogisticRegression(max_iter=10000)</td>\n",
       "      <td>Log reg model with 4 PCA features</td>\n",
       "      <td>0.6429</td>\n",
       "      <td>0.6579</td>\n",
       "      <td>0.3336</td>\n",
       "      <td>0.3062</td>\n",
       "    </tr>\n",
       "  </tbody>\n",
       "</table>\n",
       "</div>"
      ],
      "text/plain": [
       "                                                                                                  model  \\\n",
       "9   (DecisionTreeClassifier(max_features='auto', random_state=1165313289), DecisionTreeClassifier(ma...   \n",
       "7   (DecisionTreeClassifier(max_features='auto', random_state=1165313289), DecisionTreeClassifier(ma...   \n",
       "8   (DecisionTreeClassifier(max_features='auto', random_state=1165313289), DecisionTreeClassifier(ma...   \n",
       "17  (DecisionTreeClassifier(max_features='auto', random_state=1165313289), DecisionTreeClassifier(ma...   \n",
       "19  RandomizedSearchCV(cv=3, estimator=GradientBoostingClassifier(), n_iter=100,\\n                  ...   \n",
       "18  ([DecisionTreeRegressor(criterion='friedman_mse', max_depth=3,\\n                      random_sta...   \n",
       "16  (DecisionTreeClassifier(max_features='auto', random_state=1165313289), DecisionTreeClassifier(ma...   \n",
       "0                                                                                  LogisticRegression()   \n",
       "12  (DecisionTreeClassifier(max_features='auto', random_state=1165313289), DecisionTreeClassifier(ma...   \n",
       "14  (DecisionTreeClassifier(max_features='auto', random_state=1165313289), DecisionTreeClassifier(ma...   \n",
       "15  (DecisionTreeClassifier(max_features='auto', random_state=1165313289), DecisionTreeClassifier(ma...   \n",
       "11  RandomizedSearchCV(cv=3,\\n                   estimator=RandomForestClassifier(class_weight='bala...   \n",
       "10  (DecisionTreeClassifier(max_features='auto', random_state=1165313289), DecisionTreeClassifier(ma...   \n",
       "3                                                                    LogisticRegression(max_iter=10000)   \n",
       "2                                                                    LogisticRegression(max_iter=10000)   \n",
       "\n",
       "                                                                                                   name  \\\n",
       "9                                                                      Random Forest Balanced Subsample   \n",
       "7                                                                          Random Forest Out of the Box   \n",
       "8                                                                                Random Forest Balanced   \n",
       "17  RandomForestClassifier(class_weight='balanced_subsample', random_state=10) with top Index(['Vari...   \n",
       "19                                                                       Gradient Boosting RandomSearch   \n",
       "18                                                                            Gradient Boosting Untuned   \n",
       "16  RandomForestClassifier(random_state=10) with top Index(['Variety_Caturra', 'Variety_Catuai', 'Co...   \n",
       "0                                                                                Log Reg Out of the Box   \n",
       "12  RandomForestClassifier(random_state=10) with top Index(['Harvest Year', 'Mean Altitude (m)'], dt...   \n",
       "14  RandomForestClassifier(random_state=10) with top Index(['Country of Origin_Colombia', 'Moisture'...   \n",
       "15  RandomForestClassifier(class_weight='balanced_subsample', random_state=10) with top Index(['Coun...   \n",
       "11                                                        Random Forest Balanced Subsample RandomSearch   \n",
       "10                                                                    Balanced Random Forest Classifier   \n",
       "3                                                                     Log reg model with 7 PCA features   \n",
       "2                                                                     Log reg model with 4 PCA features   \n",
       "\n",
       "    train_accuracy  test_accuracy  train_cohenkappa  test_cohenkappa  \n",
       "9           0.9911         0.8421            0.9846           0.7107  \n",
       "7           0.9911         0.8421            0.9844           0.7058  \n",
       "8           0.9911         0.8421            0.9846           0.7035  \n",
       "17          0.9911         0.7632            0.9842           0.5904  \n",
       "19          0.8571         0.7632            0.7460           0.5512  \n",
       "18          0.9732         0.7632            0.9529           0.5512  \n",
       "16          0.9911         0.7368            0.9842           0.5508  \n",
       "0           0.7589         0.7105            0.5712           0.4029  \n",
       "12          0.8393         0.6842            0.7033           0.3879  \n",
       "14          0.9732         0.6579            0.9522           0.3699  \n",
       "15          0.9732         0.6579            0.9526           0.3699  \n",
       "11          0.7857         0.6053            0.6416           0.3448  \n",
       "10          0.7679         0.6053            0.6261           0.3448  \n",
       "3           0.6786         0.6579            0.4108           0.3351  \n",
       "2           0.6429         0.6579            0.3336           0.3062  "
      ]
     },
     "execution_count": 59,
     "metadata": {},
     "output_type": "execute_result"
    }
   ],
   "source": [
    "results.sort_values('test_cohenkappa', ascending = False).head(15) "
   ]
  },
  {
   "cell_type": "markdown",
   "metadata": {},
   "source": [
    "# 6. Catboost Model"
   ]
  },
  {
   "cell_type": "markdown",
   "metadata": {},
   "source": [
    "Pros \n",
    "* Good quality with default parameters\n",
    "* Sophisticated Categorical features support\n",
    "* Model analysis tools"
   ]
  },
  {
   "cell_type": "code",
   "execution_count": 60,
   "metadata": {},
   "outputs": [],
   "source": [
    "#use df with categorical features (no need to label encode)\n",
    "coffee3 = pd.read_csv('coffee3.csv')\n",
    "coffee3 = coffee3.drop(columns=['Unnamed: 0'])"
   ]
  },
  {
   "cell_type": "code",
   "execution_count": 61,
   "metadata": {},
   "outputs": [
    {
     "data": {
      "text/plain": [
       "Index(['Country of Origin', 'Variety', 'Mean Altitude (m)', 'Harvest Year',\n",
       "       'Processing Method', 'Moisture', 'Color', 'Coffee_Grade'],\n",
       "      dtype='object')"
      ]
     },
     "execution_count": 61,
     "metadata": {},
     "output_type": "execute_result"
    }
   ],
   "source": [
    "coffee3.columns"
   ]
  },
  {
   "cell_type": "code",
   "execution_count": 62,
   "metadata": {},
   "outputs": [
    {
     "data": {
      "text/plain": [
       "((150, 7), (150,))"
      ]
     },
     "execution_count": 62,
     "metadata": {},
     "output_type": "execute_result"
    }
   ],
   "source": [
    "X = coffee3.drop('Coffee_Grade', axis=1)        \n",
    "y  = coffee3['Coffee_Grade']\n",
    "X.shape, y.shape"
   ]
  },
  {
   "cell_type": "markdown",
   "metadata": {},
   "source": [
    "Now we will declare the cat feature which holds the categorical values present on train data set ."
   ]
  },
  {
   "cell_type": "code",
   "execution_count": 63,
   "metadata": {},
   "outputs": [
    {
     "data": {
      "text/plain": [
       "array([0, 1, 3, 4, 6])"
      ]
     },
     "execution_count": 63,
     "metadata": {},
     "output_type": "execute_result"
    }
   ],
   "source": [
    "categorical_features_indices = np.where(X.dtypes != np.float)[0]\n",
    "categorical_features_indices"
   ]
  },
  {
   "cell_type": "code",
   "execution_count": 64,
   "metadata": {},
   "outputs": [
    {
     "data": {
      "text/plain": [
       "Premium             52.67\n",
       "Specialty           38.67\n",
       "Grade 3 or Lower     8.67\n",
       "Name: Coffee_Grade, dtype: float64"
      ]
     },
     "execution_count": 64,
     "metadata": {},
     "output_type": "execute_result"
    }
   ],
   "source": [
    "#find class weights for class_wights parameter\n",
    "round( coffee3['Coffee_Grade'].value_counts(normalize=True) * 100 , 2)"
   ]
  },
  {
   "cell_type": "markdown",
   "metadata": {},
   "source": [
    "### 6.1 CatBoost - Out of the Box"
   ]
  },
  {
   "cell_type": "markdown",
   "metadata": {},
   "source": [
    "Because we have 3 classes, we will be using the Cat Boost Classifier model with loss_function = 'MultiClass'"
   ]
  },
  {
   "cell_type": "code",
   "execution_count": 65,
   "metadata": {},
   "outputs": [],
   "source": [
    "cat = CatBoostClassifier(loss_function='MultiClass', class_weights = [(100-8.67), (100-52.67), (100-38.67)], eval_metric = 'Accuracy')"
   ]
  },
  {
   "cell_type": "code",
   "execution_count": 66,
   "metadata": {},
   "outputs": [
    {
     "data": {
      "text/plain": [
       "<catboost.core.CatBoostClassifier at 0x7fde4eb28a90>"
      ]
     },
     "execution_count": 66,
     "metadata": {},
     "output_type": "execute_result"
    }
   ],
   "source": [
    "#split data\n",
    "X_cat_train, X_cat_test, y_cat_train, y_cat_test = train_test_split(X, y, test_size = 0.25)\n",
    "\n",
    "cat.fit(X_cat_train, y_cat_train, cat_features=categorical_features_indices, eval_set=(X_cat_test, y_cat_test), verbose=False)"
   ]
  },
  {
   "cell_type": "code",
   "execution_count": 67,
   "metadata": {},
   "outputs": [
    {
     "name": "stdout",
     "output_type": "stream",
     "text": [
      "{'learn': {'Accuracy': 1.0, 'MultiClass': 0.026577658603717195}, 'validation': {'Accuracy': 0.6560311588317315, 'MultiClass': 0.8314568738600726}}\n"
     ]
    }
   ],
   "source": [
    "print(cat.get_best_score())"
   ]
  },
  {
   "cell_type": "code",
   "execution_count": 68,
   "metadata": {},
   "outputs": [],
   "source": [
    "y_pred = cat.predict(X_cat_test)\n",
    "y_tr_pred = cat.predict(X_cat_train)"
   ]
  },
  {
   "cell_type": "code",
   "execution_count": 69,
   "metadata": {},
   "outputs": [
    {
     "data": {
      "text/plain": [
       "<Figure size 648x648 with 0 Axes>"
      ]
     },
     "metadata": {},
     "output_type": "display_data"
    },
    {
     "data": {
      "image/png": "[encoded data removed]",
      "text/plain": [
       "<Figure size 432x288 with 2 Axes>"
      ]
     },
     "metadata": {
      "needs_background": "light"
     },
     "output_type": "display_data"
    }
   ],
   "source": [
    "#create confusion matrix\n",
    "plt.figure(figsize=(9,9))\n",
    "plot_confusion_matrix(cat, X_cat_test, y_cat_test, normalize='true', cmap = 'Blues')\n",
    "plt.show()"
   ]
  },
  {
   "cell_type": "code",
   "execution_count": 70,
   "metadata": {},
   "outputs": [
    {
     "name": "stdout",
     "output_type": "stream",
     "text": [
      "0.6786\n",
      "0.6842\n"
     ]
    }
   ],
   "source": [
    "train_acc = round(accuracy_score(y_cat_train,y_tr_pred),4)\n",
    "test_acc = round(accuracy_score(y_cat_test,y_pred),4)\n",
    "print(train_acc)\n",
    "print(test_acc)"
   ]
  },
  {
   "cell_type": "markdown",
   "metadata": {},
   "source": [
    "### 6.2 Tuning Hyperparameters"
   ]
  },
  {
   "cell_type": "code",
   "execution_count": 134,
   "metadata": {},
   "outputs": [],
   "source": [
    "param_grid = {'iterations' : [1000,3000],\n",
    "                'depth' : [4,6,8],     \n",
    "                'early_stopping_rounds' : [10, 20, 50]\n",
    "             }"
   ]
  }
 ],
 "metadata": {
  "kernelspec": {
   "display_name": "Python 3",
   "language": "python",
   "name": "python3"
  },
  "language_info": {
   "codemirror_mode": {
    "name": "ipython",
    "version": 3
   },
   "file_extension": ".py",
   "mimetype": "text/x-python",
   "name": "python",
   "nbconvert_exporter": "python",
   "pygments_lexer": "ipython3",
   "version": "3.8.5"
  }
 },
 "nbformat": 4,
 "nbformat_minor": 4
}
